{
 "cells": [
  {
   "cell_type": "code",
   "execution_count": 2,
   "id": "fc131be2",
   "metadata": {},
   "outputs": [],
   "source": [
    "# constructors the syntex in __init__ it is a self calling function\n",
    "# 2 types of constructor are there \n",
    "# parametrize and non parametrize"
   ]
  },
  {
   "cell_type": "code",
   "execution_count": 3,
   "id": "9d058026",
   "metadata": {},
   "outputs": [],
   "source": [
    "# non parametrize constructor"
   ]
  },
  {
   "cell_type": "code",
   "execution_count": 10,
   "id": "30e6ea6a",
   "metadata": {},
   "outputs": [],
   "source": [
    "class demo:\n",
    "    def __init__(self):\n",
    "        print(\"constructor called\")\n",
    "    def fun1(self,x,y):\n",
    "        return x*y\n",
    "        "
   ]
  },
  {
   "cell_type": "code",
   "execution_count": 11,
   "id": "d1974d15",
   "metadata": {},
   "outputs": [],
   "source": [
    "# object creation"
   ]
  },
  {
   "cell_type": "code",
   "execution_count": 12,
   "id": "7cca8645",
   "metadata": {},
   "outputs": [
    {
     "name": "stdout",
     "output_type": "stream",
     "text": [
      "constructor called\n"
     ]
    }
   ],
   "source": [
    "o1=demo()"
   ]
  },
  {
   "cell_type": "code",
   "execution_count": 14,
   "id": "46e3dee1",
   "metadata": {},
   "outputs": [
    {
     "data": {
      "text/plain": [
       "430"
      ]
     },
     "execution_count": 14,
     "metadata": {},
     "output_type": "execute_result"
    }
   ],
   "source": [
    "o1.fun1(10,43)"
   ]
  },
  {
   "cell_type": "code",
   "execution_count": 8,
   "id": "162afe8f",
   "metadata": {},
   "outputs": [
    {
     "name": "stdout",
     "output_type": "stream",
     "text": [
      "constructor called\n"
     ]
    }
   ],
   "source": [
    "o2=demo()"
   ]
  },
  {
   "cell_type": "code",
   "execution_count": 9,
   "id": "e9d0e880",
   "metadata": {},
   "outputs": [],
   "source": [
    "# parametrize constructor"
   ]
  },
  {
   "cell_type": "code",
   "execution_count": 19,
   "id": "0951251b",
   "metadata": {},
   "outputs": [],
   "source": [
    "class student:\n",
    "    def __init__(self,s_id,name,age,grade,year):\n",
    "        self.s_id=s_id\n",
    "        self.name=name\n",
    "        self.grade=grade\n",
    "        self.year=year\n",
    "        self.age=age\n",
    "        print('constructor called')\n",
    "    def details(self):\n",
    "        print('student id',self.s_id)\n",
    "        print('name of student',self.name)\n",
    "        print('age of student',self.age)\n",
    "        print('year of passing',self.year)\n",
    "    def academic_track(self):\n",
    "        print('grade of student',self.grade)"
   ]
  },
  {
   "cell_type": "code",
   "execution_count": 20,
   "id": "352c15df",
   "metadata": {},
   "outputs": [
    {
     "name": "stdout",
     "output_type": "stream",
     "text": [
      "constructor called\n"
     ]
    }
   ],
   "source": [
    "s1=student(101,'jesica',23,'A',2027)"
   ]
  },
  {
   "cell_type": "code",
   "execution_count": 21,
   "id": "879c7a7a",
   "metadata": {},
   "outputs": [
    {
     "name": "stdout",
     "output_type": "stream",
     "text": [
      "student id 101\n",
      "name of student jesica\n",
      "age of student 23\n",
      "year of passing 2027\n"
     ]
    }
   ],
   "source": [
    "s1.details()"
   ]
  },
  {
   "cell_type": "code",
   "execution_count": 22,
   "id": "b810a75c",
   "metadata": {},
   "outputs": [
    {
     "name": "stdout",
     "output_type": "stream",
     "text": [
      "grade of student A\n"
     ]
    }
   ],
   "source": [
    "s1.academic_track()"
   ]
  },
  {
   "cell_type": "code",
   "execution_count": 24,
   "id": "8f478f00",
   "metadata": {},
   "outputs": [],
   "source": [
    "# task for you"
   ]
  },
  {
   "cell_type": "code",
   "execution_count": 25,
   "id": "d96bf156",
   "metadata": {},
   "outputs": [],
   "source": [
    "#s2=student()\n",
    "#s2.details\n"
   ]
  },
  {
   "cell_type": "code",
   "execution_count": 26,
   "id": "fa6ec1fb",
   "metadata": {},
   "outputs": [],
   "source": [
    "# inheritance-reusability of code"
   ]
  },
  {
   "cell_type": "code",
   "execution_count": 27,
   "id": "7d3bb3af",
   "metadata": {},
   "outputs": [],
   "source": [
    "# parent class and a child class"
   ]
  },
  {
   "cell_type": "code",
   "execution_count": 28,
   "id": "ee84d5de",
   "metadata": {},
   "outputs": [],
   "source": [
    "# single inheitance"
   ]
  },
  {
   "cell_type": "code",
   "execution_count": null,
   "id": "c55b14bb",
   "metadata": {},
   "outputs": [],
   "source": [
    "# class A is parent class"
   ]
  },
  {
   "cell_type": "code",
   "execution_count": 38,
   "id": "a1a7fe5f",
   "metadata": {},
   "outputs": [],
   "source": [
    "class A:\n",
    "    p=100\n",
    "    def __init__(self):\n",
    "        print(\"china\")\n",
    "    def fun1(self):\n",
    "        print('india')"
   ]
  },
  {
   "cell_type": "code",
   "execution_count": 39,
   "id": "6ab77f69",
   "metadata": {},
   "outputs": [],
   "source": [
    "# no need to create the object for class A"
   ]
  },
  {
   "cell_type": "code",
   "execution_count": 40,
   "id": "aaaf4796",
   "metadata": {},
   "outputs": [],
   "source": [
    "# class B is child class"
   ]
  },
  {
   "cell_type": "code",
   "execution_count": 41,
   "id": "947430c8",
   "metadata": {},
   "outputs": [],
   "source": [
    "class B(A):\n",
    "    p=20\n",
    "    def __init__(self):\n",
    "        print('usa')\n",
    "    def fun2(self):\n",
    "        print('the variable of parent class',A.p)\n",
    "        A.__init__(self)\n",
    "        A.fun1(self)\n",
    "        print('japan')"
   ]
  },
  {
   "cell_type": "code",
   "execution_count": 42,
   "id": "204278f7",
   "metadata": {},
   "outputs": [
    {
     "name": "stdout",
     "output_type": "stream",
     "text": [
      "usa\n"
     ]
    }
   ],
   "source": [
    "o1=B()"
   ]
  },
  {
   "cell_type": "code",
   "execution_count": 43,
   "id": "7e642ea8",
   "metadata": {},
   "outputs": [
    {
     "name": "stdout",
     "output_type": "stream",
     "text": [
      "the variable of parent class 100\n",
      "china\n",
      "india\n",
      "japan\n"
     ]
    }
   ],
   "source": [
    "o1.fun2()"
   ]
  },
  {
   "cell_type": "code",
   "execution_count": 44,
   "id": "2110aade",
   "metadata": {},
   "outputs": [],
   "source": [
    "# multiple inheritance"
   ]
  },
  {
   "cell_type": "code",
   "execution_count": 45,
   "id": "102c4b62",
   "metadata": {},
   "outputs": [],
   "source": [
    "# 2 parent class and a single child class"
   ]
  },
  {
   "cell_type": "code",
   "execution_count": 46,
   "id": "b49d83ad",
   "metadata": {},
   "outputs": [],
   "source": [
    "class A:\n",
    "    def __init__(self):\n",
    "        print(\"A class const\")\n",
    "    def fun1(self):\n",
    "        print('A class function')"
   ]
  },
  {
   "cell_type": "code",
   "execution_count": 47,
   "id": "e315c874",
   "metadata": {},
   "outputs": [],
   "source": [
    "class B:\n",
    "    def __init__(self):\n",
    "        print(\"B class const\")\n",
    "    def fun2(self):\n",
    "        print('B class function')"
   ]
  },
  {
   "cell_type": "code",
   "execution_count": 48,
   "id": "778fff6d",
   "metadata": {},
   "outputs": [],
   "source": [
    "# multiple inheitance"
   ]
  },
  {
   "cell_type": "code",
   "execution_count": 49,
   "id": "e17b2b1a",
   "metadata": {},
   "outputs": [],
   "source": [
    "class c(A,B):\n",
    "    def __init__(self):\n",
    "        print('c class constructor')\n",
    "    def fun3(self):\n",
    "        A.__init__(self)\n",
    "        A.fun1(self)\n",
    "        B.__init__(self)\n",
    "        B.fun2(self)\n",
    "        print('c class function')\n",
    "        "
   ]
  },
  {
   "cell_type": "code",
   "execution_count": 50,
   "id": "d4ae9a36",
   "metadata": {},
   "outputs": [
    {
     "name": "stdout",
     "output_type": "stream",
     "text": [
      "c class constructor\n"
     ]
    }
   ],
   "source": [
    "obj1=c()"
   ]
  },
  {
   "cell_type": "code",
   "execution_count": 51,
   "id": "a8095fff",
   "metadata": {},
   "outputs": [
    {
     "name": "stdout",
     "output_type": "stream",
     "text": [
      "A class const\n",
      "A class function\n",
      "B class const\n",
      "B class function\n",
      "c class function\n"
     ]
    }
   ],
   "source": [
    "obj1.fun3()"
   ]
  },
  {
   "cell_type": "code",
   "execution_count": 52,
   "id": "8c0a9dca",
   "metadata": {},
   "outputs": [],
   "source": [
    "# multilevel inheritance"
   ]
  },
  {
   "cell_type": "code",
   "execution_count": 53,
   "id": "82658913",
   "metadata": {},
   "outputs": [],
   "source": [
    "class A:\n",
    "    def __init__(self):\n",
    "        print(\"A class const\")\n",
    "    def fun1(self):\n",
    "        print('A class function')\n",
    "        \n",
    "class B(A):\n",
    "    def __init__(self):\n",
    "        print(\"B class const\")\n",
    "    def fun2(self):\n",
    "        print('B class function')\n",
    "        \n",
    "class C(B):\n",
    "    def __init__(self):\n",
    "        print('c class constructor')\n",
    "    def fun3(self):\n",
    "        A.fun1(self)\n",
    "        B.fun2(self)\n",
    "        print('c class function')"
   ]
  },
  {
   "cell_type": "code",
   "execution_count": 54,
   "id": "98c0da2e",
   "metadata": {},
   "outputs": [],
   "source": [
    "# always we have to create the object for the child class"
   ]
  },
  {
   "cell_type": "code",
   "execution_count": 55,
   "id": "1514dad5",
   "metadata": {},
   "outputs": [],
   "source": [
    "# 2 parent class and 2 child class are there so we need to create 2 objects for 2 child class"
   ]
  },
  {
   "cell_type": "code",
   "execution_count": 56,
   "id": "27780286",
   "metadata": {},
   "outputs": [
    {
     "name": "stdout",
     "output_type": "stream",
     "text": [
      "c class constructor\n",
      "B class const\n"
     ]
    }
   ],
   "source": [
    "o1=C()\n",
    "o2=B()\n"
   ]
  },
  {
   "cell_type": "code",
   "execution_count": 58,
   "id": "476fd3ab",
   "metadata": {},
   "outputs": [
    {
     "name": "stdout",
     "output_type": "stream",
     "text": [
      "B class function\n"
     ]
    }
   ],
   "source": [
    "o1.fun2()"
   ]
  },
  {
   "cell_type": "code",
   "execution_count": 59,
   "id": "410c045f",
   "metadata": {},
   "outputs": [
    {
     "name": "stdout",
     "output_type": "stream",
     "text": [
      "A class function\n"
     ]
    }
   ],
   "source": [
    "o2.fun1()"
   ]
  },
  {
   "cell_type": "code",
   "execution_count": 60,
   "id": "5a8cc102",
   "metadata": {},
   "outputs": [
    {
     "name": "stdout",
     "output_type": "stream",
     "text": [
      "A class function\n",
      "B class function\n",
      "c class function\n"
     ]
    }
   ],
   "source": [
    "o1.fun3()"
   ]
  },
  {
   "cell_type": "code",
   "execution_count": 63,
   "id": "0de0e71f",
   "metadata": {},
   "outputs": [],
   "source": [
    "# ploymorphisum ploy- many and morph- form"
   ]
  },
  {
   "cell_type": "code",
   "execution_count": 64,
   "id": "8116c831",
   "metadata": {},
   "outputs": [],
   "source": [
    "# method overloading"
   ]
  },
  {
   "cell_type": "code",
   "execution_count": 65,
   "id": "92036a04",
   "metadata": {},
   "outputs": [],
   "source": [
    "def add(x,y):\n",
    "    return x+y\n",
    "def add(x,y,z):\n",
    "    return x+y+z"
   ]
  },
  {
   "cell_type": "code",
   "execution_count": 68,
   "id": "9e4f0751",
   "metadata": {},
   "outputs": [
    {
     "ename": "TypeError",
     "evalue": "add() missing 1 required positional argument: 'z'",
     "output_type": "error",
     "traceback": [
      "\u001b[1;31m---------------------------------------------------------------------------\u001b[0m",
      "\u001b[1;31mTypeError\u001b[0m                                 Traceback (most recent call last)",
      "\u001b[1;32m~\\AppData\\Local\\Temp/ipykernel_13116/991749134.py\u001b[0m in \u001b[0;36m<module>\u001b[1;34m\u001b[0m\n\u001b[1;32m----> 1\u001b[1;33m \u001b[0madd\u001b[0m\u001b[1;33m(\u001b[0m\u001b[1;36m1\u001b[0m\u001b[1;33m,\u001b[0m\u001b[1;36m2\u001b[0m\u001b[1;33m)\u001b[0m\u001b[1;33m\u001b[0m\u001b[1;33m\u001b[0m\u001b[0m\n\u001b[0m",
      "\u001b[1;31mTypeError\u001b[0m: add() missing 1 required positional argument: 'z'"
     ]
    }
   ],
   "source": [
    "add(1,2)"
   ]
  },
  {
   "cell_type": "code",
   "execution_count": 69,
   "id": "05f8fdbd",
   "metadata": {},
   "outputs": [],
   "source": [
    "def add(x,y):\n",
    "    return x+y"
   ]
  },
  {
   "cell_type": "code",
   "execution_count": 70,
   "id": "4cd274ab",
   "metadata": {},
   "outputs": [
    {
     "data": {
      "text/plain": [
       "3"
      ]
     },
     "execution_count": 70,
     "metadata": {},
     "output_type": "execute_result"
    }
   ],
   "source": [
    "add(1,2)"
   ]
  },
  {
   "cell_type": "code",
   "execution_count": null,
   "id": "e711d71c",
   "metadata": {},
   "outputs": [],
   "source": [
    "class xyz:\n",
    "    def fun1(self,x,y):\n",
    "        return x*y\n",
    "class test(xyz):\n",
    "    def fun1(self,x,y):\n",
    "        return x +y\n",
    "    "
   ]
  },
  {
   "cell_type": "code",
   "execution_count": 88,
   "id": "9cd6bd14",
   "metadata": {},
   "outputs": [],
   "source": [
    "class xyz:\n",
    "    def fun1(self,x,y,z):\n",
    "        return x*y*z\n",
    "class test(xyz):\n",
    "    def fun1(self,x,y):\n",
    "        return x +y\n",
    "    \n",
    "    "
   ]
  },
  {
   "cell_type": "code",
   "execution_count": 89,
   "id": "6e2a3896",
   "metadata": {},
   "outputs": [],
   "source": [
    "o1=xyz()"
   ]
  },
  {
   "cell_type": "code",
   "execution_count": 90,
   "id": "ad632b6e",
   "metadata": {},
   "outputs": [],
   "source": [
    "o2=test()"
   ]
  },
  {
   "cell_type": "code",
   "execution_count": 91,
   "id": "caf220f3",
   "metadata": {},
   "outputs": [
    {
     "data": {
      "text/plain": [
       "180"
      ]
     },
     "execution_count": 91,
     "metadata": {},
     "output_type": "execute_result"
    }
   ],
   "source": [
    "o1.fun1(12,3,5)"
   ]
  },
  {
   "cell_type": "code",
   "execution_count": 92,
   "id": "a7eb3aa5",
   "metadata": {},
   "outputs": [
    {
     "data": {
      "text/plain": [
       "5"
      ]
     },
     "execution_count": 92,
     "metadata": {},
     "output_type": "execute_result"
    }
   ],
   "source": [
    "o2.fun1(2,3)"
   ]
  },
  {
   "cell_type": "code",
   "execution_count": null,
   "id": "1e7a7d74",
   "metadata": {},
   "outputs": [],
   "source": []
  }
 ],
 "metadata": {
  "kernelspec": {
   "display_name": "Python 3 (ipykernel)",
   "language": "python",
   "name": "python3"
  },
  "language_info": {
   "codemirror_mode": {
    "name": "ipython",
    "version": 3
   },
   "file_extension": ".py",
   "mimetype": "text/x-python",
   "name": "python",
   "nbconvert_exporter": "python",
   "pygments_lexer": "ipython3",
   "version": "3.9.7"
  }
 },
 "nbformat": 4,
 "nbformat_minor": 5
}
