{
 "cells": [
  {
   "cell_type": "code",
   "execution_count": 1,
   "id": "96019e8b",
   "metadata": {},
   "outputs": [],
   "source": [
    "##1. Create a list containing squares of numbers from 1 to 10 (HINT: use List Comprehension)."
   ]
  },
  {
   "cell_type": "code",
   "execution_count": 2,
   "id": "909b0b54",
   "metadata": {},
   "outputs": [
    {
     "name": "stdout",
     "output_type": "stream",
     "text": [
      "1 4 9 16 25 36 49 64 81 100 "
     ]
    }
   ],
   "source": [
    "li=[1,2,3,4,5,6,7,8,9,10]\n",
    "for i in li:\n",
    "    print(i ** 2, end = \" \")"
   ]
  },
  {
   "cell_type": "code",
   "execution_count": 3,
   "id": "2727c1ce",
   "metadata": {},
   "outputs": [
    {
     "name": "stdout",
     "output_type": "stream",
     "text": [
      "1\n",
      "4\n",
      "9\n",
      "16\n",
      "25\n",
      "36\n",
      "49\n",
      "64\n",
      "81\n",
      "100\n"
     ]
    }
   ],
   "source": [
    "li=[1,2,3,4,5,6,7,8,9,10]\n",
    "for i in li:\n",
    "    print(i * i)"
   ]
  },
  {
   "cell_type": "code",
   "execution_count": 4,
   "id": "1445b033",
   "metadata": {},
   "outputs": [],
   "source": [
    "##2. Write a Function to check if year number is a leap year."
   ]
  },
  {
   "cell_type": "code",
   "execution_count": 5,
   "id": "e23c7685",
   "metadata": {},
   "outputs": [
    {
     "name": "stdout",
     "output_type": "stream",
     "text": [
      "enter the year  2016\n",
      "year is leap year\n"
     ]
    }
   ],
   "source": [
    "year=int(input(\"enter the year  \"))\n",
    "if((year%400==0)or\n",
    "  (year%100!=0)and\n",
    "  (year%4==0)):\n",
    "    print(\"year is leap year\")\n",
    "else:\n",
    "    print(\"year is not a leap year\")"
   ]
  },
  {
   "cell_type": "code",
   "execution_count": 6,
   "id": "b1c59bf9",
   "metadata": {},
   "outputs": [],
   "source": [
    "##3. Write a Function to take an array and return another array that contains the members of first\n",
    "#array that are even."
   ]
  },
  {
   "cell_type": "code",
   "execution_count": 26,
   "id": "b00d7a9a",
   "metadata": {},
   "outputs": [
    {
     "name": "stdout",
     "output_type": "stream",
     "text": [
      "[22, 44, 66, 88]\n"
     ]
    }
   ],
   "source": [
    "a=[22,33,44,55,66,77,88,19,3]\n",
    "def my_list(a):\n",
    "    b=[]\n",
    "    for i in range(len(a)):\n",
    "        if a[i]%2==0:\n",
    "            b.append(a[i])\n",
    "    print(b)\n",
    "my_list(a)\n",
    "\n"
   ]
  },
  {
   "cell_type": "code",
   "execution_count": 8,
   "id": "c2d9a07d",
   "metadata": {},
   "outputs": [],
   "source": [
    "#car=[\"tata\",\"nano\",\"bmw\"]"
   ]
  },
  {
   "cell_type": "code",
   "execution_count": 9,
   "id": "0cd91bba",
   "metadata": {},
   "outputs": [
    {
     "ename": "NameError",
     "evalue": "name 'car' is not defined",
     "output_type": "error",
     "traceback": [
      "\u001b[1;31m---------------------------------------------------------------------------\u001b[0m",
      "\u001b[1;31mNameError\u001b[0m                                 Traceback (most recent call last)",
      "\u001b[1;32m~\\AppData\\Local\\Temp/ipykernel_13856/1058484051.py\u001b[0m in \u001b[0;36m<module>\u001b[1;34m\u001b[0m\n\u001b[1;32m----> 1\u001b[1;33m \u001b[0mx\u001b[0m\u001b[1;33m=\u001b[0m\u001b[0mcar\u001b[0m\u001b[1;33m[\u001b[0m\u001b[1;36m0\u001b[0m\u001b[1;33m]\u001b[0m\u001b[1;33m\u001b[0m\u001b[1;33m\u001b[0m\u001b[0m\n\u001b[0m",
      "\u001b[1;31mNameError\u001b[0m: name 'car' is not defined"
     ]
    }
   ],
   "source": [
    "#x=car[0]"
   ]
  },
  {
   "cell_type": "code",
   "execution_count": null,
   "id": "56fefe45",
   "metadata": {},
   "outputs": [],
   "source": [
    "x"
   ]
  },
  {
   "cell_type": "code",
   "execution_count": null,
   "id": "3ddbcc52",
   "metadata": {},
   "outputs": [],
   "source": [
    "x=len(car)"
   ]
  },
  {
   "cell_type": "code",
   "execution_count": null,
   "id": "5d5dba1e",
   "metadata": {},
   "outputs": [],
   "source": [
    "x"
   ]
  },
  {
   "cell_type": "code",
   "execution_count": null,
   "id": "adf3fa0e",
   "metadata": {},
   "outputs": [],
   "source": [
    "#lst=[]\n",
    "#n=int(input(\"enter number\"))\n",
    "#for i in range(0,n):\n",
    "    #ele=int(input())\n",
    "    #lst.append(ele)\n",
    "#print(lst)"
   ]
  },
  {
   "cell_type": "code",
   "execution_count": null,
   "id": "b168f704",
   "metadata": {},
   "outputs": [],
   "source": [
    "#4. Write a Function that takes 2 arrays and prints the members of first array that are present of\n",
    "#second array. (HINT: use Membership Comprehension)"
   ]
  },
  {
   "cell_type": "code",
   "execution_count": null,
   "id": "8c838a57",
   "metadata": {},
   "outputs": [],
   "source": [
    "#a=[1,3,4,5,6,10,11,23]\n",
    "#b=[2,5,9,10,23]\n",
    "#def to_check(a,b):\n",
    "    #c=[]\n",
    "    #for i in range(0,len(a)):\n",
    "        #if a[i] in b:\n",
    "            #c.append(a[i])\n",
    "    #print(c)\n",
    "#to_check(a,b)\n"
   ]
  },
  {
   "cell_type": "code",
   "execution_count": 6,
   "id": "f047cae5",
   "metadata": {},
   "outputs": [
    {
     "name": "stdout",
     "output_type": "stream",
     "text": [
      "Enter 5 number 1 2 3 4 5\n",
      "Enter another 5  number2 3 4 8 9\n",
      "2 is a common in both the array\n",
      "3 is a common in both the array\n",
      "4 is a common in both the array\n"
     ]
    }
   ],
   "source": [
    "a=[int(n1) for n1 in input(\"Enter 5 number \").split()]\n",
    "b=[int(n2) for n2 in input(\"Enter another 5  number\").split()]\n",
    "for x in a:\n",
    "    if x in b:\n",
    "        print(x,\"is a common in both the array\")\n",
    "    \n",
    "        "
   ]
  },
  {
   "cell_type": "code",
   "execution_count": 8,
   "id": "61a020df",
   "metadata": {},
   "outputs": [
    {
     "name": "stdout",
     "output_type": "stream",
     "text": [
      "Enter 5 number 1 2 3 4 5\n",
      "Enter another 5  number6 7 8 9 10\n",
      "no common number\n"
     ]
    }
   ],
   "source": [
    "a=[int(n1) for n1 in input(\"Enter 5 number \").split()]\n",
    "b=[int(n2) for n2 in input(\"Enter another 5  number\").split()]\n",
    "for x in a:\n",
    "    if x in b:\n",
    "        print(x,\"is a common in both the array\")\n",
    "    else:\n",
    "        print(\"no common number\")\n",
    "        break\n",
    "        \n",
    "    \n",
    "        "
   ]
  },
  {
   "cell_type": "code",
   "execution_count": 9,
   "id": "2d3fba4c",
   "metadata": {},
   "outputs": [
    {
     "name": "stdout",
     "output_type": "stream",
     "text": [
      "Enter 5 number1 2 3 4 5\n",
      "Enter another 5 number2 3 5 6 7\n",
      "2 is a common in both the array\n",
      "3 is a common in both the array\n",
      "5 is a common in both the array\n"
     ]
    }
   ],
   "source": [
    "a=[int(n1) for n1 in input(\"Enter 5 number\").split()]\n",
    "b=[int(n2) for n2 in input(\"Enter another 5 number\").split()]\n",
    "for x in a:\n",
    "    if x in b:\n",
    "        print(x,\"is a common in both the array\")\n"
   ]
  },
  {
   "cell_type": "code",
   "execution_count": 13,
   "id": "375da416",
   "metadata": {},
   "outputs": [
    {
     "name": "stdout",
     "output_type": "stream",
     "text": [
      "enter 5 number1 2 3 4 5\n",
      "enter another 5 number6 7 8 910\n"
     ]
    }
   ],
   "source": [
    "a=[int(n1)for n1 in input('enter 5 number').split()]\n",
    "b=[int(n2)for n2 in input('enter another 5 number').split()]\n",
    "for x in a:\n",
    "    if x in b:\n",
    "        print(x,\"is common in both\" )\n"
   ]
  },
  {
   "cell_type": "code",
   "execution_count": 18,
   "id": "746adfc1",
   "metadata": {},
   "outputs": [
    {
     "name": "stdout",
     "output_type": "stream",
     "text": [
      "0\n",
      "1\n",
      "2\n",
      "3\n",
      "4\n",
      "5\n",
      "6\n",
      "7\n",
      "8\n"
     ]
    }
   ],
   "source": [
    "for i in range(9):\n",
    "    if i > 9:\n",
    "        break\n",
    "    print(i)"
   ]
  },
  {
   "cell_type": "code",
   "execution_count": 1,
   "id": "1c1184f8",
   "metadata": {},
   "outputs": [
    {
     "name": "stdout",
     "output_type": "stream",
     "text": [
      "1\n",
      "2\n",
      "3\n"
     ]
    }
   ],
   "source": [
    "i =1\n",
    "while i < 9:\n",
    "    print(i)\n",
    "    if i ==3:\n",
    "        break\n",
    "    i+=1"
   ]
  },
  {
   "cell_type": "code",
   "execution_count": 5,
   "id": "e1d6549f",
   "metadata": {},
   "outputs": [],
   "source": [
    "class person:\n",
    "    pass\n",
    "    \n",
    "\n",
    "    "
   ]
  },
  {
   "cell_type": "code",
   "execution_count": 7,
   "id": "004a3537",
   "metadata": {},
   "outputs": [
    {
     "name": "stdout",
     "output_type": "stream",
     "text": [
      "1\n",
      "2\n",
      "3\n",
      "4\n",
      "5\n"
     ]
    }
   ],
   "source": [
    "# while loop\n",
    "i = 1\n",
    "while i < 6:\n",
    "    print(i)\n",
    "    i +=1\n"
   ]
  },
  {
   "cell_type": "code",
   "execution_count": 5,
   "id": "29e31165",
   "metadata": {},
   "outputs": [
    {
     "name": "stdout",
     "output_type": "stream",
     "text": [
      "0\n",
      "1\n",
      "2\n",
      "3\n",
      "4\n",
      "5\n",
      "do not print\n"
     ]
    }
   ],
   "source": [
    "for x in range(6):\n",
    "    print(x)\n",
    "else:\n",
    "    print(\"do not print\")"
   ]
  },
  {
   "cell_type": "code",
   "execution_count": 1,
   "id": "f71a92a0",
   "metadata": {},
   "outputs": [
    {
     "name": "stdout",
     "output_type": "stream",
     "text": [
      "1\n",
      "2\n",
      "4\n",
      "5\n",
      "6\n"
     ]
    }
   ],
   "source": [
    "# while loop\n",
    "i = 0\n",
    "while i < 6:\n",
    "    i +=1\n",
    "    \n",
    "    if i ==3:\n",
    "        continue\n",
    "    print(i)\n"
   ]
  },
  {
   "cell_type": "code",
   "execution_count": 4,
   "id": "a53fd6c2",
   "metadata": {},
   "outputs": [],
   "source": [
    "class student:\n",
    "    pass"
   ]
  },
  {
   "cell_type": "code",
   "execution_count": null,
   "id": "694db9cd",
   "metadata": {},
   "outputs": [],
   "source": []
  }
 ],
 "metadata": {
  "kernelspec": {
   "display_name": "Python 3 (ipykernel)",
   "language": "python",
   "name": "python3"
  },
  "language_info": {
   "codemirror_mode": {
    "name": "ipython",
    "version": 3
   },
   "file_extension": ".py",
   "mimetype": "text/x-python",
   "name": "python",
   "nbconvert_exporter": "python",
   "pygments_lexer": "ipython3",
   "version": "3.9.7"
  }
 },
 "nbformat": 4,
 "nbformat_minor": 5
}
