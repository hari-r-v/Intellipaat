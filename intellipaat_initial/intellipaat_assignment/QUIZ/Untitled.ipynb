{
 "cells": [
  {
   "cell_type": "code",
   "execution_count": 1,
   "metadata": {},
   "outputs": [],
   "source": [
    "import numpy as np\n",
    "import pandas as pd\n",
    "import matplotlib.pyplot as plt\n",
    "import seaborn as sns"
   ]
  },
  {
   "cell_type": "code",
   "execution_count": 2,
   "metadata": {},
   "outputs": [],
   "source": [
    "df=pd.read_csv('healthcare-dataset-stroke-data-1.csv')"
   ]
  },
  {
   "cell_type": "code",
   "execution_count": 3,
   "metadata": {},
   "outputs": [
    {
     "data": {
      "text/html": [
       "<div>\n",
       "<style scoped>\n",
       "    .dataframe tbody tr th:only-of-type {\n",
       "        vertical-align: middle;\n",
       "    }\n",
       "\n",
       "    .dataframe tbody tr th {\n",
       "        vertical-align: top;\n",
       "    }\n",
       "\n",
       "    .dataframe thead th {\n",
       "        text-align: right;\n",
       "    }\n",
       "</style>\n",
       "<table border=\"1\" class=\"dataframe\">\n",
       "  <thead>\n",
       "    <tr style=\"text-align: right;\">\n",
       "      <th></th>\n",
       "      <th>id</th>\n",
       "      <th>gender</th>\n",
       "      <th>age</th>\n",
       "      <th>hypertension</th>\n",
       "      <th>heart_disease</th>\n",
       "      <th>ever_married</th>\n",
       "      <th>work_type</th>\n",
       "      <th>Residence_type</th>\n",
       "      <th>avg_glucose_level</th>\n",
       "      <th>bmi</th>\n",
       "      <th>smoking_status</th>\n",
       "      <th>stroke</th>\n",
       "    </tr>\n",
       "  </thead>\n",
       "  <tbody>\n",
       "    <tr>\n",
       "      <th>0</th>\n",
       "      <td>9046</td>\n",
       "      <td>Male</td>\n",
       "      <td>67.0</td>\n",
       "      <td>0</td>\n",
       "      <td>1</td>\n",
       "      <td>Yes</td>\n",
       "      <td>Private</td>\n",
       "      <td>Urban</td>\n",
       "      <td>228.69</td>\n",
       "      <td>36.6</td>\n",
       "      <td>formerly smoked</td>\n",
       "      <td>1</td>\n",
       "    </tr>\n",
       "    <tr>\n",
       "      <th>1</th>\n",
       "      <td>51676</td>\n",
       "      <td>Female</td>\n",
       "      <td>61.0</td>\n",
       "      <td>0</td>\n",
       "      <td>0</td>\n",
       "      <td>Yes</td>\n",
       "      <td>Self-employed</td>\n",
       "      <td>Rural</td>\n",
       "      <td>202.21</td>\n",
       "      <td>NaN</td>\n",
       "      <td>never smoked</td>\n",
       "      <td>1</td>\n",
       "    </tr>\n",
       "    <tr>\n",
       "      <th>2</th>\n",
       "      <td>31112</td>\n",
       "      <td>Male</td>\n",
       "      <td>80.0</td>\n",
       "      <td>0</td>\n",
       "      <td>1</td>\n",
       "      <td>Yes</td>\n",
       "      <td>Private</td>\n",
       "      <td>Rural</td>\n",
       "      <td>105.92</td>\n",
       "      <td>32.5</td>\n",
       "      <td>never smoked</td>\n",
       "      <td>1</td>\n",
       "    </tr>\n",
       "    <tr>\n",
       "      <th>3</th>\n",
       "      <td>60182</td>\n",
       "      <td>Female</td>\n",
       "      <td>49.0</td>\n",
       "      <td>0</td>\n",
       "      <td>0</td>\n",
       "      <td>Yes</td>\n",
       "      <td>Private</td>\n",
       "      <td>Urban</td>\n",
       "      <td>171.23</td>\n",
       "      <td>34.4</td>\n",
       "      <td>smokes</td>\n",
       "      <td>1</td>\n",
       "    </tr>\n",
       "    <tr>\n",
       "      <th>4</th>\n",
       "      <td>1665</td>\n",
       "      <td>Female</td>\n",
       "      <td>79.0</td>\n",
       "      <td>1</td>\n",
       "      <td>0</td>\n",
       "      <td>Yes</td>\n",
       "      <td>Self-employed</td>\n",
       "      <td>Rural</td>\n",
       "      <td>174.12</td>\n",
       "      <td>24.0</td>\n",
       "      <td>never smoked</td>\n",
       "      <td>1</td>\n",
       "    </tr>\n",
       "  </tbody>\n",
       "</table>\n",
       "</div>"
      ],
      "text/plain": [
       "      id  gender   age  hypertension  heart_disease ever_married  \\\n",
       "0   9046    Male  67.0             0              1          Yes   \n",
       "1  51676  Female  61.0             0              0          Yes   \n",
       "2  31112    Male  80.0             0              1          Yes   \n",
       "3  60182  Female  49.0             0              0          Yes   \n",
       "4   1665  Female  79.0             1              0          Yes   \n",
       "\n",
       "       work_type Residence_type  avg_glucose_level   bmi   smoking_status  \\\n",
       "0        Private          Urban             228.69  36.6  formerly smoked   \n",
       "1  Self-employed          Rural             202.21   NaN     never smoked   \n",
       "2        Private          Rural             105.92  32.5     never smoked   \n",
       "3        Private          Urban             171.23  34.4           smokes   \n",
       "4  Self-employed          Rural             174.12  24.0     never smoked   \n",
       "\n",
       "   stroke  \n",
       "0       1  \n",
       "1       1  \n",
       "2       1  \n",
       "3       1  \n",
       "4       1  "
      ]
     },
     "execution_count": 3,
     "metadata": {},
     "output_type": "execute_result"
    }
   ],
   "source": [
    "df.head()"
   ]
  },
  {
   "cell_type": "code",
   "execution_count": 4,
   "metadata": {
    "scrolled": true
   },
   "outputs": [
    {
     "name": "stdout",
     "output_type": "stream",
     "text": [
      "<class 'pandas.core.frame.DataFrame'>\n",
      "RangeIndex: 5110 entries, 0 to 5109\n",
      "Data columns (total 12 columns):\n",
      " #   Column             Non-Null Count  Dtype  \n",
      "---  ------             --------------  -----  \n",
      " 0   id                 5110 non-null   int64  \n",
      " 1   gender             5110 non-null   object \n",
      " 2   age                5110 non-null   float64\n",
      " 3   hypertension       5110 non-null   int64  \n",
      " 4   heart_disease      5110 non-null   int64  \n",
      " 5   ever_married       5110 non-null   object \n",
      " 6   work_type          5110 non-null   object \n",
      " 7   Residence_type     5110 non-null   object \n",
      " 8   avg_glucose_level  5110 non-null   float64\n",
      " 9   bmi                4909 non-null   float64\n",
      " 10  smoking_status     5110 non-null   object \n",
      " 11  stroke             5110 non-null   int64  \n",
      "dtypes: float64(3), int64(4), object(5)\n",
      "memory usage: 479.2+ KB\n"
     ]
    }
   ],
   "source": [
    "df.info()"
   ]
  },
  {
   "cell_type": "code",
   "execution_count": 5,
   "metadata": {},
   "outputs": [
    {
     "data": {
      "text/plain": [
       "id                     0\n",
       "gender                 0\n",
       "age                    0\n",
       "hypertension           0\n",
       "heart_disease          0\n",
       "ever_married           0\n",
       "work_type              0\n",
       "Residence_type         0\n",
       "avg_glucose_level      0\n",
       "bmi                  201\n",
       "smoking_status         0\n",
       "stroke                 0\n",
       "dtype: int64"
      ]
     },
     "execution_count": 5,
     "metadata": {},
     "output_type": "execute_result"
    }
   ],
   "source": [
    "df.isna().sum()"
   ]
  },
  {
   "cell_type": "code",
   "execution_count": 6,
   "metadata": {},
   "outputs": [
    {
     "data": {
      "text/plain": [
       "dtype('float64')"
      ]
     },
     "execution_count": 6,
     "metadata": {},
     "output_type": "execute_result"
    }
   ],
   "source": [
    "df['bmi'].dtype"
   ]
  },
  {
   "cell_type": "code",
   "execution_count": 7,
   "metadata": {},
   "outputs": [],
   "source": [
    "df['bmi']=df['bmi'].fillna(df['bmi'].mean)"
   ]
  },
  {
   "cell_type": "code",
   "execution_count": 8,
   "metadata": {},
   "outputs": [
    {
     "data": {
      "text/plain": [
       "id                   0\n",
       "gender               0\n",
       "age                  0\n",
       "hypertension         0\n",
       "heart_disease        0\n",
       "ever_married         0\n",
       "work_type            0\n",
       "Residence_type       0\n",
       "avg_glucose_level    0\n",
       "bmi                  0\n",
       "smoking_status       0\n",
       "stroke               0\n",
       "dtype: int64"
      ]
     },
     "execution_count": 8,
     "metadata": {},
     "output_type": "execute_result"
    }
   ],
   "source": [
    "df.isna().sum()"
   ]
  },
  {
   "cell_type": "code",
   "execution_count": 9,
   "metadata": {},
   "outputs": [
    {
     "data": {
      "text/plain": [
       "0       formerly smoked\n",
       "1          never smoked\n",
       "2          never smoked\n",
       "3                smokes\n",
       "4          never smoked\n",
       "             ...       \n",
       "5105       never smoked\n",
       "5106       never smoked\n",
       "5107       never smoked\n",
       "5108    formerly smoked\n",
       "5109            Unknown\n",
       "Name: smoking_status, Length: 5110, dtype: object"
      ]
     },
     "execution_count": 9,
     "metadata": {},
     "output_type": "execute_result"
    }
   ],
   "source": [
    "df['smoking_status']"
   ]
  },
  {
   "cell_type": "code",
   "execution_count": 10,
   "metadata": {},
   "outputs": [
    {
     "data": {
      "text/plain": [
       "Index(['id', 'gender', 'age', 'hypertension', 'heart_disease', 'ever_married',\n",
       "       'work_type', 'Residence_type', 'avg_glucose_level', 'bmi',\n",
       "       'smoking_status', 'stroke'],\n",
       "      dtype='object')"
      ]
     },
     "execution_count": 10,
     "metadata": {},
     "output_type": "execute_result"
    }
   ],
   "source": [
    "df.columns"
   ]
  },
  {
   "cell_type": "code",
   "execution_count": 11,
   "metadata": {
    "scrolled": true
   },
   "outputs": [],
   "source": [
    "e=pd.get_dummies(df.smoking_status)"
   ]
  },
  {
   "cell_type": "code",
   "execution_count": null,
   "metadata": {},
   "outputs": [],
   "source": []
  },
  {
   "cell_type": "code",
   "execution_count": 12,
   "metadata": {},
   "outputs": [],
   "source": [
    "a=pd.get_dummies(df.gender)"
   ]
  },
  {
   "cell_type": "code",
   "execution_count": 13,
   "metadata": {},
   "outputs": [],
   "source": [
    "b=pd.get_dummies(df.ever_married)"
   ]
  },
  {
   "cell_type": "code",
   "execution_count": 14,
   "metadata": {},
   "outputs": [],
   "source": [
    "c=pd.get_dummies(df.work_type)"
   ]
  },
  {
   "cell_type": "code",
   "execution_count": 15,
   "metadata": {},
   "outputs": [],
   "source": [
    "d=pd.get_dummies(df.Residence_type)"
   ]
  },
  {
   "cell_type": "code",
   "execution_count": 16,
   "metadata": {},
   "outputs": [
    {
     "data": {
      "text/plain": [
       "Index(['id', 'gender', 'age', 'hypertension', 'heart_disease', 'ever_married',\n",
       "       'work_type', 'Residence_type', 'avg_glucose_level', 'bmi',\n",
       "       'smoking_status', 'stroke'],\n",
       "      dtype='object')"
      ]
     },
     "execution_count": 16,
     "metadata": {},
     "output_type": "execute_result"
    }
   ],
   "source": [
    "df.columns"
   ]
  },
  {
   "cell_type": "code",
   "execution_count": 17,
   "metadata": {},
   "outputs": [],
   "source": [
    "from sklearn.preprocessing import LabelEncoder as le\n",
    "l=le()"
   ]
  },
  {
   "cell_type": "code",
   "execution_count": 18,
   "metadata": {},
   "outputs": [
    {
     "data": {
      "text/html": [
       "<div>\n",
       "<style scoped>\n",
       "    .dataframe tbody tr th:only-of-type {\n",
       "        vertical-align: middle;\n",
       "    }\n",
       "\n",
       "    .dataframe tbody tr th {\n",
       "        vertical-align: top;\n",
       "    }\n",
       "\n",
       "    .dataframe thead th {\n",
       "        text-align: right;\n",
       "    }\n",
       "</style>\n",
       "<table border=\"1\" class=\"dataframe\">\n",
       "  <thead>\n",
       "    <tr style=\"text-align: right;\">\n",
       "      <th></th>\n",
       "      <th>id</th>\n",
       "      <th>gender</th>\n",
       "      <th>age</th>\n",
       "      <th>hypertension</th>\n",
       "      <th>heart_disease</th>\n",
       "      <th>ever_married</th>\n",
       "      <th>work_type</th>\n",
       "      <th>Residence_type</th>\n",
       "      <th>avg_glucose_level</th>\n",
       "      <th>bmi</th>\n",
       "      <th>...</th>\n",
       "      <th>Never_worked</th>\n",
       "      <th>Private</th>\n",
       "      <th>Self-employed</th>\n",
       "      <th>children</th>\n",
       "      <th>Rural</th>\n",
       "      <th>Urban</th>\n",
       "      <th>Unknown</th>\n",
       "      <th>formerly smoked</th>\n",
       "      <th>never smoked</th>\n",
       "      <th>smokes</th>\n",
       "    </tr>\n",
       "  </thead>\n",
       "  <tbody>\n",
       "    <tr>\n",
       "      <th>0</th>\n",
       "      <td>9046</td>\n",
       "      <td>Male</td>\n",
       "      <td>67.0</td>\n",
       "      <td>0</td>\n",
       "      <td>1</td>\n",
       "      <td>Yes</td>\n",
       "      <td>Private</td>\n",
       "      <td>Urban</td>\n",
       "      <td>228.69</td>\n",
       "      <td>36.6</td>\n",
       "      <td>...</td>\n",
       "      <td>0</td>\n",
       "      <td>1</td>\n",
       "      <td>0</td>\n",
       "      <td>0</td>\n",
       "      <td>0</td>\n",
       "      <td>1</td>\n",
       "      <td>0</td>\n",
       "      <td>1</td>\n",
       "      <td>0</td>\n",
       "      <td>0</td>\n",
       "    </tr>\n",
       "    <tr>\n",
       "      <th>1</th>\n",
       "      <td>51676</td>\n",
       "      <td>Female</td>\n",
       "      <td>61.0</td>\n",
       "      <td>0</td>\n",
       "      <td>0</td>\n",
       "      <td>Yes</td>\n",
       "      <td>Self-employed</td>\n",
       "      <td>Rural</td>\n",
       "      <td>202.21</td>\n",
       "      <td>&lt;bound method Series.mean of 0       36.6\\n1  ...</td>\n",
       "      <td>...</td>\n",
       "      <td>0</td>\n",
       "      <td>0</td>\n",
       "      <td>1</td>\n",
       "      <td>0</td>\n",
       "      <td>1</td>\n",
       "      <td>0</td>\n",
       "      <td>0</td>\n",
       "      <td>0</td>\n",
       "      <td>1</td>\n",
       "      <td>0</td>\n",
       "    </tr>\n",
       "    <tr>\n",
       "      <th>2</th>\n",
       "      <td>31112</td>\n",
       "      <td>Male</td>\n",
       "      <td>80.0</td>\n",
       "      <td>0</td>\n",
       "      <td>1</td>\n",
       "      <td>Yes</td>\n",
       "      <td>Private</td>\n",
       "      <td>Rural</td>\n",
       "      <td>105.92</td>\n",
       "      <td>32.5</td>\n",
       "      <td>...</td>\n",
       "      <td>0</td>\n",
       "      <td>1</td>\n",
       "      <td>0</td>\n",
       "      <td>0</td>\n",
       "      <td>1</td>\n",
       "      <td>0</td>\n",
       "      <td>0</td>\n",
       "      <td>0</td>\n",
       "      <td>1</td>\n",
       "      <td>0</td>\n",
       "    </tr>\n",
       "    <tr>\n",
       "      <th>3</th>\n",
       "      <td>60182</td>\n",
       "      <td>Female</td>\n",
       "      <td>49.0</td>\n",
       "      <td>0</td>\n",
       "      <td>0</td>\n",
       "      <td>Yes</td>\n",
       "      <td>Private</td>\n",
       "      <td>Urban</td>\n",
       "      <td>171.23</td>\n",
       "      <td>34.4</td>\n",
       "      <td>...</td>\n",
       "      <td>0</td>\n",
       "      <td>1</td>\n",
       "      <td>0</td>\n",
       "      <td>0</td>\n",
       "      <td>0</td>\n",
       "      <td>1</td>\n",
       "      <td>0</td>\n",
       "      <td>0</td>\n",
       "      <td>0</td>\n",
       "      <td>1</td>\n",
       "    </tr>\n",
       "    <tr>\n",
       "      <th>4</th>\n",
       "      <td>1665</td>\n",
       "      <td>Female</td>\n",
       "      <td>79.0</td>\n",
       "      <td>1</td>\n",
       "      <td>0</td>\n",
       "      <td>Yes</td>\n",
       "      <td>Self-employed</td>\n",
       "      <td>Rural</td>\n",
       "      <td>174.12</td>\n",
       "      <td>24</td>\n",
       "      <td>...</td>\n",
       "      <td>0</td>\n",
       "      <td>0</td>\n",
       "      <td>1</td>\n",
       "      <td>0</td>\n",
       "      <td>1</td>\n",
       "      <td>0</td>\n",
       "      <td>0</td>\n",
       "      <td>0</td>\n",
       "      <td>1</td>\n",
       "      <td>0</td>\n",
       "    </tr>\n",
       "  </tbody>\n",
       "</table>\n",
       "<p>5 rows × 28 columns</p>\n",
       "</div>"
      ],
      "text/plain": [
       "      id  gender   age  hypertension  heart_disease ever_married  \\\n",
       "0   9046    Male  67.0             0              1          Yes   \n",
       "1  51676  Female  61.0             0              0          Yes   \n",
       "2  31112    Male  80.0             0              1          Yes   \n",
       "3  60182  Female  49.0             0              0          Yes   \n",
       "4   1665  Female  79.0             1              0          Yes   \n",
       "\n",
       "       work_type Residence_type  avg_glucose_level  \\\n",
       "0        Private          Urban             228.69   \n",
       "1  Self-employed          Rural             202.21   \n",
       "2        Private          Rural             105.92   \n",
       "3        Private          Urban             171.23   \n",
       "4  Self-employed          Rural             174.12   \n",
       "\n",
       "                                                 bmi  ... Never_worked  \\\n",
       "0                                               36.6  ...            0   \n",
       "1  <bound method Series.mean of 0       36.6\\n1  ...  ...            0   \n",
       "2                                               32.5  ...            0   \n",
       "3                                               34.4  ...            0   \n",
       "4                                                 24  ...            0   \n",
       "\n",
       "   Private  Self-employed  children  Rural  Urban  Unknown  formerly smoked  \\\n",
       "0        1              0         0      0      1        0                1   \n",
       "1        0              1         0      1      0        0                0   \n",
       "2        1              0         0      1      0        0                0   \n",
       "3        1              0         0      0      1        0                0   \n",
       "4        0              1         0      1      0        0                0   \n",
       "\n",
       "   never smoked  smokes  \n",
       "0             0       0  \n",
       "1             1       0  \n",
       "2             1       0  \n",
       "3             0       1  \n",
       "4             1       0  \n",
       "\n",
       "[5 rows x 28 columns]"
      ]
     },
     "execution_count": 18,
     "metadata": {},
     "output_type": "execute_result"
    }
   ],
   "source": [
    "merged=pd.concat([df, a, b, c, d, e,], axis='columns')\n",
    "merged.head()"
   ]
  },
  {
   "cell_type": "code",
   "execution_count": 19,
   "metadata": {},
   "outputs": [
    {
     "data": {
      "text/html": [
       "<div>\n",
       "<style scoped>\n",
       "    .dataframe tbody tr th:only-of-type {\n",
       "        vertical-align: middle;\n",
       "    }\n",
       "\n",
       "    .dataframe tbody tr th {\n",
       "        vertical-align: top;\n",
       "    }\n",
       "\n",
       "    .dataframe thead th {\n",
       "        text-align: right;\n",
       "    }\n",
       "</style>\n",
       "<table border=\"1\" class=\"dataframe\">\n",
       "  <thead>\n",
       "    <tr style=\"text-align: right;\">\n",
       "      <th></th>\n",
       "      <th>id</th>\n",
       "      <th>age</th>\n",
       "      <th>hypertension</th>\n",
       "      <th>heart_disease</th>\n",
       "      <th>avg_glucose_level</th>\n",
       "      <th>bmi</th>\n",
       "      <th>smoking_status</th>\n",
       "      <th>stroke</th>\n",
       "      <th>Female</th>\n",
       "      <th>Other</th>\n",
       "      <th>No</th>\n",
       "      <th>Govt_job</th>\n",
       "      <th>Never_worked</th>\n",
       "      <th>Self-employed</th>\n",
       "      <th>children</th>\n",
       "      <th>Rural</th>\n",
       "      <th>Unknown</th>\n",
       "      <th>never smoked</th>\n",
       "      <th>smokes</th>\n",
       "    </tr>\n",
       "  </thead>\n",
       "  <tbody>\n",
       "    <tr>\n",
       "      <th>0</th>\n",
       "      <td>9046</td>\n",
       "      <td>67.0</td>\n",
       "      <td>0</td>\n",
       "      <td>1</td>\n",
       "      <td>228.69</td>\n",
       "      <td>36.6</td>\n",
       "      <td>formerly smoked</td>\n",
       "      <td>1</td>\n",
       "      <td>0</td>\n",
       "      <td>0</td>\n",
       "      <td>0</td>\n",
       "      <td>0</td>\n",
       "      <td>0</td>\n",
       "      <td>0</td>\n",
       "      <td>0</td>\n",
       "      <td>0</td>\n",
       "      <td>0</td>\n",
       "      <td>0</td>\n",
       "      <td>0</td>\n",
       "    </tr>\n",
       "    <tr>\n",
       "      <th>1</th>\n",
       "      <td>51676</td>\n",
       "      <td>61.0</td>\n",
       "      <td>0</td>\n",
       "      <td>0</td>\n",
       "      <td>202.21</td>\n",
       "      <td>&lt;bound method Series.mean of 0       36.6\\n1  ...</td>\n",
       "      <td>never smoked</td>\n",
       "      <td>1</td>\n",
       "      <td>1</td>\n",
       "      <td>0</td>\n",
       "      <td>0</td>\n",
       "      <td>0</td>\n",
       "      <td>0</td>\n",
       "      <td>1</td>\n",
       "      <td>0</td>\n",
       "      <td>1</td>\n",
       "      <td>0</td>\n",
       "      <td>1</td>\n",
       "      <td>0</td>\n",
       "    </tr>\n",
       "    <tr>\n",
       "      <th>2</th>\n",
       "      <td>31112</td>\n",
       "      <td>80.0</td>\n",
       "      <td>0</td>\n",
       "      <td>1</td>\n",
       "      <td>105.92</td>\n",
       "      <td>32.5</td>\n",
       "      <td>never smoked</td>\n",
       "      <td>1</td>\n",
       "      <td>0</td>\n",
       "      <td>0</td>\n",
       "      <td>0</td>\n",
       "      <td>0</td>\n",
       "      <td>0</td>\n",
       "      <td>0</td>\n",
       "      <td>0</td>\n",
       "      <td>1</td>\n",
       "      <td>0</td>\n",
       "      <td>1</td>\n",
       "      <td>0</td>\n",
       "    </tr>\n",
       "    <tr>\n",
       "      <th>3</th>\n",
       "      <td>60182</td>\n",
       "      <td>49.0</td>\n",
       "      <td>0</td>\n",
       "      <td>0</td>\n",
       "      <td>171.23</td>\n",
       "      <td>34.4</td>\n",
       "      <td>smokes</td>\n",
       "      <td>1</td>\n",
       "      <td>1</td>\n",
       "      <td>0</td>\n",
       "      <td>0</td>\n",
       "      <td>0</td>\n",
       "      <td>0</td>\n",
       "      <td>0</td>\n",
       "      <td>0</td>\n",
       "      <td>0</td>\n",
       "      <td>0</td>\n",
       "      <td>0</td>\n",
       "      <td>1</td>\n",
       "    </tr>\n",
       "    <tr>\n",
       "      <th>4</th>\n",
       "      <td>1665</td>\n",
       "      <td>79.0</td>\n",
       "      <td>1</td>\n",
       "      <td>0</td>\n",
       "      <td>174.12</td>\n",
       "      <td>24</td>\n",
       "      <td>never smoked</td>\n",
       "      <td>1</td>\n",
       "      <td>1</td>\n",
       "      <td>0</td>\n",
       "      <td>0</td>\n",
       "      <td>0</td>\n",
       "      <td>0</td>\n",
       "      <td>1</td>\n",
       "      <td>0</td>\n",
       "      <td>1</td>\n",
       "      <td>0</td>\n",
       "      <td>1</td>\n",
       "      <td>0</td>\n",
       "    </tr>\n",
       "  </tbody>\n",
       "</table>\n",
       "</div>"
      ],
      "text/plain": [
       "      id   age  hypertension  heart_disease  avg_glucose_level  \\\n",
       "0   9046  67.0             0              1             228.69   \n",
       "1  51676  61.0             0              0             202.21   \n",
       "2  31112  80.0             0              1             105.92   \n",
       "3  60182  49.0             0              0             171.23   \n",
       "4   1665  79.0             1              0             174.12   \n",
       "\n",
       "                                                 bmi   smoking_status  stroke  \\\n",
       "0                                               36.6  formerly smoked       1   \n",
       "1  <bound method Series.mean of 0       36.6\\n1  ...     never smoked       1   \n",
       "2                                               32.5     never smoked       1   \n",
       "3                                               34.4           smokes       1   \n",
       "4                                                 24     never smoked       1   \n",
       "\n",
       "   Female  Other  No  Govt_job  Never_worked  Self-employed  children  Rural  \\\n",
       "0       0      0   0         0             0              0         0      0   \n",
       "1       1      0   0         0             0              1         0      1   \n",
       "2       0      0   0         0             0              0         0      1   \n",
       "3       1      0   0         0             0              0         0      0   \n",
       "4       1      0   0         0             0              1         0      1   \n",
       "\n",
       "   Unknown  never smoked  smokes  \n",
       "0        0             0       0  \n",
       "1        0             1       0  \n",
       "2        0             1       0  \n",
       "3        0             0       1  \n",
       "4        0             1       0  "
      ]
     },
     "execution_count": 19,
     "metadata": {},
     "output_type": "execute_result"
    }
   ],
   "source": [
    "data=merged.drop(['gender','ever_married','work_type','Residence_type','Male','Yes', 'Private', 'Urban', 'formerly smoked'],axis='columns')\n",
    "data.head()"
   ]
  },
  {
   "cell_type": "code",
   "execution_count": 20,
   "metadata": {},
   "outputs": [],
   "source": [
    "x=data"
   ]
  },
  {
   "cell_type": "code",
   "execution_count": 21,
   "metadata": {},
   "outputs": [],
   "source": [
    "x=x.drop('stroke',axis='columns')"
   ]
  },
  {
   "cell_type": "code",
   "execution_count": 22,
   "metadata": {},
   "outputs": [
    {
     "data": {
      "text/plain": [
       "Index(['id', 'age', 'hypertension', 'heart_disease', 'avg_glucose_level',\n",
       "       'bmi', 'smoking_status', 'Female', 'Other', 'No', 'Govt_job',\n",
       "       'Never_worked', 'Self-employed', 'children', 'Rural', 'Unknown',\n",
       "       'never smoked', 'smokes'],\n",
       "      dtype='object')"
      ]
     },
     "execution_count": 22,
     "metadata": {},
     "output_type": "execute_result"
    }
   ],
   "source": [
    "x.columns"
   ]
  },
  {
   "cell_type": "code",
   "execution_count": 23,
   "metadata": {},
   "outputs": [
    {
     "data": {
      "text/plain": [
       "Index(['id', 'age', 'hypertension', 'heart_disease', 'avg_glucose_level',\n",
       "       'bmi', 'smoking_status', 'stroke', 'Female', 'Other', 'No', 'Govt_job',\n",
       "       'Never_worked', 'Self-employed', 'children', 'Rural', 'Unknown',\n",
       "       'never smoked', 'smokes'],\n",
       "      dtype='object')"
      ]
     },
     "execution_count": 23,
     "metadata": {},
     "output_type": "execute_result"
    }
   ],
   "source": [
    "data.columns"
   ]
  },
  {
   "cell_type": "code",
   "execution_count": 24,
   "metadata": {},
   "outputs": [],
   "source": [
    "y=data['stroke']"
   ]
  },
  {
   "cell_type": "code",
   "execution_count": 25,
   "metadata": {},
   "outputs": [],
   "source": [
    "from sklearn.model_selection import train_test_split"
   ]
  },
  {
   "cell_type": "code",
   "execution_count": 26,
   "metadata": {},
   "outputs": [],
   "source": [
    "x_train,x_test,y_train,y_test=train_test_split(x,y,test_size=30,random_state=4)"
   ]
  },
  {
   "cell_type": "code",
   "execution_count": 27,
   "metadata": {},
   "outputs": [
    {
     "name": "stdout",
     "output_type": "stream",
     "text": [
      "(5080, 18)\n"
     ]
    }
   ],
   "source": [
    "print(x_train.shape)"
   ]
  },
  {
   "cell_type": "code",
   "execution_count": 28,
   "metadata": {},
   "outputs": [
    {
     "name": "stdout",
     "output_type": "stream",
     "text": [
      "(30, 18)\n"
     ]
    }
   ],
   "source": [
    "print(x_test.shape)"
   ]
  },
  {
   "cell_type": "code",
   "execution_count": 29,
   "metadata": {},
   "outputs": [
    {
     "name": "stdout",
     "output_type": "stream",
     "text": [
      "(5080,)\n"
     ]
    }
   ],
   "source": [
    "print(y_train.shape)"
   ]
  },
  {
   "cell_type": "code",
   "execution_count": 30,
   "metadata": {},
   "outputs": [
    {
     "name": "stdout",
     "output_type": "stream",
     "text": [
      "(30,)\n"
     ]
    }
   ],
   "source": [
    "print(y_test.shape)"
   ]
  },
  {
   "cell_type": "code",
   "execution_count": 31,
   "metadata": {},
   "outputs": [],
   "source": [
    "from sklearn.tree import DecisionTreeClassifier"
   ]
  },
  {
   "cell_type": "code",
   "execution_count": 32,
   "metadata": {},
   "outputs": [],
   "source": [
    "from sklearn import tree\n",
    "from sklearn.metrics import accuracy_score,confusion_matrix,classification_report\n",
    "#from sklearn.model_selection import train_test_split"
   ]
  },
  {
   "cell_type": "code",
   "execution_count": 33,
   "metadata": {},
   "outputs": [
    {
     "name": "stdout",
     "output_type": "stream",
     "text": [
      "<class 'pandas.core.frame.DataFrame'>\n",
      "RangeIndex: 5110 entries, 0 to 5109\n",
      "Data columns (total 18 columns):\n",
      " #   Column             Non-Null Count  Dtype  \n",
      "---  ------             --------------  -----  \n",
      " 0   id                 5110 non-null   int64  \n",
      " 1   age                5110 non-null   float64\n",
      " 2   hypertension       5110 non-null   int64  \n",
      " 3   heart_disease      5110 non-null   int64  \n",
      " 4   avg_glucose_level  5110 non-null   float64\n",
      " 5   bmi                5110 non-null   object \n",
      " 6   smoking_status     5110 non-null   object \n",
      " 7   Female             5110 non-null   uint8  \n",
      " 8   Other              5110 non-null   uint8  \n",
      " 9   No                 5110 non-null   uint8  \n",
      " 10  Govt_job           5110 non-null   uint8  \n",
      " 11  Never_worked       5110 non-null   uint8  \n",
      " 12  Self-employed      5110 non-null   uint8  \n",
      " 13  children           5110 non-null   uint8  \n",
      " 14  Rural              5110 non-null   uint8  \n",
      " 15  Unknown            5110 non-null   uint8  \n",
      " 16  never smoked       5110 non-null   uint8  \n",
      " 17  smokes             5110 non-null   uint8  \n",
      "dtypes: float64(2), int64(3), object(2), uint8(11)\n",
      "memory usage: 334.5+ KB\n"
     ]
    }
   ],
   "source": [
    "x.info()"
   ]
  },
  {
   "cell_type": "code",
   "execution_count": 34,
   "metadata": {},
   "outputs": [],
   "source": [
    "from sklearn.preprocessing import LabelEncoder"
   ]
  },
  {
   "cell_type": "code",
   "execution_count": 35,
   "metadata": {
    "scrolled": true
   },
   "outputs": [
    {
     "name": "stdout",
     "output_type": "stream",
     "text": [
      "Suresh 29 is a \"natural\" swimmer\n"
     ]
    }
   ],
   "source": [
    "name,age = \"Suresh\",29\n",
    "print(name,age,\"is a \\\"natural\\\" swimmer\")"
   ]
  },
  {
   "cell_type": "code",
   "execution_count": 36,
   "metadata": {},
   "outputs": [
    {
     "data": {
      "text/plain": [
       "30"
      ]
     },
     "execution_count": 36,
     "metadata": {},
     "output_type": "execute_result"
    }
   ],
   "source": [
    "20+10"
   ]
  },
  {
   "cell_type": "code",
   "execution_count": 37,
   "metadata": {},
   "outputs": [
    {
     "name": "stdout",
     "output_type": "stream",
     "text": [
      "0\n"
     ]
    }
   ],
   "source": [
    "a,b,c=10,20,50\n",
    "i=(a+b)//c\n",
    "print (i)"
   ]
  },
  {
   "cell_type": "code",
   "execution_count": 38,
   "metadata": {},
   "outputs": [
    {
     "name": "stdout",
     "output_type": "stream",
     "text": [
      "200\n"
     ]
    }
   ],
   "source": [
    "a = 10\n",
    "b = 20\n",
    "c = a**2\n",
    "d = b**2\n",
    "result = d - c\n",
    "result -= 100\n",
    "print(result)"
   ]
  },
  {
   "cell_type": "code",
   "execution_count": 39,
   "metadata": {},
   "outputs": [
    {
     "name": "stdout",
     "output_type": "stream",
     "text": [
      "False\n"
     ]
    }
   ],
   "source": [
    "print(a>b)"
   ]
  },
  {
   "cell_type": "code",
   "execution_count": 40,
   "metadata": {},
   "outputs": [
    {
     "name": "stdout",
     "output_type": "stream",
     "text": [
      "True\n"
     ]
    }
   ],
   "source": [
    "k=10.0\n",
    "print(a is not k)"
   ]
  },
  {
   "cell_type": "code",
   "execution_count": 41,
   "metadata": {},
   "outputs": [
    {
     "name": "stdout",
     "output_type": "stream",
     "text": [
      "True\n"
     ]
    }
   ],
   "source": [
    "a=[10]\n",
    "b={10,20}\n",
    "print(a[0] in b)"
   ]
  },
  {
   "cell_type": "code",
   "execution_count": 42,
   "metadata": {},
   "outputs": [
    {
     "name": "stdout",
     "output_type": "stream",
     "text": [
      "True\n"
     ]
    }
   ],
   "source": [
    "a=10\n",
    "b=20\n",
    "print(a>5 or b>15)"
   ]
  },
  {
   "cell_type": "code",
   "execution_count": 43,
   "metadata": {},
   "outputs": [
    {
     "name": "stdout",
     "output_type": "stream",
     "text": [
      "5 and 6\n"
     ]
    }
   ],
   "source": [
    "a = [1,2,3,4,5]\n",
    "\n",
    "b = [2,3,4,5,6]\n",
    "\n",
    "print(a[-1],\"and\",b[len(b)-1])"
   ]
  },
  {
   "cell_type": "code",
   "execution_count": 44,
   "metadata": {},
   "outputs": [
    {
     "name": "stdout",
     "output_type": "stream",
     "text": [
      "[8, 6, 4, 2, 0]\n"
     ]
    }
   ],
   "source": [
    "a = list(range(0,10,2))\n",
    "\n",
    "print(a[::-1])"
   ]
  },
  {
   "cell_type": "code",
   "execution_count": 45,
   "metadata": {},
   "outputs": [
    {
     "name": "stdout",
     "output_type": "stream",
     "text": [
      "One,"
     ]
    }
   ],
   "source": [
    "A = 2\n",
    "\n",
    "B = 10\n",
    "\n",
    "if A > 0 & B % A== 0:\n",
    "    print(\"One\",end=',')\n",
    "\n",
    "elif B < 5 & B%2 < 1:\n",
    "    print(\"Two\",end='')\n",
    "\n",
    "else:\n",
    "    pass"
   ]
  },
  {
   "cell_type": "code",
   "execution_count": 46,
   "metadata": {},
   "outputs": [
    {
     "data": {
      "text/plain": [
       "0"
      ]
     },
     "execution_count": 46,
     "metadata": {},
     "output_type": "execute_result"
    }
   ],
   "source": [
    "10%2"
   ]
  },
  {
   "cell_type": "code",
   "execution_count": 47,
   "metadata": {},
   "outputs": [
    {
     "data": {
      "text/plain": [
       "0"
      ]
     },
     "execution_count": 47,
     "metadata": {},
     "output_type": "execute_result"
    }
   ],
   "source": [
    "2//3"
   ]
  },
  {
   "cell_type": "code",
   "execution_count": 48,
   "metadata": {},
   "outputs": [
    {
     "name": "stdout",
     "output_type": "stream",
     "text": [
      "Three\n"
     ]
    }
   ],
   "source": [
    "X = 10\n",
    "\n",
    "if X >= 0:\n",
    "    if X == 0:\n",
    "        print('None')\n",
    "    elif X //2 == 1:\n",
    "        print('Two')\n",
    "    elif X**2 ==100:\n",
    "        if X%2 == 0:\n",
    "            print(\"Three\")\n",
    "        else:\n",
    "            print(\"Four\")\n",
    "    else:\n",
    "        print(\"Five\")\n",
    "\n",
    "else:\n",
    "    print(\"Six\")"
   ]
  },
  {
   "cell_type": "code",
   "execution_count": 49,
   "metadata": {},
   "outputs": [
    {
     "name": "stdout",
     "output_type": "stream",
     "text": [
      "[2]\n",
      "[2, 1]\n",
      "[2, 1, 2]\n",
      "[2, 1, 2, 1]\n",
      "[2, 1, 2, 1, 2]\n",
      "[2, 1, 2, 1, 2, 1]\n"
     ]
    }
   ],
   "source": [
    "a = list(range(0,3))\n",
    "\n",
    "b = []\n",
    "\n",
    "for x in a:\n",
    "    \n",
    "    for j in range(len(a)-1, 0, -1):\n",
    "        \n",
    "        b.append(a[j])\n",
    "        \n",
    "        print(b)"
   ]
  },
  {
   "cell_type": "code",
   "execution_count": 50,
   "metadata": {},
   "outputs": [
    {
     "name": "stdout",
     "output_type": "stream",
     "text": [
      "0\n"
     ]
    }
   ],
   "source": [
    "i=5\n",
    "\n",
    "while i>0:\n",
    "    for i in range(0,3):\n",
    "        if i > 1:\n",
    "            i = i - 2\n",
    "            print(i)\n",
    "        else:\n",
    "            i = i - 1\n",
    "\n"
   ]
  },
  {
   "cell_type": "code",
   "execution_count": 51,
   "metadata": {},
   "outputs": [
    {
     "name": "stdout",
     "output_type": "stream",
     "text": [
      "3.0\n"
     ]
    }
   ],
   "source": [
    "i = 9\n",
    "\n",
    "while i > 5:\n",
    "    if i%2 == 0:\n",
    "        i = i**2\n",
    "        print(i)\n",
    "        \n",
    "    else:\n",
    "        i = i**0.5\n",
    "        print(i)"
   ]
  },
  {
   "cell_type": "code",
   "execution_count": 52,
   "metadata": {},
   "outputs": [
    {
     "name": "stdout",
     "output_type": "stream",
     "text": [
      "1 2 3 5 "
     ]
    }
   ],
   "source": [
    "a = 0\n",
    "\n",
    "b = 1\n",
    "\n",
    "i = 1\n",
    "\n",
    "while i < 5:\n",
    "    \n",
    "    temp = a + b\n",
    "    \n",
    "    a = b\n",
    "    \n",
    "    b = temp\n",
    "    \n",
    "    print(temp, end=\" \")\n",
    "    \n",
    "    i = i + 1"
   ]
  },
  {
   "cell_type": "code",
   "execution_count": 53,
   "metadata": {},
   "outputs": [],
   "source": [
    "def func(self):\n",
    "    if self%2==0:\n",
    "        \n",
    "        return None\n",
    "    func(10)"
   ]
  },
  {
   "cell_type": "code",
   "execution_count": 54,
   "metadata": {},
   "outputs": [
    {
     "name": "stdout",
     "output_type": "stream",
     "text": [
      "True,False\n"
     ]
    }
   ],
   "source": [
    "def func(*self):\n",
    "    \n",
    "    for i in self:\n",
    "        \n",
    "        if i in list(range(0,100,10)):\n",
    "            \n",
    "            print(\"True\", end=\",\")\n",
    "            \n",
    "        else:\n",
    "            print(\"False\")\n",
    "\n",
    "func(10,15)"
   ]
  },
  {
   "cell_type": "code",
   "execution_count": 55,
   "metadata": {},
   "outputs": [
    {
     "name": "stdout",
     "output_type": "stream",
     "text": [
      "False False "
     ]
    }
   ],
   "source": [
    "def func(**self):\n",
    "    \n",
    "    for i in self.values():\n",
    "        \n",
    "        if i%2 == 0 and i%3 == 0 in list(range(0,10)):\n",
    "            \n",
    "            print(\"True\", end=\" \")\n",
    "            \n",
    "        else:\n",
    "            print(\"False\", end=\" \")\n",
    "func(first= 10, second= 20)"
   ]
  },
  {
   "cell_type": "code",
   "execution_count": 56,
   "metadata": {},
   "outputs": [
    {
     "data": {
      "text/plain": [
       "8"
      ]
     },
     "execution_count": 56,
     "metadata": {},
     "output_type": "execute_result"
    }
   ],
   "source": [
    "y = lambda a,b: a//2 + b//2 - 2//a//b\n",
    "\n",
    "y(12,4)"
   ]
  },
  {
   "cell_type": "code",
   "execution_count": 57,
   "metadata": {},
   "outputs": [
    {
     "name": "stdout",
     "output_type": "stream",
     "text": [
      "[1, 2, 3, 4, 5]\n"
     ]
    }
   ],
   "source": [
    "sample = [12,22,32,42,52]\n",
    "\n",
    "x = map(lambda a: a//10, sample)\n",
    "\n",
    "print(list(x))"
   ]
  },
  {
   "cell_type": "code",
   "execution_count": 58,
   "metadata": {},
   "outputs": [
    {
     "name": "stdout",
     "output_type": "stream",
     "text": [
      "[12, 24, 2]\n"
     ]
    }
   ],
   "source": [
    "def func(self):\n",
    "    \n",
    "    if self % 2 == 1:\n",
    "        \n",
    "        return False\n",
    "    \n",
    "    else:\n",
    "        \n",
    "        return True\n",
    "    \n",
    "sample= [12,24,23,3,5,2]\n",
    "\n",
    "z = filter(func, sample)\n",
    "\n",
    "print(list(z))"
   ]
  },
  {
   "cell_type": "code",
   "execution_count": 59,
   "metadata": {},
   "outputs": [
    {
     "name": "stdout",
     "output_type": "stream",
     "text": [
      "13"
     ]
    }
   ],
   "source": [
    "def func(x, y, z):\n",
    "    \n",
    "    for i in x:\n",
    "        \n",
    "        for j in y:\n",
    "            \n",
    "            print(i, end=\"\")\n",
    "            \n",
    "            print(j, end=\"\")\n",
    "            \n",
    "        return None\n",
    "\n",
    "a = [1,2,3]\n",
    "\n",
    "b = [3]\n",
    "\n",
    "c = [5,6,7]\n",
    "\n",
    "func(a,b,c)"
   ]
  },
  {
   "cell_type": "code",
   "execution_count": 60,
   "metadata": {},
   "outputs": [
    {
     "data": {
      "text/plain": [
       "4"
      ]
     },
     "execution_count": 60,
     "metadata": {},
     "output_type": "execute_result"
    }
   ],
   "source": [
    "x = lambda x,y,z: x**y + z**x + y**x//z\n",
    "\n",
    "x(1,1,3)"
   ]
  },
  {
   "cell_type": "code",
   "execution_count": 61,
   "metadata": {},
   "outputs": [
    {
     "name": "stdout",
     "output_type": "stream",
     "text": [
      "2022 Intellipaat\n"
     ]
    }
   ],
   "source": [
    "class Myclass:\n",
    "    \n",
    "    def __init__(self):\n",
    "        \n",
    "        self.string = \"Intellipaat\"\n",
    "        \n",
    "        self.number = 2022\n",
    "        \n",
    "obj = Myclass()\n",
    "\n",
    "print(obj.number, obj.string)"
   ]
  },
  {
   "cell_type": "code",
   "execution_count": 62,
   "metadata": {},
   "outputs": [
    {
     "name": "stdout",
     "output_type": "stream",
     "text": [
      "ronoC 3\n"
     ]
    }
   ],
   "source": [
    "class Myclass:\n",
    "    \n",
    "    def __init__(self):\n",
    "        \n",
    "        self.string = \"Conor\"\n",
    "        \n",
    "        self.number = 20\n",
    "        \n",
    "    def view(self):\n",
    "        \n",
    "        print(self.string[::-1], self.number//6)\n",
    "        \n",
    "obj = Myclass()\n",
    "\n",
    "obj.view()"
   ]
  },
  {
   "cell_type": "code",
   "execution_count": 63,
   "metadata": {},
   "outputs": [
    {
     "name": "stdout",
     "output_type": "stream",
     "text": [
      "['Devon', 28]\n"
     ]
    }
   ],
   "source": [
    "class myClass:\n",
    "    \n",
    "    def __init__(self, name, age):\n",
    "        \n",
    "        self.name = name\n",
    "        \n",
    "        self.age = age\n",
    "        \n",
    "    def view(self):\n",
    "        \n",
    "        print([self.name, self.age])\n",
    "        \n",
    "class myclass:\n",
    "    \n",
    "    def __init__(self, name, age):\n",
    "        \n",
    "        self.name = name\n",
    "        \n",
    "        self.age = age\n",
    "        \n",
    "    def view(self):\n",
    "        \n",
    "        \n",
    "        print([self.name, self.age])\n",
    "        \n",
    "obj1 = myClass(\"Devon\", 29)\n",
    "\n",
    "obj2 = myclass(\"Levi\", 28)\n",
    "\n",
    "print([obj1.name, obj2.age])"
   ]
  },
  {
   "cell_type": "code",
   "execution_count": 64,
   "metadata": {},
   "outputs": [
    {
     "name": "stdout",
     "output_type": "stream",
     "text": [
      "None None None\n"
     ]
    }
   ],
   "source": [
    "class Name:\n",
    "    \n",
    "    def view(self):\n",
    "        \n",
    "        self.name = \"Rajesh\"\n",
    "        \n",
    "class Age:\n",
    "    \n",
    "    def view(self):\n",
    "        \n",
    "        self.age = 29\n",
    "        \n",
    "class Profession:\n",
    "    \n",
    "    def view(self):\n",
    "        \n",
    "        self.profession = \"Teacher\"\n",
    "        \n",
    "obj1 = Name()\n",
    "\n",
    "obj2 = Age()\n",
    "\n",
    "obj3 = Profession()\n",
    "\n",
    "print(obj1.view(), obj2.view(), obj1.view())"
   ]
  },
  {
   "cell_type": "code",
   "execution_count": 65,
   "metadata": {},
   "outputs": [
    {
     "name": "stdout",
     "output_type": "stream",
     "text": [
      "Ricky 23 Cricketer\n"
     ]
    }
   ],
   "source": [
    "class Base:\n",
    "    \n",
    "    def __init__(self):\n",
    "        \n",
    "        self.name = \"Ricky\"\n",
    "        \n",
    "        self.age = 23\n",
    "\n",
    "class Derived(Base):\n",
    "    \n",
    "    def __init__(self):\n",
    "        \n",
    "        super().__init__()\n",
    "        \n",
    "        self.profession = \"Cricketer\"\n",
    "        \n",
    "    def view(self):\n",
    "        \n",
    "        print(self.name, self.age, self.profession)\n",
    "\n",
    "obj = Derived()\n",
    "\n",
    "obj.view()"
   ]
  },
  {
   "cell_type": "code",
   "execution_count": 66,
   "metadata": {},
   "outputs": [
    {
     "data": {
      "text/plain": [
       "'Levi'"
      ]
     },
     "execution_count": 66,
     "metadata": {},
     "output_type": "execute_result"
    }
   ],
   "source": [
    "from abc import ABC, abstractmethod\n",
    "class School(ABC):\n",
    "    \n",
    "    def __init__(self):\n",
    "        \n",
    "        self.name = \"Levi\"\n",
    "        \n",
    "        self.age = 29\n",
    "\n",
    "obj = School()\n",
    "\n",
    "obj.name"
   ]
  },
  {
   "cell_type": "code",
   "execution_count": 67,
   "metadata": {},
   "outputs": [
    {
     "data": {
      "text/plain": [
       "'Devon'"
      ]
     },
     "execution_count": 67,
     "metadata": {},
     "output_type": "execute_result"
    }
   ],
   "source": [
    "class Parent:\n",
    "    \n",
    "    def __init__(self):\n",
    "        \n",
    "        self._name = \"Levi\"\n",
    "        \n",
    "        self.__age = 29\n",
    "        \n",
    "class Child(Parent):\n",
    "    \n",
    "    def __init__(self):\n",
    "        \n",
    "        Parent.__init__(self)\n",
    "        \n",
    "        self._name = \"Devon\"\n",
    "        \n",
    "    def view(self):\n",
    "        \n",
    "        return self._name\n",
    "\n",
    "obj = Child()\n",
    "\n",
    "obj.view()"
   ]
  },
  {
   "cell_type": "code",
   "execution_count": 68,
   "metadata": {},
   "outputs": [
    {
     "data": {
      "text/plain": [
       "28"
      ]
     },
     "execution_count": 68,
     "metadata": {},
     "output_type": "execute_result"
    }
   ],
   "source": [
    "class Parent:\n",
    "    \n",
    "    def __init__(self):\n",
    "        \n",
    "        self._name = \"Levi\"\n",
    "        \n",
    "        self.__age = 29\n",
    "\n",
    "class Child(Parent):\n",
    "    \n",
    "    def __init__(self):\n",
    "        \n",
    "        Parent.__init__(self)\n",
    "        \n",
    "        self._name = \"Devon\"\n",
    "        \n",
    "        self.__age = 28\n",
    "        \n",
    "    def view(self):\n",
    "        \n",
    "        return self.__age\n",
    "\n",
    "obj = Child()\n",
    "\n",
    "obj.view()"
   ]
  },
  {
   "cell_type": "code",
   "execution_count": 69,
   "metadata": {},
   "outputs": [],
   "source": [
    "class Poly:\n",
    "    \n",
    "    def __init__(self):\n",
    "        \n",
    "        self.name = 'Rajesh'\n",
    "        \n",
    "        self.age = 29\n",
    "        \n",
    "    def view(self):\n",
    "        \n",
    "        return None\n",
    "\n",
    "class Child(Poly):\n",
    "    \n",
    "    def __init__(self):\n",
    "        \n",
    "        Poly.__init__(self)\n",
    "        \n",
    "    def view(self):\n",
    "        \n",
    "        self.prof = \"Student\"\n",
    "        \n",
    "        super().view()\n",
    "        \n",
    "        return None\n",
    "\n",
    "obj = Poly()\n",
    "\n",
    "obj.view()"
   ]
  },
  {
   "cell_type": "code",
   "execution_count": 70,
   "metadata": {},
   "outputs": [
    {
     "name": "stdout",
     "output_type": "stream",
     "text": [
      "Devon\n"
     ]
    }
   ],
   "source": [
    "class Poly:\n",
    "    \n",
    "    def __init__(self):\n",
    "        \n",
    "        self.name = 'Devon'\n",
    "        \n",
    "        self.age = 29\n",
    "        \n",
    "    def view(self):\n",
    "        \n",
    "        print(self.name)\n",
    "        \n",
    "class Child(Poly):\n",
    "    \n",
    "    def __init__(self):\n",
    "        \n",
    "        Poly.__init__(self)\n",
    "        \n",
    "    def view(self):\n",
    "        \n",
    "        self.prof = \"Levi\"\n",
    "        \n",
    "        super().view()\n",
    "        return None\n",
    "\n",
    "obj = Child()\n",
    "\n",
    "obj.view()"
   ]
  },
  {
   "cell_type": "code",
   "execution_count": 71,
   "metadata": {},
   "outputs": [
    {
     "data": {
      "text/plain": [
       "16"
      ]
     },
     "execution_count": 71,
     "metadata": {},
     "output_type": "execute_result"
    }
   ],
   "source": [
    "from multipledispatch import dispatch\n",
    "\n",
    "class Poly:\n",
    "    @dispatch(int, int)\n",
    "    \n",
    "    def method(self, a, b):\n",
    "        \n",
    "        return (a**b)\n",
    "    \n",
    "    @dispatch(int, int, int)\n",
    "    \n",
    "    def method(self, a, b,c):\n",
    "        \n",
    "        return (a*b*c)\n",
    "\n",
    "obj = Poly()\n",
    "\n",
    "obj.method(4,2)"
   ]
  },
  {
   "cell_type": "code",
   "execution_count": null,
   "metadata": {},
   "outputs": [],
   "source": []
  },
  {
   "cell_type": "markdown",
   "metadata": {},
   "source": [
    "# Numpy -QUIZ"
   ]
  },
  {
   "cell_type": "code",
   "execution_count": 72,
   "metadata": {},
   "outputs": [],
   "source": [
    "import numpy\n",
    "my_array = numpy.array([[[[1,3,4]]]])"
   ]
  },
  {
   "cell_type": "code",
   "execution_count": 73,
   "metadata": {},
   "outputs": [
    {
     "data": {
      "text/plain": [
       "array([[[[[1, 3, 4]]]]])"
      ]
     },
     "execution_count": 73,
     "metadata": {},
     "output_type": "execute_result"
    }
   ],
   "source": [
    "numpy.array(my_array, ndmin=5)"
   ]
  },
  {
   "cell_type": "code",
   "execution_count": 74,
   "metadata": {},
   "outputs": [],
   "source": [
    " array = numpy.array([10,3,1,203,404,204,20,302,30,402,192])"
   ]
  },
  {
   "cell_type": "code",
   "execution_count": 75,
   "metadata": {},
   "outputs": [
    {
     "name": "stdout",
     "output_type": "stream",
     "text": [
      "[192 402  30 302  20 204 404 203   1   3  10]\n"
     ]
    }
   ],
   "source": [
    "print(array[::-1])"
   ]
  },
  {
   "cell_type": "code",
   "execution_count": 76,
   "metadata": {},
   "outputs": [
    {
     "data": {
      "text/plain": [
       "array([[4, 1],\n",
       "       [2, 2]])"
      ]
     },
     "execution_count": 76,
     "metadata": {},
     "output_type": "execute_result"
    }
   ],
   "source": [
    "a = [[1, 0], [0, 1]]\n",
    "b = [[4, 1], [2, 2]]\n",
    "numpy.dot(a, b)"
   ]
  },
  {
   "cell_type": "code",
   "execution_count": 77,
   "metadata": {},
   "outputs": [
    {
     "data": {
      "text/plain": [
       "499128"
      ]
     },
     "execution_count": 77,
     "metadata": {},
     "output_type": "execute_result"
    }
   ],
   "source": [
    "a = numpy.arange(3*4*5*6).reshape((3,4,5,6))\n",
    "b = numpy.arange(3*4*5*6)[::-1].reshape((5,4,6,3))\n",
    "numpy.dot(a, b)[2,3,2,1,2,2]"
   ]
  },
  {
   "cell_type": "code",
   "execution_count": 78,
   "metadata": {},
   "outputs": [
    {
     "name": "stdout",
     "output_type": "stream",
     "text": [
      "[ 3.+0.j  7.+0.j 32.+0.j]\n"
     ]
    }
   ],
   "source": [
    "import numpy as np\n",
    "a = np.array([3, 7, 32], dtype = complex) \n",
    "print(a)"
   ]
  },
  {
   "cell_type": "code",
   "execution_count": 79,
   "metadata": {},
   "outputs": [],
   "source": [
    "np.random.seed(100)\n",
    "ar1 = np.random.uniform(1,50, 20)"
   ]
  },
  {
   "cell_type": "code",
   "execution_count": 80,
   "metadata": {},
   "outputs": [
    {
     "data": {
      "text/plain": [
       "array([27.62684215, 14.64009987, 21.80136195, 42.39403048,  1.23122395,\n",
       "        6.95688692, 33.86670515, 41.466785  ,  7.69862289, 29.17957314,\n",
       "       44.67477576, 11.25090398, 10.08108276,  6.31046763, 11.76517714,\n",
       "       48.95256545, 40.77247431,  9.42510962, 40.99501269, 14.42961361])"
      ]
     },
     "execution_count": 80,
     "metadata": {},
     "output_type": "execute_result"
    }
   ],
   "source": [
    "ar1"
   ]
  },
  {
   "cell_type": "code",
   "execution_count": 81,
   "metadata": {},
   "outputs": [
    {
     "data": {
      "text/plain": [
       "array([27.62684215, 14.64009987, 21.80136195, 30.        , 10.        ,\n",
       "       10.        , 30.        , 30.        , 10.        , 29.17957314,\n",
       "       30.        , 11.25090398, 10.08108276, 10.        , 11.76517714,\n",
       "       30.        , 30.        , 10.        , 30.        , 14.42961361])"
      ]
     },
     "execution_count": 81,
     "metadata": {},
     "output_type": "execute_result"
    }
   ],
   "source": [
    "np.where(ar1 < 10, 10, np.where(ar1 > 30, 30, ar1))"
   ]
  },
  {
   "cell_type": "code",
   "execution_count": 82,
   "metadata": {},
   "outputs": [],
   "source": [
    "ar1[ar1 > 30 ] = 30"
   ]
  },
  {
   "cell_type": "code",
   "execution_count": 83,
   "metadata": {},
   "outputs": [
    {
     "data": {
      "text/plain": [
       "array([27.62684215, 14.64009987, 21.80136195, 30.        ,  1.23122395,\n",
       "        6.95688692, 30.        , 30.        ,  7.69862289, 29.17957314,\n",
       "       30.        , 11.25090398, 10.08108276,  6.31046763, 11.76517714,\n",
       "       30.        , 30.        ,  9.42510962, 30.        , 14.42961361])"
      ]
     },
     "execution_count": 83,
     "metadata": {},
     "output_type": "execute_result"
    }
   ],
   "source": [
    "ar1"
   ]
  },
  {
   "cell_type": "code",
   "execution_count": 84,
   "metadata": {},
   "outputs": [
    {
     "data": {
      "text/plain": [
       "array([10.+0.j, 10.+0.j, 30.+0.j])"
      ]
     },
     "execution_count": 84,
     "metadata": {},
     "output_type": "execute_result"
    }
   ],
   "source": [
    "np.clip(a, a_min=10, a_max=30)"
   ]
  },
  {
   "cell_type": "code",
   "execution_count": 85,
   "metadata": {},
   "outputs": [
    {
     "data": {
      "text/plain": [
       "array([ 10,   3,   1, 203,   1,   2,   3,   4, 404, 204,  20, 302,  30,\n",
       "       402, 192])"
      ]
     },
     "execution_count": 85,
     "metadata": {},
     "output_type": "execute_result"
    }
   ],
   "source": [
    "array1 = np.array([10,3,1,203,404,204,20,302,30,402,192])\n",
    "array2 = [1,2,3,4] \n",
    "#The position to be inserted at = before 404 \n",
    "numpy.insert(array1, 4, array2)"
   ]
  },
  {
   "cell_type": "code",
   "execution_count": 86,
   "metadata": {},
   "outputs": [],
   "source": [
    "a=numpy.full((3,3),'k')"
   ]
  },
  {
   "cell_type": "code",
   "execution_count": 87,
   "metadata": {},
   "outputs": [
    {
     "data": {
      "text/plain": [
       "array([['k', 'k', 'k'],\n",
       "       ['k', 'k', 'k'],\n",
       "       ['k', 'k', 'k']], dtype='<U1')"
      ]
     },
     "execution_count": 87,
     "metadata": {},
     "output_type": "execute_result"
    }
   ],
   "source": [
    "a"
   ]
  },
  {
   "cell_type": "code",
   "execution_count": 88,
   "metadata": {},
   "outputs": [
    {
     "data": {
      "text/plain": [
       "array([20, 14, 25, 16, 45, 60, 12,  9])"
      ]
     },
     "execution_count": 88,
     "metadata": {},
     "output_type": "execute_result"
    }
   ],
   "source": [
    "def bub_sort(array):\n",
    "    for i in range(0, len(array)):\n",
    "        for j in range(0, len(array) - i - 1):\n",
    "            if array[j] < array[j + 1]:\n",
    "                temp = array[j]\n",
    "                array[j] = array[j + 1]\n",
    "                array[j+1] = temp\n",
    "            return array\n",
    "        \n",
    "my_array = numpy.array([20,14,25,16,45,60,12,9])\n",
    "\n",
    "bub_sort(my_array)\n",
    " \n",
    "#print(\"Sorted array is:\")\n",
    "#for i in range(len(my_array)):\n",
    "#    print(\"% d\" % my_array[i], end=\" \")"
   ]
  },
  {
   "cell_type": "code",
   "execution_count": null,
   "metadata": {},
   "outputs": [],
   "source": []
  },
  {
   "cell_type": "code",
   "execution_count": null,
   "metadata": {},
   "outputs": [],
   "source": []
  },
  {
   "cell_type": "code",
   "execution_count": 89,
   "metadata": {},
   "outputs": [],
   "source": [
    "a = np.random.uniform(1,10, 10)"
   ]
  },
  {
   "cell_type": "code",
   "execution_count": 90,
   "metadata": {},
   "outputs": [
    {
     "data": {
      "text/plain": [
       "array([4.88533765, 9.46026838, 8.35884441, 4.02500755, 2.57869408,\n",
       "       4.35548842, 1.05119657, 3.27183718, 8.16096258, 1.13729474])"
      ]
     },
     "execution_count": 90,
     "metadata": {},
     "output_type": "execute_result"
    }
   ],
   "source": [
    "a"
   ]
  },
  {
   "cell_type": "code",
   "execution_count": 91,
   "metadata": {},
   "outputs": [],
   "source": [
    "newarr = a.reshape(5,2)"
   ]
  },
  {
   "cell_type": "code",
   "execution_count": 92,
   "metadata": {},
   "outputs": [
    {
     "data": {
      "text/plain": [
       "array([[4.88533765, 9.46026838],\n",
       "       [8.35884441, 4.02500755],\n",
       "       [2.57869408, 4.35548842],\n",
       "       [1.05119657, 3.27183718],\n",
       "       [8.16096258, 1.13729474]])"
      ]
     },
     "execution_count": 92,
     "metadata": {},
     "output_type": "execute_result"
    }
   ],
   "source": [
    "newarr"
   ]
  },
  {
   "cell_type": "code",
   "execution_count": 93,
   "metadata": {},
   "outputs": [],
   "source": [
    "Sample = [[1,2],[3,4],[5,6],[7,8]]"
   ]
  },
  {
   "cell_type": "code",
   "execution_count": 94,
   "metadata": {},
   "outputs": [
    {
     "data": {
      "text/plain": [
       "[12, 24, 23, 3, 5, 2]"
      ]
     },
     "execution_count": 94,
     "metadata": {},
     "output_type": "execute_result"
    }
   ],
   "source": [
    "sample"
   ]
  },
  {
   "cell_type": "code",
   "execution_count": 95,
   "metadata": {},
   "outputs": [
    {
     "data": {
      "text/plain": [
       "array([1, 2, 3, 4])"
      ]
     },
     "execution_count": 95,
     "metadata": {},
     "output_type": "execute_result"
    }
   ],
   "source": [
    "a = np.array([[1,2], [3,4]])\n",
    "a.flatten()\n",
    "#array([1, 2, 3, 4])\n",
    "#a.flatten('F')\n",
    "#array([1, 3, 2, 4])"
   ]
  },
  {
   "cell_type": "code",
   "execution_count": 96,
   "metadata": {},
   "outputs": [],
   "source": [
    " Sample = numpy.array([[1,2,3],[4,5,6],[7,8,9],[10,11,12],[13,14,15]])"
   ]
  },
  {
   "cell_type": "code",
   "execution_count": 97,
   "metadata": {},
   "outputs": [
    {
     "data": {
      "text/plain": [
       "array([2, 5, 8])"
      ]
     },
     "execution_count": 97,
     "metadata": {},
     "output_type": "execute_result"
    }
   ],
   "source": [
    "Sample[0:3,1]"
   ]
  },
  {
   "cell_type": "code",
   "execution_count": 98,
   "metadata": {},
   "outputs": [],
   "source": [
    "Array1 = numpy.arange(20,2) \n",
    "Array2 = numpy.array([1,2,3,4,5,6,7,8,9,10])"
   ]
  },
  {
   "cell_type": "code",
   "execution_count": 99,
   "metadata": {},
   "outputs": [
    {
     "data": {
      "text/plain": [
       "array([ 10,   3,   1, 203, 404, 204,  20, 302,  30, 402, 192])"
      ]
     },
     "execution_count": 99,
     "metadata": {},
     "output_type": "execute_result"
    }
   ],
   "source": [
    "array1"
   ]
  },
  {
   "cell_type": "code",
   "execution_count": 100,
   "metadata": {},
   "outputs": [],
   "source": [
    "ut_arr = np.hstack((Array1, Array2))"
   ]
  },
  {
   "cell_type": "code",
   "execution_count": 101,
   "metadata": {},
   "outputs": [
    {
     "data": {
      "text/plain": [
       "array([ 1,  2,  3,  4,  5,  6,  7,  8,  9, 10])"
      ]
     },
     "execution_count": 101,
     "metadata": {},
     "output_type": "execute_result"
    }
   ],
   "source": [
    "ut_arr"
   ]
  },
  {
   "cell_type": "code",
   "execution_count": 102,
   "metadata": {},
   "outputs": [
    {
     "data": {
      "text/plain": [
       "2"
      ]
     },
     "execution_count": 102,
     "metadata": {},
     "output_type": "execute_result"
    }
   ],
   "source": [
    "A"
   ]
  },
  {
   "cell_type": "code",
   "execution_count": 103,
   "metadata": {},
   "outputs": [
    {
     "data": {
      "text/plain": [
       "10"
      ]
     },
     "execution_count": 103,
     "metadata": {},
     "output_type": "execute_result"
    }
   ],
   "source": [
    "B"
   ]
  },
  {
   "cell_type": "code",
   "execution_count": null,
   "metadata": {},
   "outputs": [],
   "source": []
  },
  {
   "cell_type": "code",
   "execution_count": null,
   "metadata": {},
   "outputs": [],
   "source": []
  },
  {
   "cell_type": "code",
   "execution_count": 104,
   "metadata": {},
   "outputs": [],
   "source": [
    "A = numpy.array([1,3,5,7,9,11,13,15,17,19,21,23,25])\n",
    "B = numpy.array([0,2,4,6,8,10,12,14,16,18,20, 22, 24])\n",
    "\n",
    "c=np.corrcoef(A,B)"
   ]
  },
  {
   "cell_type": "code",
   "execution_count": 105,
   "metadata": {},
   "outputs": [
    {
     "data": {
      "text/plain": [
       "array([[1., 1.],\n",
       "       [1., 1.]])"
      ]
     },
     "execution_count": 105,
     "metadata": {},
     "output_type": "execute_result"
    }
   ],
   "source": [
    "c"
   ]
  },
  {
   "cell_type": "code",
   "execution_count": 106,
   "metadata": {},
   "outputs": [],
   "source": [
    "sample = {1: [1,2], 2: [[1],[2]], 3: [[1,2], [3,4], [4,5]], 4: [1], 5: [1,2,3,4,5]}"
   ]
  },
  {
   "cell_type": "code",
   "execution_count": 107,
   "metadata": {},
   "outputs": [],
   "source": [
    "arr1= np.array([[3,2,1],[6,4,5],[8,7,9]])"
   ]
  },
  {
   "cell_type": "code",
   "execution_count": 108,
   "metadata": {},
   "outputs": [
    {
     "name": "stdout",
     "output_type": "stream",
     "text": [
      "difference:\n",
      " [2 2 2]\n"
     ]
    }
   ],
   "source": [
    "max1 = np.amax(arr1 ,1)\n",
    "min1 = np.amin(arr1, 1)\n",
    "  \n",
    "# print the row-wise max \n",
    "# and min difference\n",
    "print(\"difference:\\n\", max1 - min1)"
   ]
  },
  {
   "cell_type": "code",
   "execution_count": 109,
   "metadata": {},
   "outputs": [
    {
     "data": {
      "text/plain": [
       "array([[3, 2, 1],\n",
       "       [6, 4, 5],\n",
       "       [8, 7, 9]])"
      ]
     },
     "execution_count": 109,
     "metadata": {},
     "output_type": "execute_result"
    }
   ],
   "source": [
    "arr1"
   ]
  },
  {
   "cell_type": "code",
   "execution_count": null,
   "metadata": {},
   "outputs": [],
   "source": []
  },
  {
   "cell_type": "code",
   "execution_count": null,
   "metadata": {},
   "outputs": [],
   "source": []
  },
  {
   "cell_type": "code",
   "execution_count": null,
   "metadata": {},
   "outputs": [],
   "source": []
  },
  {
   "cell_type": "markdown",
   "metadata": {},
   "source": [
    "# PANDAS"
   ]
  },
  {
   "cell_type": "code",
   "execution_count": 110,
   "metadata": {},
   "outputs": [],
   "source": [
    "import numpy as np\n",
    "import pandas as pd\n",
    "import matplotlib.pyplot as plt\n",
    "import seaborn as sns"
   ]
  },
  {
   "cell_type": "code",
   "execution_count": 111,
   "metadata": {},
   "outputs": [],
   "source": [
    "df=pd.read_csv('housing.csv')"
   ]
  },
  {
   "cell_type": "code",
   "execution_count": 112,
   "metadata": {},
   "outputs": [
    {
     "data": {
      "text/html": [
       "<div>\n",
       "<style scoped>\n",
       "    .dataframe tbody tr th:only-of-type {\n",
       "        vertical-align: middle;\n",
       "    }\n",
       "\n",
       "    .dataframe tbody tr th {\n",
       "        vertical-align: top;\n",
       "    }\n",
       "\n",
       "    .dataframe thead th {\n",
       "        text-align: right;\n",
       "    }\n",
       "</style>\n",
       "<table border=\"1\" class=\"dataframe\">\n",
       "  <thead>\n",
       "    <tr style=\"text-align: right;\">\n",
       "      <th></th>\n",
       "      <th>id</th>\n",
       "      <th>date</th>\n",
       "      <th>price</th>\n",
       "      <th>bedrooms</th>\n",
       "      <th>bathrooms</th>\n",
       "      <th>sqft_living</th>\n",
       "      <th>sqft_lot</th>\n",
       "      <th>floors</th>\n",
       "      <th>waterfront</th>\n",
       "      <th>view</th>\n",
       "      <th>...</th>\n",
       "      <th>grade</th>\n",
       "      <th>sqft_above</th>\n",
       "      <th>sqft_basement</th>\n",
       "      <th>yr_built</th>\n",
       "      <th>yr_renovated</th>\n",
       "      <th>zipcode</th>\n",
       "      <th>lat</th>\n",
       "      <th>long</th>\n",
       "      <th>sqft_living15</th>\n",
       "      <th>sqft_lot15</th>\n",
       "    </tr>\n",
       "  </thead>\n",
       "  <tbody>\n",
       "    <tr>\n",
       "      <th>0</th>\n",
       "      <td>7129300520</td>\n",
       "      <td>20141013T000000</td>\n",
       "      <td>221900</td>\n",
       "      <td>3</td>\n",
       "      <td>1.00</td>\n",
       "      <td>1180</td>\n",
       "      <td>5650</td>\n",
       "      <td>1.0</td>\n",
       "      <td>0</td>\n",
       "      <td>0</td>\n",
       "      <td>...</td>\n",
       "      <td>7</td>\n",
       "      <td>1180</td>\n",
       "      <td>0</td>\n",
       "      <td>1955</td>\n",
       "      <td>0</td>\n",
       "      <td>98178</td>\n",
       "      <td>47.5112</td>\n",
       "      <td>-122.257</td>\n",
       "      <td>1340</td>\n",
       "      <td>5650</td>\n",
       "    </tr>\n",
       "    <tr>\n",
       "      <th>1</th>\n",
       "      <td>6414100192</td>\n",
       "      <td>20141209T000000</td>\n",
       "      <td>538000</td>\n",
       "      <td>3</td>\n",
       "      <td>2.25</td>\n",
       "      <td>2570</td>\n",
       "      <td>7242</td>\n",
       "      <td>2.0</td>\n",
       "      <td>0</td>\n",
       "      <td>0</td>\n",
       "      <td>...</td>\n",
       "      <td>7</td>\n",
       "      <td>2170</td>\n",
       "      <td>400</td>\n",
       "      <td>1951</td>\n",
       "      <td>1991</td>\n",
       "      <td>98125</td>\n",
       "      <td>47.7210</td>\n",
       "      <td>-122.319</td>\n",
       "      <td>1690</td>\n",
       "      <td>7639</td>\n",
       "    </tr>\n",
       "    <tr>\n",
       "      <th>2</th>\n",
       "      <td>5631500400</td>\n",
       "      <td>20150225T000000</td>\n",
       "      <td>180000</td>\n",
       "      <td>2</td>\n",
       "      <td>1.00</td>\n",
       "      <td>770</td>\n",
       "      <td>10000</td>\n",
       "      <td>1.0</td>\n",
       "      <td>0</td>\n",
       "      <td>0</td>\n",
       "      <td>...</td>\n",
       "      <td>6</td>\n",
       "      <td>770</td>\n",
       "      <td>0</td>\n",
       "      <td>1933</td>\n",
       "      <td>0</td>\n",
       "      <td>98028</td>\n",
       "      <td>47.7379</td>\n",
       "      <td>-122.233</td>\n",
       "      <td>2720</td>\n",
       "      <td>8062</td>\n",
       "    </tr>\n",
       "    <tr>\n",
       "      <th>3</th>\n",
       "      <td>2487200875</td>\n",
       "      <td>20141209T000000</td>\n",
       "      <td>604000</td>\n",
       "      <td>4</td>\n",
       "      <td>3.00</td>\n",
       "      <td>1960</td>\n",
       "      <td>5000</td>\n",
       "      <td>1.0</td>\n",
       "      <td>0</td>\n",
       "      <td>0</td>\n",
       "      <td>...</td>\n",
       "      <td>7</td>\n",
       "      <td>1050</td>\n",
       "      <td>910</td>\n",
       "      <td>1965</td>\n",
       "      <td>0</td>\n",
       "      <td>98136</td>\n",
       "      <td>47.5208</td>\n",
       "      <td>-122.393</td>\n",
       "      <td>1360</td>\n",
       "      <td>5000</td>\n",
       "    </tr>\n",
       "    <tr>\n",
       "      <th>4</th>\n",
       "      <td>1954400510</td>\n",
       "      <td>20150218T000000</td>\n",
       "      <td>510000</td>\n",
       "      <td>3</td>\n",
       "      <td>2.00</td>\n",
       "      <td>1680</td>\n",
       "      <td>8080</td>\n",
       "      <td>1.0</td>\n",
       "      <td>0</td>\n",
       "      <td>0</td>\n",
       "      <td>...</td>\n",
       "      <td>8</td>\n",
       "      <td>1680</td>\n",
       "      <td>0</td>\n",
       "      <td>1987</td>\n",
       "      <td>0</td>\n",
       "      <td>98074</td>\n",
       "      <td>47.6168</td>\n",
       "      <td>-122.045</td>\n",
       "      <td>1800</td>\n",
       "      <td>7503</td>\n",
       "    </tr>\n",
       "  </tbody>\n",
       "</table>\n",
       "<p>5 rows × 21 columns</p>\n",
       "</div>"
      ],
      "text/plain": [
       "           id             date   price  bedrooms  bathrooms  sqft_living  \\\n",
       "0  7129300520  20141013T000000  221900         3       1.00         1180   \n",
       "1  6414100192  20141209T000000  538000         3       2.25         2570   \n",
       "2  5631500400  20150225T000000  180000         2       1.00          770   \n",
       "3  2487200875  20141209T000000  604000         4       3.00         1960   \n",
       "4  1954400510  20150218T000000  510000         3       2.00         1680   \n",
       "\n",
       "   sqft_lot  floors  waterfront  view  ...  grade  sqft_above  sqft_basement  \\\n",
       "0      5650     1.0           0     0  ...      7        1180              0   \n",
       "1      7242     2.0           0     0  ...      7        2170            400   \n",
       "2     10000     1.0           0     0  ...      6         770              0   \n",
       "3      5000     1.0           0     0  ...      7        1050            910   \n",
       "4      8080     1.0           0     0  ...      8        1680              0   \n",
       "\n",
       "   yr_built  yr_renovated  zipcode      lat     long  sqft_living15  \\\n",
       "0      1955             0    98178  47.5112 -122.257           1340   \n",
       "1      1951          1991    98125  47.7210 -122.319           1690   \n",
       "2      1933             0    98028  47.7379 -122.233           2720   \n",
       "3      1965             0    98136  47.5208 -122.393           1360   \n",
       "4      1987             0    98074  47.6168 -122.045           1800   \n",
       "\n",
       "   sqft_lot15  \n",
       "0        5650  \n",
       "1        7639  \n",
       "2        8062  \n",
       "3        5000  \n",
       "4        7503  \n",
       "\n",
       "[5 rows x 21 columns]"
      ]
     },
     "execution_count": 112,
     "metadata": {},
     "output_type": "execute_result"
    }
   ],
   "source": [
    "df.head()"
   ]
  },
  {
   "cell_type": "code",
   "execution_count": 113,
   "metadata": {},
   "outputs": [
    {
     "data": {
      "text/plain": [
       "array([0, 1], dtype=int64)"
      ]
     },
     "execution_count": 113,
     "metadata": {},
     "output_type": "execute_result"
    }
   ],
   "source": [
    "df['waterfront'].unique()"
   ]
  },
  {
   "cell_type": "code",
   "execution_count": 114,
   "metadata": {},
   "outputs": [],
   "source": [
    "q1=df[df['waterfront']==1]"
   ]
  },
  {
   "cell_type": "code",
   "execution_count": 115,
   "metadata": {},
   "outputs": [
    {
     "data": {
      "text/plain": [
       "0        0\n",
       "1        0\n",
       "2        0\n",
       "3        0\n",
       "4        0\n",
       "        ..\n",
       "21608    0\n",
       "21609    0\n",
       "21610    0\n",
       "21611    0\n",
       "21612    0\n",
       "Name: waterfront, Length: 21613, dtype: int64"
      ]
     },
     "execution_count": 115,
     "metadata": {},
     "output_type": "execute_result"
    }
   ],
   "source": [
    "df['waterfront']"
   ]
  },
  {
   "cell_type": "code",
   "execution_count": 116,
   "metadata": {
    "scrolled": true
   },
   "outputs": [
    {
     "data": {
      "text/plain": [
       "(163, 21)"
      ]
     },
     "execution_count": 116,
     "metadata": {},
     "output_type": "execute_result"
    }
   ],
   "source": [
    "q1.shape"
   ]
  },
  {
   "cell_type": "code",
   "execution_count": 117,
   "metadata": {},
   "outputs": [
    {
     "data": {
      "text/html": [
       "<div>\n",
       "<style scoped>\n",
       "    .dataframe tbody tr th:only-of-type {\n",
       "        vertical-align: middle;\n",
       "    }\n",
       "\n",
       "    .dataframe tbody tr th {\n",
       "        vertical-align: top;\n",
       "    }\n",
       "\n",
       "    .dataframe thead th {\n",
       "        text-align: right;\n",
       "    }\n",
       "</style>\n",
       "<table border=\"1\" class=\"dataframe\">\n",
       "  <thead>\n",
       "    <tr style=\"text-align: right;\">\n",
       "      <th></th>\n",
       "      <th>id</th>\n",
       "      <th>date</th>\n",
       "      <th>price</th>\n",
       "      <th>bedrooms</th>\n",
       "      <th>bathrooms</th>\n",
       "      <th>sqft_living</th>\n",
       "      <th>sqft_lot</th>\n",
       "      <th>floors</th>\n",
       "      <th>waterfront</th>\n",
       "      <th>view</th>\n",
       "      <th>...</th>\n",
       "      <th>grade</th>\n",
       "      <th>sqft_above</th>\n",
       "      <th>sqft_basement</th>\n",
       "      <th>yr_built</th>\n",
       "      <th>yr_renovated</th>\n",
       "      <th>zipcode</th>\n",
       "      <th>lat</th>\n",
       "      <th>long</th>\n",
       "      <th>sqft_living15</th>\n",
       "      <th>sqft_lot15</th>\n",
       "    </tr>\n",
       "  </thead>\n",
       "  <tbody>\n",
       "    <tr>\n",
       "      <th>7252</th>\n",
       "      <td>6762700020</td>\n",
       "      <td>20141013T000000</td>\n",
       "      <td>7700000</td>\n",
       "      <td>6</td>\n",
       "      <td>8.0</td>\n",
       "      <td>12050</td>\n",
       "      <td>27600</td>\n",
       "      <td>2.5</td>\n",
       "      <td>0</td>\n",
       "      <td>3</td>\n",
       "      <td>...</td>\n",
       "      <td>13</td>\n",
       "      <td>8570</td>\n",
       "      <td>3480</td>\n",
       "      <td>1910</td>\n",
       "      <td>1987</td>\n",
       "      <td>98102</td>\n",
       "      <td>47.6298</td>\n",
       "      <td>-122.323</td>\n",
       "      <td>3940</td>\n",
       "      <td>8800</td>\n",
       "    </tr>\n",
       "  </tbody>\n",
       "</table>\n",
       "<p>1 rows × 21 columns</p>\n",
       "</div>"
      ],
      "text/plain": [
       "              id             date    price  bedrooms  bathrooms  sqft_living  \\\n",
       "7252  6762700020  20141013T000000  7700000         6        8.0        12050   \n",
       "\n",
       "      sqft_lot  floors  waterfront  view  ...  grade  sqft_above  \\\n",
       "7252     27600     2.5           0     3  ...     13        8570   \n",
       "\n",
       "      sqft_basement  yr_built  yr_renovated  zipcode      lat     long  \\\n",
       "7252           3480      1910          1987    98102  47.6298 -122.323   \n",
       "\n",
       "      sqft_living15  sqft_lot15  \n",
       "7252           3940        8800  \n",
       "\n",
       "[1 rows x 21 columns]"
      ]
     },
     "execution_count": 117,
     "metadata": {},
     "output_type": "execute_result"
    }
   ],
   "source": [
    "q2=df[df['price']==df['price'].max()]\n",
    "q2"
   ]
  },
  {
   "cell_type": "code",
   "execution_count": 118,
   "metadata": {},
   "outputs": [
    {
     "data": {
      "text/plain": [
       "(1134, 21)"
      ]
     },
     "execution_count": 118,
     "metadata": {},
     "output_type": "execute_result"
    }
   ],
   "source": [
    "q3=df[df['grade']==10]\n",
    "q3.shape"
   ]
  },
  {
   "cell_type": "code",
   "execution_count": 119,
   "metadata": {},
   "outputs": [
    {
     "data": {
      "text/plain": [
       "id               0\n",
       "date             0\n",
       "price            0\n",
       "bedrooms         0\n",
       "bathrooms        0\n",
       "sqft_living      0\n",
       "sqft_lot         0\n",
       "floors           0\n",
       "waterfront       0\n",
       "view             0\n",
       "condition        0\n",
       "grade            0\n",
       "sqft_above       0\n",
       "sqft_basement    0\n",
       "yr_built         0\n",
       "yr_renovated     0\n",
       "zipcode          0\n",
       "lat              0\n",
       "long             0\n",
       "sqft_living15    0\n",
       "sqft_lot15       0\n",
       "dtype: int64"
      ]
     },
     "execution_count": 119,
     "metadata": {},
     "output_type": "execute_result"
    }
   ],
   "source": [
    "df.isna().sum()"
   ]
  },
  {
   "cell_type": "code",
   "execution_count": 120,
   "metadata": {},
   "outputs": [
    {
     "data": {
      "text/html": [
       "<div>\n",
       "<style scoped>\n",
       "    .dataframe tbody tr th:only-of-type {\n",
       "        vertical-align: middle;\n",
       "    }\n",
       "\n",
       "    .dataframe tbody tr th {\n",
       "        vertical-align: top;\n",
       "    }\n",
       "\n",
       "    .dataframe thead th {\n",
       "        text-align: right;\n",
       "    }\n",
       "</style>\n",
       "<table border=\"1\" class=\"dataframe\">\n",
       "  <thead>\n",
       "    <tr style=\"text-align: right;\">\n",
       "      <th></th>\n",
       "      <th>id</th>\n",
       "      <th>date</th>\n",
       "      <th>price</th>\n",
       "      <th>bedrooms</th>\n",
       "      <th>bathrooms</th>\n",
       "      <th>sqft_living</th>\n",
       "      <th>sqft_lot</th>\n",
       "      <th>floors</th>\n",
       "      <th>waterfront</th>\n",
       "      <th>view</th>\n",
       "      <th>...</th>\n",
       "      <th>grade</th>\n",
       "      <th>sqft_above</th>\n",
       "      <th>sqft_basement</th>\n",
       "      <th>yr_built</th>\n",
       "      <th>yr_renovated</th>\n",
       "      <th>zipcode</th>\n",
       "      <th>lat</th>\n",
       "      <th>long</th>\n",
       "      <th>sqft_living15</th>\n",
       "      <th>sqft_lot15</th>\n",
       "    </tr>\n",
       "  </thead>\n",
       "  <tbody>\n",
       "    <tr>\n",
       "      <th>400</th>\n",
       "      <td>9126100861</td>\n",
       "      <td>20150306T000000</td>\n",
       "      <td>557000</td>\n",
       "      <td>3</td>\n",
       "      <td>3.5</td>\n",
       "      <td>1710</td>\n",
       "      <td>2096</td>\n",
       "      <td>2.0</td>\n",
       "      <td>0</td>\n",
       "      <td>0</td>\n",
       "      <td>...</td>\n",
       "      <td>8</td>\n",
       "      <td>1290</td>\n",
       "      <td>420</td>\n",
       "      <td>2008</td>\n",
       "      <td>0</td>\n",
       "      <td>98122</td>\n",
       "      <td>47.6055</td>\n",
       "      <td>-122.305</td>\n",
       "      <td>1630</td>\n",
       "      <td>1543</td>\n",
       "    </tr>\n",
       "  </tbody>\n",
       "</table>\n",
       "<p>1 rows × 21 columns</p>\n",
       "</div>"
      ],
      "text/plain": [
       "             id             date   price  bedrooms  bathrooms  sqft_living  \\\n",
       "400  9126100861  20150306T000000  557000         3        3.5         1710   \n",
       "\n",
       "     sqft_lot  floors  waterfront  view  ...  grade  sqft_above  \\\n",
       "400      2096     2.0           0     0  ...      8        1290   \n",
       "\n",
       "     sqft_basement  yr_built  yr_renovated  zipcode      lat     long  \\\n",
       "400            420      2008             0    98122  47.6055 -122.305   \n",
       "\n",
       "     sqft_living15  sqft_lot15  \n",
       "400           1630        1543  \n",
       "\n",
       "[1 rows x 21 columns]"
      ]
     },
     "execution_count": 120,
     "metadata": {},
     "output_type": "execute_result"
    }
   ],
   "source": [
    "q5=df[df['id']==9126100861]\n",
    "q5"
   ]
  },
  {
   "cell_type": "code",
   "execution_count": 121,
   "metadata": {},
   "outputs": [
    {
     "data": {
      "text/plain": [
       "array([0, 3, 4, 2, 1], dtype=int64)"
      ]
     },
     "execution_count": 121,
     "metadata": {},
     "output_type": "execute_result"
    }
   ],
   "source": [
    "df['view'].unique()"
   ]
  },
  {
   "cell_type": "code",
   "execution_count": 122,
   "metadata": {},
   "outputs": [
    {
     "data": {
      "text/plain": [
       "(510, 21)"
      ]
     },
     "execution_count": 122,
     "metadata": {},
     "output_type": "execute_result"
    }
   ],
   "source": [
    "q6=df[df['view']==3]\n",
    "q6.shape"
   ]
  },
  {
   "cell_type": "code",
   "execution_count": 123,
   "metadata": {},
   "outputs": [
    {
     "data": {
      "text/plain": [
       "75000"
      ]
     },
     "execution_count": 123,
     "metadata": {},
     "output_type": "execute_result"
    }
   ],
   "source": [
    "q7=df['price'].min()\n",
    "q7"
   ]
  },
  {
   "cell_type": "code",
   "execution_count": 124,
   "metadata": {},
   "outputs": [
    {
     "data": {
      "text/plain": [
       "1149    98022\n",
       "Name: zipcode, dtype: int64"
      ]
     },
     "execution_count": 124,
     "metadata": {},
     "output_type": "execute_result"
    }
   ],
   "source": [
    "d=df[df['price']==df['price'].min()]\n",
    "\n",
    "q8=d['zipcode']\n",
    "q8"
   ]
  },
  {
   "cell_type": "code",
   "execution_count": 125,
   "metadata": {},
   "outputs": [
    {
     "data": {
      "text/plain": [
       "12777    98053\n",
       "Name: zipcode, dtype: int64"
      ]
     },
     "execution_count": 125,
     "metadata": {},
     "output_type": "execute_result"
    }
   ],
   "source": [
    "d1=df[df['sqft_living']==df['sqft_living'].max()]\n",
    "\n",
    "q9=d1['zipcode']\n",
    "q9"
   ]
  },
  {
   "cell_type": "code",
   "execution_count": 126,
   "metadata": {},
   "outputs": [
    {
     "data": {
      "text/html": [
       "<div>\n",
       "<style scoped>\n",
       "    .dataframe tbody tr th:only-of-type {\n",
       "        vertical-align: middle;\n",
       "    }\n",
       "\n",
       "    .dataframe tbody tr th {\n",
       "        vertical-align: top;\n",
       "    }\n",
       "\n",
       "    .dataframe thead th {\n",
       "        text-align: right;\n",
       "    }\n",
       "</style>\n",
       "<table border=\"1\" class=\"dataframe\">\n",
       "  <thead>\n",
       "    <tr style=\"text-align: right;\">\n",
       "      <th></th>\n",
       "      <th>id</th>\n",
       "      <th>date</th>\n",
       "      <th>price</th>\n",
       "      <th>bedrooms</th>\n",
       "      <th>bathrooms</th>\n",
       "      <th>sqft_living</th>\n",
       "      <th>sqft_lot</th>\n",
       "      <th>floors</th>\n",
       "      <th>waterfront</th>\n",
       "      <th>view</th>\n",
       "      <th>...</th>\n",
       "      <th>grade</th>\n",
       "      <th>sqft_above</th>\n",
       "      <th>sqft_basement</th>\n",
       "      <th>yr_built</th>\n",
       "      <th>yr_renovated</th>\n",
       "      <th>zipcode</th>\n",
       "      <th>lat</th>\n",
       "      <th>long</th>\n",
       "      <th>sqft_living15</th>\n",
       "      <th>sqft_lot15</th>\n",
       "    </tr>\n",
       "  </thead>\n",
       "  <tbody>\n",
       "    <tr>\n",
       "      <th>1149</th>\n",
       "      <td>3421079032</td>\n",
       "      <td>20150217T000000</td>\n",
       "      <td>75000</td>\n",
       "      <td>1</td>\n",
       "      <td>0.0</td>\n",
       "      <td>670</td>\n",
       "      <td>43377</td>\n",
       "      <td>1.0</td>\n",
       "      <td>0</td>\n",
       "      <td>0</td>\n",
       "      <td>...</td>\n",
       "      <td>3</td>\n",
       "      <td>670</td>\n",
       "      <td>0</td>\n",
       "      <td>1966</td>\n",
       "      <td>0</td>\n",
       "      <td>98022</td>\n",
       "      <td>47.2638</td>\n",
       "      <td>-121.906</td>\n",
       "      <td>1160</td>\n",
       "      <td>42882</td>\n",
       "    </tr>\n",
       "  </tbody>\n",
       "</table>\n",
       "<p>1 rows × 21 columns</p>\n",
       "</div>"
      ],
      "text/plain": [
       "              id             date  price  bedrooms  bathrooms  sqft_living  \\\n",
       "1149  3421079032  20150217T000000  75000         1        0.0          670   \n",
       "\n",
       "      sqft_lot  floors  waterfront  view  ...  grade  sqft_above  \\\n",
       "1149     43377     1.0           0     0  ...      3         670   \n",
       "\n",
       "      sqft_basement  yr_built  yr_renovated  zipcode      lat     long  \\\n",
       "1149              0      1966             0    98022  47.2638 -121.906   \n",
       "\n",
       "      sqft_living15  sqft_lot15  \n",
       "1149           1160       42882  \n",
       "\n",
       "[1 rows x 21 columns]"
      ]
     },
     "execution_count": 126,
     "metadata": {},
     "output_type": "execute_result"
    }
   ],
   "source": [
    "d"
   ]
  },
  {
   "cell_type": "code",
   "execution_count": 127,
   "metadata": {},
   "outputs": [
    {
     "data": {
      "text/plain": [
       "13540"
      ]
     },
     "execution_count": 127,
     "metadata": {},
     "output_type": "execute_result"
    }
   ],
   "source": [
    "df['sqft_living'].max()"
   ]
  },
  {
   "cell_type": "code",
   "execution_count": 128,
   "metadata": {},
   "outputs": [
    {
     "data": {
      "text/plain": [
       "7252    1910\n",
       "Name: yr_built, dtype: int64"
      ]
     },
     "execution_count": 128,
     "metadata": {},
     "output_type": "execute_result"
    }
   ],
   "source": [
    "q10=q2['yr_built']\n",
    "q10"
   ]
  },
  {
   "cell_type": "code",
   "execution_count": null,
   "metadata": {},
   "outputs": [],
   "source": []
  },
  {
   "cell_type": "code",
   "execution_count": 129,
   "metadata": {},
   "outputs": [],
   "source": [
    "q17=df.duplicated(subset=['id','zipcode','grade'])"
   ]
  },
  {
   "cell_type": "code",
   "execution_count": 130,
   "metadata": {},
   "outputs": [
    {
     "data": {
      "text/plain": [
       "0        False\n",
       "1        False\n",
       "2        False\n",
       "3        False\n",
       "4        False\n",
       "         ...  \n",
       "21608    False\n",
       "21609    False\n",
       "21610    False\n",
       "21611    False\n",
       "21612    False\n",
       "Length: 21613, dtype: bool"
      ]
     },
     "execution_count": 130,
     "metadata": {},
     "output_type": "execute_result"
    }
   ],
   "source": [
    "q17"
   ]
  },
  {
   "cell_type": "code",
   "execution_count": 131,
   "metadata": {},
   "outputs": [
    {
     "data": {
      "text/html": [
       "<div>\n",
       "<style scoped>\n",
       "    .dataframe tbody tr th:only-of-type {\n",
       "        vertical-align: middle;\n",
       "    }\n",
       "\n",
       "    .dataframe tbody tr th {\n",
       "        vertical-align: top;\n",
       "    }\n",
       "\n",
       "    .dataframe thead th {\n",
       "        text-align: right;\n",
       "    }\n",
       "</style>\n",
       "<table border=\"1\" class=\"dataframe\">\n",
       "  <thead>\n",
       "    <tr style=\"text-align: right;\">\n",
       "      <th></th>\n",
       "      <th>sqft_lot</th>\n",
       "      <th>floors</th>\n",
       "      <th>waterfront</th>\n",
       "      <th>view</th>\n",
       "    </tr>\n",
       "  </thead>\n",
       "  <tbody>\n",
       "    <tr>\n",
       "      <th>3</th>\n",
       "      <td>5000</td>\n",
       "      <td>1.0</td>\n",
       "      <td>0</td>\n",
       "      <td>0</td>\n",
       "    </tr>\n",
       "    <tr>\n",
       "      <th>4</th>\n",
       "      <td>8080</td>\n",
       "      <td>1.0</td>\n",
       "      <td>0</td>\n",
       "      <td>0</td>\n",
       "    </tr>\n",
       "    <tr>\n",
       "      <th>5</th>\n",
       "      <td>101930</td>\n",
       "      <td>1.0</td>\n",
       "      <td>0</td>\n",
       "      <td>0</td>\n",
       "    </tr>\n",
       "  </tbody>\n",
       "</table>\n",
       "</div>"
      ],
      "text/plain": [
       "   sqft_lot  floors  waterfront  view\n",
       "3      5000     1.0           0     0\n",
       "4      8080     1.0           0     0\n",
       "5    101930     1.0           0     0"
      ]
     },
     "execution_count": 131,
     "metadata": {},
     "output_type": "execute_result"
    }
   ],
   "source": [
    "q18=df.iloc[3:6,6:10]\n",
    "q18"
   ]
  },
  {
   "cell_type": "code",
   "execution_count": 132,
   "metadata": {},
   "outputs": [],
   "source": [
    "df1 = pd.DataFrame({'A':[34, 78, 54], 'B':[12, 67, 43]}, index=['r1', 'r2', 'r3'])"
   ]
  },
  {
   "cell_type": "code",
   "execution_count": 133,
   "metadata": {},
   "outputs": [
    {
     "data": {
      "text/html": [
       "<div>\n",
       "<style scoped>\n",
       "    .dataframe tbody tr th:only-of-type {\n",
       "        vertical-align: middle;\n",
       "    }\n",
       "\n",
       "    .dataframe tbody tr th {\n",
       "        vertical-align: top;\n",
       "    }\n",
       "\n",
       "    .dataframe thead th {\n",
       "        text-align: right;\n",
       "    }\n",
       "</style>\n",
       "<table border=\"1\" class=\"dataframe\">\n",
       "  <thead>\n",
       "    <tr style=\"text-align: right;\">\n",
       "      <th></th>\n",
       "      <th>A</th>\n",
       "      <th>B</th>\n",
       "    </tr>\n",
       "  </thead>\n",
       "  <tbody>\n",
       "    <tr>\n",
       "      <th>r2</th>\n",
       "      <td>78</td>\n",
       "      <td>67</td>\n",
       "    </tr>\n",
       "    <tr>\n",
       "      <th>r3</th>\n",
       "      <td>54</td>\n",
       "      <td>43</td>\n",
       "    </tr>\n",
       "  </tbody>\n",
       "</table>\n",
       "</div>"
      ],
      "text/plain": [
       "     A   B\n",
       "r2  78  67\n",
       "r3  54  43"
      ]
     },
     "execution_count": 133,
     "metadata": {},
     "output_type": "execute_result"
    }
   ],
   "source": [
    "q19=df1.loc['r2':'r3']\n",
    "q19\n"
   ]
  },
  {
   "cell_type": "code",
   "execution_count": 134,
   "metadata": {},
   "outputs": [],
   "source": [
    "t=df"
   ]
  },
  {
   "cell_type": "code",
   "execution_count": 135,
   "metadata": {},
   "outputs": [
    {
     "data": {
      "text/html": [
       "<div>\n",
       "<style scoped>\n",
       "    .dataframe tbody tr th:only-of-type {\n",
       "        vertical-align: middle;\n",
       "    }\n",
       "\n",
       "    .dataframe tbody tr th {\n",
       "        vertical-align: top;\n",
       "    }\n",
       "\n",
       "    .dataframe thead th {\n",
       "        text-align: right;\n",
       "    }\n",
       "</style>\n",
       "<table border=\"1\" class=\"dataframe\">\n",
       "  <thead>\n",
       "    <tr style=\"text-align: right;\">\n",
       "      <th></th>\n",
       "      <th>id</th>\n",
       "      <th>date</th>\n",
       "      <th>price</th>\n",
       "      <th>bedrooms</th>\n",
       "      <th>bathrooms</th>\n",
       "      <th>sqft_living</th>\n",
       "      <th>sqft_lot</th>\n",
       "      <th>floors</th>\n",
       "      <th>waterfront</th>\n",
       "      <th>view</th>\n",
       "      <th>...</th>\n",
       "      <th>grade</th>\n",
       "      <th>sqft_above</th>\n",
       "      <th>sqft_basement</th>\n",
       "      <th>yr_built</th>\n",
       "      <th>yr_renovated</th>\n",
       "      <th>zipcode</th>\n",
       "      <th>lat</th>\n",
       "      <th>long</th>\n",
       "      <th>sqft_living15</th>\n",
       "      <th>sqft_lot15</th>\n",
       "    </tr>\n",
       "  </thead>\n",
       "  <tbody>\n",
       "    <tr>\n",
       "      <th>0</th>\n",
       "      <td>7129300520</td>\n",
       "      <td>20141013T000000</td>\n",
       "      <td>221900</td>\n",
       "      <td>3</td>\n",
       "      <td>1.00</td>\n",
       "      <td>1180</td>\n",
       "      <td>5650</td>\n",
       "      <td>1.0</td>\n",
       "      <td>0</td>\n",
       "      <td>0</td>\n",
       "      <td>...</td>\n",
       "      <td>7</td>\n",
       "      <td>1180</td>\n",
       "      <td>0</td>\n",
       "      <td>1955</td>\n",
       "      <td>0</td>\n",
       "      <td>98178</td>\n",
       "      <td>47.5112</td>\n",
       "      <td>-122.257</td>\n",
       "      <td>1340</td>\n",
       "      <td>5650</td>\n",
       "    </tr>\n",
       "    <tr>\n",
       "      <th>1</th>\n",
       "      <td>6414100192</td>\n",
       "      <td>20141209T000000</td>\n",
       "      <td>538000</td>\n",
       "      <td>3</td>\n",
       "      <td>2.25</td>\n",
       "      <td>2570</td>\n",
       "      <td>7242</td>\n",
       "      <td>2.0</td>\n",
       "      <td>0</td>\n",
       "      <td>0</td>\n",
       "      <td>...</td>\n",
       "      <td>7</td>\n",
       "      <td>2170</td>\n",
       "      <td>400</td>\n",
       "      <td>1951</td>\n",
       "      <td>1991</td>\n",
       "      <td>98125</td>\n",
       "      <td>47.7210</td>\n",
       "      <td>-122.319</td>\n",
       "      <td>1690</td>\n",
       "      <td>7639</td>\n",
       "    </tr>\n",
       "    <tr>\n",
       "      <th>2</th>\n",
       "      <td>5631500400</td>\n",
       "      <td>20150225T000000</td>\n",
       "      <td>180000</td>\n",
       "      <td>2</td>\n",
       "      <td>1.00</td>\n",
       "      <td>770</td>\n",
       "      <td>10000</td>\n",
       "      <td>1.0</td>\n",
       "      <td>0</td>\n",
       "      <td>0</td>\n",
       "      <td>...</td>\n",
       "      <td>6</td>\n",
       "      <td>770</td>\n",
       "      <td>0</td>\n",
       "      <td>1933</td>\n",
       "      <td>0</td>\n",
       "      <td>98028</td>\n",
       "      <td>47.7379</td>\n",
       "      <td>-122.233</td>\n",
       "      <td>2720</td>\n",
       "      <td>8062</td>\n",
       "    </tr>\n",
       "    <tr>\n",
       "      <th>3</th>\n",
       "      <td>2487200875</td>\n",
       "      <td>20141209T000000</td>\n",
       "      <td>604000</td>\n",
       "      <td>4</td>\n",
       "      <td>3.00</td>\n",
       "      <td>1960</td>\n",
       "      <td>5000</td>\n",
       "      <td>1.0</td>\n",
       "      <td>0</td>\n",
       "      <td>0</td>\n",
       "      <td>...</td>\n",
       "      <td>7</td>\n",
       "      <td>1050</td>\n",
       "      <td>910</td>\n",
       "      <td>1965</td>\n",
       "      <td>0</td>\n",
       "      <td>98136</td>\n",
       "      <td>47.5208</td>\n",
       "      <td>-122.393</td>\n",
       "      <td>1360</td>\n",
       "      <td>5000</td>\n",
       "    </tr>\n",
       "    <tr>\n",
       "      <th>4</th>\n",
       "      <td>1954400510</td>\n",
       "      <td>20150218T000000</td>\n",
       "      <td>510000</td>\n",
       "      <td>3</td>\n",
       "      <td>2.00</td>\n",
       "      <td>1680</td>\n",
       "      <td>8080</td>\n",
       "      <td>1.0</td>\n",
       "      <td>0</td>\n",
       "      <td>0</td>\n",
       "      <td>...</td>\n",
       "      <td>8</td>\n",
       "      <td>1680</td>\n",
       "      <td>0</td>\n",
       "      <td>1987</td>\n",
       "      <td>0</td>\n",
       "      <td>98074</td>\n",
       "      <td>47.6168</td>\n",
       "      <td>-122.045</td>\n",
       "      <td>1800</td>\n",
       "      <td>7503</td>\n",
       "    </tr>\n",
       "    <tr>\n",
       "      <th>...</th>\n",
       "      <td>...</td>\n",
       "      <td>...</td>\n",
       "      <td>...</td>\n",
       "      <td>...</td>\n",
       "      <td>...</td>\n",
       "      <td>...</td>\n",
       "      <td>...</td>\n",
       "      <td>...</td>\n",
       "      <td>...</td>\n",
       "      <td>...</td>\n",
       "      <td>...</td>\n",
       "      <td>...</td>\n",
       "      <td>...</td>\n",
       "      <td>...</td>\n",
       "      <td>...</td>\n",
       "      <td>...</td>\n",
       "      <td>...</td>\n",
       "      <td>...</td>\n",
       "      <td>...</td>\n",
       "      <td>...</td>\n",
       "      <td>...</td>\n",
       "    </tr>\n",
       "    <tr>\n",
       "      <th>21608</th>\n",
       "      <td>263000018</td>\n",
       "      <td>20140521T000000</td>\n",
       "      <td>360000</td>\n",
       "      <td>3</td>\n",
       "      <td>2.50</td>\n",
       "      <td>1530</td>\n",
       "      <td>1131</td>\n",
       "      <td>3.0</td>\n",
       "      <td>0</td>\n",
       "      <td>0</td>\n",
       "      <td>...</td>\n",
       "      <td>8</td>\n",
       "      <td>1530</td>\n",
       "      <td>0</td>\n",
       "      <td>2009</td>\n",
       "      <td>0</td>\n",
       "      <td>98103</td>\n",
       "      <td>47.6993</td>\n",
       "      <td>-122.346</td>\n",
       "      <td>1530</td>\n",
       "      <td>1509</td>\n",
       "    </tr>\n",
       "    <tr>\n",
       "      <th>21609</th>\n",
       "      <td>6600060120</td>\n",
       "      <td>20150223T000000</td>\n",
       "      <td>400000</td>\n",
       "      <td>4</td>\n",
       "      <td>2.50</td>\n",
       "      <td>2310</td>\n",
       "      <td>5813</td>\n",
       "      <td>2.0</td>\n",
       "      <td>0</td>\n",
       "      <td>0</td>\n",
       "      <td>...</td>\n",
       "      <td>8</td>\n",
       "      <td>2310</td>\n",
       "      <td>0</td>\n",
       "      <td>2014</td>\n",
       "      <td>0</td>\n",
       "      <td>98146</td>\n",
       "      <td>47.5107</td>\n",
       "      <td>-122.362</td>\n",
       "      <td>1830</td>\n",
       "      <td>7200</td>\n",
       "    </tr>\n",
       "    <tr>\n",
       "      <th>21610</th>\n",
       "      <td>1523300141</td>\n",
       "      <td>20140623T000000</td>\n",
       "      <td>402101</td>\n",
       "      <td>2</td>\n",
       "      <td>0.75</td>\n",
       "      <td>1020</td>\n",
       "      <td>1350</td>\n",
       "      <td>2.0</td>\n",
       "      <td>0</td>\n",
       "      <td>0</td>\n",
       "      <td>...</td>\n",
       "      <td>7</td>\n",
       "      <td>1020</td>\n",
       "      <td>0</td>\n",
       "      <td>2009</td>\n",
       "      <td>0</td>\n",
       "      <td>98144</td>\n",
       "      <td>47.5944</td>\n",
       "      <td>-122.299</td>\n",
       "      <td>1020</td>\n",
       "      <td>2007</td>\n",
       "    </tr>\n",
       "    <tr>\n",
       "      <th>21611</th>\n",
       "      <td>291310100</td>\n",
       "      <td>20150116T000000</td>\n",
       "      <td>400000</td>\n",
       "      <td>3</td>\n",
       "      <td>2.50</td>\n",
       "      <td>1600</td>\n",
       "      <td>2388</td>\n",
       "      <td>2.0</td>\n",
       "      <td>0</td>\n",
       "      <td>0</td>\n",
       "      <td>...</td>\n",
       "      <td>8</td>\n",
       "      <td>1600</td>\n",
       "      <td>0</td>\n",
       "      <td>2004</td>\n",
       "      <td>0</td>\n",
       "      <td>98027</td>\n",
       "      <td>47.5345</td>\n",
       "      <td>-122.069</td>\n",
       "      <td>1410</td>\n",
       "      <td>1287</td>\n",
       "    </tr>\n",
       "    <tr>\n",
       "      <th>21612</th>\n",
       "      <td>1523300157</td>\n",
       "      <td>20141015T000000</td>\n",
       "      <td>325000</td>\n",
       "      <td>2</td>\n",
       "      <td>0.75</td>\n",
       "      <td>1020</td>\n",
       "      <td>1076</td>\n",
       "      <td>2.0</td>\n",
       "      <td>0</td>\n",
       "      <td>0</td>\n",
       "      <td>...</td>\n",
       "      <td>7</td>\n",
       "      <td>1020</td>\n",
       "      <td>0</td>\n",
       "      <td>2008</td>\n",
       "      <td>0</td>\n",
       "      <td>98144</td>\n",
       "      <td>47.5941</td>\n",
       "      <td>-122.299</td>\n",
       "      <td>1020</td>\n",
       "      <td>1357</td>\n",
       "    </tr>\n",
       "  </tbody>\n",
       "</table>\n",
       "<p>21613 rows × 21 columns</p>\n",
       "</div>"
      ],
      "text/plain": [
       "               id             date   price  bedrooms  bathrooms  sqft_living  \\\n",
       "0      7129300520  20141013T000000  221900         3       1.00         1180   \n",
       "1      6414100192  20141209T000000  538000         3       2.25         2570   \n",
       "2      5631500400  20150225T000000  180000         2       1.00          770   \n",
       "3      2487200875  20141209T000000  604000         4       3.00         1960   \n",
       "4      1954400510  20150218T000000  510000         3       2.00         1680   \n",
       "...           ...              ...     ...       ...        ...          ...   \n",
       "21608   263000018  20140521T000000  360000         3       2.50         1530   \n",
       "21609  6600060120  20150223T000000  400000         4       2.50         2310   \n",
       "21610  1523300141  20140623T000000  402101         2       0.75         1020   \n",
       "21611   291310100  20150116T000000  400000         3       2.50         1600   \n",
       "21612  1523300157  20141015T000000  325000         2       0.75         1020   \n",
       "\n",
       "       sqft_lot  floors  waterfront  view  ...  grade  sqft_above  \\\n",
       "0          5650     1.0           0     0  ...      7        1180   \n",
       "1          7242     2.0           0     0  ...      7        2170   \n",
       "2         10000     1.0           0     0  ...      6         770   \n",
       "3          5000     1.0           0     0  ...      7        1050   \n",
       "4          8080     1.0           0     0  ...      8        1680   \n",
       "...         ...     ...         ...   ...  ...    ...         ...   \n",
       "21608      1131     3.0           0     0  ...      8        1530   \n",
       "21609      5813     2.0           0     0  ...      8        2310   \n",
       "21610      1350     2.0           0     0  ...      7        1020   \n",
       "21611      2388     2.0           0     0  ...      8        1600   \n",
       "21612      1076     2.0           0     0  ...      7        1020   \n",
       "\n",
       "       sqft_basement  yr_built  yr_renovated  zipcode      lat     long  \\\n",
       "0                  0      1955             0    98178  47.5112 -122.257   \n",
       "1                400      1951          1991    98125  47.7210 -122.319   \n",
       "2                  0      1933             0    98028  47.7379 -122.233   \n",
       "3                910      1965             0    98136  47.5208 -122.393   \n",
       "4                  0      1987             0    98074  47.6168 -122.045   \n",
       "...              ...       ...           ...      ...      ...      ...   \n",
       "21608              0      2009             0    98103  47.6993 -122.346   \n",
       "21609              0      2014             0    98146  47.5107 -122.362   \n",
       "21610              0      2009             0    98144  47.5944 -122.299   \n",
       "21611              0      2004             0    98027  47.5345 -122.069   \n",
       "21612              0      2008             0    98144  47.5941 -122.299   \n",
       "\n",
       "       sqft_living15  sqft_lot15  \n",
       "0               1340        5650  \n",
       "1               1690        7639  \n",
       "2               2720        8062  \n",
       "3               1360        5000  \n",
       "4               1800        7503  \n",
       "...              ...         ...  \n",
       "21608           1530        1509  \n",
       "21609           1830        7200  \n",
       "21610           1020        2007  \n",
       "21611           1410        1287  \n",
       "21612           1020        1357  \n",
       "\n",
       "[21613 rows x 21 columns]"
      ]
     },
     "execution_count": 135,
     "metadata": {},
     "output_type": "execute_result"
    }
   ],
   "source": [
    "t"
   ]
  },
  {
   "cell_type": "code",
   "execution_count": 136,
   "metadata": {},
   "outputs": [],
   "source": [
    "t=pd.to_datetime(t['date'], format='%Y-%m-%d', utc=False, dayfirst=True)"
   ]
  },
  {
   "cell_type": "code",
   "execution_count": 137,
   "metadata": {},
   "outputs": [
    {
     "data": {
      "text/plain": [
       "0       2014-10-13\n",
       "1       2014-12-09\n",
       "2       2015-02-25\n",
       "3       2014-12-09\n",
       "4       2015-02-18\n",
       "           ...    \n",
       "21608   2014-05-21\n",
       "21609   2015-02-23\n",
       "21610   2014-06-23\n",
       "21611   2015-01-16\n",
       "21612   2014-10-15\n",
       "Name: date, Length: 21613, dtype: datetime64[ns]"
      ]
     },
     "execution_count": 137,
     "metadata": {},
     "output_type": "execute_result"
    }
   ],
   "source": [
    "t"
   ]
  },
  {
   "cell_type": "code",
   "execution_count": 138,
   "metadata": {},
   "outputs": [],
   "source": [
    "q21=pd.to_datetime(df['date'], format='%Y-%m-%d', utc=False, dayfirst=True)"
   ]
  },
  {
   "cell_type": "code",
   "execution_count": 139,
   "metadata": {},
   "outputs": [
    {
     "data": {
      "text/plain": [
       "0       2014-10-13\n",
       "1       2014-12-09\n",
       "2       2015-02-25\n",
       "3       2014-12-09\n",
       "4       2015-02-18\n",
       "           ...    \n",
       "21608   2014-05-21\n",
       "21609   2015-02-23\n",
       "21610   2014-06-23\n",
       "21611   2015-01-16\n",
       "21612   2014-10-15\n",
       "Name: date, Length: 21613, dtype: datetime64[ns]"
      ]
     },
     "execution_count": 139,
     "metadata": {},
     "output_type": "execute_result"
    }
   ],
   "source": [
    "q21"
   ]
  },
  {
   "cell_type": "code",
   "execution_count": 140,
   "metadata": {},
   "outputs": [],
   "source": [
    "q22=df.loc[(df[\"yr_built\"] < 1980) & (df['floors'] > 2) & (df['bedrooms'] > 2)]"
   ]
  },
  {
   "cell_type": "code",
   "execution_count": 141,
   "metadata": {},
   "outputs": [
    {
     "data": {
      "text/html": [
       "<div>\n",
       "<style scoped>\n",
       "    .dataframe tbody tr th:only-of-type {\n",
       "        vertical-align: middle;\n",
       "    }\n",
       "\n",
       "    .dataframe tbody tr th {\n",
       "        vertical-align: top;\n",
       "    }\n",
       "\n",
       "    .dataframe thead th {\n",
       "        text-align: right;\n",
       "    }\n",
       "</style>\n",
       "<table border=\"1\" class=\"dataframe\">\n",
       "  <thead>\n",
       "    <tr style=\"text-align: right;\">\n",
       "      <th></th>\n",
       "      <th>id</th>\n",
       "      <th>date</th>\n",
       "      <th>price</th>\n",
       "      <th>bedrooms</th>\n",
       "      <th>bathrooms</th>\n",
       "      <th>sqft_living</th>\n",
       "      <th>sqft_lot</th>\n",
       "      <th>floors</th>\n",
       "      <th>waterfront</th>\n",
       "      <th>view</th>\n",
       "      <th>...</th>\n",
       "      <th>grade</th>\n",
       "      <th>sqft_above</th>\n",
       "      <th>sqft_basement</th>\n",
       "      <th>yr_built</th>\n",
       "      <th>yr_renovated</th>\n",
       "      <th>zipcode</th>\n",
       "      <th>lat</th>\n",
       "      <th>long</th>\n",
       "      <th>sqft_living15</th>\n",
       "      <th>sqft_lot15</th>\n",
       "    </tr>\n",
       "  </thead>\n",
       "  <tbody>\n",
       "    <tr>\n",
       "      <th>518</th>\n",
       "      <td>4386700135</td>\n",
       "      <td>20141114T000000</td>\n",
       "      <td>2250000</td>\n",
       "      <td>4</td>\n",
       "      <td>2.25</td>\n",
       "      <td>4760</td>\n",
       "      <td>8036</td>\n",
       "      <td>2.5</td>\n",
       "      <td>0</td>\n",
       "      <td>0</td>\n",
       "      <td>...</td>\n",
       "      <td>9</td>\n",
       "      <td>3390</td>\n",
       "      <td>1370</td>\n",
       "      <td>1916</td>\n",
       "      <td>0</td>\n",
       "      <td>98112</td>\n",
       "      <td>47.6415</td>\n",
       "      <td>-122.285</td>\n",
       "      <td>2950</td>\n",
       "      <td>9323</td>\n",
       "    </tr>\n",
       "    <tr>\n",
       "      <th>759</th>\n",
       "      <td>770000045</td>\n",
       "      <td>20141024T000000</td>\n",
       "      <td>405600</td>\n",
       "      <td>5</td>\n",
       "      <td>1.50</td>\n",
       "      <td>2830</td>\n",
       "      <td>4000</td>\n",
       "      <td>2.5</td>\n",
       "      <td>0</td>\n",
       "      <td>0</td>\n",
       "      <td>...</td>\n",
       "      <td>8</td>\n",
       "      <td>2830</td>\n",
       "      <td>0</td>\n",
       "      <td>1918</td>\n",
       "      <td>0</td>\n",
       "      <td>98118</td>\n",
       "      <td>47.5132</td>\n",
       "      <td>-122.262</td>\n",
       "      <td>1480</td>\n",
       "      <td>4000</td>\n",
       "    </tr>\n",
       "    <tr>\n",
       "      <th>960</th>\n",
       "      <td>7578200310</td>\n",
       "      <td>20141112T000000</td>\n",
       "      <td>650000</td>\n",
       "      <td>4</td>\n",
       "      <td>2.00</td>\n",
       "      <td>2208</td>\n",
       "      <td>5000</td>\n",
       "      <td>3.0</td>\n",
       "      <td>0</td>\n",
       "      <td>0</td>\n",
       "      <td>...</td>\n",
       "      <td>8</td>\n",
       "      <td>2208</td>\n",
       "      <td>0</td>\n",
       "      <td>1917</td>\n",
       "      <td>0</td>\n",
       "      <td>98116</td>\n",
       "      <td>47.5711</td>\n",
       "      <td>-122.383</td>\n",
       "      <td>1760</td>\n",
       "      <td>5000</td>\n",
       "    </tr>\n",
       "    <tr>\n",
       "      <th>1296</th>\n",
       "      <td>5458800125</td>\n",
       "      <td>20140514T000000</td>\n",
       "      <td>925000</td>\n",
       "      <td>4</td>\n",
       "      <td>2.50</td>\n",
       "      <td>2190</td>\n",
       "      <td>7350</td>\n",
       "      <td>2.5</td>\n",
       "      <td>0</td>\n",
       "      <td>0</td>\n",
       "      <td>...</td>\n",
       "      <td>8</td>\n",
       "      <td>2190</td>\n",
       "      <td>0</td>\n",
       "      <td>1958</td>\n",
       "      <td>0</td>\n",
       "      <td>98040</td>\n",
       "      <td>47.5786</td>\n",
       "      <td>-122.236</td>\n",
       "      <td>1880</td>\n",
       "      <td>7350</td>\n",
       "    </tr>\n",
       "    <tr>\n",
       "      <th>1350</th>\n",
       "      <td>7234600786</td>\n",
       "      <td>20140511T000000</td>\n",
       "      <td>842500</td>\n",
       "      <td>4</td>\n",
       "      <td>2.50</td>\n",
       "      <td>2160</td>\n",
       "      <td>5298</td>\n",
       "      <td>2.5</td>\n",
       "      <td>0</td>\n",
       "      <td>0</td>\n",
       "      <td>...</td>\n",
       "      <td>9</td>\n",
       "      <td>2160</td>\n",
       "      <td>0</td>\n",
       "      <td>1902</td>\n",
       "      <td>0</td>\n",
       "      <td>98122</td>\n",
       "      <td>47.6106</td>\n",
       "      <td>-122.310</td>\n",
       "      <td>1720</td>\n",
       "      <td>2283</td>\n",
       "    </tr>\n",
       "    <tr>\n",
       "      <th>...</th>\n",
       "      <td>...</td>\n",
       "      <td>...</td>\n",
       "      <td>...</td>\n",
       "      <td>...</td>\n",
       "      <td>...</td>\n",
       "      <td>...</td>\n",
       "      <td>...</td>\n",
       "      <td>...</td>\n",
       "      <td>...</td>\n",
       "      <td>...</td>\n",
       "      <td>...</td>\n",
       "      <td>...</td>\n",
       "      <td>...</td>\n",
       "      <td>...</td>\n",
       "      <td>...</td>\n",
       "      <td>...</td>\n",
       "      <td>...</td>\n",
       "      <td>...</td>\n",
       "      <td>...</td>\n",
       "      <td>...</td>\n",
       "      <td>...</td>\n",
       "    </tr>\n",
       "    <tr>\n",
       "      <th>18535</th>\n",
       "      <td>3667500015</td>\n",
       "      <td>20140925T000000</td>\n",
       "      <td>770000</td>\n",
       "      <td>4</td>\n",
       "      <td>3.50</td>\n",
       "      <td>3680</td>\n",
       "      <td>2242</td>\n",
       "      <td>2.5</td>\n",
       "      <td>0</td>\n",
       "      <td>0</td>\n",
       "      <td>...</td>\n",
       "      <td>9</td>\n",
       "      <td>2670</td>\n",
       "      <td>1010</td>\n",
       "      <td>1930</td>\n",
       "      <td>2007</td>\n",
       "      <td>98112</td>\n",
       "      <td>47.6192</td>\n",
       "      <td>-122.307</td>\n",
       "      <td>1350</td>\n",
       "      <td>1288</td>\n",
       "    </tr>\n",
       "    <tr>\n",
       "      <th>18631</th>\n",
       "      <td>1337800665</td>\n",
       "      <td>20140811T000000</td>\n",
       "      <td>1325000</td>\n",
       "      <td>4</td>\n",
       "      <td>3.25</td>\n",
       "      <td>2850</td>\n",
       "      <td>4800</td>\n",
       "      <td>2.5</td>\n",
       "      <td>0</td>\n",
       "      <td>0</td>\n",
       "      <td>...</td>\n",
       "      <td>10</td>\n",
       "      <td>2700</td>\n",
       "      <td>150</td>\n",
       "      <td>1905</td>\n",
       "      <td>0</td>\n",
       "      <td>98112</td>\n",
       "      <td>47.6292</td>\n",
       "      <td>-122.312</td>\n",
       "      <td>2850</td>\n",
       "      <td>4800</td>\n",
       "    </tr>\n",
       "    <tr>\n",
       "      <th>19068</th>\n",
       "      <td>6613001241</td>\n",
       "      <td>20140811T000000</td>\n",
       "      <td>1415000</td>\n",
       "      <td>4</td>\n",
       "      <td>3.00</td>\n",
       "      <td>3110</td>\n",
       "      <td>4408</td>\n",
       "      <td>2.5</td>\n",
       "      <td>0</td>\n",
       "      <td>3</td>\n",
       "      <td>...</td>\n",
       "      <td>10</td>\n",
       "      <td>2510</td>\n",
       "      <td>600</td>\n",
       "      <td>1931</td>\n",
       "      <td>0</td>\n",
       "      <td>98105</td>\n",
       "      <td>47.6583</td>\n",
       "      <td>-122.270</td>\n",
       "      <td>3250</td>\n",
       "      <td>5669</td>\n",
       "    </tr>\n",
       "    <tr>\n",
       "      <th>19188</th>\n",
       "      <td>7942601475</td>\n",
       "      <td>20140520T000000</td>\n",
       "      <td>345600</td>\n",
       "      <td>5</td>\n",
       "      <td>3.50</td>\n",
       "      <td>2800</td>\n",
       "      <td>5120</td>\n",
       "      <td>2.5</td>\n",
       "      <td>0</td>\n",
       "      <td>0</td>\n",
       "      <td>...</td>\n",
       "      <td>9</td>\n",
       "      <td>2800</td>\n",
       "      <td>0</td>\n",
       "      <td>1903</td>\n",
       "      <td>2005</td>\n",
       "      <td>98122</td>\n",
       "      <td>47.6059</td>\n",
       "      <td>-122.310</td>\n",
       "      <td>1780</td>\n",
       "      <td>5120</td>\n",
       "    </tr>\n",
       "    <tr>\n",
       "      <th>19272</th>\n",
       "      <td>1337300145</td>\n",
       "      <td>20140721T000000</td>\n",
       "      <td>1800000</td>\n",
       "      <td>4</td>\n",
       "      <td>2.50</td>\n",
       "      <td>3320</td>\n",
       "      <td>8325</td>\n",
       "      <td>2.5</td>\n",
       "      <td>0</td>\n",
       "      <td>0</td>\n",
       "      <td>...</td>\n",
       "      <td>10</td>\n",
       "      <td>3320</td>\n",
       "      <td>0</td>\n",
       "      <td>1905</td>\n",
       "      <td>0</td>\n",
       "      <td>98112</td>\n",
       "      <td>47.6263</td>\n",
       "      <td>-122.314</td>\n",
       "      <td>3680</td>\n",
       "      <td>6050</td>\n",
       "    </tr>\n",
       "  </tbody>\n",
       "</table>\n",
       "<p>97 rows × 21 columns</p>\n",
       "</div>"
      ],
      "text/plain": [
       "               id             date    price  bedrooms  bathrooms  sqft_living  \\\n",
       "518    4386700135  20141114T000000  2250000         4       2.25         4760   \n",
       "759     770000045  20141024T000000   405600         5       1.50         2830   \n",
       "960    7578200310  20141112T000000   650000         4       2.00         2208   \n",
       "1296   5458800125  20140514T000000   925000         4       2.50         2190   \n",
       "1350   7234600786  20140511T000000   842500         4       2.50         2160   \n",
       "...           ...              ...      ...       ...        ...          ...   \n",
       "18535  3667500015  20140925T000000   770000         4       3.50         3680   \n",
       "18631  1337800665  20140811T000000  1325000         4       3.25         2850   \n",
       "19068  6613001241  20140811T000000  1415000         4       3.00         3110   \n",
       "19188  7942601475  20140520T000000   345600         5       3.50         2800   \n",
       "19272  1337300145  20140721T000000  1800000         4       2.50         3320   \n",
       "\n",
       "       sqft_lot  floors  waterfront  view  ...  grade  sqft_above  \\\n",
       "518        8036     2.5           0     0  ...      9        3390   \n",
       "759        4000     2.5           0     0  ...      8        2830   \n",
       "960        5000     3.0           0     0  ...      8        2208   \n",
       "1296       7350     2.5           0     0  ...      8        2190   \n",
       "1350       5298     2.5           0     0  ...      9        2160   \n",
       "...         ...     ...         ...   ...  ...    ...         ...   \n",
       "18535      2242     2.5           0     0  ...      9        2670   \n",
       "18631      4800     2.5           0     0  ...     10        2700   \n",
       "19068      4408     2.5           0     3  ...     10        2510   \n",
       "19188      5120     2.5           0     0  ...      9        2800   \n",
       "19272      8325     2.5           0     0  ...     10        3320   \n",
       "\n",
       "       sqft_basement  yr_built  yr_renovated  zipcode      lat     long  \\\n",
       "518             1370      1916             0    98112  47.6415 -122.285   \n",
       "759                0      1918             0    98118  47.5132 -122.262   \n",
       "960                0      1917             0    98116  47.5711 -122.383   \n",
       "1296               0      1958             0    98040  47.5786 -122.236   \n",
       "1350               0      1902             0    98122  47.6106 -122.310   \n",
       "...              ...       ...           ...      ...      ...      ...   \n",
       "18535           1010      1930          2007    98112  47.6192 -122.307   \n",
       "18631            150      1905             0    98112  47.6292 -122.312   \n",
       "19068            600      1931             0    98105  47.6583 -122.270   \n",
       "19188              0      1903          2005    98122  47.6059 -122.310   \n",
       "19272              0      1905             0    98112  47.6263 -122.314   \n",
       "\n",
       "       sqft_living15  sqft_lot15  \n",
       "518             2950        9323  \n",
       "759             1480        4000  \n",
       "960             1760        5000  \n",
       "1296            1880        7350  \n",
       "1350            1720        2283  \n",
       "...              ...         ...  \n",
       "18535           1350        1288  \n",
       "18631           2850        4800  \n",
       "19068           3250        5669  \n",
       "19188           1780        5120  \n",
       "19272           3680        6050  \n",
       "\n",
       "[97 rows x 21 columns]"
      ]
     },
     "execution_count": 141,
     "metadata": {},
     "output_type": "execute_result"
    }
   ],
   "source": [
    "q22"
   ]
  },
  {
   "cell_type": "code",
   "execution_count": null,
   "metadata": {},
   "outputs": [],
   "source": []
  },
  {
   "cell_type": "code",
   "execution_count": null,
   "metadata": {},
   "outputs": [],
   "source": []
  },
  {
   "cell_type": "code",
   "execution_count": 142,
   "metadata": {},
   "outputs": [],
   "source": [
    "sample_list = [['Carl', 22], ['Martha', 25], ['Calvin', 12], ['Stuart', 15] ] \n",
    "#The resulting dataframe must contain the column names as ‘Name’, and ‘Age’ with the respective values from the sample_list."
   ]
  },
  {
   "cell_type": "code",
   "execution_count": 143,
   "metadata": {},
   "outputs": [
    {
     "data": {
      "text/html": [
       "<div>\n",
       "<style scoped>\n",
       "    .dataframe tbody tr th:only-of-type {\n",
       "        vertical-align: middle;\n",
       "    }\n",
       "\n",
       "    .dataframe tbody tr th {\n",
       "        vertical-align: top;\n",
       "    }\n",
       "\n",
       "    .dataframe thead th {\n",
       "        text-align: right;\n",
       "    }\n",
       "</style>\n",
       "<table border=\"1\" class=\"dataframe\">\n",
       "  <thead>\n",
       "    <tr style=\"text-align: right;\">\n",
       "      <th></th>\n",
       "      <th>Name</th>\n",
       "      <th>Age</th>\n",
       "    </tr>\n",
       "  </thead>\n",
       "  <tbody>\n",
       "    <tr>\n",
       "      <th>0</th>\n",
       "      <td>Carl</td>\n",
       "      <td>22</td>\n",
       "    </tr>\n",
       "    <tr>\n",
       "      <th>1</th>\n",
       "      <td>Martha</td>\n",
       "      <td>25</td>\n",
       "    </tr>\n",
       "    <tr>\n",
       "      <th>2</th>\n",
       "      <td>Calvin</td>\n",
       "      <td>12</td>\n",
       "    </tr>\n",
       "    <tr>\n",
       "      <th>3</th>\n",
       "      <td>Stuart</td>\n",
       "      <td>15</td>\n",
       "    </tr>\n",
       "  </tbody>\n",
       "</table>\n",
       "</div>"
      ],
      "text/plain": [
       "     Name  Age\n",
       "0    Carl   22\n",
       "1  Martha   25\n",
       "2  Calvin   12\n",
       "3  Stuart   15"
      ]
     },
     "execution_count": 143,
     "metadata": {},
     "output_type": "execute_result"
    }
   ],
   "source": [
    "q23=pd.DataFrame(sample_list, columns=['Name', 'Age'])\n",
    "q23"
   ]
  },
  {
   "cell_type": "code",
   "execution_count": 144,
   "metadata": {},
   "outputs": [],
   "source": [
    "sample_dict = {'Cristiano': ['Ronaldo','Man U', 801], 'Lionel': ['Messi','PSG', 758], 'Luis': ['Suarez','Atletico Madrid', 509], 'Robert': ['Lewandowski','Bayern Munich', 527], 'Zlatan': ['Ibrahimovic','AC Milan',553] }"
   ]
  },
  {
   "cell_type": "code",
   "execution_count": 145,
   "metadata": {},
   "outputs": [],
   "source": [
    "df1 = pd.DataFrame(sample_dict)\n",
    "df1 = df1.transpose()\n",
    "df1.reset_index(inplace = True)\n",
    "df1.columns = ['First Name','Last Name', 'Club', 'Goals']"
   ]
  },
  {
   "cell_type": "code",
   "execution_count": 146,
   "metadata": {},
   "outputs": [
    {
     "data": {
      "text/html": [
       "<div>\n",
       "<style scoped>\n",
       "    .dataframe tbody tr th:only-of-type {\n",
       "        vertical-align: middle;\n",
       "    }\n",
       "\n",
       "    .dataframe tbody tr th {\n",
       "        vertical-align: top;\n",
       "    }\n",
       "\n",
       "    .dataframe thead th {\n",
       "        text-align: right;\n",
       "    }\n",
       "</style>\n",
       "<table border=\"1\" class=\"dataframe\">\n",
       "  <thead>\n",
       "    <tr style=\"text-align: right;\">\n",
       "      <th></th>\n",
       "      <th>First Name</th>\n",
       "      <th>Last Name</th>\n",
       "      <th>Club</th>\n",
       "      <th>Goals</th>\n",
       "    </tr>\n",
       "  </thead>\n",
       "  <tbody>\n",
       "    <tr>\n",
       "      <th>0</th>\n",
       "      <td>Cristiano</td>\n",
       "      <td>Ronaldo</td>\n",
       "      <td>Man U</td>\n",
       "      <td>801</td>\n",
       "    </tr>\n",
       "    <tr>\n",
       "      <th>1</th>\n",
       "      <td>Lionel</td>\n",
       "      <td>Messi</td>\n",
       "      <td>PSG</td>\n",
       "      <td>758</td>\n",
       "    </tr>\n",
       "    <tr>\n",
       "      <th>2</th>\n",
       "      <td>Luis</td>\n",
       "      <td>Suarez</td>\n",
       "      <td>Atletico Madrid</td>\n",
       "      <td>509</td>\n",
       "    </tr>\n",
       "    <tr>\n",
       "      <th>3</th>\n",
       "      <td>Robert</td>\n",
       "      <td>Lewandowski</td>\n",
       "      <td>Bayern Munich</td>\n",
       "      <td>527</td>\n",
       "    </tr>\n",
       "    <tr>\n",
       "      <th>4</th>\n",
       "      <td>Zlatan</td>\n",
       "      <td>Ibrahimovic</td>\n",
       "      <td>AC Milan</td>\n",
       "      <td>553</td>\n",
       "    </tr>\n",
       "  </tbody>\n",
       "</table>\n",
       "</div>"
      ],
      "text/plain": [
       "  First Name    Last Name             Club Goals\n",
       "0  Cristiano      Ronaldo            Man U   801\n",
       "1     Lionel        Messi              PSG   758\n",
       "2       Luis       Suarez  Atletico Madrid   509\n",
       "3     Robert  Lewandowski    Bayern Munich   527\n",
       "4     Zlatan  Ibrahimovic         AC Milan   553"
      ]
     },
     "execution_count": 146,
     "metadata": {},
     "output_type": "execute_result"
    }
   ],
   "source": [
    "df1"
   ]
  },
  {
   "cell_type": "code",
   "execution_count": null,
   "metadata": {},
   "outputs": [],
   "source": []
  },
  {
   "cell_type": "code",
   "execution_count": 147,
   "metadata": {},
   "outputs": [],
   "source": [
    "sample_tuple = ([1, 'one', 3], [2, 'two', 3], [3, 'Three', 5], [4, 'Four', 4], [5, 'Five', 4])"
   ]
  },
  {
   "cell_type": "code",
   "execution_count": 148,
   "metadata": {},
   "outputs": [
    {
     "data": {
      "text/html": [
       "<div>\n",
       "<style scoped>\n",
       "    .dataframe tbody tr th:only-of-type {\n",
       "        vertical-align: middle;\n",
       "    }\n",
       "\n",
       "    .dataframe tbody tr th {\n",
       "        vertical-align: top;\n",
       "    }\n",
       "\n",
       "    .dataframe thead th {\n",
       "        text-align: right;\n",
       "    }\n",
       "</style>\n",
       "<table border=\"1\" class=\"dataframe\">\n",
       "  <thead>\n",
       "    <tr style=\"text-align: right;\">\n",
       "      <th></th>\n",
       "      <th>Number</th>\n",
       "      <th>Number_text</th>\n",
       "      <th>txtlen</th>\n",
       "    </tr>\n",
       "  </thead>\n",
       "  <tbody>\n",
       "    <tr>\n",
       "      <th>0</th>\n",
       "      <td>1</td>\n",
       "      <td>one</td>\n",
       "      <td>3</td>\n",
       "    </tr>\n",
       "    <tr>\n",
       "      <th>1</th>\n",
       "      <td>2</td>\n",
       "      <td>two</td>\n",
       "      <td>3</td>\n",
       "    </tr>\n",
       "    <tr>\n",
       "      <th>2</th>\n",
       "      <td>3</td>\n",
       "      <td>Three</td>\n",
       "      <td>5</td>\n",
       "    </tr>\n",
       "    <tr>\n",
       "      <th>3</th>\n",
       "      <td>4</td>\n",
       "      <td>Four</td>\n",
       "      <td>4</td>\n",
       "    </tr>\n",
       "    <tr>\n",
       "      <th>4</th>\n",
       "      <td>5</td>\n",
       "      <td>Five</td>\n",
       "      <td>4</td>\n",
       "    </tr>\n",
       "  </tbody>\n",
       "</table>\n",
       "</div>"
      ],
      "text/plain": [
       "   Number Number_text  txtlen\n",
       "0       1         one       3\n",
       "1       2         two       3\n",
       "2       3       Three       5\n",
       "3       4        Four       4\n",
       "4       5        Five       4"
      ]
     },
     "execution_count": 148,
     "metadata": {},
     "output_type": "execute_result"
    }
   ],
   "source": [
    "pd.DataFrame(sample_tuple, columns=['Number', 'Number_text', 'txtlen'])"
   ]
  },
  {
   "cell_type": "code",
   "execution_count": 149,
   "metadata": {},
   "outputs": [],
   "source": [
    "ascending = df.sort_values('price', ascending=False)\n",
    "#descending = df.sort_values('price', ascending=True)"
   ]
  },
  {
   "cell_type": "code",
   "execution_count": 150,
   "metadata": {},
   "outputs": [
    {
     "data": {
      "text/html": [
       "<div>\n",
       "<style scoped>\n",
       "    .dataframe tbody tr th:only-of-type {\n",
       "        vertical-align: middle;\n",
       "    }\n",
       "\n",
       "    .dataframe tbody tr th {\n",
       "        vertical-align: top;\n",
       "    }\n",
       "\n",
       "    .dataframe thead th {\n",
       "        text-align: right;\n",
       "    }\n",
       "</style>\n",
       "<table border=\"1\" class=\"dataframe\">\n",
       "  <thead>\n",
       "    <tr style=\"text-align: right;\">\n",
       "      <th></th>\n",
       "      <th>id</th>\n",
       "      <th>date</th>\n",
       "      <th>price</th>\n",
       "      <th>bedrooms</th>\n",
       "      <th>bathrooms</th>\n",
       "      <th>sqft_living</th>\n",
       "      <th>sqft_lot</th>\n",
       "      <th>floors</th>\n",
       "      <th>waterfront</th>\n",
       "      <th>view</th>\n",
       "      <th>...</th>\n",
       "      <th>grade</th>\n",
       "      <th>sqft_above</th>\n",
       "      <th>sqft_basement</th>\n",
       "      <th>yr_built</th>\n",
       "      <th>yr_renovated</th>\n",
       "      <th>zipcode</th>\n",
       "      <th>lat</th>\n",
       "      <th>long</th>\n",
       "      <th>sqft_living15</th>\n",
       "      <th>sqft_lot15</th>\n",
       "    </tr>\n",
       "  </thead>\n",
       "  <tbody>\n",
       "    <tr>\n",
       "      <th>7252</th>\n",
       "      <td>6762700020</td>\n",
       "      <td>20141013T000000</td>\n",
       "      <td>7700000</td>\n",
       "      <td>6</td>\n",
       "      <td>8.00</td>\n",
       "      <td>12050</td>\n",
       "      <td>27600</td>\n",
       "      <td>2.5</td>\n",
       "      <td>0</td>\n",
       "      <td>3</td>\n",
       "      <td>...</td>\n",
       "      <td>13</td>\n",
       "      <td>8570</td>\n",
       "      <td>3480</td>\n",
       "      <td>1910</td>\n",
       "      <td>1987</td>\n",
       "      <td>98102</td>\n",
       "      <td>47.6298</td>\n",
       "      <td>-122.323</td>\n",
       "      <td>3940</td>\n",
       "      <td>8800</td>\n",
       "    </tr>\n",
       "    <tr>\n",
       "      <th>3914</th>\n",
       "      <td>9808700762</td>\n",
       "      <td>20140611T000000</td>\n",
       "      <td>7062500</td>\n",
       "      <td>5</td>\n",
       "      <td>4.50</td>\n",
       "      <td>10040</td>\n",
       "      <td>37325</td>\n",
       "      <td>2.0</td>\n",
       "      <td>1</td>\n",
       "      <td>2</td>\n",
       "      <td>...</td>\n",
       "      <td>11</td>\n",
       "      <td>7680</td>\n",
       "      <td>2360</td>\n",
       "      <td>1940</td>\n",
       "      <td>2001</td>\n",
       "      <td>98004</td>\n",
       "      <td>47.6500</td>\n",
       "      <td>-122.214</td>\n",
       "      <td>3930</td>\n",
       "      <td>25449</td>\n",
       "    </tr>\n",
       "    <tr>\n",
       "      <th>9254</th>\n",
       "      <td>9208900037</td>\n",
       "      <td>20140919T000000</td>\n",
       "      <td>6885000</td>\n",
       "      <td>6</td>\n",
       "      <td>7.75</td>\n",
       "      <td>9890</td>\n",
       "      <td>31374</td>\n",
       "      <td>2.0</td>\n",
       "      <td>0</td>\n",
       "      <td>4</td>\n",
       "      <td>...</td>\n",
       "      <td>13</td>\n",
       "      <td>8860</td>\n",
       "      <td>1030</td>\n",
       "      <td>2001</td>\n",
       "      <td>0</td>\n",
       "      <td>98039</td>\n",
       "      <td>47.6305</td>\n",
       "      <td>-122.240</td>\n",
       "      <td>4540</td>\n",
       "      <td>42730</td>\n",
       "    </tr>\n",
       "    <tr>\n",
       "      <th>4411</th>\n",
       "      <td>2470100110</td>\n",
       "      <td>20140804T000000</td>\n",
       "      <td>5570000</td>\n",
       "      <td>5</td>\n",
       "      <td>5.75</td>\n",
       "      <td>9200</td>\n",
       "      <td>35069</td>\n",
       "      <td>2.0</td>\n",
       "      <td>0</td>\n",
       "      <td>0</td>\n",
       "      <td>...</td>\n",
       "      <td>13</td>\n",
       "      <td>6200</td>\n",
       "      <td>3000</td>\n",
       "      <td>2001</td>\n",
       "      <td>0</td>\n",
       "      <td>98039</td>\n",
       "      <td>47.6289</td>\n",
       "      <td>-122.233</td>\n",
       "      <td>3560</td>\n",
       "      <td>24345</td>\n",
       "    </tr>\n",
       "    <tr>\n",
       "      <th>1448</th>\n",
       "      <td>8907500070</td>\n",
       "      <td>20150413T000000</td>\n",
       "      <td>5350000</td>\n",
       "      <td>5</td>\n",
       "      <td>5.00</td>\n",
       "      <td>8000</td>\n",
       "      <td>23985</td>\n",
       "      <td>2.0</td>\n",
       "      <td>0</td>\n",
       "      <td>4</td>\n",
       "      <td>...</td>\n",
       "      <td>12</td>\n",
       "      <td>6720</td>\n",
       "      <td>1280</td>\n",
       "      <td>2009</td>\n",
       "      <td>0</td>\n",
       "      <td>98004</td>\n",
       "      <td>47.6232</td>\n",
       "      <td>-122.220</td>\n",
       "      <td>4600</td>\n",
       "      <td>21750</td>\n",
       "    </tr>\n",
       "    <tr>\n",
       "      <th>...</th>\n",
       "      <td>...</td>\n",
       "      <td>...</td>\n",
       "      <td>...</td>\n",
       "      <td>...</td>\n",
       "      <td>...</td>\n",
       "      <td>...</td>\n",
       "      <td>...</td>\n",
       "      <td>...</td>\n",
       "      <td>...</td>\n",
       "      <td>...</td>\n",
       "      <td>...</td>\n",
       "      <td>...</td>\n",
       "      <td>...</td>\n",
       "      <td>...</td>\n",
       "      <td>...</td>\n",
       "      <td>...</td>\n",
       "      <td>...</td>\n",
       "      <td>...</td>\n",
       "      <td>...</td>\n",
       "      <td>...</td>\n",
       "      <td>...</td>\n",
       "    </tr>\n",
       "    <tr>\n",
       "      <th>8274</th>\n",
       "      <td>3883800011</td>\n",
       "      <td>20141105T000000</td>\n",
       "      <td>82000</td>\n",
       "      <td>3</td>\n",
       "      <td>1.00</td>\n",
       "      <td>860</td>\n",
       "      <td>10426</td>\n",
       "      <td>1.0</td>\n",
       "      <td>0</td>\n",
       "      <td>0</td>\n",
       "      <td>...</td>\n",
       "      <td>6</td>\n",
       "      <td>860</td>\n",
       "      <td>0</td>\n",
       "      <td>1954</td>\n",
       "      <td>0</td>\n",
       "      <td>98146</td>\n",
       "      <td>47.4987</td>\n",
       "      <td>-122.341</td>\n",
       "      <td>1140</td>\n",
       "      <td>11250</td>\n",
       "    </tr>\n",
       "    <tr>\n",
       "      <th>16198</th>\n",
       "      <td>3028200080</td>\n",
       "      <td>20150324T000000</td>\n",
       "      <td>81000</td>\n",
       "      <td>2</td>\n",
       "      <td>1.00</td>\n",
       "      <td>730</td>\n",
       "      <td>9975</td>\n",
       "      <td>1.0</td>\n",
       "      <td>0</td>\n",
       "      <td>0</td>\n",
       "      <td>...</td>\n",
       "      <td>5</td>\n",
       "      <td>730</td>\n",
       "      <td>0</td>\n",
       "      <td>1943</td>\n",
       "      <td>0</td>\n",
       "      <td>98168</td>\n",
       "      <td>47.4808</td>\n",
       "      <td>-122.315</td>\n",
       "      <td>860</td>\n",
       "      <td>9000</td>\n",
       "    </tr>\n",
       "    <tr>\n",
       "      <th>465</th>\n",
       "      <td>8658300340</td>\n",
       "      <td>20140523T000000</td>\n",
       "      <td>80000</td>\n",
       "      <td>1</td>\n",
       "      <td>0.75</td>\n",
       "      <td>430</td>\n",
       "      <td>5050</td>\n",
       "      <td>1.0</td>\n",
       "      <td>0</td>\n",
       "      <td>0</td>\n",
       "      <td>...</td>\n",
       "      <td>4</td>\n",
       "      <td>430</td>\n",
       "      <td>0</td>\n",
       "      <td>1912</td>\n",
       "      <td>0</td>\n",
       "      <td>98014</td>\n",
       "      <td>47.6499</td>\n",
       "      <td>-121.909</td>\n",
       "      <td>1200</td>\n",
       "      <td>7500</td>\n",
       "    </tr>\n",
       "    <tr>\n",
       "      <th>15293</th>\n",
       "      <td>40000362</td>\n",
       "      <td>20140506T000000</td>\n",
       "      <td>78000</td>\n",
       "      <td>2</td>\n",
       "      <td>1.00</td>\n",
       "      <td>780</td>\n",
       "      <td>16344</td>\n",
       "      <td>1.0</td>\n",
       "      <td>0</td>\n",
       "      <td>0</td>\n",
       "      <td>...</td>\n",
       "      <td>5</td>\n",
       "      <td>780</td>\n",
       "      <td>0</td>\n",
       "      <td>1942</td>\n",
       "      <td>0</td>\n",
       "      <td>98168</td>\n",
       "      <td>47.4739</td>\n",
       "      <td>-122.280</td>\n",
       "      <td>1700</td>\n",
       "      <td>10387</td>\n",
       "    </tr>\n",
       "    <tr>\n",
       "      <th>1149</th>\n",
       "      <td>3421079032</td>\n",
       "      <td>20150217T000000</td>\n",
       "      <td>75000</td>\n",
       "      <td>1</td>\n",
       "      <td>0.00</td>\n",
       "      <td>670</td>\n",
       "      <td>43377</td>\n",
       "      <td>1.0</td>\n",
       "      <td>0</td>\n",
       "      <td>0</td>\n",
       "      <td>...</td>\n",
       "      <td>3</td>\n",
       "      <td>670</td>\n",
       "      <td>0</td>\n",
       "      <td>1966</td>\n",
       "      <td>0</td>\n",
       "      <td>98022</td>\n",
       "      <td>47.2638</td>\n",
       "      <td>-121.906</td>\n",
       "      <td>1160</td>\n",
       "      <td>42882</td>\n",
       "    </tr>\n",
       "  </tbody>\n",
       "</table>\n",
       "<p>21613 rows × 21 columns</p>\n",
       "</div>"
      ],
      "text/plain": [
       "               id             date    price  bedrooms  bathrooms  sqft_living  \\\n",
       "7252   6762700020  20141013T000000  7700000         6       8.00        12050   \n",
       "3914   9808700762  20140611T000000  7062500         5       4.50        10040   \n",
       "9254   9208900037  20140919T000000  6885000         6       7.75         9890   \n",
       "4411   2470100110  20140804T000000  5570000         5       5.75         9200   \n",
       "1448   8907500070  20150413T000000  5350000         5       5.00         8000   \n",
       "...           ...              ...      ...       ...        ...          ...   \n",
       "8274   3883800011  20141105T000000    82000         3       1.00          860   \n",
       "16198  3028200080  20150324T000000    81000         2       1.00          730   \n",
       "465    8658300340  20140523T000000    80000         1       0.75          430   \n",
       "15293    40000362  20140506T000000    78000         2       1.00          780   \n",
       "1149   3421079032  20150217T000000    75000         1       0.00          670   \n",
       "\n",
       "       sqft_lot  floors  waterfront  view  ...  grade  sqft_above  \\\n",
       "7252      27600     2.5           0     3  ...     13        8570   \n",
       "3914      37325     2.0           1     2  ...     11        7680   \n",
       "9254      31374     2.0           0     4  ...     13        8860   \n",
       "4411      35069     2.0           0     0  ...     13        6200   \n",
       "1448      23985     2.0           0     4  ...     12        6720   \n",
       "...         ...     ...         ...   ...  ...    ...         ...   \n",
       "8274      10426     1.0           0     0  ...      6         860   \n",
       "16198      9975     1.0           0     0  ...      5         730   \n",
       "465        5050     1.0           0     0  ...      4         430   \n",
       "15293     16344     1.0           0     0  ...      5         780   \n",
       "1149      43377     1.0           0     0  ...      3         670   \n",
       "\n",
       "       sqft_basement  yr_built  yr_renovated  zipcode      lat     long  \\\n",
       "7252            3480      1910          1987    98102  47.6298 -122.323   \n",
       "3914            2360      1940          2001    98004  47.6500 -122.214   \n",
       "9254            1030      2001             0    98039  47.6305 -122.240   \n",
       "4411            3000      2001             0    98039  47.6289 -122.233   \n",
       "1448            1280      2009             0    98004  47.6232 -122.220   \n",
       "...              ...       ...           ...      ...      ...      ...   \n",
       "8274               0      1954             0    98146  47.4987 -122.341   \n",
       "16198              0      1943             0    98168  47.4808 -122.315   \n",
       "465                0      1912             0    98014  47.6499 -121.909   \n",
       "15293              0      1942             0    98168  47.4739 -122.280   \n",
       "1149               0      1966             0    98022  47.2638 -121.906   \n",
       "\n",
       "       sqft_living15  sqft_lot15  \n",
       "7252            3940        8800  \n",
       "3914            3930       25449  \n",
       "9254            4540       42730  \n",
       "4411            3560       24345  \n",
       "1448            4600       21750  \n",
       "...              ...         ...  \n",
       "8274            1140       11250  \n",
       "16198            860        9000  \n",
       "465             1200        7500  \n",
       "15293           1700       10387  \n",
       "1149            1160       42882  \n",
       "\n",
       "[21613 rows x 21 columns]"
      ]
     },
     "execution_count": 150,
     "metadata": {},
     "output_type": "execute_result"
    }
   ],
   "source": [
    "ascending"
   ]
  },
  {
   "cell_type": "code",
   "execution_count": 151,
   "metadata": {},
   "outputs": [
    {
     "data": {
      "text/html": [
       "<div>\n",
       "<style scoped>\n",
       "    .dataframe tbody tr th:only-of-type {\n",
       "        vertical-align: middle;\n",
       "    }\n",
       "\n",
       "    .dataframe tbody tr th {\n",
       "        vertical-align: top;\n",
       "    }\n",
       "\n",
       "    .dataframe thead th {\n",
       "        text-align: right;\n",
       "    }\n",
       "</style>\n",
       "<table border=\"1\" class=\"dataframe\">\n",
       "  <thead>\n",
       "    <tr style=\"text-align: right;\">\n",
       "      <th></th>\n",
       "      <th>id</th>\n",
       "      <th>price</th>\n",
       "      <th>bedrooms</th>\n",
       "      <th>bathrooms</th>\n",
       "      <th>sqft_living</th>\n",
       "      <th>sqft_lot</th>\n",
       "      <th>floors</th>\n",
       "      <th>waterfront</th>\n",
       "      <th>view</th>\n",
       "      <th>condition</th>\n",
       "      <th>grade</th>\n",
       "      <th>sqft_above</th>\n",
       "      <th>sqft_basement</th>\n",
       "      <th>yr_built</th>\n",
       "      <th>yr_renovated</th>\n",
       "      <th>zipcode</th>\n",
       "      <th>lat</th>\n",
       "      <th>long</th>\n",
       "      <th>sqft_living15</th>\n",
       "      <th>sqft_lot15</th>\n",
       "    </tr>\n",
       "  </thead>\n",
       "  <tbody>\n",
       "    <tr>\n",
       "      <th>count</th>\n",
       "      <td>2.161300e+04</td>\n",
       "      <td>2.161300e+04</td>\n",
       "      <td>21613.000000</td>\n",
       "      <td>21613.000000</td>\n",
       "      <td>21613.000000</td>\n",
       "      <td>2.161300e+04</td>\n",
       "      <td>21613.000000</td>\n",
       "      <td>21613.000000</td>\n",
       "      <td>21613.000000</td>\n",
       "      <td>21613.000000</td>\n",
       "      <td>21613.000000</td>\n",
       "      <td>21613.000000</td>\n",
       "      <td>21613.000000</td>\n",
       "      <td>21613.000000</td>\n",
       "      <td>21613.000000</td>\n",
       "      <td>21613.000000</td>\n",
       "      <td>21613.000000</td>\n",
       "      <td>21613.000000</td>\n",
       "      <td>21613.000000</td>\n",
       "      <td>21613.000000</td>\n",
       "    </tr>\n",
       "    <tr>\n",
       "      <th>mean</th>\n",
       "      <td>4.580302e+09</td>\n",
       "      <td>5.400881e+05</td>\n",
       "      <td>3.370842</td>\n",
       "      <td>2.114757</td>\n",
       "      <td>2079.899736</td>\n",
       "      <td>1.510697e+04</td>\n",
       "      <td>1.494309</td>\n",
       "      <td>0.007542</td>\n",
       "      <td>0.234303</td>\n",
       "      <td>3.409430</td>\n",
       "      <td>7.656873</td>\n",
       "      <td>1788.390691</td>\n",
       "      <td>291.509045</td>\n",
       "      <td>1971.005136</td>\n",
       "      <td>84.402258</td>\n",
       "      <td>98077.939805</td>\n",
       "      <td>47.560053</td>\n",
       "      <td>-122.213896</td>\n",
       "      <td>1986.552492</td>\n",
       "      <td>12768.455652</td>\n",
       "    </tr>\n",
       "    <tr>\n",
       "      <th>std</th>\n",
       "      <td>2.876566e+09</td>\n",
       "      <td>3.671272e+05</td>\n",
       "      <td>0.930062</td>\n",
       "      <td>0.770163</td>\n",
       "      <td>918.440897</td>\n",
       "      <td>4.142051e+04</td>\n",
       "      <td>0.539989</td>\n",
       "      <td>0.086517</td>\n",
       "      <td>0.766318</td>\n",
       "      <td>0.650743</td>\n",
       "      <td>1.175459</td>\n",
       "      <td>828.090978</td>\n",
       "      <td>442.575043</td>\n",
       "      <td>29.373411</td>\n",
       "      <td>401.679240</td>\n",
       "      <td>53.505026</td>\n",
       "      <td>0.138564</td>\n",
       "      <td>0.140828</td>\n",
       "      <td>685.391304</td>\n",
       "      <td>27304.179631</td>\n",
       "    </tr>\n",
       "    <tr>\n",
       "      <th>min</th>\n",
       "      <td>1.000102e+06</td>\n",
       "      <td>7.500000e+04</td>\n",
       "      <td>0.000000</td>\n",
       "      <td>0.000000</td>\n",
       "      <td>290.000000</td>\n",
       "      <td>5.200000e+02</td>\n",
       "      <td>1.000000</td>\n",
       "      <td>0.000000</td>\n",
       "      <td>0.000000</td>\n",
       "      <td>1.000000</td>\n",
       "      <td>1.000000</td>\n",
       "      <td>290.000000</td>\n",
       "      <td>0.000000</td>\n",
       "      <td>1900.000000</td>\n",
       "      <td>0.000000</td>\n",
       "      <td>98001.000000</td>\n",
       "      <td>47.155900</td>\n",
       "      <td>-122.519000</td>\n",
       "      <td>399.000000</td>\n",
       "      <td>651.000000</td>\n",
       "    </tr>\n",
       "    <tr>\n",
       "      <th>25%</th>\n",
       "      <td>2.123049e+09</td>\n",
       "      <td>3.219500e+05</td>\n",
       "      <td>3.000000</td>\n",
       "      <td>1.750000</td>\n",
       "      <td>1427.000000</td>\n",
       "      <td>5.040000e+03</td>\n",
       "      <td>1.000000</td>\n",
       "      <td>0.000000</td>\n",
       "      <td>0.000000</td>\n",
       "      <td>3.000000</td>\n",
       "      <td>7.000000</td>\n",
       "      <td>1190.000000</td>\n",
       "      <td>0.000000</td>\n",
       "      <td>1951.000000</td>\n",
       "      <td>0.000000</td>\n",
       "      <td>98033.000000</td>\n",
       "      <td>47.471000</td>\n",
       "      <td>-122.328000</td>\n",
       "      <td>1490.000000</td>\n",
       "      <td>5100.000000</td>\n",
       "    </tr>\n",
       "    <tr>\n",
       "      <th>50%</th>\n",
       "      <td>3.904930e+09</td>\n",
       "      <td>4.500000e+05</td>\n",
       "      <td>3.000000</td>\n",
       "      <td>2.250000</td>\n",
       "      <td>1910.000000</td>\n",
       "      <td>7.618000e+03</td>\n",
       "      <td>1.500000</td>\n",
       "      <td>0.000000</td>\n",
       "      <td>0.000000</td>\n",
       "      <td>3.000000</td>\n",
       "      <td>7.000000</td>\n",
       "      <td>1560.000000</td>\n",
       "      <td>0.000000</td>\n",
       "      <td>1975.000000</td>\n",
       "      <td>0.000000</td>\n",
       "      <td>98065.000000</td>\n",
       "      <td>47.571800</td>\n",
       "      <td>-122.230000</td>\n",
       "      <td>1840.000000</td>\n",
       "      <td>7620.000000</td>\n",
       "    </tr>\n",
       "    <tr>\n",
       "      <th>75%</th>\n",
       "      <td>7.308900e+09</td>\n",
       "      <td>6.450000e+05</td>\n",
       "      <td>4.000000</td>\n",
       "      <td>2.500000</td>\n",
       "      <td>2550.000000</td>\n",
       "      <td>1.068800e+04</td>\n",
       "      <td>2.000000</td>\n",
       "      <td>0.000000</td>\n",
       "      <td>0.000000</td>\n",
       "      <td>4.000000</td>\n",
       "      <td>8.000000</td>\n",
       "      <td>2210.000000</td>\n",
       "      <td>560.000000</td>\n",
       "      <td>1997.000000</td>\n",
       "      <td>0.000000</td>\n",
       "      <td>98118.000000</td>\n",
       "      <td>47.678000</td>\n",
       "      <td>-122.125000</td>\n",
       "      <td>2360.000000</td>\n",
       "      <td>10083.000000</td>\n",
       "    </tr>\n",
       "    <tr>\n",
       "      <th>max</th>\n",
       "      <td>9.900000e+09</td>\n",
       "      <td>7.700000e+06</td>\n",
       "      <td>33.000000</td>\n",
       "      <td>8.000000</td>\n",
       "      <td>13540.000000</td>\n",
       "      <td>1.651359e+06</td>\n",
       "      <td>3.500000</td>\n",
       "      <td>1.000000</td>\n",
       "      <td>4.000000</td>\n",
       "      <td>5.000000</td>\n",
       "      <td>13.000000</td>\n",
       "      <td>9410.000000</td>\n",
       "      <td>4820.000000</td>\n",
       "      <td>2015.000000</td>\n",
       "      <td>2015.000000</td>\n",
       "      <td>98199.000000</td>\n",
       "      <td>47.777600</td>\n",
       "      <td>-121.315000</td>\n",
       "      <td>6210.000000</td>\n",
       "      <td>871200.000000</td>\n",
       "    </tr>\n",
       "  </tbody>\n",
       "</table>\n",
       "</div>"
      ],
      "text/plain": [
       "                 id         price      bedrooms     bathrooms   sqft_living  \\\n",
       "count  2.161300e+04  2.161300e+04  21613.000000  21613.000000  21613.000000   \n",
       "mean   4.580302e+09  5.400881e+05      3.370842      2.114757   2079.899736   \n",
       "std    2.876566e+09  3.671272e+05      0.930062      0.770163    918.440897   \n",
       "min    1.000102e+06  7.500000e+04      0.000000      0.000000    290.000000   \n",
       "25%    2.123049e+09  3.219500e+05      3.000000      1.750000   1427.000000   \n",
       "50%    3.904930e+09  4.500000e+05      3.000000      2.250000   1910.000000   \n",
       "75%    7.308900e+09  6.450000e+05      4.000000      2.500000   2550.000000   \n",
       "max    9.900000e+09  7.700000e+06     33.000000      8.000000  13540.000000   \n",
       "\n",
       "           sqft_lot        floors    waterfront          view     condition  \\\n",
       "count  2.161300e+04  21613.000000  21613.000000  21613.000000  21613.000000   \n",
       "mean   1.510697e+04      1.494309      0.007542      0.234303      3.409430   \n",
       "std    4.142051e+04      0.539989      0.086517      0.766318      0.650743   \n",
       "min    5.200000e+02      1.000000      0.000000      0.000000      1.000000   \n",
       "25%    5.040000e+03      1.000000      0.000000      0.000000      3.000000   \n",
       "50%    7.618000e+03      1.500000      0.000000      0.000000      3.000000   \n",
       "75%    1.068800e+04      2.000000      0.000000      0.000000      4.000000   \n",
       "max    1.651359e+06      3.500000      1.000000      4.000000      5.000000   \n",
       "\n",
       "              grade    sqft_above  sqft_basement      yr_built  yr_renovated  \\\n",
       "count  21613.000000  21613.000000   21613.000000  21613.000000  21613.000000   \n",
       "mean       7.656873   1788.390691     291.509045   1971.005136     84.402258   \n",
       "std        1.175459    828.090978     442.575043     29.373411    401.679240   \n",
       "min        1.000000    290.000000       0.000000   1900.000000      0.000000   \n",
       "25%        7.000000   1190.000000       0.000000   1951.000000      0.000000   \n",
       "50%        7.000000   1560.000000       0.000000   1975.000000      0.000000   \n",
       "75%        8.000000   2210.000000     560.000000   1997.000000      0.000000   \n",
       "max       13.000000   9410.000000    4820.000000   2015.000000   2015.000000   \n",
       "\n",
       "            zipcode           lat          long  sqft_living15     sqft_lot15  \n",
       "count  21613.000000  21613.000000  21613.000000   21613.000000   21613.000000  \n",
       "mean   98077.939805     47.560053   -122.213896    1986.552492   12768.455652  \n",
       "std       53.505026      0.138564      0.140828     685.391304   27304.179631  \n",
       "min    98001.000000     47.155900   -122.519000     399.000000     651.000000  \n",
       "25%    98033.000000     47.471000   -122.328000    1490.000000    5100.000000  \n",
       "50%    98065.000000     47.571800   -122.230000    1840.000000    7620.000000  \n",
       "75%    98118.000000     47.678000   -122.125000    2360.000000   10083.000000  \n",
       "max    98199.000000     47.777600   -121.315000    6210.000000  871200.000000  "
      ]
     },
     "execution_count": 151,
     "metadata": {},
     "output_type": "execute_result"
    }
   ],
   "source": [
    "df.describe()"
   ]
  },
  {
   "cell_type": "code",
   "execution_count": 152,
   "metadata": {},
   "outputs": [
    {
     "name": "stdout",
     "output_type": "stream",
     "text": [
      "<class 'pandas.core.frame.DataFrame'>\n",
      "RangeIndex: 21613 entries, 0 to 21612\n",
      "Data columns (total 21 columns):\n",
      " #   Column         Non-Null Count  Dtype  \n",
      "---  ------         --------------  -----  \n",
      " 0   id             21613 non-null  int64  \n",
      " 1   date           21613 non-null  object \n",
      " 2   price          21613 non-null  int64  \n",
      " 3   bedrooms       21613 non-null  int64  \n",
      " 4   bathrooms      21613 non-null  float64\n",
      " 5   sqft_living    21613 non-null  int64  \n",
      " 6   sqft_lot       21613 non-null  int64  \n",
      " 7   floors         21613 non-null  float64\n",
      " 8   waterfront     21613 non-null  int64  \n",
      " 9   view           21613 non-null  int64  \n",
      " 10  condition      21613 non-null  int64  \n",
      " 11  grade          21613 non-null  int64  \n",
      " 12  sqft_above     21613 non-null  int64  \n",
      " 13  sqft_basement  21613 non-null  int64  \n",
      " 14  yr_built       21613 non-null  int64  \n",
      " 15  yr_renovated   21613 non-null  int64  \n",
      " 16  zipcode        21613 non-null  int64  \n",
      " 17  lat            21613 non-null  float64\n",
      " 18  long           21613 non-null  float64\n",
      " 19  sqft_living15  21613 non-null  int64  \n",
      " 20  sqft_lot15     21613 non-null  int64  \n",
      "dtypes: float64(4), int64(16), object(1)\n",
      "memory usage: 3.5+ MB\n"
     ]
    }
   ],
   "source": [
    "df.info()"
   ]
  },
  {
   "cell_type": "code",
   "execution_count": 153,
   "metadata": {},
   "outputs": [],
   "source": [
    "df['Floor Area'] = df['sqft_living'] + df['sqft_lot'] + df['sqft_basement'] + df['sqft_above']"
   ]
  },
  {
   "cell_type": "code",
   "execution_count": 154,
   "metadata": {},
   "outputs": [
    {
     "data": {
      "text/html": [
       "<div>\n",
       "<style scoped>\n",
       "    .dataframe tbody tr th:only-of-type {\n",
       "        vertical-align: middle;\n",
       "    }\n",
       "\n",
       "    .dataframe tbody tr th {\n",
       "        vertical-align: top;\n",
       "    }\n",
       "\n",
       "    .dataframe thead th {\n",
       "        text-align: right;\n",
       "    }\n",
       "</style>\n",
       "<table border=\"1\" class=\"dataframe\">\n",
       "  <thead>\n",
       "    <tr style=\"text-align: right;\">\n",
       "      <th></th>\n",
       "      <th>id</th>\n",
       "      <th>date</th>\n",
       "      <th>price</th>\n",
       "      <th>bedrooms</th>\n",
       "      <th>bathrooms</th>\n",
       "      <th>sqft_living</th>\n",
       "      <th>sqft_lot</th>\n",
       "      <th>floors</th>\n",
       "      <th>waterfront</th>\n",
       "      <th>view</th>\n",
       "      <th>...</th>\n",
       "      <th>sqft_above</th>\n",
       "      <th>sqft_basement</th>\n",
       "      <th>yr_built</th>\n",
       "      <th>yr_renovated</th>\n",
       "      <th>zipcode</th>\n",
       "      <th>lat</th>\n",
       "      <th>long</th>\n",
       "      <th>sqft_living15</th>\n",
       "      <th>sqft_lot15</th>\n",
       "      <th>Floor Area</th>\n",
       "    </tr>\n",
       "  </thead>\n",
       "  <tbody>\n",
       "    <tr>\n",
       "      <th>0</th>\n",
       "      <td>7129300520</td>\n",
       "      <td>20141013T000000</td>\n",
       "      <td>221900</td>\n",
       "      <td>3</td>\n",
       "      <td>1.00</td>\n",
       "      <td>1180</td>\n",
       "      <td>5650</td>\n",
       "      <td>1.0</td>\n",
       "      <td>0</td>\n",
       "      <td>0</td>\n",
       "      <td>...</td>\n",
       "      <td>1180</td>\n",
       "      <td>0</td>\n",
       "      <td>1955</td>\n",
       "      <td>0</td>\n",
       "      <td>98178</td>\n",
       "      <td>47.5112</td>\n",
       "      <td>-122.257</td>\n",
       "      <td>1340</td>\n",
       "      <td>5650</td>\n",
       "      <td>8010</td>\n",
       "    </tr>\n",
       "    <tr>\n",
       "      <th>1</th>\n",
       "      <td>6414100192</td>\n",
       "      <td>20141209T000000</td>\n",
       "      <td>538000</td>\n",
       "      <td>3</td>\n",
       "      <td>2.25</td>\n",
       "      <td>2570</td>\n",
       "      <td>7242</td>\n",
       "      <td>2.0</td>\n",
       "      <td>0</td>\n",
       "      <td>0</td>\n",
       "      <td>...</td>\n",
       "      <td>2170</td>\n",
       "      <td>400</td>\n",
       "      <td>1951</td>\n",
       "      <td>1991</td>\n",
       "      <td>98125</td>\n",
       "      <td>47.7210</td>\n",
       "      <td>-122.319</td>\n",
       "      <td>1690</td>\n",
       "      <td>7639</td>\n",
       "      <td>12382</td>\n",
       "    </tr>\n",
       "    <tr>\n",
       "      <th>2</th>\n",
       "      <td>5631500400</td>\n",
       "      <td>20150225T000000</td>\n",
       "      <td>180000</td>\n",
       "      <td>2</td>\n",
       "      <td>1.00</td>\n",
       "      <td>770</td>\n",
       "      <td>10000</td>\n",
       "      <td>1.0</td>\n",
       "      <td>0</td>\n",
       "      <td>0</td>\n",
       "      <td>...</td>\n",
       "      <td>770</td>\n",
       "      <td>0</td>\n",
       "      <td>1933</td>\n",
       "      <td>0</td>\n",
       "      <td>98028</td>\n",
       "      <td>47.7379</td>\n",
       "      <td>-122.233</td>\n",
       "      <td>2720</td>\n",
       "      <td>8062</td>\n",
       "      <td>11540</td>\n",
       "    </tr>\n",
       "    <tr>\n",
       "      <th>3</th>\n",
       "      <td>2487200875</td>\n",
       "      <td>20141209T000000</td>\n",
       "      <td>604000</td>\n",
       "      <td>4</td>\n",
       "      <td>3.00</td>\n",
       "      <td>1960</td>\n",
       "      <td>5000</td>\n",
       "      <td>1.0</td>\n",
       "      <td>0</td>\n",
       "      <td>0</td>\n",
       "      <td>...</td>\n",
       "      <td>1050</td>\n",
       "      <td>910</td>\n",
       "      <td>1965</td>\n",
       "      <td>0</td>\n",
       "      <td>98136</td>\n",
       "      <td>47.5208</td>\n",
       "      <td>-122.393</td>\n",
       "      <td>1360</td>\n",
       "      <td>5000</td>\n",
       "      <td>8920</td>\n",
       "    </tr>\n",
       "    <tr>\n",
       "      <th>4</th>\n",
       "      <td>1954400510</td>\n",
       "      <td>20150218T000000</td>\n",
       "      <td>510000</td>\n",
       "      <td>3</td>\n",
       "      <td>2.00</td>\n",
       "      <td>1680</td>\n",
       "      <td>8080</td>\n",
       "      <td>1.0</td>\n",
       "      <td>0</td>\n",
       "      <td>0</td>\n",
       "      <td>...</td>\n",
       "      <td>1680</td>\n",
       "      <td>0</td>\n",
       "      <td>1987</td>\n",
       "      <td>0</td>\n",
       "      <td>98074</td>\n",
       "      <td>47.6168</td>\n",
       "      <td>-122.045</td>\n",
       "      <td>1800</td>\n",
       "      <td>7503</td>\n",
       "      <td>11440</td>\n",
       "    </tr>\n",
       "    <tr>\n",
       "      <th>...</th>\n",
       "      <td>...</td>\n",
       "      <td>...</td>\n",
       "      <td>...</td>\n",
       "      <td>...</td>\n",
       "      <td>...</td>\n",
       "      <td>...</td>\n",
       "      <td>...</td>\n",
       "      <td>...</td>\n",
       "      <td>...</td>\n",
       "      <td>...</td>\n",
       "      <td>...</td>\n",
       "      <td>...</td>\n",
       "      <td>...</td>\n",
       "      <td>...</td>\n",
       "      <td>...</td>\n",
       "      <td>...</td>\n",
       "      <td>...</td>\n",
       "      <td>...</td>\n",
       "      <td>...</td>\n",
       "      <td>...</td>\n",
       "      <td>...</td>\n",
       "    </tr>\n",
       "    <tr>\n",
       "      <th>21608</th>\n",
       "      <td>263000018</td>\n",
       "      <td>20140521T000000</td>\n",
       "      <td>360000</td>\n",
       "      <td>3</td>\n",
       "      <td>2.50</td>\n",
       "      <td>1530</td>\n",
       "      <td>1131</td>\n",
       "      <td>3.0</td>\n",
       "      <td>0</td>\n",
       "      <td>0</td>\n",
       "      <td>...</td>\n",
       "      <td>1530</td>\n",
       "      <td>0</td>\n",
       "      <td>2009</td>\n",
       "      <td>0</td>\n",
       "      <td>98103</td>\n",
       "      <td>47.6993</td>\n",
       "      <td>-122.346</td>\n",
       "      <td>1530</td>\n",
       "      <td>1509</td>\n",
       "      <td>4191</td>\n",
       "    </tr>\n",
       "    <tr>\n",
       "      <th>21609</th>\n",
       "      <td>6600060120</td>\n",
       "      <td>20150223T000000</td>\n",
       "      <td>400000</td>\n",
       "      <td>4</td>\n",
       "      <td>2.50</td>\n",
       "      <td>2310</td>\n",
       "      <td>5813</td>\n",
       "      <td>2.0</td>\n",
       "      <td>0</td>\n",
       "      <td>0</td>\n",
       "      <td>...</td>\n",
       "      <td>2310</td>\n",
       "      <td>0</td>\n",
       "      <td>2014</td>\n",
       "      <td>0</td>\n",
       "      <td>98146</td>\n",
       "      <td>47.5107</td>\n",
       "      <td>-122.362</td>\n",
       "      <td>1830</td>\n",
       "      <td>7200</td>\n",
       "      <td>10433</td>\n",
       "    </tr>\n",
       "    <tr>\n",
       "      <th>21610</th>\n",
       "      <td>1523300141</td>\n",
       "      <td>20140623T000000</td>\n",
       "      <td>402101</td>\n",
       "      <td>2</td>\n",
       "      <td>0.75</td>\n",
       "      <td>1020</td>\n",
       "      <td>1350</td>\n",
       "      <td>2.0</td>\n",
       "      <td>0</td>\n",
       "      <td>0</td>\n",
       "      <td>...</td>\n",
       "      <td>1020</td>\n",
       "      <td>0</td>\n",
       "      <td>2009</td>\n",
       "      <td>0</td>\n",
       "      <td>98144</td>\n",
       "      <td>47.5944</td>\n",
       "      <td>-122.299</td>\n",
       "      <td>1020</td>\n",
       "      <td>2007</td>\n",
       "      <td>3390</td>\n",
       "    </tr>\n",
       "    <tr>\n",
       "      <th>21611</th>\n",
       "      <td>291310100</td>\n",
       "      <td>20150116T000000</td>\n",
       "      <td>400000</td>\n",
       "      <td>3</td>\n",
       "      <td>2.50</td>\n",
       "      <td>1600</td>\n",
       "      <td>2388</td>\n",
       "      <td>2.0</td>\n",
       "      <td>0</td>\n",
       "      <td>0</td>\n",
       "      <td>...</td>\n",
       "      <td>1600</td>\n",
       "      <td>0</td>\n",
       "      <td>2004</td>\n",
       "      <td>0</td>\n",
       "      <td>98027</td>\n",
       "      <td>47.5345</td>\n",
       "      <td>-122.069</td>\n",
       "      <td>1410</td>\n",
       "      <td>1287</td>\n",
       "      <td>5588</td>\n",
       "    </tr>\n",
       "    <tr>\n",
       "      <th>21612</th>\n",
       "      <td>1523300157</td>\n",
       "      <td>20141015T000000</td>\n",
       "      <td>325000</td>\n",
       "      <td>2</td>\n",
       "      <td>0.75</td>\n",
       "      <td>1020</td>\n",
       "      <td>1076</td>\n",
       "      <td>2.0</td>\n",
       "      <td>0</td>\n",
       "      <td>0</td>\n",
       "      <td>...</td>\n",
       "      <td>1020</td>\n",
       "      <td>0</td>\n",
       "      <td>2008</td>\n",
       "      <td>0</td>\n",
       "      <td>98144</td>\n",
       "      <td>47.5941</td>\n",
       "      <td>-122.299</td>\n",
       "      <td>1020</td>\n",
       "      <td>1357</td>\n",
       "      <td>3116</td>\n",
       "    </tr>\n",
       "  </tbody>\n",
       "</table>\n",
       "<p>21613 rows × 22 columns</p>\n",
       "</div>"
      ],
      "text/plain": [
       "               id             date   price  bedrooms  bathrooms  sqft_living  \\\n",
       "0      7129300520  20141013T000000  221900         3       1.00         1180   \n",
       "1      6414100192  20141209T000000  538000         3       2.25         2570   \n",
       "2      5631500400  20150225T000000  180000         2       1.00          770   \n",
       "3      2487200875  20141209T000000  604000         4       3.00         1960   \n",
       "4      1954400510  20150218T000000  510000         3       2.00         1680   \n",
       "...           ...              ...     ...       ...        ...          ...   \n",
       "21608   263000018  20140521T000000  360000         3       2.50         1530   \n",
       "21609  6600060120  20150223T000000  400000         4       2.50         2310   \n",
       "21610  1523300141  20140623T000000  402101         2       0.75         1020   \n",
       "21611   291310100  20150116T000000  400000         3       2.50         1600   \n",
       "21612  1523300157  20141015T000000  325000         2       0.75         1020   \n",
       "\n",
       "       sqft_lot  floors  waterfront  view  ...  sqft_above  sqft_basement  \\\n",
       "0          5650     1.0           0     0  ...        1180              0   \n",
       "1          7242     2.0           0     0  ...        2170            400   \n",
       "2         10000     1.0           0     0  ...         770              0   \n",
       "3          5000     1.0           0     0  ...        1050            910   \n",
       "4          8080     1.0           0     0  ...        1680              0   \n",
       "...         ...     ...         ...   ...  ...         ...            ...   \n",
       "21608      1131     3.0           0     0  ...        1530              0   \n",
       "21609      5813     2.0           0     0  ...        2310              0   \n",
       "21610      1350     2.0           0     0  ...        1020              0   \n",
       "21611      2388     2.0           0     0  ...        1600              0   \n",
       "21612      1076     2.0           0     0  ...        1020              0   \n",
       "\n",
       "       yr_built  yr_renovated  zipcode      lat     long  sqft_living15  \\\n",
       "0          1955             0    98178  47.5112 -122.257           1340   \n",
       "1          1951          1991    98125  47.7210 -122.319           1690   \n",
       "2          1933             0    98028  47.7379 -122.233           2720   \n",
       "3          1965             0    98136  47.5208 -122.393           1360   \n",
       "4          1987             0    98074  47.6168 -122.045           1800   \n",
       "...         ...           ...      ...      ...      ...            ...   \n",
       "21608      2009             0    98103  47.6993 -122.346           1530   \n",
       "21609      2014             0    98146  47.5107 -122.362           1830   \n",
       "21610      2009             0    98144  47.5944 -122.299           1020   \n",
       "21611      2004             0    98027  47.5345 -122.069           1410   \n",
       "21612      2008             0    98144  47.5941 -122.299           1020   \n",
       "\n",
       "       sqft_lot15  Floor Area  \n",
       "0            5650        8010  \n",
       "1            7639       12382  \n",
       "2            8062       11540  \n",
       "3            5000        8920  \n",
       "4            7503       11440  \n",
       "...           ...         ...  \n",
       "21608        1509        4191  \n",
       "21609        7200       10433  \n",
       "21610        2007        3390  \n",
       "21611        1287        5588  \n",
       "21612        1357        3116  \n",
       "\n",
       "[21613 rows x 22 columns]"
      ]
     },
     "execution_count": 154,
     "metadata": {},
     "output_type": "execute_result"
    }
   ],
   "source": [
    "df"
   ]
  },
  {
   "cell_type": "code",
   "execution_count": 155,
   "metadata": {},
   "outputs": [],
   "source": [
    "A = pd.DataFrame([['Carl', 22],['Martha', 25],['Calvin', 12],['Stuart', 15]], columns=['Name', 'Age'])\n",
    "B = pd.DataFrame([['Melvin', 25],['Martha', 34],['Lewis', 32],['Leo', 25]], columns=['Name', 'Age'])\n",
    "#1. Left Outer Join\n",
    "#2. Outer Join\n",
    "#3. Inner Join\n",
    "#4. Right Outer Join"
   ]
  },
  {
   "cell_type": "code",
   "execution_count": 156,
   "metadata": {},
   "outputs": [],
   "source": [
    "inner = pd.merge(A, B, on='Age', how='inner')\n",
    "outer = pd.merge(A, B, on='Age', how='outer')\n",
    "left_outer = pd.merge(A, B, on='Age', how='left')\n",
    "right_outer = pd.merge(A, B, on='Age', how='right')"
   ]
  },
  {
   "cell_type": "code",
   "execution_count": 157,
   "metadata": {},
   "outputs": [
    {
     "name": "stdout",
     "output_type": "stream",
     "text": [
      "0.7546652789673732\n"
     ]
    }
   ],
   "source": [
    "print(df['bathrooms'].corr(df['sqft_living']))"
   ]
  },
  {
   "cell_type": "code",
   "execution_count": null,
   "metadata": {},
   "outputs": [],
   "source": []
  },
  {
   "cell_type": "code",
   "execution_count": null,
   "metadata": {},
   "outputs": [],
   "source": []
  },
  {
   "cell_type": "markdown",
   "metadata": {},
   "source": [
    "# VISUALIZATION"
   ]
  },
  {
   "cell_type": "code",
   "execution_count": 158,
   "metadata": {},
   "outputs": [],
   "source": [
    "import pandas as pd\n",
    "import numpy as np\n",
    "import matplotlib.pyplot as plt\n",
    "import seaborn as sns"
   ]
  },
  {
   "cell_type": "code",
   "execution_count": 159,
   "metadata": {},
   "outputs": [
    {
     "data": {
      "text/plain": [
       "'matplotlib'"
      ]
     },
     "execution_count": 159,
     "metadata": {},
     "output_type": "execute_result"
    }
   ],
   "source": [
    "q1='matplotlib'\n",
    "q1"
   ]
  },
  {
   "cell_type": "code",
   "execution_count": 160,
   "metadata": {},
   "outputs": [],
   "source": [
    "data=pd.read_csv('home_data.csv')"
   ]
  },
  {
   "cell_type": "code",
   "execution_count": 161,
   "metadata": {},
   "outputs": [
    {
     "data": {
      "text/html": [
       "<div>\n",
       "<style scoped>\n",
       "    .dataframe tbody tr th:only-of-type {\n",
       "        vertical-align: middle;\n",
       "    }\n",
       "\n",
       "    .dataframe tbody tr th {\n",
       "        vertical-align: top;\n",
       "    }\n",
       "\n",
       "    .dataframe thead th {\n",
       "        text-align: right;\n",
       "    }\n",
       "</style>\n",
       "<table border=\"1\" class=\"dataframe\">\n",
       "  <thead>\n",
       "    <tr style=\"text-align: right;\">\n",
       "      <th></th>\n",
       "      <th>id</th>\n",
       "      <th>date</th>\n",
       "      <th>price</th>\n",
       "      <th>bedrooms</th>\n",
       "      <th>bathrooms</th>\n",
       "      <th>sqft_living</th>\n",
       "      <th>sqft_lot</th>\n",
       "      <th>floors</th>\n",
       "      <th>waterfront</th>\n",
       "      <th>view</th>\n",
       "      <th>...</th>\n",
       "      <th>grade</th>\n",
       "      <th>sqft_above</th>\n",
       "      <th>sqft_basement</th>\n",
       "      <th>yr_built</th>\n",
       "      <th>yr_renovated</th>\n",
       "      <th>zipcode</th>\n",
       "      <th>lat</th>\n",
       "      <th>long</th>\n",
       "      <th>sqft_living15</th>\n",
       "      <th>sqft_lot15</th>\n",
       "    </tr>\n",
       "  </thead>\n",
       "  <tbody>\n",
       "    <tr>\n",
       "      <th>0</th>\n",
       "      <td>7129300520</td>\n",
       "      <td>20141013T000000</td>\n",
       "      <td>221900</td>\n",
       "      <td>3</td>\n",
       "      <td>1.00</td>\n",
       "      <td>1180</td>\n",
       "      <td>5650</td>\n",
       "      <td>1.0</td>\n",
       "      <td>0</td>\n",
       "      <td>0</td>\n",
       "      <td>...</td>\n",
       "      <td>7</td>\n",
       "      <td>1180</td>\n",
       "      <td>0</td>\n",
       "      <td>1955</td>\n",
       "      <td>0</td>\n",
       "      <td>98178</td>\n",
       "      <td>47.5112</td>\n",
       "      <td>-122.257</td>\n",
       "      <td>1340</td>\n",
       "      <td>5650</td>\n",
       "    </tr>\n",
       "    <tr>\n",
       "      <th>1</th>\n",
       "      <td>6414100192</td>\n",
       "      <td>20141209T000000</td>\n",
       "      <td>538000</td>\n",
       "      <td>3</td>\n",
       "      <td>2.25</td>\n",
       "      <td>2570</td>\n",
       "      <td>7242</td>\n",
       "      <td>2.0</td>\n",
       "      <td>0</td>\n",
       "      <td>0</td>\n",
       "      <td>...</td>\n",
       "      <td>7</td>\n",
       "      <td>2170</td>\n",
       "      <td>400</td>\n",
       "      <td>1951</td>\n",
       "      <td>1991</td>\n",
       "      <td>98125</td>\n",
       "      <td>47.7210</td>\n",
       "      <td>-122.319</td>\n",
       "      <td>1690</td>\n",
       "      <td>7639</td>\n",
       "    </tr>\n",
       "    <tr>\n",
       "      <th>2</th>\n",
       "      <td>5631500400</td>\n",
       "      <td>20150225T000000</td>\n",
       "      <td>180000</td>\n",
       "      <td>2</td>\n",
       "      <td>1.00</td>\n",
       "      <td>770</td>\n",
       "      <td>10000</td>\n",
       "      <td>1.0</td>\n",
       "      <td>0</td>\n",
       "      <td>0</td>\n",
       "      <td>...</td>\n",
       "      <td>6</td>\n",
       "      <td>770</td>\n",
       "      <td>0</td>\n",
       "      <td>1933</td>\n",
       "      <td>0</td>\n",
       "      <td>98028</td>\n",
       "      <td>47.7379</td>\n",
       "      <td>-122.233</td>\n",
       "      <td>2720</td>\n",
       "      <td>8062</td>\n",
       "    </tr>\n",
       "    <tr>\n",
       "      <th>3</th>\n",
       "      <td>2487200875</td>\n",
       "      <td>20141209T000000</td>\n",
       "      <td>604000</td>\n",
       "      <td>4</td>\n",
       "      <td>3.00</td>\n",
       "      <td>1960</td>\n",
       "      <td>5000</td>\n",
       "      <td>1.0</td>\n",
       "      <td>0</td>\n",
       "      <td>0</td>\n",
       "      <td>...</td>\n",
       "      <td>7</td>\n",
       "      <td>1050</td>\n",
       "      <td>910</td>\n",
       "      <td>1965</td>\n",
       "      <td>0</td>\n",
       "      <td>98136</td>\n",
       "      <td>47.5208</td>\n",
       "      <td>-122.393</td>\n",
       "      <td>1360</td>\n",
       "      <td>5000</td>\n",
       "    </tr>\n",
       "    <tr>\n",
       "      <th>4</th>\n",
       "      <td>1954400510</td>\n",
       "      <td>20150218T000000</td>\n",
       "      <td>510000</td>\n",
       "      <td>3</td>\n",
       "      <td>2.00</td>\n",
       "      <td>1680</td>\n",
       "      <td>8080</td>\n",
       "      <td>1.0</td>\n",
       "      <td>0</td>\n",
       "      <td>0</td>\n",
       "      <td>...</td>\n",
       "      <td>8</td>\n",
       "      <td>1680</td>\n",
       "      <td>0</td>\n",
       "      <td>1987</td>\n",
       "      <td>0</td>\n",
       "      <td>98074</td>\n",
       "      <td>47.6168</td>\n",
       "      <td>-122.045</td>\n",
       "      <td>1800</td>\n",
       "      <td>7503</td>\n",
       "    </tr>\n",
       "  </tbody>\n",
       "</table>\n",
       "<p>5 rows × 21 columns</p>\n",
       "</div>"
      ],
      "text/plain": [
       "           id             date   price  bedrooms  bathrooms  sqft_living  \\\n",
       "0  7129300520  20141013T000000  221900         3       1.00         1180   \n",
       "1  6414100192  20141209T000000  538000         3       2.25         2570   \n",
       "2  5631500400  20150225T000000  180000         2       1.00          770   \n",
       "3  2487200875  20141209T000000  604000         4       3.00         1960   \n",
       "4  1954400510  20150218T000000  510000         3       2.00         1680   \n",
       "\n",
       "   sqft_lot  floors  waterfront  view  ...  grade  sqft_above  sqft_basement  \\\n",
       "0      5650     1.0           0     0  ...      7        1180              0   \n",
       "1      7242     2.0           0     0  ...      7        2170            400   \n",
       "2     10000     1.0           0     0  ...      6         770              0   \n",
       "3      5000     1.0           0     0  ...      7        1050            910   \n",
       "4      8080     1.0           0     0  ...      8        1680              0   \n",
       "\n",
       "   yr_built  yr_renovated  zipcode      lat     long  sqft_living15  \\\n",
       "0      1955             0    98178  47.5112 -122.257           1340   \n",
       "1      1951          1991    98125  47.7210 -122.319           1690   \n",
       "2      1933             0    98028  47.7379 -122.233           2720   \n",
       "3      1965             0    98136  47.5208 -122.393           1360   \n",
       "4      1987             0    98074  47.6168 -122.045           1800   \n",
       "\n",
       "   sqft_lot15  \n",
       "0        5650  \n",
       "1        7639  \n",
       "2        8062  \n",
       "3        5000  \n",
       "4        7503  \n",
       "\n",
       "[5 rows x 21 columns]"
      ]
     },
     "execution_count": 161,
     "metadata": {},
     "output_type": "execute_result"
    }
   ],
   "source": [
    "data.head()"
   ]
  },
  {
   "cell_type": "code",
   "execution_count": 166,
   "metadata": {},
   "outputs": [
    {
     "data": {
      "text/plain": [
       "([<matplotlib.patches.Wedge at 0x1e5d02989a0>,\n",
       "  <matplotlib.patches.Wedge at 0x1e5d05b7a60>,\n",
       "  <matplotlib.patches.Wedge at 0x1e5d09d38e0>,\n",
       "  <matplotlib.patches.Wedge at 0x1e5d328e280>,\n",
       "  <matplotlib.patches.Wedge at 0x1e5d328ec70>,\n",
       "  <matplotlib.patches.Wedge at 0x1e5d33c4130>,\n",
       "  <matplotlib.patches.Wedge at 0x1e5d33c45b0>,\n",
       "  <matplotlib.patches.Wedge at 0x1e5d33c4a30>,\n",
       "  <matplotlib.patches.Wedge at 0x1e5d33c4eb0>,\n",
       "  <matplotlib.patches.Wedge at 0x1e5d33d2370>,\n",
       "  <matplotlib.patches.Wedge at 0x1e5d0a4ee20>,\n",
       "  <matplotlib.patches.Wedge at 0x1e5d33d2c40>,\n",
       "  <matplotlib.patches.Wedge at 0x1e5d33df100>,\n",
       "  <matplotlib.patches.Wedge at 0x1e5d33df580>,\n",
       "  <matplotlib.patches.Wedge at 0x1e5d33dfa00>,\n",
       "  <matplotlib.patches.Wedge at 0x1e5d33dfe80>,\n",
       "  <matplotlib.patches.Wedge at 0x1e5d33ec340>,\n",
       "  <matplotlib.patches.Wedge at 0x1e5d33ec7c0>,\n",
       "  <matplotlib.patches.Wedge at 0x1e5d33ecc40>,\n",
       "  <matplotlib.patches.Wedge at 0x1e5d33fa100>,\n",
       "  <matplotlib.patches.Wedge at 0x1e5d33fa580>,\n",
       "  <matplotlib.patches.Wedge at 0x1e5d33faa00>,\n",
       "  <matplotlib.patches.Wedge at 0x1e5d33fae80>,\n",
       "  <matplotlib.patches.Wedge at 0x1e5d340a340>,\n",
       "  <matplotlib.patches.Wedge at 0x1e5d340a7c0>,\n",
       "  <matplotlib.patches.Wedge at 0x1e5d340ac40>,\n",
       "  <matplotlib.patches.Wedge at 0x1e5d3416100>,\n",
       "  <matplotlib.patches.Wedge at 0x1e5d3416580>,\n",
       "  <matplotlib.patches.Wedge at 0x1e5d3416a00>,\n",
       "  <matplotlib.patches.Wedge at 0x1e5d3416e80>,\n",
       "  <matplotlib.patches.Wedge at 0x1e5d3423340>,\n",
       "  <matplotlib.patches.Wedge at 0x1e5d34237c0>,\n",
       "  <matplotlib.patches.Wedge at 0x1e5d3423c40>,\n",
       "  <matplotlib.patches.Wedge at 0x1e5d3430100>,\n",
       "  <matplotlib.patches.Wedge at 0x1e5d3430580>,\n",
       "  <matplotlib.patches.Wedge at 0x1e5d3430a00>,\n",
       "  <matplotlib.patches.Wedge at 0x1e5d3430e80>,\n",
       "  <matplotlib.patches.Wedge at 0x1e5d343f340>,\n",
       "  <matplotlib.patches.Wedge at 0x1e5d343f7c0>,\n",
       "  <matplotlib.patches.Wedge at 0x1e5d343fc40>,\n",
       "  <matplotlib.patches.Wedge at 0x1e5d09dedc0>,\n",
       "  <matplotlib.patches.Wedge at 0x1e5d344d3d0>,\n",
       "  <matplotlib.patches.Wedge at 0x1e5d344d850>,\n",
       "  <matplotlib.patches.Wedge at 0x1e5d344dcd0>,\n",
       "  <matplotlib.patches.Wedge at 0x1e5d345b190>,\n",
       "  <matplotlib.patches.Wedge at 0x1e5d345b610>,\n",
       "  <matplotlib.patches.Wedge at 0x1e5d345ba90>,\n",
       "  <matplotlib.patches.Wedge at 0x1e5d345bf10>,\n",
       "  <matplotlib.patches.Wedge at 0x1e5d346b3d0>,\n",
       "  <matplotlib.patches.Wedge at 0x1e5d346b850>,\n",
       "  <matplotlib.patches.Wedge at 0x1e5d346bcd0>,\n",
       "  <matplotlib.patches.Wedge at 0x1e5d3478190>,\n",
       "  <matplotlib.patches.Wedge at 0x1e5d3478610>,\n",
       "  <matplotlib.patches.Wedge at 0x1e5d3478a90>,\n",
       "  <matplotlib.patches.Wedge at 0x1e5d3478f10>,\n",
       "  <matplotlib.patches.Wedge at 0x1e5d34873d0>,\n",
       "  <matplotlib.patches.Wedge at 0x1e5d3487850>,\n",
       "  <matplotlib.patches.Wedge at 0x1e5d3487cd0>,\n",
       "  <matplotlib.patches.Wedge at 0x1e5d3496190>,\n",
       "  <matplotlib.patches.Wedge at 0x1e5d3496610>,\n",
       "  <matplotlib.patches.Wedge at 0x1e5d3496a90>,\n",
       "  <matplotlib.patches.Wedge at 0x1e5d3496f10>,\n",
       "  <matplotlib.patches.Wedge at 0x1e5d34a43d0>,\n",
       "  <matplotlib.patches.Wedge at 0x1e5d34a4850>,\n",
       "  <matplotlib.patches.Wedge at 0x1e5d34a4cd0>,\n",
       "  <matplotlib.patches.Wedge at 0x1e5d34b2190>,\n",
       "  <matplotlib.patches.Wedge at 0x1e5d34b2610>,\n",
       "  <matplotlib.patches.Wedge at 0x1e5d34b2a90>,\n",
       "  <matplotlib.patches.Wedge at 0x1e5d34b2f10>,\n",
       "  <matplotlib.patches.Wedge at 0x1e5d34c23d0>,\n",
       "  <matplotlib.patches.Wedge at 0x1e5d34c2850>,\n",
       "  <matplotlib.patches.Wedge at 0x1e5d34c2cd0>,\n",
       "  <matplotlib.patches.Wedge at 0x1e5d34cf190>,\n",
       "  <matplotlib.patches.Wedge at 0x1e5d34cf610>,\n",
       "  <matplotlib.patches.Wedge at 0x1e5d34cfa90>,\n",
       "  <matplotlib.patches.Wedge at 0x1e5d34cff10>,\n",
       "  <matplotlib.patches.Wedge at 0x1e5d34de3d0>,\n",
       "  <matplotlib.patches.Wedge at 0x1e5d34de850>,\n",
       "  <matplotlib.patches.Wedge at 0x1e5d34ded00>,\n",
       "  <matplotlib.patches.Wedge at 0x1e5d34ec1c0>,\n",
       "  <matplotlib.patches.Wedge at 0x1e5d34ec640>,\n",
       "  <matplotlib.patches.Wedge at 0x1e5d34ecac0>,\n",
       "  <matplotlib.patches.Wedge at 0x1e5d34ecf40>,\n",
       "  <matplotlib.patches.Wedge at 0x1e5d34fc400>,\n",
       "  <matplotlib.patches.Wedge at 0x1e5d34fc880>,\n",
       "  <matplotlib.patches.Wedge at 0x1e5d34fcd00>,\n",
       "  <matplotlib.patches.Wedge at 0x1e5d350a1c0>,\n",
       "  <matplotlib.patches.Wedge at 0x1e5d350a640>,\n",
       "  <matplotlib.patches.Wedge at 0x1e5d350aac0>,\n",
       "  <matplotlib.patches.Wedge at 0x1e5d350af40>,\n",
       "  <matplotlib.patches.Wedge at 0x1e5d37e9400>,\n",
       "  <matplotlib.patches.Wedge at 0x1e5d37e9880>,\n",
       "  <matplotlib.patches.Wedge at 0x1e5d37e9d00>,\n",
       "  <matplotlib.patches.Wedge at 0x1e5d37f71c0>,\n",
       "  <matplotlib.patches.Wedge at 0x1e5d37f7640>,\n",
       "  <matplotlib.patches.Wedge at 0x1e5d37f7ac0>,\n",
       "  <matplotlib.patches.Wedge at 0x1e5d37f7f40>,\n",
       "  <matplotlib.patches.Wedge at 0x1e5d3806400>,\n",
       "  <matplotlib.patches.Wedge at 0x1e5d3806880>,\n",
       "  <matplotlib.patches.Wedge at 0x1e5d3806d00>,\n",
       "  <matplotlib.patches.Wedge at 0x1e5d38141c0>,\n",
       "  <matplotlib.patches.Wedge at 0x1e5d3814640>,\n",
       "  <matplotlib.patches.Wedge at 0x1e5d3814ac0>,\n",
       "  <matplotlib.patches.Wedge at 0x1e5d3814f40>,\n",
       "  <matplotlib.patches.Wedge at 0x1e5d3823400>,\n",
       "  <matplotlib.patches.Wedge at 0x1e5d3823880>,\n",
       "  <matplotlib.patches.Wedge at 0x1e5d3823d00>,\n",
       "  <matplotlib.patches.Wedge at 0x1e5d382f1c0>,\n",
       "  <matplotlib.patches.Wedge at 0x1e5d382f640>,\n",
       "  <matplotlib.patches.Wedge at 0x1e5d382fac0>,\n",
       "  <matplotlib.patches.Wedge at 0x1e5d382ff40>,\n",
       "  <matplotlib.patches.Wedge at 0x1e5d3840400>,\n",
       "  <matplotlib.patches.Wedge at 0x1e5d3840880>,\n",
       "  <matplotlib.patches.Wedge at 0x1e5d3840d00>,\n",
       "  <matplotlib.patches.Wedge at 0x1e5d384f1c0>,\n",
       "  <matplotlib.patches.Wedge at 0x1e5d384f640>,\n",
       "  <matplotlib.patches.Wedge at 0x1e5d384fac0>,\n",
       "  <matplotlib.patches.Wedge at 0x1e5d384ff40>,\n",
       "  <matplotlib.patches.Wedge at 0x1e5d385d400>,\n",
       "  <matplotlib.patches.Wedge at 0x1e5d385d880>,\n",
       "  <matplotlib.patches.Wedge at 0x1e5d385dd00>,\n",
       "  <matplotlib.patches.Wedge at 0x1e5d386b1c0>,\n",
       "  <matplotlib.patches.Wedge at 0x1e5d386b640>,\n",
       "  <matplotlib.patches.Wedge at 0x1e5d386bac0>,\n",
       "  <matplotlib.patches.Wedge at 0x1e5d386bf40>,\n",
       "  <matplotlib.patches.Wedge at 0x1e5d387a400>,\n",
       "  <matplotlib.patches.Wedge at 0x1e5d387a880>,\n",
       "  <matplotlib.patches.Wedge at 0x1e5d387ad00>,\n",
       "  <matplotlib.patches.Wedge at 0x1e5d38891f0>,\n",
       "  <matplotlib.patches.Wedge at 0x1e5d3889670>,\n",
       "  <matplotlib.patches.Wedge at 0x1e5d3889af0>,\n",
       "  <matplotlib.patches.Wedge at 0x1e5d3889f70>,\n",
       "  <matplotlib.patches.Wedge at 0x1e5d3898430>,\n",
       "  <matplotlib.patches.Wedge at 0x1e5d38988b0>,\n",
       "  <matplotlib.patches.Wedge at 0x1e5d3898d30>,\n",
       "  <matplotlib.patches.Wedge at 0x1e5d38a51f0>,\n",
       "  <matplotlib.patches.Wedge at 0x1e5d38a5670>,\n",
       "  <matplotlib.patches.Wedge at 0x1e5d38a5af0>,\n",
       "  <matplotlib.patches.Wedge at 0x1e5d38a5f70>,\n",
       "  <matplotlib.patches.Wedge at 0x1e5d38b6430>,\n",
       "  <matplotlib.patches.Wedge at 0x1e5d38b68e0>,\n",
       "  <matplotlib.patches.Wedge at 0x1e5d38b6d60>,\n",
       "  <matplotlib.patches.Wedge at 0x1e5d38c5220>,\n",
       "  <matplotlib.patches.Wedge at 0x1e5d38c56a0>,\n",
       "  <matplotlib.patches.Wedge at 0x1e5d38c5b20>,\n",
       "  <matplotlib.patches.Wedge at 0x1e5d38c5fa0>,\n",
       "  <matplotlib.patches.Wedge at 0x1e5d38d4460>,\n",
       "  <matplotlib.patches.Wedge at 0x1e5d38d48e0>,\n",
       "  <matplotlib.patches.Wedge at 0x1e5d38d4d90>,\n",
       "  <matplotlib.patches.Wedge at 0x1e5d38e0250>,\n",
       "  <matplotlib.patches.Wedge at 0x1e5d38e06d0>,\n",
       "  <matplotlib.patches.Wedge at 0x1e5d38e0b50>,\n",
       "  <matplotlib.patches.Wedge at 0x1e5d38e0fd0>,\n",
       "  <matplotlib.patches.Wedge at 0x1e5d38f0490>,\n",
       "  <matplotlib.patches.Wedge at 0x1e5d38f0910>,\n",
       "  <matplotlib.patches.Wedge at 0x1e5d38f0d90>,\n",
       "  <matplotlib.patches.Wedge at 0x1e5d38fe250>,\n",
       "  <matplotlib.patches.Wedge at 0x1e5d38fe6d0>,\n",
       "  <matplotlib.patches.Wedge at 0x1e5d38feb50>,\n",
       "  <matplotlib.patches.Wedge at 0x1e5d38fefd0>,\n",
       "  <matplotlib.patches.Wedge at 0x1e5d390d490>,\n",
       "  <matplotlib.patches.Wedge at 0x1e5d390d910>,\n",
       "  <matplotlib.patches.Wedge at 0x1e5d390dd90>,\n",
       "  <matplotlib.patches.Wedge at 0x1e5d391c250>,\n",
       "  <matplotlib.patches.Wedge at 0x1e5d391c700>,\n",
       "  <matplotlib.patches.Wedge at 0x1e5d391cb80>,\n",
       "  <matplotlib.patches.Wedge at 0x1e5d392b040>,\n",
       "  <matplotlib.patches.Wedge at 0x1e5d392b4c0>,\n",
       "  <matplotlib.patches.Wedge at 0x1e5d392b940>,\n",
       "  <matplotlib.patches.Wedge at 0x1e5d392bdc0>,\n",
       "  <matplotlib.patches.Wedge at 0x1e5d3938280>,\n",
       "  <matplotlib.patches.Wedge at 0x1e5d3938730>,\n",
       "  <matplotlib.patches.Wedge at 0x1e5d3938bb0>,\n",
       "  <matplotlib.patches.Wedge at 0x1e5d3947070>,\n",
       "  <matplotlib.patches.Wedge at 0x1e5d39474f0>,\n",
       "  <matplotlib.patches.Wedge at 0x1e5d3947970>,\n",
       "  <matplotlib.patches.Wedge at 0x1e5d3947df0>,\n",
       "  <matplotlib.patches.Wedge at 0x1e5d39562b0>,\n",
       "  <matplotlib.patches.Wedge at 0x1e5d3956730>,\n",
       "  <matplotlib.patches.Wedge at 0x1e5d3956bb0>,\n",
       "  <matplotlib.patches.Wedge at 0x1e5d3965070>,\n",
       "  <matplotlib.patches.Wedge at 0x1e5d39654f0>,\n",
       "  <matplotlib.patches.Wedge at 0x1e5d3965970>,\n",
       "  <matplotlib.patches.Wedge at 0x1e5d3965df0>,\n",
       "  <matplotlib.patches.Wedge at 0x1e5d39732b0>,\n",
       "  <matplotlib.patches.Wedge at 0x1e5d3973730>,\n",
       "  <matplotlib.patches.Wedge at 0x1e5d3973bb0>,\n",
       "  <matplotlib.patches.Wedge at 0x1e5d3981070>,\n",
       "  <matplotlib.patches.Wedge at 0x1e5d39814f0>,\n",
       "  <matplotlib.patches.Wedge at 0x1e5d3981970>,\n",
       "  <matplotlib.patches.Wedge at 0x1e5d3981df0>,\n",
       "  <matplotlib.patches.Wedge at 0x1e5d39912b0>,\n",
       "  <matplotlib.patches.Wedge at 0x1e5d3991730>,\n",
       "  <matplotlib.patches.Wedge at 0x1e5d3991bb0>,\n",
       "  <matplotlib.patches.Wedge at 0x1e5d399f070>,\n",
       "  <matplotlib.patches.Wedge at 0x1e5d399f4f0>,\n",
       "  <matplotlib.patches.Wedge at 0x1e5d399f970>,\n",
       "  <matplotlib.patches.Wedge at 0x1e5d399fdf0>,\n",
       "  <matplotlib.patches.Wedge at 0x1e5d39ac2b0>,\n",
       "  <matplotlib.patches.Wedge at 0x1e5d39ac730>,\n",
       "  <matplotlib.patches.Wedge at 0x1e5d39acbb0>,\n",
       "  <matplotlib.patches.Wedge at 0x1e5d39bc070>,\n",
       "  <matplotlib.patches.Wedge at 0x1e5d39bc4f0>,\n",
       "  <matplotlib.patches.Wedge at 0x1e5d39bc970>,\n",
       "  <matplotlib.patches.Wedge at 0x1e5d39bcdf0>,\n",
       "  <matplotlib.patches.Wedge at 0x1e5d39cb2b0>,\n",
       "  <matplotlib.patches.Wedge at 0x1e5d39cb730>,\n",
       "  <matplotlib.patches.Wedge at 0x1e5d39cbbb0>,\n",
       "  <matplotlib.patches.Wedge at 0x1e5d39d9070>,\n",
       "  <matplotlib.patches.Wedge at 0x1e5d39d94f0>,\n",
       "  <matplotlib.patches.Wedge at 0x1e5d39d9970>,\n",
       "  <matplotlib.patches.Wedge at 0x1e5d39d9df0>,\n",
       "  <matplotlib.patches.Wedge at 0x1e5d39e72b0>,\n",
       "  <matplotlib.patches.Wedge at 0x1e5d39e7730>,\n",
       "  <matplotlib.patches.Wedge at 0x1e5d39e7bb0>,\n",
       "  <matplotlib.patches.Wedge at 0x1e5d39f6070>,\n",
       "  <matplotlib.patches.Wedge at 0x1e5d39f64f0>,\n",
       "  <matplotlib.patches.Wedge at 0x1e5d39f6970>,\n",
       "  <matplotlib.patches.Wedge at 0x1e5d39f6df0>,\n",
       "  <matplotlib.patches.Wedge at 0x1e5d3a052b0>,\n",
       "  <matplotlib.patches.Wedge at 0x1e5d3a05730>,\n",
       "  <matplotlib.patches.Wedge at 0x1e5d3a05bb0>,\n",
       "  <matplotlib.patches.Wedge at 0x1e5d3a14070>,\n",
       "  <matplotlib.patches.Wedge at 0x1e5d3a144f0>,\n",
       "  <matplotlib.patches.Wedge at 0x1e5d3a14970>,\n",
       "  <matplotlib.patches.Wedge at 0x1e5d3a14df0>,\n",
       "  <matplotlib.patches.Wedge at 0x1e5d3a212b0>,\n",
       "  <matplotlib.patches.Wedge at 0x1e5d3a21730>,\n",
       "  <matplotlib.patches.Wedge at 0x1e5d3a21bb0>,\n",
       "  <matplotlib.patches.Wedge at 0x1e5d3a32070>,\n",
       "  <matplotlib.patches.Wedge at 0x1e5d3a324f0>,\n",
       "  <matplotlib.patches.Wedge at 0x1e5d3a32970>,\n",
       "  <matplotlib.patches.Wedge at 0x1e5d3a32df0>,\n",
       "  <matplotlib.patches.Wedge at 0x1e5d3a3f2b0>,\n",
       "  <matplotlib.patches.Wedge at 0x1e5d3a3f730>,\n",
       "  <matplotlib.patches.Wedge at 0x1e5d3a3fbb0>,\n",
       "  <matplotlib.patches.Wedge at 0x1e5d3a4f070>,\n",
       "  <matplotlib.patches.Wedge at 0x1e5d3a4f4f0>,\n",
       "  <matplotlib.patches.Wedge at 0x1e5d3a4f970>,\n",
       "  <matplotlib.patches.Wedge at 0x1e5d3a4fe20>,\n",
       "  <matplotlib.patches.Wedge at 0x1e5d3a5c2e0>,\n",
       "  <matplotlib.patches.Wedge at 0x1e5d3a5c760>,\n",
       "  <matplotlib.patches.Wedge at 0x1e5d3a5cbe0>,\n",
       "  <matplotlib.patches.Wedge at 0x1e5d3a6c0a0>,\n",
       "  <matplotlib.patches.Wedge at 0x1e5d3a6c520>,\n",
       "  <matplotlib.patches.Wedge at 0x1e5d3a6c9a0>,\n",
       "  <matplotlib.patches.Wedge at 0x1e5d3a6ce20>,\n",
       "  <matplotlib.patches.Wedge at 0x1e5d3a792e0>,\n",
       "  <matplotlib.patches.Wedge at 0x1e5d3a79790>,\n",
       "  <matplotlib.patches.Wedge at 0x1e5d3a79c10>,\n",
       "  <matplotlib.patches.Wedge at 0x1e5d3a880d0>,\n",
       "  <matplotlib.patches.Wedge at 0x1e5d3a88550>,\n",
       "  <matplotlib.patches.Wedge at 0x1e5d3a889d0>,\n",
       "  <matplotlib.patches.Wedge at 0x1e5d3a88e50>,\n",
       "  <matplotlib.patches.Wedge at 0x1e5d3a97310>,\n",
       "  <matplotlib.patches.Wedge at 0x1e5d3a97790>,\n",
       "  <matplotlib.patches.Wedge at 0x1e5d3a97c70>,\n",
       "  <matplotlib.patches.Wedge at 0x1e5d3aa8130>,\n",
       "  <matplotlib.patches.Wedge at 0x1e5d3aa85b0>,\n",
       "  <matplotlib.patches.Wedge at 0x1e5d3aa8a30>,\n",
       "  <matplotlib.patches.Wedge at 0x1e5d3aa8eb0>,\n",
       "  <matplotlib.patches.Wedge at 0x1e5d3ab5370>,\n",
       "  <matplotlib.patches.Wedge at 0x1e5d3ab57f0>,\n",
       "  <matplotlib.patches.Wedge at 0x1e5d3ab5c70>,\n",
       "  <matplotlib.patches.Wedge at 0x1e5d3ac5130>,\n",
       "  <matplotlib.patches.Wedge at 0x1e5d3ac55b0>,\n",
       "  <matplotlib.patches.Wedge at 0x1e5d3ac5a30>,\n",
       "  <matplotlib.patches.Wedge at 0x1e5d3ac5eb0>,\n",
       "  <matplotlib.patches.Wedge at 0x1e5d3ad3370>,\n",
       "  <matplotlib.patches.Wedge at 0x1e5d3ad37f0>,\n",
       "  <matplotlib.patches.Wedge at 0x1e5d3ad3c70>,\n",
       "  <matplotlib.patches.Wedge at 0x1e5d3ae1130>,\n",
       "  <matplotlib.patches.Wedge at 0x1e5d3ae15b0>,\n",
       "  <matplotlib.patches.Wedge at 0x1e5d3ae1a30>,\n",
       "  <matplotlib.patches.Wedge at 0x1e5d3ae1eb0>,\n",
       "  <matplotlib.patches.Wedge at 0x1e5d3aef370>,\n",
       "  <matplotlib.patches.Wedge at 0x1e5d3aef7f0>,\n",
       "  <matplotlib.patches.Wedge at 0x1e5d3aefc70>,\n",
       "  <matplotlib.patches.Wedge at 0x1e5d3afe130>,\n",
       "  <matplotlib.patches.Wedge at 0x1e5d3afe5b0>,\n",
       "  <matplotlib.patches.Wedge at 0x1e5d3afea30>,\n",
       "  <matplotlib.patches.Wedge at 0x1e5d3afeeb0>,\n",
       "  <matplotlib.patches.Wedge at 0x1e5d3b0e370>,\n",
       "  <matplotlib.patches.Wedge at 0x1e5d3b0e7f0>,\n",
       "  <matplotlib.patches.Wedge at 0x1e5d3b0ec70>,\n",
       "  <matplotlib.patches.Wedge at 0x1e5d3b1c130>,\n",
       "  <matplotlib.patches.Wedge at 0x1e5d3b1c5b0>,\n",
       "  <matplotlib.patches.Wedge at 0x1e5d3b1ca30>,\n",
       "  <matplotlib.patches.Wedge at 0x1e5d3b1ceb0>,\n",
       "  <matplotlib.patches.Wedge at 0x1e5d3b2a370>,\n",
       "  <matplotlib.patches.Wedge at 0x1e5d3b2a7f0>,\n",
       "  <matplotlib.patches.Wedge at 0x1e5d3b2ac70>,\n",
       "  <matplotlib.patches.Wedge at 0x1e5d3b38130>,\n",
       "  <matplotlib.patches.Wedge at 0x1e5d3b385b0>,\n",
       "  <matplotlib.patches.Wedge at 0x1e5d3b38a30>,\n",
       "  <matplotlib.patches.Wedge at 0x1e5d3b38eb0>,\n",
       "  <matplotlib.patches.Wedge at 0x1e5bf6cc760>,\n",
       "  <matplotlib.patches.Wedge at 0x1e5d05c1eb0>,\n",
       "  <matplotlib.patches.Wedge at 0x1e5d06ed2b0>,\n",
       "  <matplotlib.patches.Wedge at 0x1e5d09bd3d0>,\n",
       "  <matplotlib.patches.Wedge at 0x1e5d09b6d00>,\n",
       "  <matplotlib.patches.Wedge at 0x1e5d09b6be0>,\n",
       "  <matplotlib.patches.Wedge at 0x1e5d0991880>,\n",
       "  <matplotlib.patches.Wedge at 0x1e5d099cca0>,\n",
       "  <matplotlib.patches.Wedge at 0x1e5d09aadf0>,\n",
       "  <matplotlib.patches.Wedge at 0x1e5d09aacd0>,\n",
       "  <matplotlib.patches.Wedge at 0x1e5d09a4850>,\n",
       "  <matplotlib.patches.Wedge at 0x1e5d09a4ac0>,\n",
       "  <matplotlib.patches.Wedge at 0x1e5d09b47c0>,\n",
       "  <matplotlib.patches.Wedge at 0x1e5d2a69880>,\n",
       "  <matplotlib.patches.Wedge at 0x1e5d2a690a0>,\n",
       "  <matplotlib.patches.Wedge at 0x1e5d0a4eb80>,\n",
       "  <matplotlib.patches.Wedge at 0x1e5d2a839a0>,\n",
       "  <matplotlib.patches.Wedge at 0x1e5d2a70d30>,\n",
       "  <matplotlib.patches.Wedge at 0x1e5d2a70940>,\n",
       "  <matplotlib.patches.Wedge at 0x1e5d09ef460>,\n",
       "  <matplotlib.patches.Wedge at 0x1e5d09d3e80>,\n",
       "  <matplotlib.patches.Wedge at 0x1e5d2aab6a0>,\n",
       "  <matplotlib.patches.Wedge at 0x1e5d2aab940>,\n",
       "  <matplotlib.patches.Wedge at 0x1e5d2a8a100>,\n",
       "  <matplotlib.patches.Wedge at 0x1e5d2a8aeb0>,\n",
       "  <matplotlib.patches.Wedge at 0x1e5d0242b20>,\n",
       "  <matplotlib.patches.Wedge at 0x1e5d0289eb0>,\n",
       "  <matplotlib.patches.Wedge at 0x1e5d2aa2910>,\n",
       "  <matplotlib.patches.Wedge at 0x1e5d0290940>,\n",
       "  <matplotlib.patches.Wedge at 0x1e5d2ab0940>,\n",
       "  <matplotlib.patches.Wedge at 0x1e5d2ab76a0>,\n",
       "  <matplotlib.patches.Wedge at 0x1e5d2ad5460>,\n",
       "  <matplotlib.patches.Wedge at 0x1e5d3b47310>,\n",
       "  <matplotlib.patches.Wedge at 0x1e5d3b47730>,\n",
       "  <matplotlib.patches.Wedge at 0x1e5d3b47bb0>,\n",
       "  <matplotlib.patches.Wedge at 0x1e5d3bcb070>,\n",
       "  <matplotlib.patches.Wedge at 0x1e5d3bcb520>,\n",
       "  <matplotlib.patches.Wedge at 0x1e5d3bcb9a0>,\n",
       "  <matplotlib.patches.Wedge at 0x1e5d3bcbe20>,\n",
       "  <matplotlib.patches.Wedge at 0x1e5d3bdc2e0>,\n",
       "  <matplotlib.patches.Wedge at 0x1e5d3bdc760>,\n",
       "  <matplotlib.patches.Wedge at 0x1e5d3bdcc10>,\n",
       "  <matplotlib.patches.Wedge at 0x1e5d3bea0d0>,\n",
       "  <matplotlib.patches.Wedge at 0x1e5d3bea550>,\n",
       "  <matplotlib.patches.Wedge at 0x1e5d3bea9d0>,\n",
       "  <matplotlib.patches.Wedge at 0x1e5d3beae50>,\n",
       "  <matplotlib.patches.Wedge at 0x1e5d3bf9310>,\n",
       "  <matplotlib.patches.Wedge at 0x1e5d3bf9790>,\n",
       "  <matplotlib.patches.Wedge at 0x1e5d3bf9c10>,\n",
       "  <matplotlib.patches.Wedge at 0x1e5d3c080d0>,\n",
       "  <matplotlib.patches.Wedge at 0x1e5d3c08550>,\n",
       "  <matplotlib.patches.Wedge at 0x1e5d3c089d0>,\n",
       "  <matplotlib.patches.Wedge at 0x1e5d3c08e50>,\n",
       "  <matplotlib.patches.Wedge at 0x1e5d3c17310>,\n",
       "  <matplotlib.patches.Wedge at 0x1e5d3c17790>,\n",
       "  <matplotlib.patches.Wedge at 0x1e5d3c17c10>,\n",
       "  <matplotlib.patches.Wedge at 0x1e5d3c250d0>,\n",
       "  <matplotlib.patches.Wedge at 0x1e5d3c25550>,\n",
       "  <matplotlib.patches.Wedge at 0x1e5d3c259d0>,\n",
       "  <matplotlib.patches.Wedge at 0x1e5d3c25e50>,\n",
       "  <matplotlib.patches.Wedge at 0x1e5d3c32310>,\n",
       "  <matplotlib.patches.Wedge at 0x1e5d3c32790>,\n",
       "  <matplotlib.patches.Wedge at 0x1e5d3c32c10>,\n",
       "  <matplotlib.patches.Wedge at 0x1e5d3c420d0>,\n",
       "  <matplotlib.patches.Wedge at 0x1e5d3c42550>,\n",
       "  <matplotlib.patches.Wedge at 0x1e5d3c429d0>,\n",
       "  <matplotlib.patches.Wedge at 0x1e5d3c42e50>,\n",
       "  <matplotlib.patches.Wedge at 0x1e5d3c50310>,\n",
       "  <matplotlib.patches.Wedge at 0x1e5d3c50790>,\n",
       "  <matplotlib.patches.Wedge at 0x1e5d3c50c10>,\n",
       "  <matplotlib.patches.Wedge at 0x1e5d3c600d0>,\n",
       "  <matplotlib.patches.Wedge at 0x1e5d3c60550>,\n",
       "  <matplotlib.patches.Wedge at 0x1e5d3c609d0>,\n",
       "  <matplotlib.patches.Wedge at 0x1e5d3c60e50>,\n",
       "  <matplotlib.patches.Wedge at 0x1e5d3c6e310>,\n",
       "  <matplotlib.patches.Wedge at 0x1e5d3c6e790>,\n",
       "  <matplotlib.patches.Wedge at 0x1e5d3c6ec10>,\n",
       "  <matplotlib.patches.Wedge at 0x1e5d3c7d0d0>,\n",
       "  <matplotlib.patches.Wedge at 0x1e5d3c7d550>,\n",
       "  <matplotlib.patches.Wedge at 0x1e5d3c7d9d0>,\n",
       "  <matplotlib.patches.Wedge at 0x1e5d3c7de50>,\n",
       "  <matplotlib.patches.Wedge at 0x1e5d3c8a310>,\n",
       "  <matplotlib.patches.Wedge at 0x1e5d3c8a790>,\n",
       "  <matplotlib.patches.Wedge at 0x1e5d3c8ac10>,\n",
       "  <matplotlib.patches.Wedge at 0x1e5d3c9a0d0>,\n",
       "  <matplotlib.patches.Wedge at 0x1e5d3c9a550>,\n",
       "  <matplotlib.patches.Wedge at 0x1e5d3c9a9d0>,\n",
       "  <matplotlib.patches.Wedge at 0x1e5d3c9ae50>,\n",
       "  <matplotlib.patches.Wedge at 0x1e5d3ca8310>,\n",
       "  <matplotlib.patches.Wedge at 0x1e5d3ca8790>,\n",
       "  <matplotlib.patches.Wedge at 0x1e5d3ca8c10>,\n",
       "  <matplotlib.patches.Wedge at 0x1e5d3cb90d0>,\n",
       "  <matplotlib.patches.Wedge at 0x1e5d3cb9550>,\n",
       "  <matplotlib.patches.Wedge at 0x1e5d3cb99d0>,\n",
       "  <matplotlib.patches.Wedge at 0x1e5d3cb9e50>,\n",
       "  <matplotlib.patches.Wedge at 0x1e5d3cc6310>,\n",
       "  <matplotlib.patches.Wedge at 0x1e5d3cc6790>,\n",
       "  <matplotlib.patches.Wedge at 0x1e5d3cc6c10>,\n",
       "  <matplotlib.patches.Wedge at 0x1e5d3cd50d0>,\n",
       "  <matplotlib.patches.Wedge at 0x1e5d3cd5550>,\n",
       "  <matplotlib.patches.Wedge at 0x1e5d3cd59d0>,\n",
       "  <matplotlib.patches.Wedge at 0x1e5d3cd5e50>,\n",
       "  <matplotlib.patches.Wedge at 0x1e5d3ce4310>,\n",
       "  <matplotlib.patches.Wedge at 0x1e5d3ce4790>,\n",
       "  <matplotlib.patches.Wedge at 0x1e5d3ce4c10>,\n",
       "  <matplotlib.patches.Wedge at 0x1e5d3cf20d0>,\n",
       "  <matplotlib.patches.Wedge at 0x1e5d3cf2550>,\n",
       "  <matplotlib.patches.Wedge at 0x1e5d3cf29d0>,\n",
       "  <matplotlib.patches.Wedge at 0x1e5d3cf2e50>,\n",
       "  <matplotlib.patches.Wedge at 0x1e5d3d01310>,\n",
       "  <matplotlib.patches.Wedge at 0x1e5d3d01790>,\n",
       "  <matplotlib.patches.Wedge at 0x1e5d3d01c10>,\n",
       "  <matplotlib.patches.Wedge at 0x1e5d3d100d0>,\n",
       "  <matplotlib.patches.Wedge at 0x1e5d3d10550>,\n",
       "  <matplotlib.patches.Wedge at 0x1e5d3d109d0>,\n",
       "  <matplotlib.patches.Wedge at 0x1e5d3d10e50>,\n",
       "  <matplotlib.patches.Wedge at 0x1e5d3d1e310>,\n",
       "  <matplotlib.patches.Wedge at 0x1e5d3d1e790>,\n",
       "  <matplotlib.patches.Wedge at 0x1e5d3d1ec10>,\n",
       "  <matplotlib.patches.Wedge at 0x1e5d3d2d0d0>,\n",
       "  <matplotlib.patches.Wedge at 0x1e5d3d2d550>,\n",
       "  <matplotlib.patches.Wedge at 0x1e5d3d2d9d0>,\n",
       "  <matplotlib.patches.Wedge at 0x1e5d3d2de50>,\n",
       "  <matplotlib.patches.Wedge at 0x1e5d3d3b310>,\n",
       "  <matplotlib.patches.Wedge at 0x1e5d3d3b790>,\n",
       "  <matplotlib.patches.Wedge at 0x1e5d3d3bc10>,\n",
       "  <matplotlib.patches.Wedge at 0x1e5d3d4a0d0>,\n",
       "  <matplotlib.patches.Wedge at 0x1e5d3d4a550>,\n",
       "  <matplotlib.patches.Wedge at 0x1e5d3d4a9d0>,\n",
       "  <matplotlib.patches.Wedge at 0x1e5d3d4ae50>,\n",
       "  <matplotlib.patches.Wedge at 0x1e5d3d58310>,\n",
       "  <matplotlib.patches.Wedge at 0x1e5d3d58790>,\n",
       "  <matplotlib.patches.Wedge at 0x1e5d3d58c10>,\n",
       "  <matplotlib.patches.Wedge at 0x1e5d3d670d0>,\n",
       "  <matplotlib.patches.Wedge at 0x1e5d3d67550>,\n",
       "  <matplotlib.patches.Wedge at 0x1e5d3d679d0>,\n",
       "  <matplotlib.patches.Wedge at 0x1e5d3d67e50>,\n",
       "  <matplotlib.patches.Wedge at 0x1e5d3d75310>,\n",
       "  <matplotlib.patches.Wedge at 0x1e5d3d75790>,\n",
       "  <matplotlib.patches.Wedge at 0x1e5d3d75c10>,\n",
       "  <matplotlib.patches.Wedge at 0x1e5d3d850d0>,\n",
       "  <matplotlib.patches.Wedge at 0x1e5d3d85550>,\n",
       "  <matplotlib.patches.Wedge at 0x1e5d3d859d0>,\n",
       "  <matplotlib.patches.Wedge at 0x1e5d3d85e50>,\n",
       "  <matplotlib.patches.Wedge at 0x1e5d3d92310>,\n",
       "  <matplotlib.patches.Wedge at 0x1e5d3d92790>,\n",
       "  <matplotlib.patches.Wedge at 0x1e5d3d92c10>,\n",
       "  <matplotlib.patches.Wedge at 0x1e5d3da20d0>,\n",
       "  <matplotlib.patches.Wedge at 0x1e5d3da2550>,\n",
       "  <matplotlib.patches.Wedge at 0x1e5d3da29d0>,\n",
       "  <matplotlib.patches.Wedge at 0x1e5d3da2e50>,\n",
       "  <matplotlib.patches.Wedge at 0x1e5d3db0310>,\n",
       "  <matplotlib.patches.Wedge at 0x1e5d3db0790>,\n",
       "  <matplotlib.patches.Wedge at 0x1e5d3db0c10>,\n",
       "  <matplotlib.patches.Wedge at 0x1e5d3dc00d0>,\n",
       "  <matplotlib.patches.Wedge at 0x1e5d3dc0550>,\n",
       "  <matplotlib.patches.Wedge at 0x1e5d3dc09d0>,\n",
       "  <matplotlib.patches.Wedge at 0x1e5d3dc0e50>,\n",
       "  <matplotlib.patches.Wedge at 0x1e5d3dcc310>,\n",
       "  <matplotlib.patches.Wedge at 0x1e5d3dcc790>,\n",
       "  <matplotlib.patches.Wedge at 0x1e5d3dccc10>,\n",
       "  <matplotlib.patches.Wedge at 0x1e5d3ddb0d0>,\n",
       "  <matplotlib.patches.Wedge at 0x1e5d3ddb550>,\n",
       "  <matplotlib.patches.Wedge at 0x1e5d3ddb9d0>,\n",
       "  <matplotlib.patches.Wedge at 0x1e5d3ddbe50>,\n",
       "  <matplotlib.patches.Wedge at 0x1e5d3deb310>,\n",
       "  <matplotlib.patches.Wedge at 0x1e5d3deb790>,\n",
       "  <matplotlib.patches.Wedge at 0x1e5d3debc10>,\n",
       "  <matplotlib.patches.Wedge at 0x1e5d3dfa0d0>,\n",
       "  <matplotlib.patches.Wedge at 0x1e5d3dfa550>,\n",
       "  <matplotlib.patches.Wedge at 0x1e5d3dfa9d0>,\n",
       "  <matplotlib.patches.Wedge at 0x1e5d3dfae50>,\n",
       "  <matplotlib.patches.Wedge at 0x1e5d3e08310>,\n",
       "  <matplotlib.patches.Wedge at 0x1e5d3e08790>,\n",
       "  <matplotlib.patches.Wedge at 0x1e5d3e08c10>,\n",
       "  <matplotlib.patches.Wedge at 0x1e5d3e160d0>,\n",
       "  <matplotlib.patches.Wedge at 0x1e5d3e16550>,\n",
       "  <matplotlib.patches.Wedge at 0x1e5d3e169d0>,\n",
       "  <matplotlib.patches.Wedge at 0x1e5d3e16e50>,\n",
       "  <matplotlib.patches.Wedge at 0x1e5d3e24310>,\n",
       "  <matplotlib.patches.Wedge at 0x1e5d3e24790>,\n",
       "  <matplotlib.patches.Wedge at 0x1e5d3e24c10>,\n",
       "  <matplotlib.patches.Wedge at 0x1e5d3e340d0>,\n",
       "  <matplotlib.patches.Wedge at 0x1e5d3e34550>,\n",
       "  <matplotlib.patches.Wedge at 0x1e5d3e349d0>,\n",
       "  <matplotlib.patches.Wedge at 0x1e5d3e34e50>,\n",
       "  <matplotlib.patches.Wedge at 0x1e5d3e42310>,\n",
       "  <matplotlib.patches.Wedge at 0x1e5d3e42790>,\n",
       "  <matplotlib.patches.Wedge at 0x1e5d3e42c10>,\n",
       "  <matplotlib.patches.Wedge at 0x1e5d3e510d0>,\n",
       "  <matplotlib.patches.Wedge at 0x1e5d3e51580>,\n",
       "  <matplotlib.patches.Wedge at 0x1e5d3e51a00>,\n",
       "  <matplotlib.patches.Wedge at 0x1e5d3e51e80>,\n",
       "  <matplotlib.patches.Wedge at 0x1e5d3e60340>,\n",
       "  <matplotlib.patches.Wedge at 0x1e5d3e607c0>,\n",
       "  <matplotlib.patches.Wedge at 0x1e5d3e60c40>,\n",
       "  <matplotlib.patches.Wedge at 0x1e5d3e6e100>,\n",
       "  <matplotlib.patches.Wedge at 0x1e5d3e6e580>,\n",
       "  <matplotlib.patches.Wedge at 0x1e5d3e6ea00>,\n",
       "  <matplotlib.patches.Wedge at 0x1e5d3e6ee80>,\n",
       "  <matplotlib.patches.Wedge at 0x1e5d3e7c340>,\n",
       "  <matplotlib.patches.Wedge at 0x1e5d3e7c7c0>,\n",
       "  <matplotlib.patches.Wedge at 0x1e5d3e7cc40>,\n",
       "  <matplotlib.patches.Wedge at 0x1e5d3e8b100>,\n",
       "  <matplotlib.patches.Wedge at 0x1e5d3e8b580>,\n",
       "  <matplotlib.patches.Wedge at 0x1e5d3e8ba00>,\n",
       "  <matplotlib.patches.Wedge at 0x1e5d3e8be80>,\n",
       "  <matplotlib.patches.Wedge at 0x1e5d3e99370>,\n",
       "  <matplotlib.patches.Wedge at 0x1e5d3e99820>,\n",
       "  <matplotlib.patches.Wedge at 0x1e5d3e99ca0>,\n",
       "  <matplotlib.patches.Wedge at 0x1e5d3ea8160>,\n",
       "  <matplotlib.patches.Wedge at 0x1e5d3ea85e0>,\n",
       "  <matplotlib.patches.Wedge at 0x1e5d3ea8a60>,\n",
       "  <matplotlib.patches.Wedge at 0x1e5d3ea8ee0>,\n",
       "  <matplotlib.patches.Wedge at 0x1e5d3eb83a0>,\n",
       "  <matplotlib.patches.Wedge at 0x1e5d3eb8820>,\n",
       "  <matplotlib.patches.Wedge at 0x1e5d3eb8d00>,\n",
       "  <matplotlib.patches.Wedge at 0x1e5d3ec61c0>,\n",
       "  <matplotlib.patches.Wedge at 0x1e5d3ec6640>,\n",
       "  <matplotlib.patches.Wedge at 0x1e5d3ec6ac0>,\n",
       "  <matplotlib.patches.Wedge at 0x1e5d3ec6f40>,\n",
       "  <matplotlib.patches.Wedge at 0x1e5d3ed5400>,\n",
       "  <matplotlib.patches.Wedge at 0x1e5d3ed5880>,\n",
       "  <matplotlib.patches.Wedge at 0x1e5d3ed5d00>,\n",
       "  <matplotlib.patches.Wedge at 0x1e5d3ee31c0>,\n",
       "  <matplotlib.patches.Wedge at 0x1e5d3ee3640>,\n",
       "  <matplotlib.patches.Wedge at 0x1e5d3ee3ac0>,\n",
       "  <matplotlib.patches.Wedge at 0x1e5d3ee3f40>,\n",
       "  <matplotlib.patches.Wedge at 0x1e5d3ef2400>,\n",
       "  <matplotlib.patches.Wedge at 0x1e5d3ef2880>,\n",
       "  <matplotlib.patches.Wedge at 0x1e5d3ef2d00>,\n",
       "  <matplotlib.patches.Wedge at 0x1e5d3eff1c0>,\n",
       "  <matplotlib.patches.Wedge at 0x1e5d3eff640>,\n",
       "  <matplotlib.patches.Wedge at 0x1e5d3effac0>,\n",
       "  <matplotlib.patches.Wedge at 0x1e5d3efff40>,\n",
       "  <matplotlib.patches.Wedge at 0x1e5d3f11400>,\n",
       "  <matplotlib.patches.Wedge at 0x1e5d3f11880>,\n",
       "  <matplotlib.patches.Wedge at 0x1e5d3f11d00>,\n",
       "  <matplotlib.patches.Wedge at 0x1e5d3f1e1c0>,\n",
       "  <matplotlib.patches.Wedge at 0x1e5d3f1e640>,\n",
       "  <matplotlib.patches.Wedge at 0x1e5d3f1eac0>,\n",
       "  <matplotlib.patches.Wedge at 0x1e5d3f1ef40>,\n",
       "  <matplotlib.patches.Wedge at 0x1e5d3f2c400>,\n",
       "  <matplotlib.patches.Wedge at 0x1e5d3f2c880>,\n",
       "  <matplotlib.patches.Wedge at 0x1e5d3f2cd00>,\n",
       "  <matplotlib.patches.Wedge at 0x1e5d3f3a1c0>,\n",
       "  <matplotlib.patches.Wedge at 0x1e5d3f3a640>,\n",
       "  <matplotlib.patches.Wedge at 0x1e5d3f3aac0>,\n",
       "  <matplotlib.patches.Wedge at 0x1e5d3f3af40>,\n",
       "  <matplotlib.patches.Wedge at 0x1e5d3f4a400>,\n",
       "  <matplotlib.patches.Wedge at 0x1e5d3f4a880>,\n",
       "  <matplotlib.patches.Wedge at 0x1e5d3f4ad00>,\n",
       "  <matplotlib.patches.Wedge at 0x1e5d3f581c0>,\n",
       "  <matplotlib.patches.Wedge at 0x1e5d3f58640>,\n",
       "  <matplotlib.patches.Wedge at 0x1e5d3f58ac0>,\n",
       "  <matplotlib.patches.Wedge at 0x1e5d3f58f40>,\n",
       "  <matplotlib.patches.Wedge at 0x1e5d3f66400>,\n",
       "  <matplotlib.patches.Wedge at 0x1e5d3f66880>,\n",
       "  <matplotlib.patches.Wedge at 0x1e5d3f66d00>,\n",
       "  <matplotlib.patches.Wedge at 0x1e5d3f751c0>,\n",
       "  <matplotlib.patches.Wedge at 0x1e5d3f75640>,\n",
       "  <matplotlib.patches.Wedge at 0x1e5d3f75ac0>,\n",
       "  <matplotlib.patches.Wedge at 0x1e5d3f75f40>,\n",
       "  <matplotlib.patches.Wedge at 0x1e5d3f85400>,\n",
       "  <matplotlib.patches.Wedge at 0x1e5d3f85880>,\n",
       "  <matplotlib.patches.Wedge at 0x1e5d3f85d00>,\n",
       "  <matplotlib.patches.Wedge at 0x1e5d3f921c0>,\n",
       "  <matplotlib.patches.Wedge at 0x1e5d3f92640>,\n",
       "  <matplotlib.patches.Wedge at 0x1e5d3f92ac0>,\n",
       "  <matplotlib.patches.Wedge at 0x1e5d3f92f40>,\n",
       "  <matplotlib.patches.Wedge at 0x1e5d3fa0400>,\n",
       "  <matplotlib.patches.Wedge at 0x1e5d3fa0880>,\n",
       "  <matplotlib.patches.Wedge at 0x1e5d3fa0d00>,\n",
       "  <matplotlib.patches.Wedge at 0x1e5d3faf1c0>,\n",
       "  <matplotlib.patches.Wedge at 0x1e5d3faf640>,\n",
       "  <matplotlib.patches.Wedge at 0x1e5d3fafac0>,\n",
       "  <matplotlib.patches.Wedge at 0x1e5d3faff40>,\n",
       "  <matplotlib.patches.Wedge at 0x1e5d3fbe400>,\n",
       "  <matplotlib.patches.Wedge at 0x1e5d3fbe880>,\n",
       "  <matplotlib.patches.Wedge at 0x1e5d3fbed00>,\n",
       "  <matplotlib.patches.Wedge at 0x1e5d3fcc1c0>,\n",
       "  <matplotlib.patches.Wedge at 0x1e5d3fcc640>,\n",
       "  <matplotlib.patches.Wedge at 0x1e5d3fccac0>,\n",
       "  <matplotlib.patches.Wedge at 0x1e5d3fccf40>,\n",
       "  <matplotlib.patches.Wedge at 0x1e5d3fdb400>,\n",
       "  <matplotlib.patches.Wedge at 0x1e5d3fdb880>,\n",
       "  <matplotlib.patches.Wedge at 0x1e5d3fdbd00>,\n",
       "  <matplotlib.patches.Wedge at 0x1e5d3feb1c0>,\n",
       "  <matplotlib.patches.Wedge at 0x1e5d3feb640>,\n",
       "  <matplotlib.patches.Wedge at 0x1e5d3febac0>,\n",
       "  <matplotlib.patches.Wedge at 0x1e5d3febf40>,\n",
       "  <matplotlib.patches.Wedge at 0x1e5d3ffa400>,\n",
       "  <matplotlib.patches.Wedge at 0x1e5d3ffa880>,\n",
       "  <matplotlib.patches.Wedge at 0x1e5d3ffad00>,\n",
       "  <matplotlib.patches.Wedge at 0x1e5d40071c0>,\n",
       "  <matplotlib.patches.Wedge at 0x1e5d4007640>,\n",
       "  <matplotlib.patches.Wedge at 0x1e5d4007ac0>,\n",
       "  <matplotlib.patches.Wedge at 0x1e5d4007f40>,\n",
       "  <matplotlib.patches.Wedge at 0x1e5d4016400>,\n",
       "  <matplotlib.patches.Wedge at 0x1e5d4016880>,\n",
       "  <matplotlib.patches.Wedge at 0x1e5d4016d00>,\n",
       "  <matplotlib.patches.Wedge at 0x1e5d40251c0>,\n",
       "  <matplotlib.patches.Wedge at 0x1e5d4025640>,\n",
       "  <matplotlib.patches.Wedge at 0x1e5d4025ac0>,\n",
       "  <matplotlib.patches.Wedge at 0x1e5d4025f40>,\n",
       "  <matplotlib.patches.Wedge at 0x1e5d4034400>,\n",
       "  <matplotlib.patches.Wedge at 0x1e5d4034880>,\n",
       "  <matplotlib.patches.Wedge at 0x1e5d4034d00>,\n",
       "  <matplotlib.patches.Wedge at 0x1e5d40441c0>,\n",
       "  <matplotlib.patches.Wedge at 0x1e5d4044640>,\n",
       "  <matplotlib.patches.Wedge at 0x1e5d4044ac0>,\n",
       "  <matplotlib.patches.Wedge at 0x1e5d4044f40>,\n",
       "  <matplotlib.patches.Wedge at 0x1e5d4051400>,\n",
       "  <matplotlib.patches.Wedge at 0x1e5d4051880>,\n",
       "  <matplotlib.patches.Wedge at 0x1e5d4051d00>,\n",
       "  <matplotlib.patches.Wedge at 0x1e5d40601c0>,\n",
       "  <matplotlib.patches.Wedge at 0x1e5d4060640>,\n",
       "  <matplotlib.patches.Wedge at 0x1e5d4060ac0>,\n",
       "  <matplotlib.patches.Wedge at 0x1e5d4060f40>,\n",
       "  <matplotlib.patches.Wedge at 0x1e5d406e400>,\n",
       "  <matplotlib.patches.Wedge at 0x1e5d406e880>,\n",
       "  <matplotlib.patches.Wedge at 0x1e5d406ed00>,\n",
       "  <matplotlib.patches.Wedge at 0x1e5d407d1c0>,\n",
       "  <matplotlib.patches.Wedge at 0x1e5d407d640>,\n",
       "  <matplotlib.patches.Wedge at 0x1e5d407dac0>,\n",
       "  <matplotlib.patches.Wedge at 0x1e5d407df40>,\n",
       "  <matplotlib.patches.Wedge at 0x1e5d408b400>,\n",
       "  <matplotlib.patches.Wedge at 0x1e5d408b880>,\n",
       "  <matplotlib.patches.Wedge at 0x1e5d408bd00>,\n",
       "  <matplotlib.patches.Wedge at 0x1e5d409a1c0>,\n",
       "  <matplotlib.patches.Wedge at 0x1e5d409a640>,\n",
       "  <matplotlib.patches.Wedge at 0x1e5d409aac0>,\n",
       "  <matplotlib.patches.Wedge at 0x1e5d409af40>,\n",
       "  <matplotlib.patches.Wedge at 0x1e5d40a9400>,\n",
       "  <matplotlib.patches.Wedge at 0x1e5d40a9880>,\n",
       "  <matplotlib.patches.Wedge at 0x1e5d40a9d00>,\n",
       "  <matplotlib.patches.Wedge at 0x1e5d40b91c0>,\n",
       "  <matplotlib.patches.Wedge at 0x1e5d40b9640>,\n",
       "  <matplotlib.patches.Wedge at 0x1e5d40b9ac0>,\n",
       "  <matplotlib.patches.Wedge at 0x1e5d40b9f40>,\n",
       "  <matplotlib.patches.Wedge at 0x1e5d40c6400>,\n",
       "  <matplotlib.patches.Wedge at 0x1e5d40c6880>,\n",
       "  <matplotlib.patches.Wedge at 0x1e5d40c6d00>,\n",
       "  <matplotlib.patches.Wedge at 0x1e5d40d51c0>,\n",
       "  <matplotlib.patches.Wedge at 0x1e5d40d5640>,\n",
       "  <matplotlib.patches.Wedge at 0x1e5d40d5ac0>,\n",
       "  <matplotlib.patches.Wedge at 0x1e5d40d5f40>,\n",
       "  <matplotlib.patches.Wedge at 0x1e5d40e3400>,\n",
       "  <matplotlib.patches.Wedge at 0x1e5d40e3880>,\n",
       "  <matplotlib.patches.Wedge at 0x1e5d40e3d00>,\n",
       "  <matplotlib.patches.Wedge at 0x1e5d40f31c0>,\n",
       "  <matplotlib.patches.Wedge at 0x1e5d40f3640>,\n",
       "  <matplotlib.patches.Wedge at 0x1e5d40f3ac0>,\n",
       "  <matplotlib.patches.Wedge at 0x1e5d40f3f40>,\n",
       "  <matplotlib.patches.Wedge at 0x1e5d4102400>,\n",
       "  <matplotlib.patches.Wedge at 0x1e5d4102880>,\n",
       "  <matplotlib.patches.Wedge at 0x1e5d4102d00>,\n",
       "  <matplotlib.patches.Wedge at 0x1e5d410f1c0>,\n",
       "  <matplotlib.patches.Wedge at 0x1e5d410f640>,\n",
       "  <matplotlib.patches.Wedge at 0x1e5d410fac0>,\n",
       "  <matplotlib.patches.Wedge at 0x1e5d410ff40>,\n",
       "  <matplotlib.patches.Wedge at 0x1e5d411d400>,\n",
       "  <matplotlib.patches.Wedge at 0x1e5d411d880>,\n",
       "  <matplotlib.patches.Wedge at 0x1e5d411dd00>,\n",
       "  <matplotlib.patches.Wedge at 0x1e5d412e1c0>,\n",
       "  <matplotlib.patches.Wedge at 0x1e5d412e640>,\n",
       "  <matplotlib.patches.Wedge at 0x1e5d412eac0>,\n",
       "  <matplotlib.patches.Wedge at 0x1e5d412ef40>,\n",
       "  <matplotlib.patches.Wedge at 0x1e5d413b400>,\n",
       "  <matplotlib.patches.Wedge at 0x1e5d413b880>,\n",
       "  <matplotlib.patches.Wedge at 0x1e5d413bd00>,\n",
       "  <matplotlib.patches.Wedge at 0x1e5d41491c0>,\n",
       "  <matplotlib.patches.Wedge at 0x1e5d4149640>,\n",
       "  <matplotlib.patches.Wedge at 0x1e5d4149ac0>,\n",
       "  <matplotlib.patches.Wedge at 0x1e5d4149f40>,\n",
       "  <matplotlib.patches.Wedge at 0x1e5d4159400>,\n",
       "  <matplotlib.patches.Wedge at 0x1e5d4159880>,\n",
       "  <matplotlib.patches.Wedge at 0x1e5d4159d00>,\n",
       "  <matplotlib.patches.Wedge at 0x1e5d41691c0>,\n",
       "  <matplotlib.patches.Wedge at 0x1e5d4169640>,\n",
       "  <matplotlib.patches.Wedge at 0x1e5d4169ac0>,\n",
       "  <matplotlib.patches.Wedge at 0x1e5d4169f40>,\n",
       "  <matplotlib.patches.Wedge at 0x1e5d4176400>,\n",
       "  <matplotlib.patches.Wedge at 0x1e5d4176880>,\n",
       "  <matplotlib.patches.Wedge at 0x1e5d4176d00>,\n",
       "  <matplotlib.patches.Wedge at 0x1e5d41841c0>,\n",
       "  <matplotlib.patches.Wedge at 0x1e5d4184640>,\n",
       "  <matplotlib.patches.Wedge at 0x1e5d4184ac0>,\n",
       "  <matplotlib.patches.Wedge at 0x1e5d4184f40>,\n",
       "  <matplotlib.patches.Wedge at 0x1e5d4194400>,\n",
       "  <matplotlib.patches.Wedge at 0x1e5d4194880>,\n",
       "  <matplotlib.patches.Wedge at 0x1e5d4194d00>,\n",
       "  <matplotlib.patches.Wedge at 0x1e5d41a11c0>,\n",
       "  <matplotlib.patches.Wedge at 0x1e5d41a1640>,\n",
       "  <matplotlib.patches.Wedge at 0x1e5d41a1ac0>,\n",
       "  <matplotlib.patches.Wedge at 0x1e5d41a1f40>,\n",
       "  <matplotlib.patches.Wedge at 0x1e5d41af400>,\n",
       "  <matplotlib.patches.Wedge at 0x1e5d41af880>,\n",
       "  <matplotlib.patches.Wedge at 0x1e5d41afd00>,\n",
       "  <matplotlib.patches.Wedge at 0x1e5d41c01c0>,\n",
       "  <matplotlib.patches.Wedge at 0x1e5d41c0640>,\n",
       "  <matplotlib.patches.Wedge at 0x1e5d41c0ac0>,\n",
       "  <matplotlib.patches.Wedge at 0x1e5d41c0f40>,\n",
       "  <matplotlib.patches.Wedge at 0x1e5d41ce400>,\n",
       "  <matplotlib.patches.Wedge at 0x1e5d41ce880>,\n",
       "  <matplotlib.patches.Wedge at 0x1e5d41ced00>,\n",
       "  <matplotlib.patches.Wedge at 0x1e5d41dd1c0>,\n",
       "  <matplotlib.patches.Wedge at 0x1e5d41dd640>,\n",
       "  <matplotlib.patches.Wedge at 0x1e5d41ddac0>,\n",
       "  <matplotlib.patches.Wedge at 0x1e5d41ddf40>,\n",
       "  <matplotlib.patches.Wedge at 0x1e5d41ea400>,\n",
       "  <matplotlib.patches.Wedge at 0x1e5d41ea880>,\n",
       "  <matplotlib.patches.Wedge at 0x1e5d41ead00>,\n",
       "  <matplotlib.patches.Wedge at 0x1e5d41f91c0>,\n",
       "  <matplotlib.patches.Wedge at 0x1e5d41f9640>,\n",
       "  <matplotlib.patches.Wedge at 0x1e5d41f9ac0>,\n",
       "  <matplotlib.patches.Wedge at 0x1e5d41f9f40>,\n",
       "  <matplotlib.patches.Wedge at 0x1e5d4208400>,\n",
       "  <matplotlib.patches.Wedge at 0x1e5d4208880>,\n",
       "  <matplotlib.patches.Wedge at 0x1e5d4208d00>,\n",
       "  <matplotlib.patches.Wedge at 0x1e5d42161c0>,\n",
       "  <matplotlib.patches.Wedge at 0x1e5d4216640>,\n",
       "  <matplotlib.patches.Wedge at 0x1e5d4216ac0>,\n",
       "  <matplotlib.patches.Wedge at 0x1e5d4216f40>,\n",
       "  <matplotlib.patches.Wedge at 0x1e5d4225400>,\n",
       "  <matplotlib.patches.Wedge at 0x1e5d4225880>,\n",
       "  <matplotlib.patches.Wedge at 0x1e5d4225d00>,\n",
       "  <matplotlib.patches.Wedge at 0x1e5d42351c0>,\n",
       "  <matplotlib.patches.Wedge at 0x1e5d4235640>,\n",
       "  <matplotlib.patches.Wedge at 0x1e5d4235ac0>,\n",
       "  <matplotlib.patches.Wedge at 0x1e5d4235f40>,\n",
       "  <matplotlib.patches.Wedge at 0x1e5d4243400>,\n",
       "  <matplotlib.patches.Wedge at 0x1e5d4243880>,\n",
       "  <matplotlib.patches.Wedge at 0x1e5d4243d00>,\n",
       "  <matplotlib.patches.Wedge at 0x1e5d42511c0>,\n",
       "  <matplotlib.patches.Wedge at 0x1e5d4251640>,\n",
       "  <matplotlib.patches.Wedge at 0x1e5d4251ac0>,\n",
       "  <matplotlib.patches.Wedge at 0x1e5d4251f40>,\n",
       "  <matplotlib.patches.Wedge at 0x1e5d425e400>,\n",
       "  <matplotlib.patches.Wedge at 0x1e5d425e880>,\n",
       "  <matplotlib.patches.Wedge at 0x1e5d425ed00>,\n",
       "  <matplotlib.patches.Wedge at 0x1e5d426f1c0>,\n",
       "  <matplotlib.patches.Wedge at 0x1e5d426f640>,\n",
       "  <matplotlib.patches.Wedge at 0x1e5d426fac0>,\n",
       "  <matplotlib.patches.Wedge at 0x1e5d426ff40>,\n",
       "  <matplotlib.patches.Wedge at 0x1e5d427e400>,\n",
       "  <matplotlib.patches.Wedge at 0x1e5d427e880>,\n",
       "  <matplotlib.patches.Wedge at 0x1e5d427ed00>,\n",
       "  <matplotlib.patches.Wedge at 0x1e5d428c1c0>,\n",
       "  <matplotlib.patches.Wedge at 0x1e5d428c640>,\n",
       "  <matplotlib.patches.Wedge at 0x1e5d428cac0>,\n",
       "  <matplotlib.patches.Wedge at 0x1e5d428cf40>,\n",
       "  <matplotlib.patches.Wedge at 0x1e5d429a400>,\n",
       "  <matplotlib.patches.Wedge at 0x1e5d429a880>,\n",
       "  <matplotlib.patches.Wedge at 0x1e5d429ad00>,\n",
       "  <matplotlib.patches.Wedge at 0x1e5d42a81c0>,\n",
       "  <matplotlib.patches.Wedge at 0x1e5d42a8640>,\n",
       "  <matplotlib.patches.Wedge at 0x1e5d42a8ac0>,\n",
       "  <matplotlib.patches.Wedge at 0x1e5d42a8f40>,\n",
       "  <matplotlib.patches.Wedge at 0x1e5d42b6400>,\n",
       "  <matplotlib.patches.Wedge at 0x1e5d42b6880>,\n",
       "  <matplotlib.patches.Wedge at 0x1e5d42b6d00>,\n",
       "  <matplotlib.patches.Wedge at 0x1e5d42c71c0>,\n",
       "  <matplotlib.patches.Wedge at 0x1e5d42c7640>,\n",
       "  <matplotlib.patches.Wedge at 0x1e5d42c7ac0>,\n",
       "  <matplotlib.patches.Wedge at 0x1e5d42c7f40>,\n",
       "  <matplotlib.patches.Wedge at 0x1e5d42d4400>,\n",
       "  <matplotlib.patches.Wedge at 0x1e5d42d4880>,\n",
       "  <matplotlib.patches.Wedge at 0x1e5d42d4d00>,\n",
       "  <matplotlib.patches.Wedge at 0x1e5d42e51c0>,\n",
       "  <matplotlib.patches.Wedge at 0x1e5d42e5640>,\n",
       "  <matplotlib.patches.Wedge at 0x1e5d42e5ac0>,\n",
       "  <matplotlib.patches.Wedge at 0x1e5d42e5f40>,\n",
       "  <matplotlib.patches.Wedge at 0x1e5d42f3400>,\n",
       "  <matplotlib.patches.Wedge at 0x1e5d42f3880>,\n",
       "  <matplotlib.patches.Wedge at 0x1e5d42f3d00>,\n",
       "  <matplotlib.patches.Wedge at 0x1e5d43011c0>,\n",
       "  <matplotlib.patches.Wedge at 0x1e5d4301640>,\n",
       "  <matplotlib.patches.Wedge at 0x1e5d4301ac0>,\n",
       "  <matplotlib.patches.Wedge at 0x1e5d4301f40>,\n",
       "  <matplotlib.patches.Wedge at 0x1e5d4310400>,\n",
       "  <matplotlib.patches.Wedge at 0x1e5d4310880>,\n",
       "  <matplotlib.patches.Wedge at 0x1e5d4310d00>,\n",
       "  <matplotlib.patches.Wedge at 0x1e5d431e1c0>,\n",
       "  <matplotlib.patches.Wedge at 0x1e5d431e640>,\n",
       "  <matplotlib.patches.Wedge at 0x1e5d431eac0>,\n",
       "  <matplotlib.patches.Wedge at 0x1e5d431ef40>,\n",
       "  <matplotlib.patches.Wedge at 0x1e5d432d400>,\n",
       "  <matplotlib.patches.Wedge at 0x1e5d432d880>,\n",
       "  <matplotlib.patches.Wedge at 0x1e5d432dd00>,\n",
       "  <matplotlib.patches.Wedge at 0x1e5d433e1c0>,\n",
       "  <matplotlib.patches.Wedge at 0x1e5d433e640>,\n",
       "  <matplotlib.patches.Wedge at 0x1e5d433eac0>,\n",
       "  <matplotlib.patches.Wedge at 0x1e5d433ef40>,\n",
       "  <matplotlib.patches.Wedge at 0x1e5d434b400>,\n",
       "  <matplotlib.patches.Wedge at 0x1e5d434b880>,\n",
       "  <matplotlib.patches.Wedge at 0x1e5d434bd00>,\n",
       "  <matplotlib.patches.Wedge at 0x1e5d43591c0>,\n",
       "  <matplotlib.patches.Wedge at 0x1e5d4359640>,\n",
       "  <matplotlib.patches.Wedge at 0x1e5d4359ac0>,\n",
       "  <matplotlib.patches.Wedge at 0x1e5d4359f40>,\n",
       "  <matplotlib.patches.Wedge at 0x1e5d4367400>,\n",
       "  <matplotlib.patches.Wedge at 0x1e5d4367880>,\n",
       "  <matplotlib.patches.Wedge at 0x1e5d4367d00>,\n",
       "  <matplotlib.patches.Wedge at 0x1e5d43781c0>,\n",
       "  <matplotlib.patches.Wedge at 0x1e5d4378640>,\n",
       "  <matplotlib.patches.Wedge at 0x1e5d4378ac0>,\n",
       "  <matplotlib.patches.Wedge at 0x1e5d4378f40>,\n",
       "  <matplotlib.patches.Wedge at 0x1e5d4385400>,\n",
       "  <matplotlib.patches.Wedge at 0x1e5d4385880>,\n",
       "  <matplotlib.patches.Wedge at 0x1e5d4385d00>,\n",
       "  <matplotlib.patches.Wedge at 0x1e5d43931c0>,\n",
       "  <matplotlib.patches.Wedge at 0x1e5d4393640>,\n",
       "  <matplotlib.patches.Wedge at 0x1e5d4393ac0>,\n",
       "  <matplotlib.patches.Wedge at 0x1e5d4393f40>,\n",
       "  <matplotlib.patches.Wedge at 0x1e5d43a3400>,\n",
       "  <matplotlib.patches.Wedge at 0x1e5d43a3880>,\n",
       "  <matplotlib.patches.Wedge at 0x1e5d43a3d00>,\n",
       "  <matplotlib.patches.Wedge at 0x1e5d43b11c0>,\n",
       "  <matplotlib.patches.Wedge at 0x1e5d43b1640>,\n",
       "  <matplotlib.patches.Wedge at 0x1e5d43b1ac0>,\n",
       "  <matplotlib.patches.Wedge at 0x1e5d43b1f40>,\n",
       "  <matplotlib.patches.Wedge at 0x1e5d43be400>,\n",
       "  <matplotlib.patches.Wedge at 0x1e5d43be880>,\n",
       "  <matplotlib.patches.Wedge at 0x1e5d43bed00>,\n",
       "  <matplotlib.patches.Wedge at 0x1e5d43ce1c0>,\n",
       "  <matplotlib.patches.Wedge at 0x1e5d43ce640>,\n",
       "  <matplotlib.patches.Wedge at 0x1e5d43ceac0>,\n",
       "  <matplotlib.patches.Wedge at 0x1e5d43cef40>,\n",
       "  <matplotlib.patches.Wedge at 0x1e5d43dc400>,\n",
       "  <matplotlib.patches.Wedge at 0x1e5d43dc880>,\n",
       "  <matplotlib.patches.Wedge at 0x1e5d43dcd00>,\n",
       "  <matplotlib.patches.Wedge at 0x1e5d43eb1c0>,\n",
       "  <matplotlib.patches.Wedge at 0x1e5d43eb640>,\n",
       "  <matplotlib.patches.Wedge at 0x1e5d43ebac0>,\n",
       "  <matplotlib.patches.Wedge at 0x1e5d43ebf40>,\n",
       "  <matplotlib.patches.Wedge at 0x1e5d43f9400>,\n",
       "  <matplotlib.patches.Wedge at 0x1e5d43f9880>,\n",
       "  <matplotlib.patches.Wedge at 0x1e5d43f9d00>,\n",
       "  <matplotlib.patches.Wedge at 0x1e5d44081c0>,\n",
       "  <matplotlib.patches.Wedge at 0x1e5d4408640>,\n",
       "  <matplotlib.patches.Wedge at 0x1e5d4408ac0>,\n",
       "  <matplotlib.patches.Wedge at 0x1e5d4408f40>,\n",
       "  <matplotlib.patches.Wedge at 0x1e5d4417400>,\n",
       "  <matplotlib.patches.Wedge at 0x1e5d4417880>,\n",
       "  <matplotlib.patches.Wedge at 0x1e5d4417d00>,\n",
       "  <matplotlib.patches.Wedge at 0x1e5d44261c0>,\n",
       "  <matplotlib.patches.Wedge at 0x1e5d4426640>,\n",
       "  <matplotlib.patches.Wedge at 0x1e5d4426ac0>,\n",
       "  <matplotlib.patches.Wedge at 0x1e5d4426f40>,\n",
       "  <matplotlib.patches.Wedge at 0x1e5d4434400>,\n",
       "  <matplotlib.patches.Wedge at 0x1e5d4434880>,\n",
       "  <matplotlib.patches.Wedge at 0x1e5d4434d00>,\n",
       "  <matplotlib.patches.Wedge at 0x1e5d44421c0>,\n",
       "  <matplotlib.patches.Wedge at 0x1e5d4442640>,\n",
       "  <matplotlib.patches.Wedge at 0x1e5d4442ac0>,\n",
       "  <matplotlib.patches.Wedge at 0x1e5d4442f40>,\n",
       "  <matplotlib.patches.Wedge at 0x1e5d4451400>,\n",
       "  <matplotlib.patches.Wedge at 0x1e5d4451880>,\n",
       "  <matplotlib.patches.Wedge at 0x1e5d4451d00>,\n",
       "  <matplotlib.patches.Wedge at 0x1e5d44601c0>,\n",
       "  <matplotlib.patches.Wedge at 0x1e5d4460640>,\n",
       "  <matplotlib.patches.Wedge at 0x1e5d4460ac0>,\n",
       "  <matplotlib.patches.Wedge at 0x1e5d4460f40>,\n",
       "  <matplotlib.patches.Wedge at 0x1e5d446e400>,\n",
       "  <matplotlib.patches.Wedge at 0x1e5d446e880>,\n",
       "  <matplotlib.patches.Wedge at 0x1e5d446ed00>,\n",
       "  <matplotlib.patches.Wedge at 0x1e5d447e1c0>,\n",
       "  <matplotlib.patches.Wedge at 0x1e5d447e640>,\n",
       "  <matplotlib.patches.Wedge at 0x1e5d447eac0>,\n",
       "  <matplotlib.patches.Wedge at 0x1e5d447ef40>,\n",
       "  <matplotlib.patches.Wedge at 0x1e5d448d400>,\n",
       "  <matplotlib.patches.Wedge at 0x1e5d448d880>,\n",
       "  <matplotlib.patches.Wedge at 0x1e5d448dd00>,\n",
       "  <matplotlib.patches.Wedge at 0x1e5d449a1c0>,\n",
       "  <matplotlib.patches.Wedge at 0x1e5d449a640>,\n",
       "  <matplotlib.patches.Wedge at 0x1e5d449aac0>,\n",
       "  <matplotlib.patches.Wedge at 0x1e5d449af40>,\n",
       "  <matplotlib.patches.Wedge at 0x1e5d44a8400>,\n",
       "  <matplotlib.patches.Wedge at 0x1e5d44a8880>,\n",
       "  <matplotlib.patches.Wedge at 0x1e5d44a8d00>,\n",
       "  <matplotlib.patches.Wedge at 0x1e5d44b91c0>,\n",
       "  <matplotlib.patches.Wedge at 0x1e5d44b9670>,\n",
       "  <matplotlib.patches.Wedge at 0x1e5d44b9af0>,\n",
       "  <matplotlib.patches.Wedge at 0x1e5d44b9f70>,\n",
       "  <matplotlib.patches.Wedge at 0x1e5d44c6430>,\n",
       "  <matplotlib.patches.Wedge at 0x1e5d44c68b0>,\n",
       "  <matplotlib.patches.Wedge at 0x1e5d44c6d30>,\n",
       "  <matplotlib.patches.Wedge at 0x1e5d44d71f0>,\n",
       "  <matplotlib.patches.Wedge at 0x1e5d44d7670>,\n",
       "  <matplotlib.patches.Wedge at 0x1e5d44d7af0>,\n",
       "  <matplotlib.patches.Wedge at 0x1e5d44d7f70>,\n",
       "  <matplotlib.patches.Wedge at 0x1e5d44e4430>,\n",
       "  <matplotlib.patches.Wedge at 0x1e5d44e48b0>,\n",
       "  <matplotlib.patches.Wedge at 0x1e5d44e4d30>,\n",
       "  <matplotlib.patches.Wedge at 0x1e5d44f41f0>,\n",
       "  <matplotlib.patches.Wedge at 0x1e5d44f4670>,\n",
       "  <matplotlib.patches.Wedge at 0x1e5d44f4af0>,\n",
       "  <matplotlib.patches.Wedge at 0x1e5d44f4f70>,\n",
       "  <matplotlib.patches.Wedge at 0x1e5d4501430>,\n",
       "  <matplotlib.patches.Wedge at 0x1e5d45018b0>,\n",
       "  <matplotlib.patches.Wedge at 0x1e5d4501d30>,\n",
       "  <matplotlib.patches.Wedge at 0x1e5d45101f0>,\n",
       "  <matplotlib.patches.Wedge at 0x1e5d4510670>,\n",
       "  <matplotlib.patches.Wedge at 0x1e5d4510af0>,\n",
       "  <matplotlib.patches.Wedge at 0x1e5d4510f70>,\n",
       "  <matplotlib.patches.Wedge at 0x1e5d451e430>,\n",
       "  <matplotlib.patches.Wedge at 0x1e5d451e8b0>,\n",
       "  <matplotlib.patches.Wedge at 0x1e5d451ed30>,\n",
       "  <matplotlib.patches.Wedge at 0x1e5d452e1f0>,\n",
       "  <matplotlib.patches.Wedge at 0x1e5d452e670>,\n",
       "  <matplotlib.patches.Wedge at 0x1e5d452eaf0>,\n",
       "  <matplotlib.patches.Wedge at 0x1e5d452ef70>,\n",
       "  <matplotlib.patches.Wedge at 0x1e5d453d430>,\n",
       "  <matplotlib.patches.Wedge at 0x1e5d453d8b0>,\n",
       "  <matplotlib.patches.Wedge at 0x1e5d453dd30>,\n",
       "  <matplotlib.patches.Wedge at 0x1e5d454b1f0>,\n",
       "  <matplotlib.patches.Wedge at 0x1e5d454b670>,\n",
       "  <matplotlib.patches.Wedge at 0x1e5d454baf0>,\n",
       "  <matplotlib.patches.Wedge at 0x1e5d454bf70>,\n",
       "  <matplotlib.patches.Wedge at 0x1e5d4558430>,\n",
       "  <matplotlib.patches.Wedge at 0x1e5d45588b0>,\n",
       "  <matplotlib.patches.Wedge at 0x1e5d4558d30>,\n",
       "  <matplotlib.patches.Wedge at 0x1e5d45681f0>,\n",
       "  <matplotlib.patches.Wedge at 0x1e5d4568670>,\n",
       "  <matplotlib.patches.Wedge at 0x1e5d4568af0>,\n",
       "  <matplotlib.patches.Wedge at 0x1e5d4568f70>,\n",
       "  <matplotlib.patches.Wedge at 0x1e5d4576430>,\n",
       "  <matplotlib.patches.Wedge at 0x1e5d45768b0>,\n",
       "  <matplotlib.patches.Wedge at 0x1e5d4576d30>,\n",
       "  <matplotlib.patches.Wedge at 0x1e5d45871f0>,\n",
       "  <matplotlib.patches.Wedge at 0x1e5d4587670>,\n",
       "  <matplotlib.patches.Wedge at 0x1e5d4587af0>,\n",
       "  <matplotlib.patches.Wedge at 0x1e5d4587f70>,\n",
       "  <matplotlib.patches.Wedge at 0x1e5d4593430>,\n",
       "  <matplotlib.patches.Wedge at 0x1e5d45938b0>,\n",
       "  <matplotlib.patches.Wedge at 0x1e5d4593d30>,\n",
       "  <matplotlib.patches.Wedge at 0x1e5d45a21f0>,\n",
       "  <matplotlib.patches.Wedge at 0x1e5d45a2670>,\n",
       "  <matplotlib.patches.Wedge at 0x1e5d45a2af0>,\n",
       "  <matplotlib.patches.Wedge at 0x1e5d45a2f70>,\n",
       "  <matplotlib.patches.Wedge at 0x1e5d45b1430>,\n",
       "  <matplotlib.patches.Wedge at 0x1e5d45b18b0>,\n",
       "  <matplotlib.patches.Wedge at 0x1e5d45b1d30>,\n",
       "  <matplotlib.patches.Wedge at 0x1e5d45bf1f0>,\n",
       "  <matplotlib.patches.Wedge at 0x1e5d45bf670>,\n",
       "  <matplotlib.patches.Wedge at 0x1e5d45bfaf0>,\n",
       "  <matplotlib.patches.Wedge at 0x1e5d45bff70>,\n",
       "  <matplotlib.patches.Wedge at 0x1e5d45cb430>,\n",
       "  <matplotlib.patches.Wedge at 0x1e5d45cb8b0>,\n",
       "  <matplotlib.patches.Wedge at 0x1e5d45cbd30>,\n",
       "  <matplotlib.patches.Wedge at 0x1e5d45dd1f0>,\n",
       "  <matplotlib.patches.Wedge at 0x1e5d45dd670>,\n",
       "  <matplotlib.patches.Wedge at 0x1e5d45ddaf0>,\n",
       "  <matplotlib.patches.Wedge at 0x1e5d45ddf70>,\n",
       "  <matplotlib.patches.Wedge at 0x1e5d45ec430>,\n",
       "  <matplotlib.patches.Wedge at 0x1e5d45ec8b0>,\n",
       "  <matplotlib.patches.Wedge at 0x1e5d45ecd30>,\n",
       "  <matplotlib.patches.Wedge at 0x1e5d45fa1f0>,\n",
       "  <matplotlib.patches.Wedge at 0x1e5d45fa670>,\n",
       "  <matplotlib.patches.Wedge at 0x1e5d45faaf0>,\n",
       "  <matplotlib.patches.Wedge at 0x1e5d45faf70>,\n",
       "  <matplotlib.patches.Wedge at 0x1e5d4608430>,\n",
       "  <matplotlib.patches.Wedge at 0x1e5d46088b0>,\n",
       "  <matplotlib.patches.Wedge at 0x1e5d4608d30>,\n",
       "  <matplotlib.patches.Wedge at 0x1e5d46171f0>,\n",
       "  <matplotlib.patches.Wedge at 0x1e5d4617670>,\n",
       "  <matplotlib.patches.Wedge at 0x1e5d4617af0>,\n",
       "  <matplotlib.patches.Wedge at 0x1e5d4617f70>,\n",
       "  <matplotlib.patches.Wedge at 0x1e5d4626430>,\n",
       "  <matplotlib.patches.Wedge at 0x1e5d46268b0>,\n",
       "  <matplotlib.patches.Wedge at 0x1e5d4626d30>,\n",
       "  <matplotlib.patches.Wedge at 0x1e5d46351f0>,\n",
       "  <matplotlib.patches.Wedge at 0x1e5d4635670>,\n",
       "  <matplotlib.patches.Wedge at 0x1e5d4635af0>,\n",
       "  <matplotlib.patches.Wedge at 0x1e5d4635f70>,\n",
       "  <matplotlib.patches.Wedge at 0x1e5d4643430>,\n",
       "  <matplotlib.patches.Wedge at 0x1e5d46438b0>,\n",
       "  <matplotlib.patches.Wedge at 0x1e5d4643d30>,\n",
       "  <matplotlib.patches.Wedge at 0x1e5d46521f0>,\n",
       "  <matplotlib.patches.Wedge at 0x1e5d4652670>,\n",
       "  <matplotlib.patches.Wedge at 0x1e5d4652af0>,\n",
       "  <matplotlib.patches.Wedge at 0x1e5d4652f70>,\n",
       "  <matplotlib.patches.Wedge at 0x1e5d4660430>,\n",
       "  <matplotlib.patches.Wedge at 0x1e5d46608b0>,\n",
       "  <matplotlib.patches.Wedge at 0x1e5d4660d30>,\n",
       "  <matplotlib.patches.Wedge at 0x1e5d46701f0>,\n",
       "  <matplotlib.patches.Wedge at 0x1e5d4670670>,\n",
       "  <matplotlib.patches.Wedge at 0x1e5d4670af0>,\n",
       "  <matplotlib.patches.Wedge at 0x1e5d4670f70>,\n",
       "  <matplotlib.patches.Wedge at 0x1e5d467d430>,\n",
       "  <matplotlib.patches.Wedge at 0x1e5d467d7f0>,\n",
       "  <matplotlib.patches.Wedge at 0x1e5d467dd30>,\n",
       "  <matplotlib.patches.Wedge at 0x1e5d468b1f0>,\n",
       "  <matplotlib.patches.Wedge at 0x1e5d468b670>,\n",
       "  <matplotlib.patches.Wedge at 0x1e5d468baf0>,\n",
       "  <matplotlib.patches.Wedge at 0x1e5d468bf70>,\n",
       "  <matplotlib.patches.Wedge at 0x1e5d469a430>,\n",
       "  <matplotlib.patches.Wedge at 0x1e5d469a8b0>,\n",
       "  <matplotlib.patches.Wedge at 0x1e5d469ad30>,\n",
       "  <matplotlib.patches.Wedge at 0x1e5d46a91f0>,\n",
       "  <matplotlib.patches.Wedge at 0x1e5d46a9670>,\n",
       "  <matplotlib.patches.Wedge at 0x1e5d46a9af0>,\n",
       "  <matplotlib.patches.Wedge at 0x1e5d46a9f70>,\n",
       "  ...],\n",
       " [Text(1.0999999907955442, 0.00014230180133002995, ''),\n",
       "  Text(1.0999999171598989, 0.0004269053944641943, ''),\n",
       "  Text(1.0999997995474118, 0.0006640750364830045, ''),\n",
       "  Text(1.0999995909130935, 0.0009486785689572683, ''),\n",
       "  Text(1.0999992544391493, 0.0012807159387653647, ''),\n",
       "  Text(1.0999988177389748, 0.001612753191881263, ''),\n",
       "  Text(1.0999982808126096, 0.0019447902980514501, ''),\n",
       "  Text(1.0999977408181891, 0.0022293933884301575, ''),\n",
       "  Text(1.0999971271882738, 0.002513996329569936, ''),\n",
       "  Text(1.0999964399229045, 0.0027985991024190382, ''),\n",
       "  Text(1.0999956790221277, 0.003083201687925729, ''),\n",
       "  Text(1.0999949886889075, 0.0033203703544229554, ''),\n",
       "  Text(1.099994247220054, 0.0035575388665656234, ''),\n",
       "  Text(1.099993289958451, 0.003842140859350827, ''),\n",
       "  Text(1.0999918990659874, 0.004221609788065988, ''),\n",
       "  Text(1.0999901778373595, 0.004648511733237466, ''),\n",
       "  Text(1.0999887245606723, 0.0049805460931321354, ''),\n",
       "  Text(1.0999871710587137, 0.005312579999225263, ''),\n",
       "  Text(1.099985759714566, 0.005597180108734735, ''),\n",
       "  Text(1.099984527345729, 0.005834346578108207, ''),\n",
       "  Text(1.0999827161223166, 0.006166379178365386, ''),\n",
       "  Text(1.0999808046741806, 0.006498411216774057, ''),\n",
       "  Text(1.0999784974380755, 0.006877875680332415, ''),\n",
       "  Text(1.0999763712232307, 0.007209906419193424, ''),\n",
       "  Text(1.0999747911366424, 0.007447070826840105, ''),\n",
       "  Text(1.0999728275349643, 0.007731667655556686, ''),\n",
       "  Text(1.0999707902994589, 0.008016263966703864, ''),\n",
       "  Text(1.099968679430263, 0.008300859741230336, ''),\n",
       "  Text(1.0999664949275174, 0.008585454960084836, ''),\n",
       "  Text(1.0999638532765177, 0.00891748199188163, ''),\n",
       "  Text(1.0999611114025132, 0.009249508211163686, ''),\n",
       "  Text(1.0999590915602036, 0.009486669281251237, ''),\n",
       "  Text(1.099956600252574, 0.00977126198602668, ''),\n",
       "  Text(1.0999536006634396, 0.01010328597707073, ''),\n",
       "  Text(1.0999505008522348, 0.01043530904755573, ''),\n",
       "  Text(1.0999473008192417, 0.010767331167229461, ''),\n",
       "  Text(1.0999440005647518, 0.011099352305839784, ''),\n",
       "  Text(1.0999401061254837, 0.011478803799162534, ''),\n",
       "  Text(1.099936080785523, 0.011858253926426024, ''),\n",
       "  Text(1.0999319245453487, 0.012237702642472988, ''),\n",
       "  Text(1.0999276374054554, 0.012617149902146336, ''),\n",
       "  Text(1.0999232193663533, 0.012996595660289146, ''),\n",
       "  Text(1.09991809260752, 0.013423470290318908, ''),\n",
       "  Text(1.0999133964093635, 0.013802912707775037, ''),\n",
       "  Text(1.0999097883593019, 0.01408749343906554, ''),\n",
       "  Text(1.0999061066796332, 0.014372073227318155, ''),\n",
       "  Text(1.0999023513706039, 0.01465665205348268, ''),\n",
       "  Text(1.099897877117684, 0.014988659446810906, ''),\n",
       "  Text(1.0998933026477706, 0.01532066547445017, ''),\n",
       "  Text(1.0998893019093798, 0.015605240956070451, ''),\n",
       "  Text(1.0998852275427535, 0.015889815393052554, ''),\n",
       "  Text(1.0998796805214555, 0.016269246326157377, ''),\n",
       "  Text(1.0998740026066558, 0.016648675323106217, ''),\n",
       "  Text(1.0998703874408977, 0.016885817439788533, ''),\n",
       "  Text(1.0998652403106235, 0.01721781508946108, ''),\n",
       "  Text(1.0998584753185214, 0.01764466690016479, ''),\n",
       "  Text(1.0998523229205561, 0.018024088500026157, ''),\n",
       "  Text(1.099846832201459, 0.018356080638739693, ''),\n",
       "  Text(1.0998404343848969, 0.018735498179695977, ''),\n",
       "  Text(1.0998330803881926, 0.019162340249028013, ''),\n",
       "  Text(1.099827246086057, 0.019494326527482987, ''),\n",
       "  Text(1.0998221654962754, 0.019778884778557448, ''),\n",
       "  Text(1.0998170112827526, 0.020063441705603768, ''),\n",
       "  Text(1.099811783445833, 0.02034799728957328, ''),\n",
       "  Text(1.0998064819858668, 0.020632551511417397, ''),\n",
       "  Text(1.0998011069032092, 0.02091710435208765, ''),\n",
       "  Text(1.0997947429229393, 0.021249080899329947, ''),\n",
       "  Text(1.099787347099415, 0.02162848029869225, ''),\n",
       "  Text(1.0997807683893022, 0.0219604526600976, ''),\n",
       "  Text(1.0997731271618012, 0.022339847196279072, ''),\n",
       "  Text(1.0997633915762481, 0.022814086628842326, ''),\n",
       "  Text(1.0997554558682003, 0.0231934751196797, ''),\n",
       "  Text(1.0997484047622448, 0.023525437783346256, ''),\n",
       "  Text(1.099740223657389, 0.023904821061793553, ''),\n",
       "  Text(1.0997329578307145, 0.024236779095175073, ''),\n",
       "  Text(1.099725591802073, 0.024568734920226917, ''),\n",
       "  Text(1.0997170507881198, 0.0249481102667147, ''),\n",
       "  Text(1.0997094700432486, 0.02528006125778265, ''),\n",
       "  Text(1.0997028925111052, 0.025564588842944415, ''),\n",
       "  Text(1.0996951256813994, 0.025896535532218632, ''),\n",
       "  Text(1.0996872586531738, 0.026228479861934766, ''),\n",
       "  Text(1.0996792914271452, 0.026560421801847763, ''),\n",
       "  Text(1.0996723826274761, 0.026844941542309195, ''),\n",
       "  Text(1.0996665690617748, 0.027082039950953922, ''),\n",
       "  Text(1.0996595253041366, 0.02736655637600777, ''),\n",
       "  Text(1.099652407933644, 0.027651070969103374, ''),\n",
       "  Text(1.0996428035980474, 0.028030420885644582, ''),\n",
       "  Text(1.0996330683971391, 0.028409767466366427, ''),\n",
       "  Text(1.0996269174421265, 0.028646857362145346, ''),\n",
       "  Text(1.0996219598727002, 0.028836528322979275, ''),\n",
       "  Text(1.0996144621766548, 0.02912103315383302, ''),\n",
       "  Text(1.0996030776142087, 0.02954778674216837, ''),\n",
       "  Text(1.0995928189637958, 0.029927119528167397, ''),\n",
       "  Text(1.0995850390996345, 0.030211616776591198, ''),\n",
       "  Text(1.099577185627605, 0.03049611200260417, ''),\n",
       "  Text(1.0995679302119887, 0.03082802052229832, ''),\n",
       "  Text(1.099558574609442, 0.031159926233103027, ''),\n",
       "  Text(1.0995491188208173, 0.03149182910477677, ''),\n",
       "  Text(1.0995395628469762, 0.031823729107078286, ''),\n",
       "  Text(1.0995312922737661, 0.03210821251303698, ''),\n",
       "  Text(1.0995229480962858, 0.032392693769623886, ''),\n",
       "  Text(1.099514530315094, 0.032677172857795395, ''),\n",
       "  Text(1.0995060389307545, 0.03296164975850806, ''),\n",
       "  Text(1.0994974739438352, 0.03324612445271856, ''),\n",
       "  Text(1.0994888353549097, 0.03353059692138374, ''),\n",
       "  Text(1.0994801231645563, 0.033815067145460585, ''),\n",
       "  Text(1.0994713373733584, 0.03409953510590624, ''),\n",
       "  Text(1.0994639596581846, 0.03433658999880415, ''),\n",
       "  Text(1.0994550389334372, 0.03462105376608409, ''),\n",
       "  Text(1.0994415198479628, 0.03504774506872232, ''),\n",
       "  Text(1.099427835166393, 0.03547443109252615, ''),\n",
       "  Text(1.0994170770404839, 0.03580629430363987, ''),\n",
       "  Text(1.0994077760601066, 0.03609074588547957, ''),\n",
       "  Text(1.099398401483728, 0.03637519505135074, ''),\n",
       "  Text(1.0993873714614815, 0.036707049336803015, ''),\n",
       "  Text(1.0993762412687564, 0.03703890027769922, ''),\n",
       "  Text(1.0993666213769298, 0.03732334125282117, ''),\n",
       "  Text(1.099358548583245, 0.037560373493096946, ''),\n",
       "  Text(1.0993487937707447, 0.037844809879408886, ''),\n",
       "  Text(1.0993356728776589, 0.03822405445037425, ''),\n",
       "  Text(1.0993240847757972, 0.03855588971682288, ''),\n",
       "  Text(1.099314072394211, 0.038840317146692185, ''),\n",
       "  Text(1.0993056725284096, 0.0390773380216854, ''),\n",
       "  Text(1.0992955252326102, 0.03936176067657257, ''),\n",
       "  Text(1.0992835937133298, 0.03969358377253102, ''),\n",
       "  Text(1.0992715620330262, 0.04002540325181588, ''),\n",
       "  Text(1.099259430192796, 0.040357219084193444, ''),\n",
       "  Text(1.0992471981937442, 0.04068903123943039, ''),\n",
       "  Text(1.099231324167201, 0.041115641422970924, ''),\n",
       "  Text(1.099215284576222, 0.04154224541374037, ''),\n",
       "  Text(1.0992026948762512, 0.04187404418953442, ''),\n",
       "  Text(1.0991900050226284, 0.04220583914998263, ''),\n",
       "  Text(1.0991772150165098, 0.04253763026485354, ''),\n",
       "  Text(1.0991661724419346, 0.04282201956175803, ''),\n",
       "  Text(1.0991531964414236, 0.04315380345463792, ''),\n",
       "  Text(1.0991401202917706, 0.04348558341556693, ''),\n",
       "  Text(1.099126943994167, 0.04381735941431496, ''),\n",
       "  Text(1.099111762739587, 0.04419652709747302, ''),\n",
       "  Text(1.0991002909596657, 0.04448089941063051, ''),\n",
       "  Text(1.0990906749397125, 0.04471787406135984, ''),\n",
       "  Text(1.0990810078261648, 0.04495484663328259, ''),\n",
       "  Text(1.0990673880305053, 0.0452866047281414, ''),\n",
       "  Text(1.0990516999279398, 0.04566575177861124, ''),\n",
       "  Text(1.0990398480169794, 0.04595010849622781, ''),\n",
       "  Text(1.0990259278013654, 0.0462818541152811, ''),\n",
       "  Text(1.0990098963660397, 0.04666098680382625, ''),\n",
       "  Text(1.098993734140723, 0.04704011393938225, ''),\n",
       "  Text(1.0989815266419602, 0.047324455619758274, ''),\n",
       "  Text(1.0989671915788826, 0.04765618357803843, ''),\n",
       "  Text(1.09895068603903, 0.04803529592233262, ''),\n",
       "  Text(1.098938221058001, 0.04831962642526017, ''),\n",
       "  Text(1.098925682512403, 0.04860395369359963, ''),\n",
       "  Text(1.0989130704030754, 0.04888827770831769, ''),\n",
       "  Text(1.0988982633000852, 0.049219984925400515, ''),\n",
       "  Text(1.0988876254961897, 0.04945691591017698, ''),\n",
       "  Text(1.0988790784725986, 0.04964645904002699, ''),\n",
       "  Text(1.098861886344571, 0.050025540869156226, ''),\n",
       "  Text(1.0988423888866417, 0.05045200081165197, ''),\n",
       "  Text(1.098827109773447, 0.0507836866221169, ''),\n",
       "  Text(1.0988117305408216, 0.051115367805435546, ''),\n",
       "  Text(1.098791810129386, 0.051541808200599296, ''),\n",
       "  Text(1.0987739641602456, 0.05192085981163336, ''),\n",
       "  Text(1.0987604938710664, 0.05220514446116004, ''),\n",
       "  Text(1.0987469500292153, 0.05248942561599624, ''),\n",
       "  Text(1.0987333326355992, 0.05277370325711173, ''),\n",
       "  Text(1.0987196416911298, 0.053057977365476565, ''),\n",
       "  Text(1.0987081763866184, 0.05329486974551545, ''),\n",
       "  Text(1.098694350600995, 0.05357913733402494, ''),\n",
       "  Text(1.0986781275611743, 0.053910778316327755, ''),\n",
       "  Text(1.0986641424225019, 0.0541950381033948, ''),\n",
       "  Text(1.098650083737608, 0.0544792942625649, ''),\n",
       "  Text(1.0986359515074333, 0.054763546774809505, ''),\n",
       "  Text(1.0986217457329241, 0.055047795621100355, ''),\n",
       "  Text(1.0986050793785207, 0.05537941462054805, ''),\n",
       "  Text(1.0985859095458026, 0.0557584015859646, ''),\n",
       "  Text(1.0985690286949825, 0.056090009735803206, ''),\n",
       "  Text(1.098549613727524, 0.05646898422238596, ''),\n",
       "  Text(1.098530068024851, 0.05684795198875811, ''),\n",
       "  Text(1.0985153229545874, 0.05713217336999112, ''),\n",
       "  Text(1.0985029792223513, 0.05736902160241543, ''),\n",
       "  Text(1.0984905844238413, 0.057605867167917345, ''),\n",
       "  Text(1.098473145915618, 0.05793744645948233, ''),\n",
       "  Text(1.0984530936361074, 0.058316387759063816, ''),\n",
       "  Text(1.098437968638897, 0.05860058918179863, ''),\n",
       "  Text(1.098422770110602, 0.058884786681722145, ''),\n",
       "  Text(1.0983998344494335, 0.05931107553785838, ''),\n",
       "  Text(1.098376733349067, 0.05973735546065682, ''),\n",
       "  Text(1.0983586514513743, 0.06006890028890727, ''),\n",
       "  Text(1.0983404694769343, 0.06040043964399089, ''),\n",
       "  Text(1.098322187427404, 0.06073197349569953, ''),\n",
       "  Text(1.0983064374490943, 0.06101614096187102, ''),\n",
       "  Text(1.098290613948508, 0.061300304343530725, ''),\n",
       "  Text(1.0982747169267046, 0.06158446362165633, ''),\n",
       "  Text(1.0982587463847482, 0.0618686187772258, ''),\n",
       "  Text(1.0982427023237078, 0.06215276979121733, ''),\n",
       "  Text(1.0982265847446575, 0.06243691664460945, ''),\n",
       "  Text(1.0982076879850369, 0.06276841602717242, ''),\n",
       "  Text(1.0981886911624241, 0.06309990969060268, ''),\n",
       "  Text(1.0981723285311586, 0.06338404253795608, ''),\n",
       "  Text(1.098155892386594, 0.06366817114228684, ''),\n",
       "  Text(1.0981393827298307, 0.06395229548457493, ''),\n",
       "  Text(1.098122799561974, 0.06423641554580067, ''),\n",
       "  Text(1.0981061428841339, 0.06452053130694464, ''),\n",
       "  Text(1.0980894126974252, 0.06480464274898769, ''),\n",
       "  Text(1.0980726090029682, 0.06508874985291098, ''),\n",
       "  Text(1.0980529117883935, 0.06542020263673061, ''),\n",
       "  Text(1.098033114524929, 0.06575164945980048, ''),\n",
       "  Text(1.098016065812793, 0.06603574196596985, ''),\n",
       "  Text(1.0980018024045035, 0.06627248234721478, ''),\n",
       "  Text(1.0979788747822032, 0.06665126054327027, ''),\n",
       "  Text(1.09795003150368, 0.06712472213028789, ''),\n",
       "  Text(1.0979297197317628, 0.0674561378210531, ''),\n",
       "  Text(1.0979093079221804, 0.0677875473655647, ''),\n",
       "  Text(1.0978887960767931, 0.06811895073362631, ''),\n",
       "  Text(1.0978681841974691, 0.06845034789504224, ''),\n",
       "  Text(1.097850437254742, 0.0687343976446442, ''),\n",
       "  Text(1.0978296396027016, 0.06906578320559666, ''),\n",
       "  Text(1.0978057483739114, 0.06944450185001355, ''),\n",
       "  Text(1.0977907500119137, 0.06968119680573803, ''),\n",
       "  Text(1.097778714578244, 0.06987055044107325, ''),\n",
       "  Text(1.0977606001887237, 0.07015457699461607, ''),\n",
       "  Text(1.0977393738567591, 0.07048593536706972, ''),\n",
       "  Text(1.0977180475044728, 0.07081728731721028, ''),\n",
       "  Text(1.0976966211338077, 0.0711486328148467, ''),\n",
       "  Text(1.097678176068486, 0.07143263807925629, ''),\n",
       "  Text(1.0976596575229447, 0.07171663856185817, ''),\n",
       "  Text(1.0976441692716938, 0.07195330196629837, ''),\n",
       "  Text(1.0976255160152262, 0.07223729363914859, ''),\n",
       "  Text(1.097603661016594, 0.07256861114124978, ''),\n",
       "  Text(1.0975848485626165, 0.07285259230650978, ''),\n",
       "  Text(1.0975691153914913, 0.07308923955507686, ''),\n",
       "  Text(1.0975501682357771, 0.07337321177117459, ''),\n",
       "  Text(1.0975184263736286, 0.0738464878674277, ''),\n",
       "  Text(1.0974928859446573, 0.07422509886061113, ''),\n",
       "  Text(1.0974768568511915, 0.07446172624932741, ''),\n",
       "  Text(1.0974511041829837, 0.07484032287176647, ''),\n",
       "  Text(1.0974252209102922, 0.07521891058767503, ''),\n",
       "  Text(1.0974024659128336, 0.0755501674944022, ''),\n",
       "  Text(1.0973796109257505, 0.0758814175173897, ''),\n",
       "  Text(1.0973500790225543, 0.07630730023525782, ''),\n",
       "  Text(1.0973203818382826, 0.07673317145984505, ''),\n",
       "  Text(1.097303811986326, 0.07696976159686299, ''),\n",
       "  Text(1.0972905193769669, 0.07715903113327789, ''),\n",
       "  Text(1.0972738577066152, 0.07739561482178815, ''),\n",
       "  Text(1.097257145027128, 0.07763219491239677, ''),\n",
       "  Text(1.097240381339282, 0.07786877139410579, ''),\n",
       "  Text(1.0972168264836493, 0.07819997238586146, ''),\n",
       "  Text(1.097196557037003, 0.07848385328299573, ''),\n",
       "  Text(1.097176214142374, 0.0787677289263032, ''),\n",
       "  Text(1.0971523879372609, 0.0790989105080883, ''),\n",
       "  Text(1.0971318859104688, 0.07938277469664422, ''),\n",
       "  Text(1.097107874054391, 0.07971394286983043, ''),\n",
       "  Text(1.0970837622355305, 0.08004510377989536, ''),\n",
       "  Text(1.0970630154019338, 0.08032895018121622, ''),\n",
       "  Text(1.0970421951292975, 0.08061279120519695, ''),\n",
       "  Text(1.0970247888036853, 0.08084932127253872, ''),\n",
       "  Text(1.097003833895968, 0.08113315239498246, ''),\n",
       "  Text(1.0969792936901797, 0.08146428183563016, ''),\n",
       "  Text(1.0969581796753667, 0.08174810116024632, ''),\n",
       "  Text(1.0969334538479554, 0.08207921679204676, ''),\n",
       "  Text(1.0969086280736533, 0.08241032494521441, ''),\n",
       "  Text(1.0968872692909557, 0.08269412595481228, ''),\n",
       "  Text(1.0968658370809832, 0.08297792142874161, ''),\n",
       "  Text(1.0968479208166027, 0.08321441341676376, ''),\n",
       "  Text(1.0968371465828972, 0.08335630675532855, ''),\n",
       "  Text(1.096819148735742, 0.083592792551766, ''),\n",
       "  Text(1.096793866090314, 0.08392386613271735, ''),\n",
       "  Text(1.0967757458736127, 0.08416034258117412, ''),\n",
       "  Text(1.0967575746709315, 0.08439681511725632, ''),\n",
       "  Text(1.0967320493322434, 0.08472787007530505, ''),\n",
       "  Text(1.0967027551549808, 0.08510620914759419, ''),\n",
       "  Text(1.0966806988710953, 0.0853899568076132, ''),\n",
       "  Text(1.0966622625549869, 0.08562640882214548, ''),\n",
       "  Text(1.0966400716813989, 0.08591014598181353, ''),\n",
       "  Text(1.0966178073970836, 0.08619387739052782, ''),\n",
       "  Text(1.0965954697035312, 0.08647760302929501, ''),\n",
       "  Text(1.0965730586022369, 0.08676132287912203, ''),\n",
       "  Text(1.0965468195398347, 0.08709232203284911, ''),\n",
       "  Text(1.0965167096989894, 0.08747059706497037, ''),\n",
       "  Text(1.0964902565431058, 0.0878015791773384, ''),\n",
       "  Text(1.0964637034807134, 0.08813255328968161, ''),\n",
       "  Text(1.0964408641971402, 0.08841623899843512, ''),\n",
       "  Text(1.0964141256000066, 0.08874719817984797, ''),\n",
       "  Text(1.096379600612893, 0.08917270524052265, ''),\n",
       "  Text(1.096352633677978, 0.08950364588865323, ''),\n",
       "  Text(1.0963255668490937, 0.08983457838167551, ''),\n",
       "  Text(1.0962906198609337, 0.090260050991179, ''),\n",
       "  Text(1.0962594172509956, 0.0906382374525643, ''),\n",
       "  Text(1.0962280841783933, 0.09101641312735498, ''),\n",
       "  Text(1.096200560722382, 0.0913473079621701, ''),\n",
       "  Text(1.0961768896923674, 0.09163092548025241, ''),\n",
       "  Text(1.096145214173051, 0.09200907262610718, ''),\n",
       "  Text(1.096113408204661, 0.09238720882222819, ''),\n",
       "  Text(1.096081471790983, 0.0927653340236145, ''),\n",
       "  Text(1.0960534204263674, 0.09309618451720186, ''),\n",
       "  Text(1.0960252691950454, 0.09342702652834745, ''),\n",
       "  Text(1.095997018099582, 0.09375786002690661, ''),\n",
       "  Text(1.0959727233934526, 0.09404142479534792, ''),\n",
       "  Text(1.095948355321269, 0.09432498326851553, ''),\n",
       "  Text(1.0959239138846626, 0.09460853542742761, ''),\n",
       "  Text(1.095895306152631, 0.09493933827782616, ''),\n",
       "  Text(1.0958665985682994, 0.0952701324778443, ''),\n",
       "  Text(1.0958419125954586, 0.09555366345215222, ''),\n",
       "  Text(1.0958171532653207, 0.0958371880299549, ''),\n",
       "  Text(1.0957923205795426, 0.09612070619227282, ''),\n",
       "  Text(1.0957674145397867, 0.09640421792012685, ''),\n",
       "  Text(1.0957382647839837, 0.0967349734490306, ''),\n",
       "  Text(1.0957048285265885, 0.0971129689769585, ''),\n",
       "  Text(1.0956796657605128, 0.0973964580409954, ''),\n",
       "  Text(1.0956544296479973, 0.0976799405851674, ''),\n",
       "  Text(1.0956206674064357, 0.09805790713591866, ''),\n",
       "  Text(1.0955825290318073, 0.09848310555759951, ''),\n",
       "  Text(1.0955399595240503, 0.09895553085119976, ''),\n",
       "  Text(1.0955014727914838, 0.09938069788288913, ''),\n",
       "  Text(1.0954671238418643, 0.09975861156629065, ''),\n",
       "  Text(1.0954326445238685, 0.10013651337770815, ''),\n",
       "  Text(1.0954023681813265, 0.10046716768547696, ''),\n",
       "  Text(1.0953763375922687, 0.10075057837525488, ''),\n",
       "  Text(1.0953545894214372, 0.1009867488009934, ''),\n",
       "  Text(1.0953284244018944, 0.10127014711781518, ''),\n",
       "  Text(1.0952890393923498, 0.10169523187929504, ''),\n",
       "  Text(1.095253892001168, 0.10207307214096019, ''),\n",
       "  Text(1.0952274459205438, 0.10235644436166416, ''),\n",
       "  Text(1.0952009265237554, 0.10263980973047457, ''),\n",
       "  Text(1.095178771022113, 0.10287594229213222, ''),\n",
       "  Text(1.0951610099640607, 0.10306484490115375, ''),\n",
       "  Text(1.095138762822027, 0.1033009688465709, ''),\n",
       "  Text(1.0951075312946932, 0.10363153430130596, ''),\n",
       "  Text(1.0950761999868375, 0.10396209031367276, ''),\n",
       "  Text(1.0950492651654578, 0.10424541649679803, ''),\n",
       "  Text(1.0950177485585002, 0.10457595489343248, ''),\n",
       "  Text(1.0949725517606905, 0.10504813606476925, ''),\n",
       "  Text(1.0949317005574164, 0.10547308241653165, ''),\n",
       "  Text(1.0949089341835343, 0.1057091568648489, ''),\n",
       "  Text(1.0948815473476654, 0.10599243971898271, ''),\n",
       "  Text(1.0948449175554718, 0.10637013915076138, ''),\n",
       "  Text(1.0948127596053912, 0.10670061576780168, ''),\n",
       "  Text(1.0947805019016468, 0.10703108266283495, ''),\n",
       "  Text(1.0947481444471776, 0.10736153980575076, ''),\n",
       "  Text(1.094720330095356, 0.1076447809971051, ''),\n",
       "  Text(1.0946877873973708, 0.10797521994906391, ''),\n",
       "  Text(1.0946504736089497, 0.10835285242070232, ''),\n",
       "  Text(1.0946177171811549, 0.10868327025406173, ''),\n",
       "  Text(1.0945848610174675, 0.10901367818476489, ''),\n",
       "  Text(1.0945471889940113, 0.1093912750876796, ''),\n",
       "  Text(1.0945093867116578, 0.10976885897225487, ''),\n",
       "  Text(1.094471454174906, 0.11014642979355553, ''),\n",
       "  Text(1.0944429192956082, 0.11042959930972662, ''),\n",
       "  Text(1.0944190842644737, 0.11066556825729988, ''),\n",
       "  Text(1.0943856297486123, 0.11099591613989075, ''),\n",
       "  Text(1.0943616726156045, 0.11123187272529775, ''),\n",
       "  Text(1.0943376646088387, 0.11146782413985168, ''),\n",
       "  Text(1.0943039679338986, 0.11179814740918305, ''),\n",
       "  Text(1.0942798378349927, 0.11203408636581132, ''),\n",
       "  Text(1.0942508145676828, 0.11231720624179983, ''),\n",
       "  Text(1.0942120029325988, 0.11269468771078102, ''),\n",
       "  Text(1.0941730610785074, 0.11307215576829317, ''),\n",
       "  Text(1.0941339890100428, 0.1134496103694149, ''),\n",
       "  Text(1.094099694137638, 0.11377987206851206, ''),\n",
       "  Text(1.0940702191889118, 0.1140629452711376, ''),\n",
       "  Text(1.094040671001488, 0.11434601083821888, ''),\n",
       "  Text(1.0940011594939385, 0.11472341969239859, ''),\n",
       "  Text(1.0939565534254363, 0.11514798833475452, ''),\n",
       "  Text(1.09392174590181, 0.11547819639713763, ''),\n",
       "  Text(1.0938818438266817, 0.11585556415787314, ''),\n",
       "  Text(1.0938418115718371, 0.11623291813097285, ''),\n",
       "  Text(1.0938066765648777, 0.11656309150883627, ''),\n",
       "  Text(1.093766400235919, 0.11694041950907968, ''),\n",
       "  Text(1.0937259937409827, 0.11731773359258178, ''),\n",
       "  Text(1.0936854570848773, 0.11769503371443954, ''),\n",
       "  Text(1.0936498807420805, 0.11802515982973034, ''),\n",
       "  Text(1.0936142047515751, 0.11835527519118033, ''),\n",
       "  Text(1.0935733101771783, 0.11873253668699851, ''),\n",
       "  Text(1.093527148219331, 0.1191569389808977, ''),\n",
       "  Text(1.0934859770968974, 0.11953417039676817, ''),\n",
       "  Text(1.09344984561554, 0.1198642362147783, ''),\n",
       "  Text(1.0934136145047002, 0.12019429111138054, ''),\n",
       "  Text(1.093382479972798, 0.12047718658955284, ''),\n",
       "  Text(1.0933460638445431, 0.12080722112375603, ''),\n",
       "  Text(1.0933095480962622, 0.12113724465063143, ''),\n",
       "  Text(1.0932834044290076, 0.12137296898452699, ''),\n",
       "  Text(1.0932572099381224, 0.12160868767613901, ''),\n",
       "  Text(1.0932204522693623, 0.1219386843457451, ''),\n",
       "  Text(1.0931783215351702, 0.12231580979394309, ''),\n",
       "  Text(1.0931307689537382, 0.12274005852454618, ''),\n",
       "  Text(1.0930830517267265, 0.12316428876824115, ''),\n",
       "  Text(1.093045824504124, 0.12349423279692039, ''),\n",
       "  Text(1.093013836188819, 0.12377703300613362, ''),\n",
       "  Text(1.0929764240111086, 0.1241069561140281, ''),\n",
       "  Text(1.0929335452939102, 0.12448399724978582, ''),\n",
       "  Text(1.0928905365098496, 0.12486102357106288, ''),\n",
       "  Text(1.0928527971327047, 0.12519090941128116, ''),\n",
       "  Text(1.0928203698417942, 0.1254736596216282, ''),\n",
       "  Text(1.0927824455422415, 0.1258035242539658, ''),\n",
       "  Text(1.0927389815645767, 0.12618049837123066, ''),\n",
       "  Text(1.0927062982398614, 0.12646321910713568, ''),\n",
       "  Text(1.0926680752439684, 0.1267930492678595, ''),\n",
       "  Text(1.0926187851030171, 0.12721709963683023, ''),\n",
       "  Text(1.092580334551259, 0.12754690334092297, ''),\n",
       "  Text(1.0925417844492444, 0.12787669542360303, ''),\n",
       "  Text(1.0925031348004852, 0.12820647585482142, ''),\n",
       "  Text(1.0924643856085032, 0.12853624460453025, ''),\n",
       "  Text(1.092431092789457, 0.12881889421522355, ''),\n",
       "  Text(1.0924032929114476, 0.1290544289678837, ''),\n",
       "  Text(1.0923642877674116, 0.12938416754145757, ''),\n",
       "  Text(1.0923251830928038, 0.12971389432621672, ''),\n",
       "  Text(1.0922915855851978, 0.12999650787530762, ''),\n",
       "  Text(1.0922579149579583, 0.13027911272223774, ''),\n",
       "  Text(1.0922185401469302, 0.1306088073573477, ''),\n",
       "  Text(1.0921734185047713, 0.1309855866559443, ''),\n",
       "  Text(1.0921338304468067, 0.13131525575341993, ''),\n",
       "  Text(1.0921054923382139, 0.13155072635568146, ''),\n",
       "  Text(1.0920771034607482, 0.13178619084252452, ''),\n",
       "  Text(1.0920429697950371, 0.13206874013647552, ''),\n",
       "  Text(1.0920030547906396, 0.13239836980836162, ''),\n",
       "  Text(1.0919630402885838, 0.1327279874167945, ''),\n",
       "  Text(1.091922926292516, 0.1330575929317412, ''),\n",
       "  Text(1.0918769599004319, 0.13343427010551318, ''),\n",
       "  Text(1.0918366327152274, 0.13376384960471976, ''),\n",
       "  Text(1.0917904226880422, 0.13414049696742078, ''),\n",
       "  Text(1.0917498823298049, 0.13447005031923523, ''),\n",
       "  Text(1.091720864028695, 0.13470543806557886, ''),\n",
       "  Text(1.0916859750764805, 0.13498789509179782, ''),\n",
       "  Text(1.091651013045173, 0.13527034308172506, ''),\n",
       "  Text(1.0916218221962068, 0.13550570949238014, ''),\n",
       "  Text(1.091592580600852, 0.13574106960376084, ''),\n",
       "  Text(1.091545688498567, 0.1361176326571601, ''),\n",
       "  Text(1.091498666494585, 0.13649417951159337, ''),\n",
       "  Text(1.0914574156859043, 0.13682364468266156, ''),\n",
       "  Text(1.0914160654292815, 0.13715309738706843, ''),\n",
       "  Text(1.0913746157284838, 0.13748253759479598, ''),\n",
       "  Text(1.0913271228778758, 0.13785902535234357, ''),\n",
       "  Text(1.0912795001515814, 0.138235496703687, ''),\n",
       "  Text(1.0912377237322757, 0.13856489563955932, ''),\n",
       "  Text(1.0911958478850448, 0.13889428195011652, ''),\n",
       "  Text(1.0911478680298843, 0.13927070795339055, ''),\n",
       "  Text(1.0910937354761823, 0.13969416739660662, ''),\n",
       "  Text(1.0910454796873632, 0.14007055812615177, ''),\n",
       "  Text(1.0910152538839109, 0.14030579386691766, ''),\n",
       "  Text(1.0909849773622673, 0.14054102308526692, ''),\n",
       "  Text(1.0909485785905866, 0.1408232895198057, ''),\n",
       "  Text(1.0909121067891754, 0.14110554652742271, ''),\n",
       "  Text(1.0908816578362255, 0.1413407534877625, ''),\n",
       "  Text(1.090851158171295, 0.1415759538775733, ''),\n",
       "  Text(1.0908144916358846, 0.14185818565435981, ''),\n",
       "  Text(1.09077775207972, 0.14214040793494714, ''),\n",
       "  Text(1.0907409395052603, 0.14242262070044287, ''),\n",
       "  Text(1.0907040539149702, 0.14270482393195524, ''),\n",
       "  Text(1.0906547595509135, 0.14308108005232315, ''),\n",
       "  Text(1.0906053353911866, 0.14345731914502535, ''),\n",
       "  Text(1.0905681820973419, 0.14373948725697913, ''),\n",
       "  Text(1.090530955799231, 0.1440216457467966, ''),\n",
       "  Text(1.0904936564993462, 0.14430379459558956, ''),\n",
       "  Text(1.0904562842001841, 0.14458593378447052, ''),\n",
       "  Text(1.0904188389042468, 0.1448680632945528, ''),\n",
       "  Text(1.0903813206140405, 0.14515018310695008, ''),\n",
       "  Text(1.090343729332077, 0.14543229320277692, ''),\n",
       "  Text(1.0903060650608727, 0.14571439356314841, ''),\n",
       "  Text(1.0902620311636515, 0.14604349832467473, ''),\n",
       "  Text(1.090217897927405, 0.14637258977947448, ''),\n",
       "  Text(1.0901736653561547, 0.14670166789756253, ''),\n",
       "  Text(1.090129333453931, 0.14703073264895505, ''),\n",
       "  Text(1.0900912556247924, 0.14731277748506302, ''),\n",
       "  Text(1.0900467392614845, 0.14764181733304751, ''),\n",
       "  Text(1.0900021235787682, 0.14797084372867486, ''),\n",
       "  Text(1.089976584312288, 0.14815885275918475, ''),\n",
       "  Text(1.0899510126170682, 0.14834685738170555, ''),\n",
       "  Text(1.0899061841207482, 0.14867585484990475, ''),\n",
       "  Text(1.089861256317826, 0.1490048387715307, ''),\n",
       "  Text(1.089822667736106, 0.1492868141818202, ''),\n",
       "  Text(1.0897904548552528, 0.14952178605936123, ''),\n",
       "  Text(1.089758191313146, 0.14975675098606042, ''),\n",
       "  Text(1.0897129372459748, 0.1500856901864733, ''),\n",
       "  Text(1.0896610967334541, 0.1504616039581067, ''),\n",
       "  Text(1.0896091265435157, 0.15083749982373956, ''),\n",
       "  Text(1.089557026682345, 0.15121337773863755, ''),\n",
       "  Text(1.0895113329381945, 0.15154225615068262, ''),\n",
       "  Text(1.0894720878608033, 0.15182414094017585, ''),\n",
       "  Text(1.0894393279181447, 0.1520590371706374, ''),\n",
       "  Text(1.089399949135258, 0.15234090331916086, ''),\n",
       "  Text(1.0893473306513177, 0.15271670898382003, ''),\n",
       "  Text(1.0893011831327175, 0.1530455240301467, ''),\n",
       "  Text(1.0892615491210413, 0.1533273543971506, ''),\n",
       "  Text(1.0892218421925672, 0.15360917450019196, ''),\n",
       "  Text(1.0891754252869097, 0.1539379516268796, ''),\n",
       "  Text(1.089122255876082, 0.15431367974160393, ''),\n",
       "  Text(1.0890556118454837, 0.15478331404857354, ''),\n",
       "  Text(1.0890021508145604, 0.15515900077424274, ''),\n",
       "  Text(1.0889619699910138, 0.15544075370793498, ''),\n",
       "  Text(1.0889015620746891, 0.1558633635954962, ''),\n",
       "  Text(1.0888409901497813, 0.156285950007171, ''),\n",
       "  Text(1.0887937652706152, 0.15661461205084434, ''),\n",
       "  Text(1.0887532078438316, 0.15689631101388782, ''),\n",
       "  Text(1.0886990179008622, 0.15727189329851138, ''),\n",
       "  Text(1.0886446983949696, 0.1576474568666615, ''),\n",
       "  Text(1.0886106829134377, 0.15788217456932616, ''),\n",
       "  Text(1.088569797534736, 0.15816382612716587, ''),\n",
       "  Text(1.0885220058266876, 0.15849240622517183, ''),\n",
       "  Text(1.088487808169498, 0.15872709745460056, ''),\n",
       "  Text(1.0884535599116112, 0.15896178130525873, ''),\n",
       "  Text(1.088405527344248, 0.15929032628031736, ''),\n",
       "  Text(1.0883642776405442, 0.15957192471101164, ''),\n",
       "  Text(1.0883298472333456, 0.159806581907765, ''),\n",
       "  Text(1.0882815596666082, 0.16013508950137953, ''),\n",
       "  Text(1.0882331729412962, 0.16046358250431472, ''),\n",
       "  Text(1.0881985502878864, 0.16069821141301713, ''),\n",
       "  Text(1.088163877047226, 0.1609328328513175, ''),\n",
       "  Text(1.0881222023859007, 0.1612143686985031, ''),\n",
       "  Text(1.0880874178589668, 0.1614489736635273, ''),\n",
       "  Text(1.0880456096578828, 0.16173048971732748, ''),\n",
       "  Text(1.087989752090737, 0.1621058276112772, ''),\n",
       "  Text(1.0879337650450756, 0.16248114621348098, ''),\n",
       "  Text(1.0878706248592496, 0.16290335652878965, ''),\n",
       "  Text(1.0878073208201182, 0.1633255423078595, ''),\n",
       "  Text(1.087757971070875, 0.16365389201535657, ''),\n",
       "  Text(1.0877226605697345, 0.16388841839220417, ''),\n",
       "  Text(1.0876872995034665, 0.16412293715034604, ''),\n",
       "  Text(1.0876447994806666, 0.16440434958558853, ''),\n",
       "  Text(1.087595124098363, 0.16473265018649688, ''),\n",
       "  Text(1.0875382308905202, 0.16510783249597244, ''),\n",
       "  Text(1.0874883431651325, 0.1654361008968572, ''),\n",
       "  Text(1.0874526484103577, 0.16567056909813319, ''),\n",
       "  Text(1.0874025908245795, 0.16599881164632616, ''),\n",
       "  Text(1.0873380854874892, 0.1664208155502252, ''),\n",
       "  Text(1.0872949909440928, 0.1667021375624364, ''),\n",
       "  Text(1.0872662208121187, 0.1668896793721335, ''),\n",
       "  Text(1.0872230049617324, 0.16717098277506443, ''),\n",
       "  Text(1.0871508168127262, 0.16763979689626846, ''),\n",
       "  Text(1.087078426509545, 0.1681085798450865, ''),\n",
       "  Text(1.0870276330225983, 0.16843670931625238, ''),\n",
       "  Text(1.0869840169172515, 0.16871795093124112, ''),\n",
       "  Text(1.0869476145784815, 0.16895231031906272, ''),\n",
       "  Text(1.086903865073117, 0.16923353121978926, ''),\n",
       "  Text(1.0868527320249564, 0.16956160794793312, ''),\n",
       "  Text(1.0868088248798267, 0.16984280427304008, ''),\n",
       "  Text(1.0867648449820881, 0.17012398922861557, ''),\n",
       "  Text(1.0867134431534575, 0.17045202395265743, ''),\n",
       "  Text(1.0866693056341956, 0.17073318421588557, ''),\n",
       "  Text(1.0866324688007292, 0.17096747570234674, ''),\n",
       "  Text(1.0865808123697922, 0.17129547042990598, ''),\n",
       "  Text(1.0865290569352435, 0.1716234495499098, ''),\n",
       "  Text(1.0864772025017992, 0.1719514130324745, ''),\n",
       "  Text(1.0864178190745093, 0.17232620925844985, ''),\n",
       "  Text(1.086365752516494, 0.17265413913159386, ''),\n",
       "  Text(1.0863210452553833, 0.17293520935671752, ''),\n",
       "  Text(1.0862687948736929, 0.1732631099907166, ''),\n",
       "  Text(1.0862089589573716, 0.17363783424341458, ''),\n",
       "  Text(1.0861639971885417, 0.17391886387453698, ''),\n",
       "  Text(1.0861189627102654, 0.1741998818632699, ''),\n",
       "  Text(1.0860738555255574, 0.17448088819080154, ''),\n",
       "  Text(1.0860362106680093, 0.17471505120587486, ''),\n",
       "  Text(1.085990970197023, 0.17499603609947592, ''),\n",
       "  Text(1.0859456570281758, 0.17527700927858048, ''),\n",
       "  Text(1.0859078405229028, 0.17551114463442608, ''),\n",
       "  Text(1.0858699735368673, 0.17574527183125857, ''),\n",
       "  Text(1.085816874951889, 0.17607303618020012, ''),\n",
       "  Text(1.0857332344308375, 0.17658806203238156, ''),\n",
       "  Text(1.0856493496221726, 0.17710304815263356, ''),\n",
       "  Text(1.0855728787383645, 0.17757118276257697, ''),\n",
       "  Text(1.0854962059937967, 0.17803928435340707, ''),\n",
       "  Text(1.0854347224671592, 0.17841374179877872, ''),\n",
       "  Text(1.085373109766073, 0.17878817801164676, ''),\n",
       "  Text(1.0853190926954832, 0.17911579224248644, ''),\n",
       "  Text(1.085264976736243, 0.17944339015322355, ''),\n",
       "  Text(1.0852107618932836, 0.17977097171400908, ''),\n",
       "  Text(1.0851642133288535, 0.18005174286957282, ''),\n",
       "  Text(1.0851175921219072, 0.18033250197220338, ''),\n",
       "  Text(1.0850553175171933, 0.18070682866915383, ''),\n",
       "  Text(1.0849929137831826, 0.18108113386070698, ''),\n",
       "  Text(1.0849538458797723, 0.18131506366182504, ''),\n",
       "  Text(1.0849068978191512, 0.18159576829988613, ''),\n",
       "  Text(1.0848441874328536, 0.18197002223759756, ''),\n",
       "  Text(1.0847734839282905, 0.1823910320330438, ''),\n",
       "  Text(1.084694732852259, 0.18285878847506018, ''),\n",
       "  Text(1.0846315867693812, 0.1832329691462062, ''),\n",
       "  Text(1.0845920549197654, 0.1834668209920274, ''),\n",
       "  Text(1.0845524726505549, 0.18370066430899876, ''),\n",
       "  Text(1.0844969727720344, 0.1840280306048327, ''),\n",
       "  Text(1.084433423342713, 0.1844021429843057, ''),\n",
       "  Text(1.0843777117266604, 0.18472947331287398, ''),\n",
       "  Text(1.0843298802742887, 0.18501002876694875, ''),\n",
       "  Text(1.0842819762352518, 0.18529057183617528, ''),\n",
       "  Text(1.0842420007565345, 0.18552434825506597, ''),\n",
       "  Text(1.0841939636492157, 0.18580486857615794, ''),\n",
       "  Text(1.0841298012749057, 0.1861788763196138, ''),\n",
       "  Text(1.0840735533616308, 0.1865061149182174, ''),\n",
       "  Text(1.0840252622479873, 0.18678659161776687, ''),\n",
       "  Text(1.0839768985680707, 0.18706705581354233, ''),\n",
       "  Text(1.0839284623251182, 0.18734750748676918, ''),\n",
       "  Text(1.0838799535223724, 0.18762794661867355, ''),\n",
       "  Text(1.0838313721630808, 0.1879083731904824, ''),\n",
       "  Text(1.0837827182504953, 0.18818878718342352, ''),\n",
       "  Text(1.0837339917878728, 0.18846918857872566, ''),\n",
       "  Text(1.0836770525565935, 0.1887963075969822, ''),\n",
       "  Text(1.0836118582441603, 0.18917013684151568, ''),\n",
       "  Text(1.0835547074355958, 0.18949721896154703, ''),\n",
       "  Text(1.083513824983683, 0.18973083847711375, ''),\n",
       "  Text(1.0834728921622996, 0.1899644491726343, ''),\n",
       "  Text(1.083415501595057, 0.1902914893092466, ''),\n",
       "  Text(1.0833497914992731, 0.19066522823651288, ''),\n",
       "  Text(1.083300424319105, 0.19094551754374264, ''),\n",
       "  Text(1.0832509846211817, 0.19122579406879314, ''),\n",
       "  Text(1.0831932133241833, 0.19155276716463884, ''),\n",
       "  Text(1.0831436165169157, 0.19183301592441473, ''),\n",
       "  Text(1.0830939472023935, 0.19211325184260153, ''),\n",
       "  Text(1.083035908031374, 0.19244017749590997, ''),\n",
       "  Text(1.082986081628111, 0.1927203855324881, ''),\n",
       "  Text(1.0829528237497783, 0.19290718372414717, ''),\n",
       "  Text(1.0829112060934767, 0.19314067338904045, ''),\n",
       "  Text(1.0828528568012192, 0.19346754383471715, ''),\n",
       "  Text(1.0828027645930236, 0.19374770447596282, ''),\n",
       "  Text(1.0827609657165471, 0.19398116176724609, ''),\n",
       "  Text(1.0827107406238863, 0.19426129861008243, ''),\n",
       "  Text(1.0826604430529485, 0.19454142244877676, ''),\n",
       "  Text(1.0826100730071007, 0.19482153326457713, ''),\n",
       "  Text(1.0825596304897143, 0.19510163103873251, ''),\n",
       "  Text(1.0825091155041662, 0.1953817157524928, ''),\n",
       "  Text(1.0824585280538381, 0.19566178738710865, ''),\n",
       "  Text(1.0824078681421165, 0.19594184592383168, ''),\n",
       "  Text(1.0823571357723925, 0.19622189134391432, ''),\n",
       "  Text(1.082306330948062, 0.19650192362860994, ''),\n",
       "  Text(1.0822554536725264, 0.19678194275917274, ''),\n",
       "  Text(1.082204503949191, 0.19706194871685784, ''),\n",
       "  Text(1.0821619905064273, 0.19729527694085225, ''),\n",
       "  Text(1.0821194267570353, 0.1975285959931513, ''),\n",
       "  Text(1.0820682838562543, 0.19780856673152725, ''),\n",
       "  Text(1.082017068520203, 0.19808852422830175, ''),\n",
       "  Text(1.0819657807523102, 0.19836846846473405, ''),\n",
       "  Text(1.0819144205560087, 0.1986483994220842, ''),\n",
       "  Text(1.0818544087893591, 0.19897496873483017, ''),\n",
       "  Text(1.081794298449743, 0.19930151991800832, ''),\n",
       "  Text(1.0817513021452754, 0.19953475964603543, ''),\n",
       "  Text(1.0817082555532715, 0.19976799009825996, ''),\n",
       "  Text(1.0816565332665937, 0.2000478543791318, ''),\n",
       "  Text(1.0816133760490576, 0.20028106438642687, ''),\n",
       "  Text(1.081570168550397, 0.2005142650832258, ''),\n",
       "  Text(1.081518253184207, 0.20079409361179368, ''),\n",
       "  Text(1.0814662654195668, 0.20107390869890443, ''),\n",
       "  Text(1.0814142052599565, 0.20135371032582686, ''),\n",
       "  Text(1.081362072708861, 0.20163349847383058, ''),\n",
       "  Text(1.0813185736193633, 0.20186664495598486, ''),\n",
       "  Text(1.0812663083584568, 0.20214640835017264, ''),\n",
       "  Text(1.0811877747521357, 0.20256602806622204, ''),\n",
       "  Text(1.0811178303913713, 0.20293899775512364, ''),\n",
       "  Text(1.081065287687914, 0.2032187091688351, ''),\n",
       "  Text(1.081012672616329, 0.2034984069787822, ''),\n",
       "  Text(1.0809599851801375, 0.2037780911662413, ''),\n",
       "  Text(1.0809072253828673, 0.2040577617124901, ''),\n",
       "  Text(1.0808720119856372, 0.2042442011566566, ''),\n",
       "  Text(1.0808279500164977, 0.20447724191981706, ''),\n",
       "  Text(1.080766178849796, 0.20480348301337842, ''),\n",
       "  Text(1.0807043092092818, 0.20512970544630793, ''),\n",
       "  Text(1.0806423411005928, 0.20545590918888196, ''),\n",
       "  Text(1.080589147211182, 0.20573549749474687, ''),\n",
       "  Text(1.0805358809855163, 0.2060150720283697, ''),\n",
       "  Text(1.080482542427162, 0.20629463277103538, ''),\n",
       "  Text(1.0804291315396894, 0.20657417970402958, ''),\n",
       "  Text(1.080375648326674, 0.20685371280863912, ''),\n",
       "  Text(1.0803131598373603, 0.20717981726562654, ''),\n",
       "  Text(1.080250572915511, 0.20750590284546291, ''),\n",
       "  Text(1.0801968486432352, 0.20778538972031665, ''),\n",
       "  Text(1.0801340789332428, 0.2081114401637626, ''),\n",
       "  Text(1.080071210807032, 0.2084374716451728, ''),\n",
       "  Text(1.0800172455154557, 0.20871691208239004, ''),\n",
       "  Text(1.079963207925909, 0.20899633854778488, ''),\n",
       "  Text(1.0799090980420087, 0.20927575102265208, ''),\n",
       "  Text(1.0798549158673778, 0.20955514948828738, ''),\n",
       "  Text(1.0797916119668962, 0.2098810966379107, ''),\n",
       "  Text(1.0797282096813998, 0.21020702466425645, ''),\n",
       "  Text(1.0796647090166656, 0.21053293353762767, ''),\n",
       "  Text(1.0796011099784792, 0.21085882322832927, ''),\n",
       "  Text(1.0795374125726356, 0.21118469370666781, ''),\n",
       "  Text(1.079464495093948, 0.21155709355057747, ''),\n",
       "  Text(1.0793914491513112, 0.2119294682176889, ''),\n",
       "  Text(1.0793274285783605, 0.2122552753606475, ''),\n",
       "  Text(1.0792724755292404, 0.21253452323089814, ''),\n",
       "  Text(1.079226626131547, 0.2127672189241526, ''),\n",
       "  Text(1.0791899104902796, 0.21295336836026407, ''),\n",
       "  Text(1.0791439707878134, 0.21318604624203485, ''),\n",
       "  Text(1.079079570925163, 0.21351177862583232, ''),\n",
       "  Text(1.079015072742375, 0.2138374915555432, ''),\n",
       "  Text(1.0789504762453268, 0.21416318500149029, ''),\n",
       "  Text(1.0788765312993127, 0.21453538219035806, ''),\n",
       "  Text(1.0788024579593214, 0.21490755384799015, ''),\n",
       "  Text(1.0787282562341678, 0.21527969993009538, ''),\n",
       "  Text(1.07864462584336, 0.21569833364965524, ''),\n",
       "  Text(1.0785701513290749, 0.2160704252367196, ''),\n",
       "  Text(1.0785048808361153, 0.21639598428038545, ''),\n",
       "  Text(1.0784395120753814, 0.21672152360717084, ''),\n",
       "  Text(1.0783834035011346, 0.21700054159681142, ''),\n",
       "  Text(1.078327222738289, 0.21727954506011105, ''),\n",
       "  Text(1.0782522027659616, 0.21765152705724808, ''),\n",
       "  Text(1.0781676519148005, 0.2180699758438243, ''),\n",
       "  Text(1.078111194462622, 0.21834892345596435, ''),\n",
       "  Text(1.0780546648400637, 0.2186278564515001, ''),\n",
       "  Text(1.0779886224040793, 0.21895325977787064, ''),\n",
       "  Text(1.077913025063729, 0.2193251248670818, ''),\n",
       "  Text(1.077827824721789, 0.2197434418941707, ''),\n",
       "  Text(1.0777614455541003, 0.2200687766975053, ''),\n",
       "  Text(1.077694968186375, 0.2203940914493136, ''),\n",
       "  Text(1.0776379094303057, 0.22067291668594205, ''),\n",
       "  Text(1.0775998301823027, 0.22085879197141542, ''),\n",
       "  Text(1.077542651197195, 0.22113759257738178, ''),\n",
       "  Text(1.0774663003452154, 0.221509303688117, ''),\n",
       "  Text(1.077408953057322, 0.22178806972406187, ''),\n",
       "  Text(1.0773706814632835, 0.22197390550094034, ''),\n",
       "  Text(1.077322796895998, 0.22220619093127103, ''),\n",
       "  Text(1.0772556743648412, 0.22253137317859537, ''),\n",
       "  Text(1.0771884536797314, 0.22285653515001444, ''),\n",
       "  Text(1.0771307578324738, 0.22313522924729015, ''),\n",
       "  Text(1.077063354877708, 0.2234603534848558, ''),\n",
       "  Text(1.0769958537865119, 0.22378545736187228, ''),\n",
       "  Text(1.076928254565036, 0.2241105408487178, ''),\n",
       "  Text(1.0768508781595634, 0.224482039831648, ''),\n",
       "  Text(1.0767636765204471, 0.22489994425559523, ''),\n",
       "  Text(1.0766763127009362, 0.22531781480547836, ''),\n",
       "  Text(1.07660825094839, 0.22564280176830015, ''),\n",
       "  Text(1.076520598843269, 0.22606061192992014, ''),\n",
       "  Text(1.0764034771484117, 0.22661763916961306, ''),\n",
       "  Text(1.0763154467283977, 0.22703536978596445, ''),\n",
       "  Text(1.0762566697181948, 0.22731383786980652, ''),\n",
       "  Text(1.0762076338404423, 0.22754588298529288, ''),\n",
       "  Text(1.0761487247471875, 0.22782432316371, ''),\n",
       "  Text(1.076079906423349, 0.2281491507587014, ''),\n",
       "  Text(1.0760011368526758, 0.2285203568432125, ''),\n",
       "  Text(1.075922239230218, 0.22889153573217647, ''),\n",
       "  Text(1.0758728631947103, 0.22912350870483836, ''),\n",
       "  Text(1.0758333263553996, 0.22930907941700923, ''),\n",
       "  Text(1.07578386029587, 0.22954103320956853, ''),\n",
       "  Text(1.0757145237957682, 0.229865750591175, ''),\n",
       "  Text(1.0756450892821343, 0.23019044702860583, ''),\n",
       "  Text(1.075585495979512, 0.23046874156489724, ''),\n",
       "  Text(1.075525830675587, 0.23074702067326622, ''),\n",
       "  Text(1.0754660933743534, 0.2310252843350843, ''),\n",
       "  Text(1.0753963088641034, 0.23134990573039418, ''),\n",
       "  Text(1.0753164351566513, 0.23172087580101977, ''),\n",
       "  Text(1.075246440687331, 0.23204545198996218, ''),\n",
       "  Text(1.0751863674516058, 0.2323236433215967, ''),\n",
       "  Text(1.0751262222412963, 0.23260181910113886, ''),\n",
       "  Text(1.0750660050604286, 0.23287997930996723, ''),\n",
       "  Text(1.0749956607244504, 0.23320447985320192, ''),\n",
       "  Text(1.0749352876198732, 0.23348260626774894, ''),\n",
       "  Text(1.0748849217321397, 0.23371436633825476, ''),\n",
       "  Text(1.0748244167093948, 0.23399246407803292, ''),\n",
       "  Text(1.0747638397362949, 0.23427054615400536, ''),\n",
       "  Text(1.0746930756682742, 0.23459495542458952, ''),\n",
       "  Text(1.074612082544681, 0.23496568270490847, ''),\n",
       "  Text(1.0745411086550032, 0.2352900461355658, ''),\n",
       "  Text(1.074480195967272, 0.23556805486765975, ''),\n",
       "  Text(1.0744090402561763, 0.23589237846060704, ''),\n",
       "  Text(1.0743377866504977, 0.23621668056026351, ''),\n",
       "  Text(1.0742766342209416, 0.23649463665572906, ''),\n",
       "  Text(1.0742154098777, 0.2367725769198898, ''),\n",
       "  Text(1.0741643346601053, 0.23700418170195542, ''),\n",
       "  Text(1.0741132095076706, 0.23723577546637184, ''),\n",
       "  Text(1.0740517934146503, 0.23751367342276083, ''),\n",
       "  Text(1.0739697934472014, 0.2378841793036595, ''),\n",
       "  Text(1.0738979386304952, 0.23820834873104935, ''),\n",
       "  Text(1.0738362709089055, 0.2384861909638705, ''),\n",
       "  Text(1.073743634544236, 0.23890292437668975, ''),\n",
       "  Text(1.0736508364540454, 0.23931962180633884, ''),\n",
       "  Text(1.0735785483616018, 0.23964369488429296, ''),\n",
       "  Text(1.0735165092841716, 0.239921454426917, ''),\n",
       "  Text(1.0734440395332834, 0.2402454869304872, ''),\n",
       "  Text(1.0733714719757381, 0.24056949754413395, ''),\n",
       "  Text(1.0733091933718117, 0.24084720347878433, ''),\n",
       "  Text(1.0732364441908822, 0.24117117336139363, ''),\n",
       "  Text(1.0731635972222109, 0.2414951212697357, ''),\n",
       "  Text(1.073090652472435, 0.24181904717429406, ''),\n",
       "  Text(1.0730176099482014, 0.24214295104555425, ''),\n",
       "  Text(1.0729444696561647, 0.2424668328540039, ''),\n",
       "  Text(1.0728712316029896, 0.24279069257013247, ''),\n",
       "  Text(1.0727874112710392, 0.2431607908738219, ''),\n",
       "  Text(1.0727139637507992, 0.2434846031560299, ''),\n",
       "  Text(1.0726614413962432, 0.2437158840571003, ''),\n",
       "  Text(1.0725983487497825, 0.24399340617983947, ''),\n",
       "  Text(1.0725351843019832, 0.24427091196929493, ''),\n",
       "  Text(1.072461401702013, 0.2445946480595064, ''),\n",
       "  Text(1.0723769590765895, 0.24496460487516697, ''),\n",
       "  Text(1.0722818085764307, 0.24538077144727324, ''),\n",
       "  Text(1.0721970947695127, 0.245750666261186, ''),\n",
       "  Text(1.0721334756782839, 0.24602806817516334, ''),\n",
       "  Text(1.072069784816836, 0.24630545361965367, ''),\n",
       "  Text(1.0719953881069793, 0.24662904913526892, ''),\n",
       "  Text(1.0718889376593432, 0.2470912894529559, ''),\n",
       "  Text(1.0717716119565892, 0.24759970073482407, ''),\n",
       "  Text(1.0716968245874239, 0.24792320619343558, ''),\n",
       "  Text(1.0716326434090788, 0.24820047860564307, ''),\n",
       "  Text(1.0715576747014754, 0.24852394208278397, ''),\n",
       "  Text(1.0714933381004819, 0.24880117846643457, ''),\n",
       "  Text(1.0714289297721207, 0.249078398194962, ''),\n",
       "  Text(1.0713536960717456, 0.24940180014067612, ''),\n",
       "  Text(1.0712675951694375, 0.2497713745405793, ''),\n",
       "  Text(1.0711813667786694, 0.2501409192159132, ''),\n",
       "  Text(1.071116611827464, 0.25041805818920904, ''),\n",
       "  Text(1.0710517851741066, 0.2506951803991446, ''),\n",
       "  Text(1.070965238107117, 0.2510646505706573, ''),\n",
       "  Text(1.07087856358765, 0.2514340908636916, ''),\n",
       "  Text(1.0708026188410842, 0.25175732657278455, ''),\n",
       "  Text(1.070726576528534, 0.25208053934305485, ''),\n",
       "  Text(1.070650436656928, 0.25240372914505305, ''),\n",
       "  Text(1.0705741992332038, 0.2527268959493317, ''),\n",
       "  Text(1.070497864264308, 0.2530500397264456, ''),\n",
       "  Text(1.0704105048648827, 0.2534193186694875, ''),\n",
       "  Text(1.0703120732736944, 0.25383472143220737, ''),\n",
       "  Text(1.0702354039170634, 0.2541577860355263, ''),\n",
       "  Text(1.0701586370461298, 0.2544808274813051, ''),\n",
       "  Text(1.0700817726678884, 0.25480384574011, ''),\n",
       "  Text(1.0700158113133942, 0.25508070005262895, ''),\n",
       "  Text(1.0699497783304401, 0.2553575372896642, ''),\n",
       "  Text(1.069883673723447, 0.25563435743268376, ''),\n",
       "  Text(1.0698285318408498, 0.2558650278159402, ''),\n",
       "  Text(1.069773340224972, 0.25609568630476043, ''),\n",
       "  Text(1.0696959884154242, 0.2564185881872626, ''),\n",
       "  Text(1.0696074670018558, 0.2567875903034922, ''),\n",
       "  Text(1.0695299063470471, 0.25711044208525813, ''),\n",
       "  Text(1.069463348224093, 0.25738715353589925, ''),\n",
       "  Text(1.0694078284330175, 0.25761773325254184, ''),\n",
       "  Text(1.0693300172052664, 0.25794052474123697, ''),\n",
       "  Text(1.0692409707848343, 0.2583094005163297, ''),\n",
       "  Text(1.0691741024643817, 0.2585860371703851, ''),\n",
       "  Text(1.0690959989639823, 0.2589087580581335, ''),\n",
       "  Text(1.0690177980530966, 0.25923145535545794, ''),\n",
       "  Text(1.0689506911763624, 0.25950803423704877, ''),\n",
       "  Text(1.0688835127424692, 0.25978459574678353, ''),\n",
       "  Text(1.0688162627559143, 0.26006113986614865, ''),\n",
       "  Text(1.0687489412211995, 0.26033766657663193, ''),\n",
       "  Text(1.0686703090067937, 0.260660259048679, ''),\n",
       "  Text(1.0685915794206886, 0.2609828277707144, ''),\n",
       "  Text(1.0685127524700577, 0.26130537271334725, ''),\n",
       "  Text(1.0684338281620833, 0.261627893847189, ''),\n",
       "  Text(1.068366101273056, 0.26190432155772064, ''),\n",
       "  Text(1.068286996177673, 0.26222679839727386, ''),\n",
       "  Text(1.0681738200512656, 0.26268743814100926, ''),\n",
       "  Text(1.0680717917130587, 0.2631019721455105, ''),\n",
       "  Text(1.0680036834470665, 0.2633783061368157, ''),\n",
       "  Text(1.0679468719447516, 0.263608570997645, ''),\n",
       "  Text(1.0679013869971883, 0.263792774066087, ''),\n",
       "  Text(1.067833100003833, 0.2640690639514675, ''),\n",
       "  Text(1.067741939485385, 0.2644374229642776, ''),\n",
       "  Text(1.0676506518980555, 0.2648057505071543, ''),\n",
       "  Text(1.0675706710322475, 0.2651280112544824, ''),\n",
       "  Text(1.0675020385848242, 0.26540421552274723, ''),\n",
       "  Text(1.0674333346772167, 0.2656804020244568, ''),\n",
       "  Text(1.067353089805732, 0.26600259713423374, ''),\n",
       "  Text(1.0672727476825659, 0.26632476800723276, ''),\n",
       "  Text(1.067192308315039, 0.2666469146140994, ''),\n",
       "  Text(1.0671117717104808, 0.2669690369254813, ''),\n",
       "  Text(1.0670426629488405, 0.2672451224008538, ''),\n",
       "  Text(1.0669734827577677, 0.2675211899864378, ''),\n",
       "  Text(1.0668926822611415, 0.26784324620499095, ''),\n",
       "  Text(1.066811784554784, 0.26816527801905576, ''),\n",
       "  Text(1.0667423662990736, 0.2684412858385487, ''),\n",
       "  Text(1.0666612880799216, 0.26876327225214863, ''),\n",
       "  Text(1.0665569018467658, 0.2691772188039481, ''),\n",
       "  Text(1.066452354970543, 0.2695911248127124, ''),\n",
       "  Text(1.0663709296830575, 0.2699130236333404, ''),\n",
       "  Text(1.06628940723338, 0.2702348978608928, ''),\n",
       "  Text(1.0662077876289389, 0.2705567474660419, ''),\n",
       "  Text(1.0661377506472498, 0.2708325989330363, ''),\n",
       "  Text(1.0660910196762112, 0.2710164898409992, ''),\n",
       "  Text(1.066044256987071, 0.27120037268573993, ''),\n",
       "  Text(1.0659740534853508, 0.2714761818208195, ''),\n",
       "  Text(1.0659037786257326, 0.2717519727828772, ''),\n",
       "  Text(1.0658217011062963, 0.2720737059160279, ''),\n",
       "  Text(1.065739526474711, 0.2723954142592328, ''),\n",
       "  Text(1.065669013789432, 0.2726711445112217, ''),\n",
       "  Text(1.0655984297666747, 0.27294685651019607, ''),\n",
       "  Text(1.0655395552566913, 0.27317660255478066, ''),\n",
       "  Text(1.0654570477245036, 0.27349822568745363, ''),\n",
       "  Text(1.0653626345311802, 0.27386576446278027, ''),\n",
       "  Text(1.0652917414340057, 0.2741413971520972, ''),\n",
       "  Text(1.0652207770246078, 0.2744170114899788, ''),\n",
       "  Text(1.065137895088208, 0.274738538336109, ''),\n",
       "  Text(1.0650549161019645, 0.27506004014948765, ''),\n",
       "  Text(1.0650193239724752, 0.27519781896885015, ''),\n",
       "  Text(1.064983714019489, 0.2753355931826742, ''),\n",
       "  Text(1.0649124406454105, 0.27561112778448404, ''),\n",
       "  Text(1.0648410959844996, 0.2758866439364726, ''),\n",
       "  Text(1.0647696800415323, 0.27616214162019637, ''),\n",
       "  Text(1.064698192821289, 0.27643762081721307, ''),\n",
       "  Text(1.0646147009831122, 0.2767589898280428, ''),\n",
       "  Text(1.0645191629608493, 0.27712623782156237, ''),\n",
       "  Text(1.0644354632701978, 0.27744755276044425, ''),\n",
       "  Text(1.0643516665937043, 0.2777688424197432, ''),\n",
       "  Text(1.0642437855103042, 0.27818189193888543, ''),\n",
       "  Text(1.064123729639938, 0.2786407867078843, ''),\n",
       "  Text(1.0640395727956335, 0.2789619822213879, ''),\n",
       "  Text(1.063979401407903, 0.27919139202289306, ''),\n",
       "  Text(1.0639071304545014, 0.2794666666492964, ''),\n",
       "  Text(1.0638347882815644, 0.2797419225677829, ''),\n",
       "  Text(1.063750299071619, 0.28006303080742584, ''),\n",
       "  Text(1.0636536212923415, 0.2804299804081016, ''),\n",
       "  Text(1.0635810298875912, 0.28070517070985923, ''),\n",
       "  Text(1.0635204826637568, 0.2809344816049645, ''),\n",
       "  Text(1.0634235042702296, 0.28130135187308514, ''),\n",
       "  Text(1.0633021033101555, 0.28175989263236084, ''),\n",
       "  Text(1.0632048401842247, 0.2821266875161532, ''),\n",
       "  Text(1.0631196311561797, 0.2824476054958667, ''),\n",
       "  Text(1.063034325262184, 0.28276849774041846, ''),\n",
       "  Text(1.062948922510011, 0.2830893642205703, ''),\n",
       "  Text(1.062851200771877, 0.2834560371870379, ''),\n",
       "  Text(1.0627533525468937, 0.2838226764202218, ''),\n",
       "  Text(1.0626921331798496, 0.28405180879139097, ''),\n",
       "  Text(1.0626431221177874, 0.28423510517837425, ''),\n",
       "  Text(1.0625695462464548, 0.2845100338996908, ''),\n",
       "  Text(1.062495899245127, 0.2847849435754799, ''),\n",
       "  Text(1.0624221811187335, 0.2850598341873388, ''),\n",
       "  Text(1.0623237796509069, 0.28542632532443707, ''),\n",
       "  Text(1.062225251758998, 0.28579278249377355, ''),\n",
       "  Text(1.0621512728829503, 0.2860676030471275, ''),\n",
       "  Text(1.0620648743284624, 0.2863882028255838, ''),\n",
       "  Text(1.0619783790041282, 0.28670877650983145, ''),\n",
       "  Text(1.0618917869178286, 0.28702932407066156, ''),\n",
       "  Text(1.0618050980774538, 0.2873498454788673, ''),\n",
       "  Text(1.0617307163557128, 0.2876245572735139, ''),\n",
       "  Text(1.0616562635601292, 0.2878992498141423, ''),\n",
       "  Text(1.0615817396956864, 0.288173923082364, ''),\n",
       "  Text(1.0615195821896553, 0.2884028027393281, ''),\n",
       "  Text(1.0614324787768838, 0.2887232117401719, ''),\n",
       "  Text(1.0613328135977, 0.28908936123764567, ''),\n",
       "  Text(1.0612579818259054, 0.2893639507796482, ''),\n",
       "  Text(1.0611830790119132, 0.28963852095119486, ''),\n",
       "  Text(1.0611081051607378, 0.2899130717339055, ''),\n",
       "  Text(1.061033060277398, 0.29018760310940134, ''),\n",
       "  Text(1.060945418142334, 0.2905078651651075, ''),\n",
       "  Text(1.0608451373329844, 0.2908738465331009, ''),\n",
       "  Text(1.0607572880623215, 0.29119405183256947, ''),\n",
       "  Text(1.0606944794091462, 0.2914227536603154, ''),\n",
       "  Text(1.060619043937155, 0.2916971779737255, ''),\n",
       "  Text(1.0605309461522987, 0.29201731498887246, ''),\n",
       "  Text(1.0604301446465692, 0.2923831532849607, ''),\n",
       "  Text(1.060329216942113, 0.29274895678537494, ''),\n",
       "  Text(1.0602534383547564, 0.29302328654377763, ''),\n",
       "  Text(1.0601649402976263, 0.2933433131396225, ''),\n",
       "  Text(1.060076345643762, 0.293663313007545, ''),\n",
       "  Text(1.0599876544012359, 0.2939832861183887, ''),\n",
       "  Text(1.059911556464928, 0.29425752746887174, ''),\n",
       "  Text(1.059848087319133, 0.29448604687824453, ''),\n",
       "  Text(1.0597718593096124, 0.2947602520955756, ''),\n",
       "  Text(1.0596828369673648, 0.2950801332465435, ''),\n",
       "  Text(1.059606455253397, 0.29535429569473154, ''),\n",
       "  Text(1.0595300026077845, 0.2956284383714602, ''),\n",
       "  Text(1.0594151906528826, 0.29603961527795025, ''),\n",
       "  Text(1.0592874346671575, 0.2964964262116367, ''),\n",
       "  Text(1.0591722858680666, 0.2969075089131544, ''),\n",
       "  Text(1.0590697974531027, 0.2972728782156967, ''),\n",
       "  Text(1.0589800167008507, 0.2975925473332055, ''),\n",
       "  Text(1.0589029849738272, 0.297866527850175, ''),\n",
       "  Text(1.0588258823622532, 0.29814048842751334, ''),\n",
       "  Text(1.0587229686219457, 0.29850573815646325, ''),\n",
       "  Text(1.0586199288860778, 0.2988709523611081, ''),\n",
       "  Text(1.058542566408676, 0.29914483966957156, ''),\n",
       "  Text(1.058465133070851, 0.2994187069528318, ''),\n",
       "  Text(1.0583747046227936, 0.29973819345324415, ''),\n",
       "  Text(1.0582712397425345, 0.30010328744250586, ''),\n",
       "  Text(1.058167648920474, 0.30046834571734277, ''),\n",
       "  Text(1.0580769036500877, 0.3007877423736596, ''),\n",
       "  Text(1.0579990452587356, 0.301061489120751, ''),\n",
       "  Text(1.0579081209543266, 0.3013808348566416, ''),\n",
       "  Text(1.0578040894331475, 0.3017457677888952, ''),\n",
       "  Text(1.0577129585865261, 0.3020650546457464, ''),\n",
       "  Text(1.0576478061203411, 0.3022930998366144, ''),\n",
       "  Text(1.0575695582596645, 0.30256673551872587, ''),\n",
       "  Text(1.0574651176536582, 0.302931551585065, ''),\n",
       "  Text(1.0573736288909064, 0.3032507360684816, ''),\n",
       "  Text(1.0572951332713907, 0.3035243007744726, ''),\n",
       "  Text(1.057203465593673, 0.30384343392070734, ''),\n",
       "  Text(1.0571117015890559, 0.3041625393823033, ''),\n",
       "  Text(1.0570198412658995, 0.30448161713018523, ''),\n",
       "  Text(1.0569278846325743, 0.3048006671352805, ''),\n",
       "  Text(1.056848988013467, 0.30507411646173893, ''),\n",
       "  Text(1.0567700206473072, 0.30534754536607944, ''),\n",
       "  Text(1.0566909825393809, 0.3056209538299983, ''),\n",
       "  Text(1.0565986820096276, 0.3059399045164234, ''),\n",
       "  Text(1.056493077805569, 0.3063043854549199, ''),\n",
       "  Text(1.0563741227888888, 0.3067143829395777, ''),\n",
       "  Text(1.056268251423222, 0.3070787863648826, ''),\n",
       "  Text(1.0561887654071618, 0.30735206494783046, ''),\n",
       "  Text(1.0561092086882453, 0.3076253229561711, ''),\n",
       "  Text(1.056029581271798, 0.3078985603716124, ''),\n",
       "  Text(1.0559233014161296, 0.30826284486856653, ''),\n",
       "  Text(1.0558302034586842, 0.30858156371435025, ''),\n",
       "  Text(1.0557769614331827, 0.30876367614555345, ''),\n",
       "  Text(1.0557236879964396, 0.3089457793904885, ''),\n",
       "  Text(1.0556570520317508, 0.30917339551719764, ''),\n",
       "  Text(1.0555636792363858, 0.3094920339474747, ''),\n",
       "  Text(1.0554702102635294, 0.30981064417844195, ''),\n",
       "  Text(1.0553766451216984, 0.31012922618106914, ''),\n",
       "  Text(1.055282983819418, 0.31044777992632877, ''),\n",
       "  Text(1.0551892263652218, 0.3107663053851958, ''),\n",
       "  Text(1.0550819572619012, 0.3111302998108603, ''),\n",
       "  Text(1.0549745625963265, 0.3114942572098073, ''),\n",
       "  Text(1.0548804892746002, 0.31181268952334207, ''),\n",
       "  Text(1.0548132351984836, 0.3120401237823572, ''),\n",
       "  Text(1.0547324655798018, 0.31231302574813075, ''),\n",
       "  Text(1.0546516253557472, 0.3125859068072021, ''),\n",
       "  Text(1.0545976926505092, 0.31276781588939434, ''),\n",
       "  Text(1.0545437285691155, 0.312949715666188, ''),\n",
       "  Text(1.0544762293479946, 0.31317707729020605, ''),\n",
       "  ...])"
      ]
     },
     "execution_count": 166,
     "metadata": {},
     "output_type": "execute_result"
    },
    {
     "data": {
      "image/png": "[encoded data removed]",
      "text/plain": [
       "<Figure size 432x288 with 1 Axes>"
      ]
     },
     "metadata": {},
     "output_type": "display_data"
    }
   ],
   "source": [
    "plt.pie(x=data['bedrooms'])"
   ]
  },
  {
   "cell_type": "code",
   "execution_count": 167,
   "metadata": {},
   "outputs": [
    {
     "ename": "AttributeError",
     "evalue": "module 'seaborn' has no attribute 'pie'",
     "output_type": "error",
     "traceback": [
      "\u001b[1;31m---------------------------------------------------------------------------\u001b[0m",
      "\u001b[1;31mAttributeError\u001b[0m                            Traceback (most recent call last)",
      "\u001b[1;32m<ipython-input-167-921aa66f5294>\u001b[0m in \u001b[0;36m<module>\u001b[1;34m\u001b[0m\n\u001b[1;32m----> 1\u001b[1;33m \u001b[0msns\u001b[0m\u001b[1;33m.\u001b[0m\u001b[0mpie\u001b[0m\u001b[1;33m(\u001b[0m\u001b[0mx\u001b[0m\u001b[1;33m=\u001b[0m\u001b[0mdata\u001b[0m\u001b[1;33m[\u001b[0m\u001b[1;34m'bedrooms'\u001b[0m\u001b[1;33m]\u001b[0m\u001b[1;33m)\u001b[0m\u001b[1;33m\u001b[0m\u001b[1;33m\u001b[0m\u001b[0m\n\u001b[0m",
      "\u001b[1;31mAttributeError\u001b[0m: module 'seaborn' has no attribute 'pie'"
     ]
    }
   ],
   "source": [
    "sns.pie(x=data['bedrooms'])"
   ]
  },
  {
   "cell_type": "code",
   "execution_count": null,
   "metadata": {},
   "outputs": [],
   "source": [
    "plt.violinplot(data=data, y = 'price',x='waterfront')"
   ]
  },
  {
   "cell_type": "code",
   "execution_count": null,
   "metadata": {},
   "outputs": [],
   "source": [
    "sns.violin(data=data, y = 'price',x = 'waterfront')"
   ]
  },
  {
   "cell_type": "code",
   "execution_count": null,
   "metadata": {},
   "outputs": [],
   "source": [
    "sns.violinplot(data=data, y = 'price',x='waterfront')"
   ]
  },
  {
   "cell_type": "code",
   "execution_count": null,
   "metadata": {},
   "outputs": [],
   "source": [
    "d=df[df['price']==df['price'].min()]"
   ]
  },
  {
   "cell_type": "code",
   "execution_count": null,
   "metadata": {},
   "outputs": [],
   "source": [
    "d"
   ]
  },
  {
   "cell_type": "code",
   "execution_count": null,
   "metadata": {},
   "outputs": [],
   "source": [
    "d1=df[df['price']==df['price'].max()]\n",
    "d1"
   ]
  },
  {
   "cell_type": "code",
   "execution_count": null,
   "metadata": {},
   "outputs": [],
   "source": [
    "d1['condition']"
   ]
  },
  {
   "cell_type": "code",
   "execution_count": null,
   "metadata": {
    "scrolled": true
   },
   "outputs": [],
   "source": [
    "df['condition'].value_counts()"
   ]
  },
  {
   "cell_type": "code",
   "execution_count": null,
   "metadata": {},
   "outputs": [],
   "source": []
  },
  {
   "cell_type": "markdown",
   "metadata": {},
   "source": [
    "#  DS"
   ]
  },
  {
   "cell_type": "code",
   "execution_count": 276,
   "metadata": {},
   "outputs": [],
   "source": [
    "x=pd.read_csv('sp500_companies.csv')"
   ]
  },
  {
   "cell_type": "code",
   "execution_count": 277,
   "metadata": {},
   "outputs": [
    {
     "data": {
      "text/html": [
       "<div>\n",
       "<style scoped>\n",
       "    .dataframe tbody tr th:only-of-type {\n",
       "        vertical-align: middle;\n",
       "    }\n",
       "\n",
       "    .dataframe tbody tr th {\n",
       "        vertical-align: top;\n",
       "    }\n",
       "\n",
       "    .dataframe thead th {\n",
       "        text-align: right;\n",
       "    }\n",
       "</style>\n",
       "<table border=\"1\" class=\"dataframe\">\n",
       "  <thead>\n",
       "    <tr style=\"text-align: right;\">\n",
       "      <th></th>\n",
       "      <th>Exchange</th>\n",
       "      <th>Symbol</th>\n",
       "      <th>Shortname</th>\n",
       "      <th>Longname</th>\n",
       "      <th>Sector</th>\n",
       "      <th>Industry</th>\n",
       "      <th>Currentprice</th>\n",
       "      <th>Marketcap</th>\n",
       "      <th>Ebitda</th>\n",
       "      <th>Revenuegrowth</th>\n",
       "      <th>City</th>\n",
       "      <th>State</th>\n",
       "      <th>Country</th>\n",
       "      <th>Fulltimeemployees</th>\n",
       "      <th>Longbusinesssummary</th>\n",
       "      <th>Weight</th>\n",
       "    </tr>\n",
       "  </thead>\n",
       "  <tbody>\n",
       "    <tr>\n",
       "      <th>0</th>\n",
       "      <td>NMS</td>\n",
       "      <td>AAPL</td>\n",
       "      <td>Apple Inc.</td>\n",
       "      <td>Apple Inc.</td>\n",
       "      <td>Technology</td>\n",
       "      <td>Consumer Electronics</td>\n",
       "      <td>148.03</td>\n",
       "      <td>2354875990016</td>\n",
       "      <td>1.305410e+11</td>\n",
       "      <td>0.081</td>\n",
       "      <td>Cupertino</td>\n",
       "      <td>CA</td>\n",
       "      <td>United States</td>\n",
       "      <td>164000.0</td>\n",
       "      <td>Apple Inc. designs, manufactures, and markets ...</td>\n",
       "      <td>0.064857</td>\n",
       "    </tr>\n",
       "    <tr>\n",
       "      <th>1</th>\n",
       "      <td>NMS</td>\n",
       "      <td>MSFT</td>\n",
       "      <td>Microsoft Corporation</td>\n",
       "      <td>Microsoft Corporation</td>\n",
       "      <td>Technology</td>\n",
       "      <td>Software—Infrastructure</td>\n",
       "      <td>255.14</td>\n",
       "      <td>1915585953792</td>\n",
       "      <td>9.798300e+10</td>\n",
       "      <td>0.124</td>\n",
       "      <td>Redmond</td>\n",
       "      <td>WA</td>\n",
       "      <td>United States</td>\n",
       "      <td>221000.0</td>\n",
       "      <td>Microsoft Corporation develops, licenses, and ...</td>\n",
       "      <td>0.052759</td>\n",
       "    </tr>\n",
       "    <tr>\n",
       "      <th>2</th>\n",
       "      <td>NMS</td>\n",
       "      <td>GOOG</td>\n",
       "      <td>Alphabet Inc.</td>\n",
       "      <td>Alphabet Inc.</td>\n",
       "      <td>Communication Services</td>\n",
       "      <td>Internet Content &amp; Information</td>\n",
       "      <td>101.45</td>\n",
       "      <td>1311241142272</td>\n",
       "      <td>9.373300e+10</td>\n",
       "      <td>0.061</td>\n",
       "      <td>Mountain View</td>\n",
       "      <td>CA</td>\n",
       "      <td>United States</td>\n",
       "      <td>186779.0</td>\n",
       "      <td>Alphabet Inc. provides various products and pl...</td>\n",
       "      <td>0.036114</td>\n",
       "    </tr>\n",
       "    <tr>\n",
       "      <th>3</th>\n",
       "      <td>NMS</td>\n",
       "      <td>GOOGL</td>\n",
       "      <td>Alphabet Inc.</td>\n",
       "      <td>Alphabet Inc.</td>\n",
       "      <td>Communication Services</td>\n",
       "      <td>Internet Content &amp; Information</td>\n",
       "      <td>100.99</td>\n",
       "      <td>1308729278464</td>\n",
       "      <td>9.373300e+10</td>\n",
       "      <td>0.061</td>\n",
       "      <td>Mountain View</td>\n",
       "      <td>CA</td>\n",
       "      <td>United States</td>\n",
       "      <td>186779.0</td>\n",
       "      <td>Alphabet Inc. provides various products and pl...</td>\n",
       "      <td>0.036045</td>\n",
       "    </tr>\n",
       "    <tr>\n",
       "      <th>4</th>\n",
       "      <td>NMS</td>\n",
       "      <td>AMZN</td>\n",
       "      <td>Amazon.com, Inc.</td>\n",
       "      <td>Amazon.com, Inc.</td>\n",
       "      <td>Consumer Cyclical</td>\n",
       "      <td>Internet Retail</td>\n",
       "      <td>96.54</td>\n",
       "      <td>984872189952</td>\n",
       "      <td>5.154900e+10</td>\n",
       "      <td>0.147</td>\n",
       "      <td>Seattle</td>\n",
       "      <td>WA</td>\n",
       "      <td>United States</td>\n",
       "      <td>1544000.0</td>\n",
       "      <td>Amazon.com, Inc. engages in the retail sale of...</td>\n",
       "      <td>0.027125</td>\n",
       "    </tr>\n",
       "  </tbody>\n",
       "</table>\n",
       "</div>"
      ],
      "text/plain": [
       "  Exchange Symbol              Shortname               Longname  \\\n",
       "0      NMS   AAPL             Apple Inc.             Apple Inc.   \n",
       "1      NMS   MSFT  Microsoft Corporation  Microsoft Corporation   \n",
       "2      NMS   GOOG          Alphabet Inc.          Alphabet Inc.   \n",
       "3      NMS  GOOGL          Alphabet Inc.          Alphabet Inc.   \n",
       "4      NMS   AMZN       Amazon.com, Inc.       Amazon.com, Inc.   \n",
       "\n",
       "                   Sector                        Industry  Currentprice  \\\n",
       "0              Technology            Consumer Electronics        148.03   \n",
       "1              Technology         Software—Infrastructure        255.14   \n",
       "2  Communication Services  Internet Content & Information        101.45   \n",
       "3  Communication Services  Internet Content & Information        100.99   \n",
       "4       Consumer Cyclical                 Internet Retail         96.54   \n",
       "\n",
       "       Marketcap        Ebitda  Revenuegrowth           City State  \\\n",
       "0  2354875990016  1.305410e+11          0.081      Cupertino    CA   \n",
       "1  1915585953792  9.798300e+10          0.124        Redmond    WA   \n",
       "2  1311241142272  9.373300e+10          0.061  Mountain View    CA   \n",
       "3  1308729278464  9.373300e+10          0.061  Mountain View    CA   \n",
       "4   984872189952  5.154900e+10          0.147        Seattle    WA   \n",
       "\n",
       "         Country  Fulltimeemployees  \\\n",
       "0  United States           164000.0   \n",
       "1  United States           221000.0   \n",
       "2  United States           186779.0   \n",
       "3  United States           186779.0   \n",
       "4  United States          1544000.0   \n",
       "\n",
       "                                 Longbusinesssummary    Weight  \n",
       "0  Apple Inc. designs, manufactures, and markets ...  0.064857  \n",
       "1  Microsoft Corporation develops, licenses, and ...  0.052759  \n",
       "2  Alphabet Inc. provides various products and pl...  0.036114  \n",
       "3  Alphabet Inc. provides various products and pl...  0.036045  \n",
       "4  Amazon.com, Inc. engages in the retail sale of...  0.027125  "
      ]
     },
     "execution_count": 277,
     "metadata": {},
     "output_type": "execute_result"
    }
   ],
   "source": [
    "x.head()"
   ]
  },
  {
   "cell_type": "code",
   "execution_count": 170,
   "metadata": {},
   "outputs": [
    {
     "name": "stdout",
     "output_type": "stream",
     "text": [
      "[[11 21 13]\n",
      " [14 15 16]\n",
      " [27 18 29]]\n"
     ]
    }
   ],
   "source": [
    "x = [[11,21,13],[14,15,16],[27,18,29]]\n",
    "A = np.array(x)\n",
    "print(A)"
   ]
  },
  {
   "cell_type": "code",
   "execution_count": 171,
   "metadata": {},
   "outputs": [
    {
     "name": "stdout",
     "output_type": "stream",
     "text": [
      "-2.0000000000000004\n"
     ]
    }
   ],
   "source": [
    "print (np.linalg.det(a))"
   ]
  },
  {
   "cell_type": "code",
   "execution_count": 173,
   "metadata": {},
   "outputs": [
    {
     "name": "stdout",
     "output_type": "stream",
     "text": [
      "34.839506172839506\n"
     ]
    }
   ],
   "source": [
    "print(np.var(A))"
   ]
  },
  {
   "cell_type": "code",
   "execution_count": 176,
   "metadata": {},
   "outputs": [
    {
     "ename": "AttributeError",
     "evalue": "module 'numpy.linalg' has no attribute 'var'",
     "output_type": "error",
     "traceback": [
      "\u001b[1;31m---------------------------------------------------------------------------\u001b[0m",
      "\u001b[1;31mAttributeError\u001b[0m                            Traceback (most recent call last)",
      "\u001b[1;32m<ipython-input-176-85dedaea6073>\u001b[0m in \u001b[0;36m<module>\u001b[1;34m\u001b[0m\n\u001b[1;32m----> 1\u001b[1;33m \u001b[0mprint\u001b[0m\u001b[1;33m(\u001b[0m\u001b[0mnp\u001b[0m\u001b[1;33m.\u001b[0m\u001b[0mlinalg\u001b[0m\u001b[1;33m.\u001b[0m\u001b[0mvar\u001b[0m\u001b[1;33m(\u001b[0m\u001b[0mA\u001b[0m\u001b[1;33m)\u001b[0m\u001b[1;33m)\u001b[0m\u001b[1;33m\u001b[0m\u001b[1;33m\u001b[0m\u001b[0m\n\u001b[0m",
      "\u001b[1;31mAttributeError\u001b[0m: module 'numpy.linalg' has no attribute 'var'"
     ]
    }
   ],
   "source": [
    "print(np.linalg.var(A))"
   ]
  },
  {
   "cell_type": "code",
   "execution_count": 177,
   "metadata": {},
   "outputs": [
    {
     "name": "stdout",
     "output_type": "stream",
     "text": [
      "[1 1 1]\n",
      "[1 1 1]\n",
      "[1 1 1]\n"
     ]
    }
   ],
   "source": [
    "x = np.ones(shape=(3,3), dtype='int')\n",
    "for i in x:\n",
    "    print(i)"
   ]
  },
  {
   "cell_type": "code",
   "execution_count": 178,
   "metadata": {},
   "outputs": [
    {
     "data": {
      "text/plain": [
       "7.016483516483515"
      ]
     },
     "execution_count": 178,
     "metadata": {},
     "output_type": "execute_result"
    }
   ],
   "source": [
    "x = [4,2,1,6,3,6,8,0,5,2,1,7,0,2]\n",
    "np.var(x, ddof=1)"
   ]
  },
  {
   "cell_type": "code",
   "execution_count": 179,
   "metadata": {},
   "outputs": [
    {
     "data": {
      "text/plain": [
       "array([21, 44, 20])"
      ]
     },
     "execution_count": 179,
     "metadata": {},
     "output_type": "execute_result"
    }
   ],
   "source": [
    "A = np.array([[3,2],[4,1],[2,5]])\n",
    "B = np.array([[6,11],[4,12],[2,15]])\n",
    "np.cross(A,B)"
   ]
  },
  {
   "cell_type": "code",
   "execution_count": 180,
   "metadata": {},
   "outputs": [
    {
     "data": {
      "text/plain": [
       "array([1, 2, 3, 4, 5, 6])"
      ]
     },
     "execution_count": 180,
     "metadata": {},
     "output_type": "execute_result"
    }
   ],
   "source": [
    "A = np.array([4,5,6])\n",
    "B = np.array([1,2,3])\n",
    "np.hstack((B,A))"
   ]
  },
  {
   "cell_type": "code",
   "execution_count": 181,
   "metadata": {},
   "outputs": [
    {
     "data": {
      "text/plain": [
       "array([[4, 1],\n",
       "       [5, 2],\n",
       "       [6, 3]])"
      ]
     },
     "execution_count": 181,
     "metadata": {},
     "output_type": "execute_result"
    }
   ],
   "source": [
    "A = np.array([[4],[5],[6]])\n",
    "B = np.array([[1],[2],[3]])\n",
    "np.column_stack((A,B))"
   ]
  },
  {
   "cell_type": "code",
   "execution_count": 191,
   "metadata": {},
   "outputs": [
    {
     "data": {
      "text/plain": [
       "array([[1],\n",
       "       [2],\n",
       "       [3],\n",
       "       [4],\n",
       "       [5]])"
      ]
     },
     "execution_count": 191,
     "metadata": {},
     "output_type": "execute_result"
    }
   ],
   "source": [
    "A = np.array([1,2,3,4,5])\n",
    "A.reshape((5,1))"
   ]
  },
  {
   "cell_type": "code",
   "execution_count": 196,
   "metadata": {},
   "outputs": [],
   "source": [
    "A = np.array([1,3,4,5,6,7,8,9,10,11])"
   ]
  },
  {
   "cell_type": "code",
   "execution_count": 197,
   "metadata": {},
   "outputs": [],
   "source": [
    "A[-1:] = 12\n"
   ]
  },
  {
   "cell_type": "code",
   "execution_count": 198,
   "metadata": {},
   "outputs": [
    {
     "data": {
      "text/plain": [
       "array([ 1,  3,  4,  5,  6,  7,  8,  9, 10, 12])"
      ]
     },
     "execution_count": 198,
     "metadata": {},
     "output_type": "execute_result"
    }
   ],
   "source": [
    "A"
   ]
  },
  {
   "cell_type": "code",
   "execution_count": 199,
   "metadata": {},
   "outputs": [
    {
     "data": {
      "text/plain": [
       "array([ 1,  3,  4,  5,  6,  7,  8,  9, 10])"
      ]
     },
     "execution_count": 199,
     "metadata": {},
     "output_type": "execute_result"
    }
   ],
   "source": [
    "np.delete(A, len(A)-1)"
   ]
  },
  {
   "cell_type": "code",
   "execution_count": 200,
   "metadata": {},
   "outputs": [],
   "source": [
    "sample_list = [1,2,3,4,5]\n",
    "sa=pd.Series(sample_list)"
   ]
  },
  {
   "cell_type": "code",
   "execution_count": 201,
   "metadata": {},
   "outputs": [
    {
     "data": {
      "text/plain": [
       "0    1\n",
       "1    2\n",
       "2    3\n",
       "3    4\n",
       "4    5\n",
       "dtype: int64"
      ]
     },
     "execution_count": 201,
     "metadata": {},
     "output_type": "execute_result"
    }
   ],
   "source": [
    "sa"
   ]
  },
  {
   "cell_type": "code",
   "execution_count": 203,
   "metadata": {},
   "outputs": [],
   "source": [
    "sample.index = {'A', 'B', 'C', 'D', 'E'}"
   ]
  },
  {
   "cell_type": "code",
   "execution_count": 210,
   "metadata": {},
   "outputs": [
    {
     "data": {
      "text/plain": [
       "0     1\n",
       "1     4\n",
       "2     9\n",
       "3    16\n",
       "4    25\n",
       "dtype: int64"
      ]
     },
     "execution_count": 210,
     "metadata": {},
     "output_type": "execute_result"
    }
   ],
   "source": [
    "sample"
   ]
  },
  {
   "cell_type": "code",
   "execution_count": 207,
   "metadata": {},
   "outputs": [],
   "source": [
    "sample.index = list('ABCDE')"
   ]
  },
  {
   "cell_type": "code",
   "execution_count": 208,
   "metadata": {},
   "outputs": [
    {
     "data": {
      "text/plain": [
       "A     1\n",
       "B     4\n",
       "C     9\n",
       "D    16\n",
       "E    25\n",
       "dtype: int64"
      ]
     },
     "execution_count": 208,
     "metadata": {},
     "output_type": "execute_result"
    }
   ],
   "source": [
    "sample"
   ]
  },
  {
   "cell_type": "code",
   "execution_count": 211,
   "metadata": {},
   "outputs": [],
   "source": [
    "sample.index = ('A', 'B', 'C', 'D', 'E')"
   ]
  },
  {
   "cell_type": "code",
   "execution_count": 212,
   "metadata": {},
   "outputs": [
    {
     "data": {
      "text/plain": [
       "A     1\n",
       "B     4\n",
       "C     9\n",
       "D    16\n",
       "E    25\n",
       "dtype: int64"
      ]
     },
     "execution_count": 212,
     "metadata": {},
     "output_type": "execute_result"
    }
   ],
   "source": [
    "sample"
   ]
  },
  {
   "cell_type": "code",
   "execution_count": 214,
   "metadata": {},
   "outputs": [
    {
     "data": {
      "text/plain": [
       "0      1\n",
       "1     16\n",
       "2     81\n",
       "3    256\n",
       "4    625\n",
       "dtype: int64"
      ]
     },
     "execution_count": 214,
     "metadata": {},
     "output_type": "execute_result"
    }
   ],
   "source": [
    "sample.apply(lambda x: x*x)"
   ]
  },
  {
   "cell_type": "code",
   "execution_count": 217,
   "metadata": {},
   "outputs": [],
   "source": [
    "sample = pd.Series([1,4,9,16,25])"
   ]
  },
  {
   "cell_type": "code",
   "execution_count": 216,
   "metadata": {},
   "outputs": [
    {
     "data": {
      "text/plain": [
       "0      1\n",
       "1     16\n",
       "2     81\n",
       "3    256\n",
       "4    625\n",
       "dtype: int64"
      ]
     },
     "execution_count": 216,
     "metadata": {},
     "output_type": "execute_result"
    }
   ],
   "source": [
    "sample.apply(lambda x: x**2)"
   ]
  },
  {
   "cell_type": "code",
   "execution_count": 218,
   "metadata": {},
   "outputs": [
    {
     "data": {
      "text/plain": [
       "0      1\n",
       "1     16\n",
       "2     81\n",
       "3    256\n",
       "4    625\n",
       "dtype: int64"
      ]
     },
     "execution_count": 218,
     "metadata": {},
     "output_type": "execute_result"
    }
   ],
   "source": [
    "sample**2"
   ]
  },
  {
   "cell_type": "code",
   "execution_count": 219,
   "metadata": {},
   "outputs": [
    {
     "data": {
      "text/plain": [
       "0     1\n",
       "1     4\n",
       "2     9\n",
       "3    16\n",
       "4    25\n",
       "dtype: int64"
      ]
     },
     "execution_count": 219,
     "metadata": {},
     "output_type": "execute_result"
    }
   ],
   "source": [
    "sample = pd.Series([1,4,9,16,25])\n",
    "sample.append(pd.Series([36]))\n",
    "sample"
   ]
  },
  {
   "cell_type": "code",
   "execution_count": 220,
   "metadata": {},
   "outputs": [],
   "source": [
    "sample.update(36)"
   ]
  },
  {
   "cell_type": "code",
   "execution_count": 221,
   "metadata": {},
   "outputs": [
    {
     "data": {
      "text/plain": [
       "0    36\n",
       "1     4\n",
       "2     9\n",
       "3    16\n",
       "4    25\n",
       "dtype: int64"
      ]
     },
     "execution_count": 221,
     "metadata": {},
     "output_type": "execute_result"
    }
   ],
   "source": [
    "sample"
   ]
  },
  {
   "cell_type": "code",
   "execution_count": 223,
   "metadata": {},
   "outputs": [
    {
     "data": {
      "text/plain": [
       "0     1\n",
       "1     4\n",
       "2     9\n",
       "3    16\n",
       "4    25\n",
       "5    36\n",
       "dtype: int64"
      ]
     },
     "execution_count": 223,
     "metadata": {},
     "output_type": "execute_result"
    }
   ],
   "source": [
    "sample = pd.Series([1,4,9,16,25])\n",
    "sample.append(pd.Series([36]), ignore_index=True)"
   ]
  },
  {
   "cell_type": "code",
   "execution_count": 224,
   "metadata": {},
   "outputs": [
    {
     "data": {
      "text/plain": [
       "0    37\n",
       "1    40\n",
       "2    45\n",
       "3    52\n",
       "4    61\n",
       "dtype: int64"
      ]
     },
     "execution_count": 224,
     "metadata": {},
     "output_type": "execute_result"
    }
   ],
   "source": [
    "sample = pd.Series([1,4,9,16,25])\n",
    "sample.add(36)"
   ]
  },
  {
   "cell_type": "code",
   "execution_count": 232,
   "metadata": {},
   "outputs": [],
   "source": [
    "sample = pd.Series([1,4,9,16,25,46])"
   ]
  },
  {
   "cell_type": "code",
   "execution_count": 227,
   "metadata": {},
   "outputs": [
    {
     "ename": "KeyError",
     "evalue": "\"None of [Int64Index([46], dtype='int64')] are in the [index]\"",
     "output_type": "error",
     "traceback": [
      "\u001b[1;31m---------------------------------------------------------------------------\u001b[0m",
      "\u001b[1;31mKeyError\u001b[0m                                  Traceback (most recent call last)",
      "\u001b[1;32m<ipython-input-227-fc3eea4f4374>\u001b[0m in \u001b[0;36m<module>\u001b[1;34m\u001b[0m\n\u001b[1;32m----> 1\u001b[1;33m \u001b[0msample\u001b[0m\u001b[1;33m.\u001b[0m\u001b[0mpop\u001b[0m\u001b[1;33m(\u001b[0m\u001b[0msample\u001b[0m\u001b[1;33m[\u001b[0m\u001b[1;33m-\u001b[0m\u001b[1;36m1\u001b[0m\u001b[1;33m:\u001b[0m\u001b[1;33m]\u001b[0m\u001b[1;33m)\u001b[0m\u001b[1;33m\u001b[0m\u001b[1;33m\u001b[0m\u001b[0m\n\u001b[0m",
      "\u001b[1;32m~\\anaconda3\\lib\\site-packages\\pandas\\core\\series.py\u001b[0m in \u001b[0;36mpop\u001b[1;34m(self, item)\u001b[0m\n\u001b[0;32m   4549\u001b[0m         \u001b[0mdtype\u001b[0m\u001b[1;33m:\u001b[0m \u001b[0mint64\u001b[0m\u001b[1;33m\u001b[0m\u001b[1;33m\u001b[0m\u001b[0m\n\u001b[0;32m   4550\u001b[0m         \"\"\"\n\u001b[1;32m-> 4551\u001b[1;33m         \u001b[1;32mreturn\u001b[0m \u001b[0msuper\u001b[0m\u001b[1;33m(\u001b[0m\u001b[1;33m)\u001b[0m\u001b[1;33m.\u001b[0m\u001b[0mpop\u001b[0m\u001b[1;33m(\u001b[0m\u001b[0mitem\u001b[0m\u001b[1;33m=\u001b[0m\u001b[0mitem\u001b[0m\u001b[1;33m)\u001b[0m\u001b[1;33m\u001b[0m\u001b[1;33m\u001b[0m\u001b[0m\n\u001b[0m\u001b[0;32m   4552\u001b[0m \u001b[1;33m\u001b[0m\u001b[0m\n\u001b[0;32m   4553\u001b[0m     \u001b[1;33m@\u001b[0m\u001b[0mdoc\u001b[0m\u001b[1;33m(\u001b[0m\u001b[0mNDFrame\u001b[0m\u001b[1;33m.\u001b[0m\u001b[0mreplace\u001b[0m\u001b[1;33m,\u001b[0m \u001b[0mklass\u001b[0m\u001b[1;33m=\u001b[0m\u001b[0m_shared_doc_kwargs\u001b[0m\u001b[1;33m[\u001b[0m\u001b[1;34m\"klass\"\u001b[0m\u001b[1;33m]\u001b[0m\u001b[1;33m)\u001b[0m\u001b[1;33m\u001b[0m\u001b[1;33m\u001b[0m\u001b[0m\n",
      "\u001b[1;32m~\\anaconda3\\lib\\site-packages\\pandas\\core\\generic.py\u001b[0m in \u001b[0;36mpop\u001b[1;34m(self, item)\u001b[0m\n\u001b[0;32m    659\u001b[0m \u001b[1;33m\u001b[0m\u001b[0m\n\u001b[0;32m    660\u001b[0m     \u001b[1;32mdef\u001b[0m \u001b[0mpop\u001b[0m\u001b[1;33m(\u001b[0m\u001b[0mself\u001b[0m\u001b[1;33m,\u001b[0m \u001b[0mitem\u001b[0m\u001b[1;33m:\u001b[0m \u001b[0mLabel\u001b[0m\u001b[1;33m)\u001b[0m \u001b[1;33m->\u001b[0m \u001b[0mUnion\u001b[0m\u001b[1;33m[\u001b[0m\u001b[1;34m\"Series\"\u001b[0m\u001b[1;33m,\u001b[0m \u001b[0mAny\u001b[0m\u001b[1;33m]\u001b[0m\u001b[1;33m:\u001b[0m\u001b[1;33m\u001b[0m\u001b[1;33m\u001b[0m\u001b[0m\n\u001b[1;32m--> 661\u001b[1;33m         \u001b[0mresult\u001b[0m \u001b[1;33m=\u001b[0m \u001b[0mself\u001b[0m\u001b[1;33m[\u001b[0m\u001b[0mitem\u001b[0m\u001b[1;33m]\u001b[0m\u001b[1;33m\u001b[0m\u001b[1;33m\u001b[0m\u001b[0m\n\u001b[0m\u001b[0;32m    662\u001b[0m         \u001b[1;32mdel\u001b[0m \u001b[0mself\u001b[0m\u001b[1;33m[\u001b[0m\u001b[0mitem\u001b[0m\u001b[1;33m]\u001b[0m\u001b[1;33m\u001b[0m\u001b[1;33m\u001b[0m\u001b[0m\n\u001b[0;32m    663\u001b[0m         \u001b[1;32mif\u001b[0m \u001b[0mself\u001b[0m\u001b[1;33m.\u001b[0m\u001b[0mndim\u001b[0m \u001b[1;33m==\u001b[0m \u001b[1;36m2\u001b[0m\u001b[1;33m:\u001b[0m\u001b[1;33m\u001b[0m\u001b[1;33m\u001b[0m\u001b[0m\n",
      "\u001b[1;32m~\\anaconda3\\lib\\site-packages\\pandas\\core\\series.py\u001b[0m in \u001b[0;36m__getitem__\u001b[1;34m(self, key)\u001b[0m\n\u001b[0;32m    904\u001b[0m             \u001b[1;32mreturn\u001b[0m \u001b[0mself\u001b[0m\u001b[1;33m.\u001b[0m\u001b[0m_get_values\u001b[0m\u001b[1;33m(\u001b[0m\u001b[0mkey\u001b[0m\u001b[1;33m)\u001b[0m\u001b[1;33m\u001b[0m\u001b[1;33m\u001b[0m\u001b[0m\n\u001b[0;32m    905\u001b[0m \u001b[1;33m\u001b[0m\u001b[0m\n\u001b[1;32m--> 906\u001b[1;33m         \u001b[1;32mreturn\u001b[0m \u001b[0mself\u001b[0m\u001b[1;33m.\u001b[0m\u001b[0m_get_with\u001b[0m\u001b[1;33m(\u001b[0m\u001b[0mkey\u001b[0m\u001b[1;33m)\u001b[0m\u001b[1;33m\u001b[0m\u001b[1;33m\u001b[0m\u001b[0m\n\u001b[0m\u001b[0;32m    907\u001b[0m \u001b[1;33m\u001b[0m\u001b[0m\n\u001b[0;32m    908\u001b[0m     \u001b[1;32mdef\u001b[0m \u001b[0m_get_with\u001b[0m\u001b[1;33m(\u001b[0m\u001b[0mself\u001b[0m\u001b[1;33m,\u001b[0m \u001b[0mkey\u001b[0m\u001b[1;33m)\u001b[0m\u001b[1;33m:\u001b[0m\u001b[1;33m\u001b[0m\u001b[1;33m\u001b[0m\u001b[0m\n",
      "\u001b[1;32m~\\anaconda3\\lib\\site-packages\\pandas\\core\\series.py\u001b[0m in \u001b[0;36m_get_with\u001b[1;34m(self, key)\u001b[0m\n\u001b[0;32m    939\u001b[0m             \u001b[1;31m#  (i.e. self.iloc) or label-based (i.e. self.loc)\u001b[0m\u001b[1;33m\u001b[0m\u001b[1;33m\u001b[0m\u001b[1;33m\u001b[0m\u001b[0m\n\u001b[0;32m    940\u001b[0m             \u001b[1;32mif\u001b[0m \u001b[1;32mnot\u001b[0m \u001b[0mself\u001b[0m\u001b[1;33m.\u001b[0m\u001b[0mindex\u001b[0m\u001b[1;33m.\u001b[0m\u001b[0m_should_fallback_to_positional\u001b[0m\u001b[1;33m(\u001b[0m\u001b[1;33m)\u001b[0m\u001b[1;33m:\u001b[0m\u001b[1;33m\u001b[0m\u001b[1;33m\u001b[0m\u001b[0m\n\u001b[1;32m--> 941\u001b[1;33m                 \u001b[1;32mreturn\u001b[0m \u001b[0mself\u001b[0m\u001b[1;33m.\u001b[0m\u001b[0mloc\u001b[0m\u001b[1;33m[\u001b[0m\u001b[0mkey\u001b[0m\u001b[1;33m]\u001b[0m\u001b[1;33m\u001b[0m\u001b[1;33m\u001b[0m\u001b[0m\n\u001b[0m\u001b[0;32m    942\u001b[0m             \u001b[1;32melse\u001b[0m\u001b[1;33m:\u001b[0m\u001b[1;33m\u001b[0m\u001b[1;33m\u001b[0m\u001b[0m\n\u001b[0;32m    943\u001b[0m                 \u001b[1;32mreturn\u001b[0m \u001b[0mself\u001b[0m\u001b[1;33m.\u001b[0m\u001b[0miloc\u001b[0m\u001b[1;33m[\u001b[0m\u001b[0mkey\u001b[0m\u001b[1;33m]\u001b[0m\u001b[1;33m\u001b[0m\u001b[1;33m\u001b[0m\u001b[0m\n",
      "\u001b[1;32m~\\anaconda3\\lib\\site-packages\\pandas\\core\\indexing.py\u001b[0m in \u001b[0;36m__getitem__\u001b[1;34m(self, key)\u001b[0m\n\u001b[0;32m    877\u001b[0m \u001b[1;33m\u001b[0m\u001b[0m\n\u001b[0;32m    878\u001b[0m             \u001b[0mmaybe_callable\u001b[0m \u001b[1;33m=\u001b[0m \u001b[0mcom\u001b[0m\u001b[1;33m.\u001b[0m\u001b[0mapply_if_callable\u001b[0m\u001b[1;33m(\u001b[0m\u001b[0mkey\u001b[0m\u001b[1;33m,\u001b[0m \u001b[0mself\u001b[0m\u001b[1;33m.\u001b[0m\u001b[0mobj\u001b[0m\u001b[1;33m)\u001b[0m\u001b[1;33m\u001b[0m\u001b[1;33m\u001b[0m\u001b[0m\n\u001b[1;32m--> 879\u001b[1;33m             \u001b[1;32mreturn\u001b[0m \u001b[0mself\u001b[0m\u001b[1;33m.\u001b[0m\u001b[0m_getitem_axis\u001b[0m\u001b[1;33m(\u001b[0m\u001b[0mmaybe_callable\u001b[0m\u001b[1;33m,\u001b[0m \u001b[0maxis\u001b[0m\u001b[1;33m=\u001b[0m\u001b[0maxis\u001b[0m\u001b[1;33m)\u001b[0m\u001b[1;33m\u001b[0m\u001b[1;33m\u001b[0m\u001b[0m\n\u001b[0m\u001b[0;32m    880\u001b[0m \u001b[1;33m\u001b[0m\u001b[0m\n\u001b[0;32m    881\u001b[0m     \u001b[1;32mdef\u001b[0m \u001b[0m_is_scalar_access\u001b[0m\u001b[1;33m(\u001b[0m\u001b[0mself\u001b[0m\u001b[1;33m,\u001b[0m \u001b[0mkey\u001b[0m\u001b[1;33m:\u001b[0m \u001b[0mTuple\u001b[0m\u001b[1;33m)\u001b[0m\u001b[1;33m:\u001b[0m\u001b[1;33m\u001b[0m\u001b[1;33m\u001b[0m\u001b[0m\n",
      "\u001b[1;32m~\\anaconda3\\lib\\site-packages\\pandas\\core\\indexing.py\u001b[0m in \u001b[0;36m_getitem_axis\u001b[1;34m(self, key, axis)\u001b[0m\n\u001b[0;32m   1097\u001b[0m                     \u001b[1;32mraise\u001b[0m \u001b[0mValueError\u001b[0m\u001b[1;33m(\u001b[0m\u001b[1;34m\"Cannot index with multidimensional key\"\u001b[0m\u001b[1;33m)\u001b[0m\u001b[1;33m\u001b[0m\u001b[1;33m\u001b[0m\u001b[0m\n\u001b[0;32m   1098\u001b[0m \u001b[1;33m\u001b[0m\u001b[0m\n\u001b[1;32m-> 1099\u001b[1;33m                 \u001b[1;32mreturn\u001b[0m \u001b[0mself\u001b[0m\u001b[1;33m.\u001b[0m\u001b[0m_getitem_iterable\u001b[0m\u001b[1;33m(\u001b[0m\u001b[0mkey\u001b[0m\u001b[1;33m,\u001b[0m \u001b[0maxis\u001b[0m\u001b[1;33m=\u001b[0m\u001b[0maxis\u001b[0m\u001b[1;33m)\u001b[0m\u001b[1;33m\u001b[0m\u001b[1;33m\u001b[0m\u001b[0m\n\u001b[0m\u001b[0;32m   1100\u001b[0m \u001b[1;33m\u001b[0m\u001b[0m\n\u001b[0;32m   1101\u001b[0m             \u001b[1;31m# nested tuple slicing\u001b[0m\u001b[1;33m\u001b[0m\u001b[1;33m\u001b[0m\u001b[1;33m\u001b[0m\u001b[0m\n",
      "\u001b[1;32m~\\anaconda3\\lib\\site-packages\\pandas\\core\\indexing.py\u001b[0m in \u001b[0;36m_getitem_iterable\u001b[1;34m(self, key, axis)\u001b[0m\n\u001b[0;32m   1035\u001b[0m \u001b[1;33m\u001b[0m\u001b[0m\n\u001b[0;32m   1036\u001b[0m         \u001b[1;31m# A collection of keys\u001b[0m\u001b[1;33m\u001b[0m\u001b[1;33m\u001b[0m\u001b[1;33m\u001b[0m\u001b[0m\n\u001b[1;32m-> 1037\u001b[1;33m         \u001b[0mkeyarr\u001b[0m\u001b[1;33m,\u001b[0m \u001b[0mindexer\u001b[0m \u001b[1;33m=\u001b[0m \u001b[0mself\u001b[0m\u001b[1;33m.\u001b[0m\u001b[0m_get_listlike_indexer\u001b[0m\u001b[1;33m(\u001b[0m\u001b[0mkey\u001b[0m\u001b[1;33m,\u001b[0m \u001b[0maxis\u001b[0m\u001b[1;33m,\u001b[0m \u001b[0mraise_missing\u001b[0m\u001b[1;33m=\u001b[0m\u001b[1;32mFalse\u001b[0m\u001b[1;33m)\u001b[0m\u001b[1;33m\u001b[0m\u001b[1;33m\u001b[0m\u001b[0m\n\u001b[0m\u001b[0;32m   1038\u001b[0m         return self.obj._reindex_with_indexers(\n\u001b[0;32m   1039\u001b[0m             \u001b[1;33m{\u001b[0m\u001b[0maxis\u001b[0m\u001b[1;33m:\u001b[0m \u001b[1;33m[\u001b[0m\u001b[0mkeyarr\u001b[0m\u001b[1;33m,\u001b[0m \u001b[0mindexer\u001b[0m\u001b[1;33m]\u001b[0m\u001b[1;33m}\u001b[0m\u001b[1;33m,\u001b[0m \u001b[0mcopy\u001b[0m\u001b[1;33m=\u001b[0m\u001b[1;32mTrue\u001b[0m\u001b[1;33m,\u001b[0m \u001b[0mallow_dups\u001b[0m\u001b[1;33m=\u001b[0m\u001b[1;32mTrue\u001b[0m\u001b[1;33m\u001b[0m\u001b[1;33m\u001b[0m\u001b[0m\n",
      "\u001b[1;32m~\\anaconda3\\lib\\site-packages\\pandas\\core\\indexing.py\u001b[0m in \u001b[0;36m_get_listlike_indexer\u001b[1;34m(self, key, axis, raise_missing)\u001b[0m\n\u001b[0;32m   1252\u001b[0m             \u001b[0mkeyarr\u001b[0m\u001b[1;33m,\u001b[0m \u001b[0mindexer\u001b[0m\u001b[1;33m,\u001b[0m \u001b[0mnew_indexer\u001b[0m \u001b[1;33m=\u001b[0m \u001b[0max\u001b[0m\u001b[1;33m.\u001b[0m\u001b[0m_reindex_non_unique\u001b[0m\u001b[1;33m(\u001b[0m\u001b[0mkeyarr\u001b[0m\u001b[1;33m)\u001b[0m\u001b[1;33m\u001b[0m\u001b[1;33m\u001b[0m\u001b[0m\n\u001b[0;32m   1253\u001b[0m \u001b[1;33m\u001b[0m\u001b[0m\n\u001b[1;32m-> 1254\u001b[1;33m         \u001b[0mself\u001b[0m\u001b[1;33m.\u001b[0m\u001b[0m_validate_read_indexer\u001b[0m\u001b[1;33m(\u001b[0m\u001b[0mkeyarr\u001b[0m\u001b[1;33m,\u001b[0m \u001b[0mindexer\u001b[0m\u001b[1;33m,\u001b[0m \u001b[0maxis\u001b[0m\u001b[1;33m,\u001b[0m \u001b[0mraise_missing\u001b[0m\u001b[1;33m=\u001b[0m\u001b[0mraise_missing\u001b[0m\u001b[1;33m)\u001b[0m\u001b[1;33m\u001b[0m\u001b[1;33m\u001b[0m\u001b[0m\n\u001b[0m\u001b[0;32m   1255\u001b[0m         \u001b[1;32mreturn\u001b[0m \u001b[0mkeyarr\u001b[0m\u001b[1;33m,\u001b[0m \u001b[0mindexer\u001b[0m\u001b[1;33m\u001b[0m\u001b[1;33m\u001b[0m\u001b[0m\n\u001b[0;32m   1256\u001b[0m \u001b[1;33m\u001b[0m\u001b[0m\n",
      "\u001b[1;32m~\\anaconda3\\lib\\site-packages\\pandas\\core\\indexing.py\u001b[0m in \u001b[0;36m_validate_read_indexer\u001b[1;34m(self, key, indexer, axis, raise_missing)\u001b[0m\n\u001b[0;32m   1296\u001b[0m             \u001b[1;32mif\u001b[0m \u001b[0mmissing\u001b[0m \u001b[1;33m==\u001b[0m \u001b[0mlen\u001b[0m\u001b[1;33m(\u001b[0m\u001b[0mindexer\u001b[0m\u001b[1;33m)\u001b[0m\u001b[1;33m:\u001b[0m\u001b[1;33m\u001b[0m\u001b[1;33m\u001b[0m\u001b[0m\n\u001b[0;32m   1297\u001b[0m                 \u001b[0maxis_name\u001b[0m \u001b[1;33m=\u001b[0m \u001b[0mself\u001b[0m\u001b[1;33m.\u001b[0m\u001b[0mobj\u001b[0m\u001b[1;33m.\u001b[0m\u001b[0m_get_axis_name\u001b[0m\u001b[1;33m(\u001b[0m\u001b[0maxis\u001b[0m\u001b[1;33m)\u001b[0m\u001b[1;33m\u001b[0m\u001b[1;33m\u001b[0m\u001b[0m\n\u001b[1;32m-> 1298\u001b[1;33m                 \u001b[1;32mraise\u001b[0m \u001b[0mKeyError\u001b[0m\u001b[1;33m(\u001b[0m\u001b[1;34mf\"None of [{key}] are in the [{axis_name}]\"\u001b[0m\u001b[1;33m)\u001b[0m\u001b[1;33m\u001b[0m\u001b[1;33m\u001b[0m\u001b[0m\n\u001b[0m\u001b[0;32m   1299\u001b[0m \u001b[1;33m\u001b[0m\u001b[0m\n\u001b[0;32m   1300\u001b[0m             \u001b[1;31m# We (temporarily) allow for some missing keys with .loc, except in\u001b[0m\u001b[1;33m\u001b[0m\u001b[1;33m\u001b[0m\u001b[1;33m\u001b[0m\u001b[0m\n",
      "\u001b[1;31mKeyError\u001b[0m: \"None of [Int64Index([46], dtype='int64')] are in the [index]\""
     ]
    }
   ],
   "source": [
    "sample.pop(sample[-1:])"
   ]
  },
  {
   "cell_type": "code",
   "execution_count": 228,
   "metadata": {},
   "outputs": [
    {
     "ename": "TypeError",
     "evalue": "'RangeIndex' object is not callable",
     "output_type": "error",
     "traceback": [
      "\u001b[1;31m---------------------------------------------------------------------------\u001b[0m",
      "\u001b[1;31mTypeError\u001b[0m                                 Traceback (most recent call last)",
      "\u001b[1;32m<ipython-input-228-be0b1546e54d>\u001b[0m in \u001b[0;36m<module>\u001b[1;34m\u001b[0m\n\u001b[1;32m----> 1\u001b[1;33m \u001b[0msample\u001b[0m\u001b[1;33m.\u001b[0m\u001b[0mpop\u001b[0m\u001b[1;33m(\u001b[0m\u001b[0msample\u001b[0m\u001b[1;33m.\u001b[0m\u001b[0mindex\u001b[0m\u001b[1;33m(\u001b[0m\u001b[1;36m46\u001b[0m\u001b[1;33m)\u001b[0m\u001b[1;33m)\u001b[0m\u001b[1;33m\u001b[0m\u001b[1;33m\u001b[0m\u001b[0m\n\u001b[0m",
      "\u001b[1;31mTypeError\u001b[0m: 'RangeIndex' object is not callable"
     ]
    }
   ],
   "source": [
    "sample.pop(sample.index(46))"
   ]
  },
  {
   "cell_type": "code",
   "execution_count": 229,
   "metadata": {},
   "outputs": [
    {
     "ename": "KeyError",
     "evalue": "\"Passing list-likes to .loc or [] with any missing labels is no longer supported. The following labels were missing: Int64Index([9, 16, 25], dtype='int64'). See https://pandas.pydata.org/pandas-docs/stable/user_guide/indexing.html#deprecate-loc-reindex-listlike\"",
     "output_type": "error",
     "traceback": [
      "\u001b[1;31m---------------------------------------------------------------------------\u001b[0m",
      "\u001b[1;31mKeyError\u001b[0m                                  Traceback (most recent call last)",
      "\u001b[1;32m<ipython-input-229-eda0bb4e5ce0>\u001b[0m in \u001b[0;36m<module>\u001b[1;34m\u001b[0m\n\u001b[1;32m----> 1\u001b[1;33m \u001b[0msample\u001b[0m\u001b[1;33m.\u001b[0m\u001b[0mpop\u001b[0m\u001b[1;33m(\u001b[0m\u001b[0msample\u001b[0m\u001b[1;33m[\u001b[0m\u001b[1;33m:\u001b[0m\u001b[1;33m-\u001b[0m\u001b[1;36m1\u001b[0m\u001b[1;33m]\u001b[0m\u001b[1;33m)\u001b[0m\u001b[1;33m\u001b[0m\u001b[1;33m\u001b[0m\u001b[0m\n\u001b[0m",
      "\u001b[1;32m~\\anaconda3\\lib\\site-packages\\pandas\\core\\series.py\u001b[0m in \u001b[0;36mpop\u001b[1;34m(self, item)\u001b[0m\n\u001b[0;32m   4549\u001b[0m         \u001b[0mdtype\u001b[0m\u001b[1;33m:\u001b[0m \u001b[0mint64\u001b[0m\u001b[1;33m\u001b[0m\u001b[1;33m\u001b[0m\u001b[0m\n\u001b[0;32m   4550\u001b[0m         \"\"\"\n\u001b[1;32m-> 4551\u001b[1;33m         \u001b[1;32mreturn\u001b[0m \u001b[0msuper\u001b[0m\u001b[1;33m(\u001b[0m\u001b[1;33m)\u001b[0m\u001b[1;33m.\u001b[0m\u001b[0mpop\u001b[0m\u001b[1;33m(\u001b[0m\u001b[0mitem\u001b[0m\u001b[1;33m=\u001b[0m\u001b[0mitem\u001b[0m\u001b[1;33m)\u001b[0m\u001b[1;33m\u001b[0m\u001b[1;33m\u001b[0m\u001b[0m\n\u001b[0m\u001b[0;32m   4552\u001b[0m \u001b[1;33m\u001b[0m\u001b[0m\n\u001b[0;32m   4553\u001b[0m     \u001b[1;33m@\u001b[0m\u001b[0mdoc\u001b[0m\u001b[1;33m(\u001b[0m\u001b[0mNDFrame\u001b[0m\u001b[1;33m.\u001b[0m\u001b[0mreplace\u001b[0m\u001b[1;33m,\u001b[0m \u001b[0mklass\u001b[0m\u001b[1;33m=\u001b[0m\u001b[0m_shared_doc_kwargs\u001b[0m\u001b[1;33m[\u001b[0m\u001b[1;34m\"klass\"\u001b[0m\u001b[1;33m]\u001b[0m\u001b[1;33m)\u001b[0m\u001b[1;33m\u001b[0m\u001b[1;33m\u001b[0m\u001b[0m\n",
      "\u001b[1;32m~\\anaconda3\\lib\\site-packages\\pandas\\core\\generic.py\u001b[0m in \u001b[0;36mpop\u001b[1;34m(self, item)\u001b[0m\n\u001b[0;32m    659\u001b[0m \u001b[1;33m\u001b[0m\u001b[0m\n\u001b[0;32m    660\u001b[0m     \u001b[1;32mdef\u001b[0m \u001b[0mpop\u001b[0m\u001b[1;33m(\u001b[0m\u001b[0mself\u001b[0m\u001b[1;33m,\u001b[0m \u001b[0mitem\u001b[0m\u001b[1;33m:\u001b[0m \u001b[0mLabel\u001b[0m\u001b[1;33m)\u001b[0m \u001b[1;33m->\u001b[0m \u001b[0mUnion\u001b[0m\u001b[1;33m[\u001b[0m\u001b[1;34m\"Series\"\u001b[0m\u001b[1;33m,\u001b[0m \u001b[0mAny\u001b[0m\u001b[1;33m]\u001b[0m\u001b[1;33m:\u001b[0m\u001b[1;33m\u001b[0m\u001b[1;33m\u001b[0m\u001b[0m\n\u001b[1;32m--> 661\u001b[1;33m         \u001b[0mresult\u001b[0m \u001b[1;33m=\u001b[0m \u001b[0mself\u001b[0m\u001b[1;33m[\u001b[0m\u001b[0mitem\u001b[0m\u001b[1;33m]\u001b[0m\u001b[1;33m\u001b[0m\u001b[1;33m\u001b[0m\u001b[0m\n\u001b[0m\u001b[0;32m    662\u001b[0m         \u001b[1;32mdel\u001b[0m \u001b[0mself\u001b[0m\u001b[1;33m[\u001b[0m\u001b[0mitem\u001b[0m\u001b[1;33m]\u001b[0m\u001b[1;33m\u001b[0m\u001b[1;33m\u001b[0m\u001b[0m\n\u001b[0;32m    663\u001b[0m         \u001b[1;32mif\u001b[0m \u001b[0mself\u001b[0m\u001b[1;33m.\u001b[0m\u001b[0mndim\u001b[0m \u001b[1;33m==\u001b[0m \u001b[1;36m2\u001b[0m\u001b[1;33m:\u001b[0m\u001b[1;33m\u001b[0m\u001b[1;33m\u001b[0m\u001b[0m\n",
      "\u001b[1;32m~\\anaconda3\\lib\\site-packages\\pandas\\core\\series.py\u001b[0m in \u001b[0;36m__getitem__\u001b[1;34m(self, key)\u001b[0m\n\u001b[0;32m    904\u001b[0m             \u001b[1;32mreturn\u001b[0m \u001b[0mself\u001b[0m\u001b[1;33m.\u001b[0m\u001b[0m_get_values\u001b[0m\u001b[1;33m(\u001b[0m\u001b[0mkey\u001b[0m\u001b[1;33m)\u001b[0m\u001b[1;33m\u001b[0m\u001b[1;33m\u001b[0m\u001b[0m\n\u001b[0;32m    905\u001b[0m \u001b[1;33m\u001b[0m\u001b[0m\n\u001b[1;32m--> 906\u001b[1;33m         \u001b[1;32mreturn\u001b[0m \u001b[0mself\u001b[0m\u001b[1;33m.\u001b[0m\u001b[0m_get_with\u001b[0m\u001b[1;33m(\u001b[0m\u001b[0mkey\u001b[0m\u001b[1;33m)\u001b[0m\u001b[1;33m\u001b[0m\u001b[1;33m\u001b[0m\u001b[0m\n\u001b[0m\u001b[0;32m    907\u001b[0m \u001b[1;33m\u001b[0m\u001b[0m\n\u001b[0;32m    908\u001b[0m     \u001b[1;32mdef\u001b[0m \u001b[0m_get_with\u001b[0m\u001b[1;33m(\u001b[0m\u001b[0mself\u001b[0m\u001b[1;33m,\u001b[0m \u001b[0mkey\u001b[0m\u001b[1;33m)\u001b[0m\u001b[1;33m:\u001b[0m\u001b[1;33m\u001b[0m\u001b[1;33m\u001b[0m\u001b[0m\n",
      "\u001b[1;32m~\\anaconda3\\lib\\site-packages\\pandas\\core\\series.py\u001b[0m in \u001b[0;36m_get_with\u001b[1;34m(self, key)\u001b[0m\n\u001b[0;32m    939\u001b[0m             \u001b[1;31m#  (i.e. self.iloc) or label-based (i.e. self.loc)\u001b[0m\u001b[1;33m\u001b[0m\u001b[1;33m\u001b[0m\u001b[1;33m\u001b[0m\u001b[0m\n\u001b[0;32m    940\u001b[0m             \u001b[1;32mif\u001b[0m \u001b[1;32mnot\u001b[0m \u001b[0mself\u001b[0m\u001b[1;33m.\u001b[0m\u001b[0mindex\u001b[0m\u001b[1;33m.\u001b[0m\u001b[0m_should_fallback_to_positional\u001b[0m\u001b[1;33m(\u001b[0m\u001b[1;33m)\u001b[0m\u001b[1;33m:\u001b[0m\u001b[1;33m\u001b[0m\u001b[1;33m\u001b[0m\u001b[0m\n\u001b[1;32m--> 941\u001b[1;33m                 \u001b[1;32mreturn\u001b[0m \u001b[0mself\u001b[0m\u001b[1;33m.\u001b[0m\u001b[0mloc\u001b[0m\u001b[1;33m[\u001b[0m\u001b[0mkey\u001b[0m\u001b[1;33m]\u001b[0m\u001b[1;33m\u001b[0m\u001b[1;33m\u001b[0m\u001b[0m\n\u001b[0m\u001b[0;32m    942\u001b[0m             \u001b[1;32melse\u001b[0m\u001b[1;33m:\u001b[0m\u001b[1;33m\u001b[0m\u001b[1;33m\u001b[0m\u001b[0m\n\u001b[0;32m    943\u001b[0m                 \u001b[1;32mreturn\u001b[0m \u001b[0mself\u001b[0m\u001b[1;33m.\u001b[0m\u001b[0miloc\u001b[0m\u001b[1;33m[\u001b[0m\u001b[0mkey\u001b[0m\u001b[1;33m]\u001b[0m\u001b[1;33m\u001b[0m\u001b[1;33m\u001b[0m\u001b[0m\n",
      "\u001b[1;32m~\\anaconda3\\lib\\site-packages\\pandas\\core\\indexing.py\u001b[0m in \u001b[0;36m__getitem__\u001b[1;34m(self, key)\u001b[0m\n\u001b[0;32m    877\u001b[0m \u001b[1;33m\u001b[0m\u001b[0m\n\u001b[0;32m    878\u001b[0m             \u001b[0mmaybe_callable\u001b[0m \u001b[1;33m=\u001b[0m \u001b[0mcom\u001b[0m\u001b[1;33m.\u001b[0m\u001b[0mapply_if_callable\u001b[0m\u001b[1;33m(\u001b[0m\u001b[0mkey\u001b[0m\u001b[1;33m,\u001b[0m \u001b[0mself\u001b[0m\u001b[1;33m.\u001b[0m\u001b[0mobj\u001b[0m\u001b[1;33m)\u001b[0m\u001b[1;33m\u001b[0m\u001b[1;33m\u001b[0m\u001b[0m\n\u001b[1;32m--> 879\u001b[1;33m             \u001b[1;32mreturn\u001b[0m \u001b[0mself\u001b[0m\u001b[1;33m.\u001b[0m\u001b[0m_getitem_axis\u001b[0m\u001b[1;33m(\u001b[0m\u001b[0mmaybe_callable\u001b[0m\u001b[1;33m,\u001b[0m \u001b[0maxis\u001b[0m\u001b[1;33m=\u001b[0m\u001b[0maxis\u001b[0m\u001b[1;33m)\u001b[0m\u001b[1;33m\u001b[0m\u001b[1;33m\u001b[0m\u001b[0m\n\u001b[0m\u001b[0;32m    880\u001b[0m \u001b[1;33m\u001b[0m\u001b[0m\n\u001b[0;32m    881\u001b[0m     \u001b[1;32mdef\u001b[0m \u001b[0m_is_scalar_access\u001b[0m\u001b[1;33m(\u001b[0m\u001b[0mself\u001b[0m\u001b[1;33m,\u001b[0m \u001b[0mkey\u001b[0m\u001b[1;33m:\u001b[0m \u001b[0mTuple\u001b[0m\u001b[1;33m)\u001b[0m\u001b[1;33m:\u001b[0m\u001b[1;33m\u001b[0m\u001b[1;33m\u001b[0m\u001b[0m\n",
      "\u001b[1;32m~\\anaconda3\\lib\\site-packages\\pandas\\core\\indexing.py\u001b[0m in \u001b[0;36m_getitem_axis\u001b[1;34m(self, key, axis)\u001b[0m\n\u001b[0;32m   1097\u001b[0m                     \u001b[1;32mraise\u001b[0m \u001b[0mValueError\u001b[0m\u001b[1;33m(\u001b[0m\u001b[1;34m\"Cannot index with multidimensional key\"\u001b[0m\u001b[1;33m)\u001b[0m\u001b[1;33m\u001b[0m\u001b[1;33m\u001b[0m\u001b[0m\n\u001b[0;32m   1098\u001b[0m \u001b[1;33m\u001b[0m\u001b[0m\n\u001b[1;32m-> 1099\u001b[1;33m                 \u001b[1;32mreturn\u001b[0m \u001b[0mself\u001b[0m\u001b[1;33m.\u001b[0m\u001b[0m_getitem_iterable\u001b[0m\u001b[1;33m(\u001b[0m\u001b[0mkey\u001b[0m\u001b[1;33m,\u001b[0m \u001b[0maxis\u001b[0m\u001b[1;33m=\u001b[0m\u001b[0maxis\u001b[0m\u001b[1;33m)\u001b[0m\u001b[1;33m\u001b[0m\u001b[1;33m\u001b[0m\u001b[0m\n\u001b[0m\u001b[0;32m   1100\u001b[0m \u001b[1;33m\u001b[0m\u001b[0m\n\u001b[0;32m   1101\u001b[0m             \u001b[1;31m# nested tuple slicing\u001b[0m\u001b[1;33m\u001b[0m\u001b[1;33m\u001b[0m\u001b[1;33m\u001b[0m\u001b[0m\n",
      "\u001b[1;32m~\\anaconda3\\lib\\site-packages\\pandas\\core\\indexing.py\u001b[0m in \u001b[0;36m_getitem_iterable\u001b[1;34m(self, key, axis)\u001b[0m\n\u001b[0;32m   1035\u001b[0m \u001b[1;33m\u001b[0m\u001b[0m\n\u001b[0;32m   1036\u001b[0m         \u001b[1;31m# A collection of keys\u001b[0m\u001b[1;33m\u001b[0m\u001b[1;33m\u001b[0m\u001b[1;33m\u001b[0m\u001b[0m\n\u001b[1;32m-> 1037\u001b[1;33m         \u001b[0mkeyarr\u001b[0m\u001b[1;33m,\u001b[0m \u001b[0mindexer\u001b[0m \u001b[1;33m=\u001b[0m \u001b[0mself\u001b[0m\u001b[1;33m.\u001b[0m\u001b[0m_get_listlike_indexer\u001b[0m\u001b[1;33m(\u001b[0m\u001b[0mkey\u001b[0m\u001b[1;33m,\u001b[0m \u001b[0maxis\u001b[0m\u001b[1;33m,\u001b[0m \u001b[0mraise_missing\u001b[0m\u001b[1;33m=\u001b[0m\u001b[1;32mFalse\u001b[0m\u001b[1;33m)\u001b[0m\u001b[1;33m\u001b[0m\u001b[1;33m\u001b[0m\u001b[0m\n\u001b[0m\u001b[0;32m   1038\u001b[0m         return self.obj._reindex_with_indexers(\n\u001b[0;32m   1039\u001b[0m             \u001b[1;33m{\u001b[0m\u001b[0maxis\u001b[0m\u001b[1;33m:\u001b[0m \u001b[1;33m[\u001b[0m\u001b[0mkeyarr\u001b[0m\u001b[1;33m,\u001b[0m \u001b[0mindexer\u001b[0m\u001b[1;33m]\u001b[0m\u001b[1;33m}\u001b[0m\u001b[1;33m,\u001b[0m \u001b[0mcopy\u001b[0m\u001b[1;33m=\u001b[0m\u001b[1;32mTrue\u001b[0m\u001b[1;33m,\u001b[0m \u001b[0mallow_dups\u001b[0m\u001b[1;33m=\u001b[0m\u001b[1;32mTrue\u001b[0m\u001b[1;33m\u001b[0m\u001b[1;33m\u001b[0m\u001b[0m\n",
      "\u001b[1;32m~\\anaconda3\\lib\\site-packages\\pandas\\core\\indexing.py\u001b[0m in \u001b[0;36m_get_listlike_indexer\u001b[1;34m(self, key, axis, raise_missing)\u001b[0m\n\u001b[0;32m   1252\u001b[0m             \u001b[0mkeyarr\u001b[0m\u001b[1;33m,\u001b[0m \u001b[0mindexer\u001b[0m\u001b[1;33m,\u001b[0m \u001b[0mnew_indexer\u001b[0m \u001b[1;33m=\u001b[0m \u001b[0max\u001b[0m\u001b[1;33m.\u001b[0m\u001b[0m_reindex_non_unique\u001b[0m\u001b[1;33m(\u001b[0m\u001b[0mkeyarr\u001b[0m\u001b[1;33m)\u001b[0m\u001b[1;33m\u001b[0m\u001b[1;33m\u001b[0m\u001b[0m\n\u001b[0;32m   1253\u001b[0m \u001b[1;33m\u001b[0m\u001b[0m\n\u001b[1;32m-> 1254\u001b[1;33m         \u001b[0mself\u001b[0m\u001b[1;33m.\u001b[0m\u001b[0m_validate_read_indexer\u001b[0m\u001b[1;33m(\u001b[0m\u001b[0mkeyarr\u001b[0m\u001b[1;33m,\u001b[0m \u001b[0mindexer\u001b[0m\u001b[1;33m,\u001b[0m \u001b[0maxis\u001b[0m\u001b[1;33m,\u001b[0m \u001b[0mraise_missing\u001b[0m\u001b[1;33m=\u001b[0m\u001b[0mraise_missing\u001b[0m\u001b[1;33m)\u001b[0m\u001b[1;33m\u001b[0m\u001b[1;33m\u001b[0m\u001b[0m\n\u001b[0m\u001b[0;32m   1255\u001b[0m         \u001b[1;32mreturn\u001b[0m \u001b[0mkeyarr\u001b[0m\u001b[1;33m,\u001b[0m \u001b[0mindexer\u001b[0m\u001b[1;33m\u001b[0m\u001b[1;33m\u001b[0m\u001b[0m\n\u001b[0;32m   1256\u001b[0m \u001b[1;33m\u001b[0m\u001b[0m\n",
      "\u001b[1;32m~\\anaconda3\\lib\\site-packages\\pandas\\core\\indexing.py\u001b[0m in \u001b[0;36m_validate_read_indexer\u001b[1;34m(self, key, indexer, axis, raise_missing)\u001b[0m\n\u001b[0;32m   1313\u001b[0m \u001b[1;33m\u001b[0m\u001b[0m\n\u001b[0;32m   1314\u001b[0m                 \u001b[1;32mwith\u001b[0m \u001b[0moption_context\u001b[0m\u001b[1;33m(\u001b[0m\u001b[1;34m\"display.max_seq_items\"\u001b[0m\u001b[1;33m,\u001b[0m \u001b[1;36m10\u001b[0m\u001b[1;33m,\u001b[0m \u001b[1;34m\"display.width\"\u001b[0m\u001b[1;33m,\u001b[0m \u001b[1;36m80\u001b[0m\u001b[1;33m)\u001b[0m\u001b[1;33m:\u001b[0m\u001b[1;33m\u001b[0m\u001b[1;33m\u001b[0m\u001b[0m\n\u001b[1;32m-> 1315\u001b[1;33m                     raise KeyError(\n\u001b[0m\u001b[0;32m   1316\u001b[0m                         \u001b[1;34m\"Passing list-likes to .loc or [] with any missing labels \"\u001b[0m\u001b[1;33m\u001b[0m\u001b[1;33m\u001b[0m\u001b[0m\n\u001b[0;32m   1317\u001b[0m                         \u001b[1;34m\"is no longer supported. \"\u001b[0m\u001b[1;33m\u001b[0m\u001b[1;33m\u001b[0m\u001b[0m\n",
      "\u001b[1;31mKeyError\u001b[0m: \"Passing list-likes to .loc or [] with any missing labels is no longer supported. The following labels were missing: Int64Index([9, 16, 25], dtype='int64'). See https://pandas.pydata.org/pandas-docs/stable/user_guide/indexing.html#deprecate-loc-reindex-listlike\""
     ]
    }
   ],
   "source": [
    "sample.pop(sample[:-1])"
   ]
  },
  {
   "cell_type": "code",
   "execution_count": 234,
   "metadata": {},
   "outputs": [
    {
     "data": {
      "text/plain": [
       "46"
      ]
     },
     "execution_count": 234,
     "metadata": {},
     "output_type": "execute_result"
    }
   ],
   "source": [
    "sample.pop(len(sample) - 1)"
   ]
  },
  {
   "cell_type": "code",
   "execution_count": 235,
   "metadata": {},
   "outputs": [
    {
     "data": {
      "text/plain": [
       "0     1\n",
       "1     4\n",
       "2     9\n",
       "3    16\n",
       "4    25\n",
       "dtype: int64"
      ]
     },
     "execution_count": 235,
     "metadata": {},
     "output_type": "execute_result"
    }
   ],
   "source": [
    "sample"
   ]
  },
  {
   "cell_type": "code",
   "execution_count": 243,
   "metadata": {},
   "outputs": [],
   "source": [
    "x = {\"A\":[1,4,9,16,25], \"B\":[2,6,11,18,27]}"
   ]
  },
  {
   "cell_type": "code",
   "execution_count": 244,
   "metadata": {},
   "outputs": [
    {
     "data": {
      "text/plain": [
       "{'A': [1, 4, 9, 16, 25], 'B': [2, 6, 11, 18, 27]}"
      ]
     },
     "execution_count": 244,
     "metadata": {},
     "output_type": "execute_result"
    }
   ],
   "source": [
    "x"
   ]
  },
  {
   "cell_type": "code",
   "execution_count": 239,
   "metadata": {},
   "outputs": [
    {
     "data": {
      "text/html": [
       "<div>\n",
       "<style scoped>\n",
       "    .dataframe tbody tr th:only-of-type {\n",
       "        vertical-align: middle;\n",
       "    }\n",
       "\n",
       "    .dataframe tbody tr th {\n",
       "        vertical-align: top;\n",
       "    }\n",
       "\n",
       "    .dataframe thead th {\n",
       "        text-align: right;\n",
       "    }\n",
       "</style>\n",
       "<table border=\"1\" class=\"dataframe\">\n",
       "  <thead>\n",
       "    <tr style=\"text-align: right;\">\n",
       "      <th></th>\n",
       "      <th>A</th>\n",
       "      <th>B</th>\n",
       "    </tr>\n",
       "  </thead>\n",
       "  <tbody>\n",
       "    <tr>\n",
       "      <th>0</th>\n",
       "      <td>1</td>\n",
       "      <td>2</td>\n",
       "    </tr>\n",
       "    <tr>\n",
       "      <th>1</th>\n",
       "      <td>4</td>\n",
       "      <td>6</td>\n",
       "    </tr>\n",
       "    <tr>\n",
       "      <th>2</th>\n",
       "      <td>9</td>\n",
       "      <td>11</td>\n",
       "    </tr>\n",
       "    <tr>\n",
       "      <th>3</th>\n",
       "      <td>16</td>\n",
       "      <td>18</td>\n",
       "    </tr>\n",
       "    <tr>\n",
       "      <th>4</th>\n",
       "      <td>25</td>\n",
       "      <td>27</td>\n",
       "    </tr>\n",
       "  </tbody>\n",
       "</table>\n",
       "</div>"
      ],
      "text/plain": [
       "    A   B\n",
       "0   1   2\n",
       "1   4   6\n",
       "2   9  11\n",
       "3  16  18\n",
       "4  25  27"
      ]
     },
     "execution_count": 239,
     "metadata": {},
     "output_type": "execute_result"
    }
   ],
   "source": [
    "pd.DataFrame(x)"
   ]
  },
  {
   "cell_type": "code",
   "execution_count": 242,
   "metadata": {},
   "outputs": [
    {
     "data": {
      "text/html": [
       "<div>\n",
       "<style scoped>\n",
       "    .dataframe tbody tr th:only-of-type {\n",
       "        vertical-align: middle;\n",
       "    }\n",
       "\n",
       "    .dataframe tbody tr th {\n",
       "        vertical-align: top;\n",
       "    }\n",
       "\n",
       "    .dataframe thead th {\n",
       "        text-align: right;\n",
       "    }\n",
       "</style>\n",
       "<table border=\"1\" class=\"dataframe\">\n",
       "  <thead>\n",
       "    <tr style=\"text-align: right;\">\n",
       "      <th></th>\n",
       "      <th>A</th>\n",
       "      <th>B</th>\n",
       "    </tr>\n",
       "  </thead>\n",
       "  <tbody>\n",
       "    <tr>\n",
       "      <th>0</th>\n",
       "      <td>1</td>\n",
       "      <td>2</td>\n",
       "    </tr>\n",
       "    <tr>\n",
       "      <th>1</th>\n",
       "      <td>4</td>\n",
       "      <td>6</td>\n",
       "    </tr>\n",
       "    <tr>\n",
       "      <th>2</th>\n",
       "      <td>9</td>\n",
       "      <td>11</td>\n",
       "    </tr>\n",
       "    <tr>\n",
       "      <th>3</th>\n",
       "      <td>16</td>\n",
       "      <td>18</td>\n",
       "    </tr>\n",
       "    <tr>\n",
       "      <th>4</th>\n",
       "      <td>25</td>\n",
       "      <td>27</td>\n",
       "    </tr>\n",
       "  </tbody>\n",
       "</table>\n",
       "</div>"
      ],
      "text/plain": [
       "    A   B\n",
       "0   1   2\n",
       "1   4   6\n",
       "2   9  11\n",
       "3  16  18\n",
       "4  25  27"
      ]
     },
     "execution_count": 242,
     "metadata": {},
     "output_type": "execute_result"
    }
   ],
   "source": [
    "pd.DataFrame(x, columns=x.keys(), index=None)"
   ]
  },
  {
   "cell_type": "code",
   "execution_count": 245,
   "metadata": {},
   "outputs": [
    {
     "data": {
      "text/html": [
       "<div>\n",
       "<style scoped>\n",
       "    .dataframe tbody tr th:only-of-type {\n",
       "        vertical-align: middle;\n",
       "    }\n",
       "\n",
       "    .dataframe tbody tr th {\n",
       "        vertical-align: top;\n",
       "    }\n",
       "\n",
       "    .dataframe thead th {\n",
       "        text-align: right;\n",
       "    }\n",
       "</style>\n",
       "<table border=\"1\" class=\"dataframe\">\n",
       "  <thead>\n",
       "    <tr style=\"text-align: right;\">\n",
       "      <th></th>\n",
       "      <th>A</th>\n",
       "      <th>B</th>\n",
       "    </tr>\n",
       "  </thead>\n",
       "  <tbody>\n",
       "    <tr>\n",
       "      <th>0</th>\n",
       "      <td>1</td>\n",
       "      <td>2</td>\n",
       "    </tr>\n",
       "    <tr>\n",
       "      <th>1</th>\n",
       "      <td>4</td>\n",
       "      <td>6</td>\n",
       "    </tr>\n",
       "    <tr>\n",
       "      <th>2</th>\n",
       "      <td>9</td>\n",
       "      <td>11</td>\n",
       "    </tr>\n",
       "    <tr>\n",
       "      <th>3</th>\n",
       "      <td>16</td>\n",
       "      <td>18</td>\n",
       "    </tr>\n",
       "    <tr>\n",
       "      <th>4</th>\n",
       "      <td>25</td>\n",
       "      <td>27</td>\n",
       "    </tr>\n",
       "  </tbody>\n",
       "</table>\n",
       "</div>"
      ],
      "text/plain": [
       "    A   B\n",
       "0   1   2\n",
       "1   4   6\n",
       "2   9  11\n",
       "3  16  18\n",
       "4  25  27"
      ]
     },
     "execution_count": 245,
     "metadata": {},
     "output_type": "execute_result"
    }
   ],
   "source": [
    "pd.DataFrame(x, columns=x.keys())"
   ]
  },
  {
   "cell_type": "code",
   "execution_count": 246,
   "metadata": {},
   "outputs": [],
   "source": [
    "data = {\n",
    "    \"A\": [\"TeamA\", \"TeamB\", \"TeamB\", \"TeamC\", \"TeamA\"],\n",
    "    \"B\": [50, 40, 40, 30, 50],\n",
    "    \"C\": [True, False, False, False, True]\n",
    "}\n",
    "  \n",
    "df = pd.DataFrame(data)"
   ]
  },
  {
   "cell_type": "code",
   "execution_count": 247,
   "metadata": {},
   "outputs": [
    {
     "data": {
      "text/html": [
       "<div>\n",
       "<style scoped>\n",
       "    .dataframe tbody tr th:only-of-type {\n",
       "        vertical-align: middle;\n",
       "    }\n",
       "\n",
       "    .dataframe tbody tr th {\n",
       "        vertical-align: top;\n",
       "    }\n",
       "\n",
       "    .dataframe thead th {\n",
       "        text-align: right;\n",
       "    }\n",
       "</style>\n",
       "<table border=\"1\" class=\"dataframe\">\n",
       "  <thead>\n",
       "    <tr style=\"text-align: right;\">\n",
       "      <th></th>\n",
       "      <th>A</th>\n",
       "      <th>B</th>\n",
       "      <th>C</th>\n",
       "    </tr>\n",
       "  </thead>\n",
       "  <tbody>\n",
       "    <tr>\n",
       "      <th>0</th>\n",
       "      <td>TeamA</td>\n",
       "      <td>50</td>\n",
       "      <td>True</td>\n",
       "    </tr>\n",
       "    <tr>\n",
       "      <th>1</th>\n",
       "      <td>TeamB</td>\n",
       "      <td>40</td>\n",
       "      <td>False</td>\n",
       "    </tr>\n",
       "    <tr>\n",
       "      <th>2</th>\n",
       "      <td>TeamB</td>\n",
       "      <td>40</td>\n",
       "      <td>False</td>\n",
       "    </tr>\n",
       "    <tr>\n",
       "      <th>3</th>\n",
       "      <td>TeamC</td>\n",
       "      <td>30</td>\n",
       "      <td>False</td>\n",
       "    </tr>\n",
       "    <tr>\n",
       "      <th>4</th>\n",
       "      <td>TeamA</td>\n",
       "      <td>50</td>\n",
       "      <td>True</td>\n",
       "    </tr>\n",
       "  </tbody>\n",
       "</table>\n",
       "</div>"
      ],
      "text/plain": [
       "       A   B      C\n",
       "0  TeamA  50   True\n",
       "1  TeamB  40  False\n",
       "2  TeamB  40  False\n",
       "3  TeamC  30  False\n",
       "4  TeamA  50   True"
      ]
     },
     "execution_count": 247,
     "metadata": {},
     "output_type": "execute_result"
    }
   ],
   "source": [
    "df"
   ]
  },
  {
   "cell_type": "code",
   "execution_count": 252,
   "metadata": {},
   "outputs": [
    {
     "ename": "AttributeError",
     "evalue": "'DataFrame' object has no attribute 'drop_duplicated'",
     "output_type": "error",
     "traceback": [
      "\u001b[1;31m---------------------------------------------------------------------------\u001b[0m",
      "\u001b[1;31mAttributeError\u001b[0m                            Traceback (most recent call last)",
      "\u001b[1;32m<ipython-input-252-52a7961e5586>\u001b[0m in \u001b[0;36m<module>\u001b[1;34m\u001b[0m\n\u001b[1;32m----> 1\u001b[1;33m \u001b[0mdf\u001b[0m\u001b[1;33m.\u001b[0m\u001b[0mdrop_duplicated\u001b[0m\u001b[1;33m(\u001b[0m\u001b[1;33m)\u001b[0m\u001b[1;33m\u001b[0m\u001b[1;33m\u001b[0m\u001b[0m\n\u001b[0m",
      "\u001b[1;32m~\\anaconda3\\lib\\site-packages\\pandas\\core\\generic.py\u001b[0m in \u001b[0;36m__getattr__\u001b[1;34m(self, name)\u001b[0m\n\u001b[0;32m   5137\u001b[0m             \u001b[1;32mif\u001b[0m \u001b[0mself\u001b[0m\u001b[1;33m.\u001b[0m\u001b[0m_info_axis\u001b[0m\u001b[1;33m.\u001b[0m\u001b[0m_can_hold_identifiers_and_holds_name\u001b[0m\u001b[1;33m(\u001b[0m\u001b[0mname\u001b[0m\u001b[1;33m)\u001b[0m\u001b[1;33m:\u001b[0m\u001b[1;33m\u001b[0m\u001b[1;33m\u001b[0m\u001b[0m\n\u001b[0;32m   5138\u001b[0m                 \u001b[1;32mreturn\u001b[0m \u001b[0mself\u001b[0m\u001b[1;33m[\u001b[0m\u001b[0mname\u001b[0m\u001b[1;33m]\u001b[0m\u001b[1;33m\u001b[0m\u001b[1;33m\u001b[0m\u001b[0m\n\u001b[1;32m-> 5139\u001b[1;33m             \u001b[1;32mreturn\u001b[0m \u001b[0mobject\u001b[0m\u001b[1;33m.\u001b[0m\u001b[0m__getattribute__\u001b[0m\u001b[1;33m(\u001b[0m\u001b[0mself\u001b[0m\u001b[1;33m,\u001b[0m \u001b[0mname\u001b[0m\u001b[1;33m)\u001b[0m\u001b[1;33m\u001b[0m\u001b[1;33m\u001b[0m\u001b[0m\n\u001b[0m\u001b[0;32m   5140\u001b[0m \u001b[1;33m\u001b[0m\u001b[0m\n\u001b[0;32m   5141\u001b[0m     \u001b[1;32mdef\u001b[0m \u001b[0m__setattr__\u001b[0m\u001b[1;33m(\u001b[0m\u001b[0mself\u001b[0m\u001b[1;33m,\u001b[0m \u001b[0mname\u001b[0m\u001b[1;33m:\u001b[0m \u001b[0mstr\u001b[0m\u001b[1;33m,\u001b[0m \u001b[0mvalue\u001b[0m\u001b[1;33m)\u001b[0m \u001b[1;33m->\u001b[0m \u001b[1;32mNone\u001b[0m\u001b[1;33m:\u001b[0m\u001b[1;33m\u001b[0m\u001b[1;33m\u001b[0m\u001b[0m\n",
      "\u001b[1;31mAttributeError\u001b[0m: 'DataFrame' object has no attribute 'drop_duplicated'"
     ]
    }
   ],
   "source": [
    "df.drop_duplicated()"
   ]
  },
  {
   "cell_type": "code",
   "execution_count": 253,
   "metadata": {},
   "outputs": [
    {
     "data": {
      "text/html": [
       "<div>\n",
       "<style scoped>\n",
       "    .dataframe tbody tr th:only-of-type {\n",
       "        vertical-align: middle;\n",
       "    }\n",
       "\n",
       "    .dataframe tbody tr th {\n",
       "        vertical-align: top;\n",
       "    }\n",
       "\n",
       "    .dataframe thead th {\n",
       "        text-align: right;\n",
       "    }\n",
       "</style>\n",
       "<table border=\"1\" class=\"dataframe\">\n",
       "  <thead>\n",
       "    <tr style=\"text-align: right;\">\n",
       "      <th></th>\n",
       "      <th>A</th>\n",
       "      <th>B</th>\n",
       "      <th>C</th>\n",
       "    </tr>\n",
       "  </thead>\n",
       "  <tbody>\n",
       "    <tr>\n",
       "      <th>0</th>\n",
       "      <td>TeamA</td>\n",
       "      <td>50</td>\n",
       "      <td>True</td>\n",
       "    </tr>\n",
       "    <tr>\n",
       "      <th>1</th>\n",
       "      <td>TeamB</td>\n",
       "      <td>40</td>\n",
       "      <td>False</td>\n",
       "    </tr>\n",
       "    <tr>\n",
       "      <th>2</th>\n",
       "      <td>TeamB</td>\n",
       "      <td>40</td>\n",
       "      <td>False</td>\n",
       "    </tr>\n",
       "    <tr>\n",
       "      <th>3</th>\n",
       "      <td>TeamC</td>\n",
       "      <td>30</td>\n",
       "      <td>False</td>\n",
       "    </tr>\n",
       "    <tr>\n",
       "      <th>4</th>\n",
       "      <td>TeamA</td>\n",
       "      <td>50</td>\n",
       "      <td>True</td>\n",
       "    </tr>\n",
       "  </tbody>\n",
       "</table>\n",
       "</div>"
      ],
      "text/plain": [
       "       A   B      C\n",
       "0  TeamA  50   True\n",
       "1  TeamB  40  False\n",
       "2  TeamB  40  False\n",
       "3  TeamC  30  False\n",
       "4  TeamA  50   True"
      ]
     },
     "execution_count": 253,
     "metadata": {},
     "output_type": "execute_result"
    }
   ],
   "source": [
    "df"
   ]
  },
  {
   "cell_type": "code",
   "execution_count": 257,
   "metadata": {},
   "outputs": [
    {
     "ename": "KeyError",
     "evalue": "\"['A' 'B' 'C'] not found in axis\"",
     "output_type": "error",
     "traceback": [
      "\u001b[1;31m---------------------------------------------------------------------------\u001b[0m",
      "\u001b[1;31mKeyError\u001b[0m                                  Traceback (most recent call last)",
      "\u001b[1;32m<ipython-input-257-7393baa863b5>\u001b[0m in \u001b[0;36m<module>\u001b[1;34m\u001b[0m\n\u001b[1;32m----> 1\u001b[1;33m \u001b[0mdf\u001b[0m\u001b[1;33m.\u001b[0m\u001b[0mdrop\u001b[0m\u001b[1;33m(\u001b[0m\u001b[0mdf\u001b[0m\u001b[1;33m[\u001b[0m\u001b[0mdf\u001b[0m\u001b[1;33m.\u001b[0m\u001b[0mduplicated\u001b[0m\u001b[1;33m(\u001b[0m\u001b[1;33m)\u001b[0m\u001b[1;33m]\u001b[0m\u001b[1;33m,\u001b[0m \u001b[0maxis\u001b[0m\u001b[1;33m=\u001b[0m\u001b[1;36m0\u001b[0m\u001b[1;33m)\u001b[0m\u001b[1;33m\u001b[0m\u001b[1;33m\u001b[0m\u001b[0m\n\u001b[0m",
      "\u001b[1;32m~\\anaconda3\\lib\\site-packages\\pandas\\core\\frame.py\u001b[0m in \u001b[0;36mdrop\u001b[1;34m(self, labels, axis, index, columns, level, inplace, errors)\u001b[0m\n\u001b[0;32m   4161\u001b[0m                 \u001b[0mweight\u001b[0m  \u001b[1;36m1.0\u001b[0m     \u001b[1;36m0.8\u001b[0m\u001b[1;33m\u001b[0m\u001b[1;33m\u001b[0m\u001b[0m\n\u001b[0;32m   4162\u001b[0m         \"\"\"\n\u001b[1;32m-> 4163\u001b[1;33m         return super().drop(\n\u001b[0m\u001b[0;32m   4164\u001b[0m             \u001b[0mlabels\u001b[0m\u001b[1;33m=\u001b[0m\u001b[0mlabels\u001b[0m\u001b[1;33m,\u001b[0m\u001b[1;33m\u001b[0m\u001b[1;33m\u001b[0m\u001b[0m\n\u001b[0;32m   4165\u001b[0m             \u001b[0maxis\u001b[0m\u001b[1;33m=\u001b[0m\u001b[0maxis\u001b[0m\u001b[1;33m,\u001b[0m\u001b[1;33m\u001b[0m\u001b[1;33m\u001b[0m\u001b[0m\n",
      "\u001b[1;32m~\\anaconda3\\lib\\site-packages\\pandas\\core\\generic.py\u001b[0m in \u001b[0;36mdrop\u001b[1;34m(self, labels, axis, index, columns, level, inplace, errors)\u001b[0m\n\u001b[0;32m   3885\u001b[0m         \u001b[1;32mfor\u001b[0m \u001b[0maxis\u001b[0m\u001b[1;33m,\u001b[0m \u001b[0mlabels\u001b[0m \u001b[1;32min\u001b[0m \u001b[0maxes\u001b[0m\u001b[1;33m.\u001b[0m\u001b[0mitems\u001b[0m\u001b[1;33m(\u001b[0m\u001b[1;33m)\u001b[0m\u001b[1;33m:\u001b[0m\u001b[1;33m\u001b[0m\u001b[1;33m\u001b[0m\u001b[0m\n\u001b[0;32m   3886\u001b[0m             \u001b[1;32mif\u001b[0m \u001b[0mlabels\u001b[0m \u001b[1;32mis\u001b[0m \u001b[1;32mnot\u001b[0m \u001b[1;32mNone\u001b[0m\u001b[1;33m:\u001b[0m\u001b[1;33m\u001b[0m\u001b[1;33m\u001b[0m\u001b[0m\n\u001b[1;32m-> 3887\u001b[1;33m                 \u001b[0mobj\u001b[0m \u001b[1;33m=\u001b[0m \u001b[0mobj\u001b[0m\u001b[1;33m.\u001b[0m\u001b[0m_drop_axis\u001b[0m\u001b[1;33m(\u001b[0m\u001b[0mlabels\u001b[0m\u001b[1;33m,\u001b[0m \u001b[0maxis\u001b[0m\u001b[1;33m,\u001b[0m \u001b[0mlevel\u001b[0m\u001b[1;33m=\u001b[0m\u001b[0mlevel\u001b[0m\u001b[1;33m,\u001b[0m \u001b[0merrors\u001b[0m\u001b[1;33m=\u001b[0m\u001b[0merrors\u001b[0m\u001b[1;33m)\u001b[0m\u001b[1;33m\u001b[0m\u001b[1;33m\u001b[0m\u001b[0m\n\u001b[0m\u001b[0;32m   3888\u001b[0m \u001b[1;33m\u001b[0m\u001b[0m\n\u001b[0;32m   3889\u001b[0m         \u001b[1;32mif\u001b[0m \u001b[0minplace\u001b[0m\u001b[1;33m:\u001b[0m\u001b[1;33m\u001b[0m\u001b[1;33m\u001b[0m\u001b[0m\n",
      "\u001b[1;32m~\\anaconda3\\lib\\site-packages\\pandas\\core\\generic.py\u001b[0m in \u001b[0;36m_drop_axis\u001b[1;34m(self, labels, axis, level, errors)\u001b[0m\n\u001b[0;32m   3919\u001b[0m                 \u001b[0mnew_axis\u001b[0m \u001b[1;33m=\u001b[0m \u001b[0maxis\u001b[0m\u001b[1;33m.\u001b[0m\u001b[0mdrop\u001b[0m\u001b[1;33m(\u001b[0m\u001b[0mlabels\u001b[0m\u001b[1;33m,\u001b[0m \u001b[0mlevel\u001b[0m\u001b[1;33m=\u001b[0m\u001b[0mlevel\u001b[0m\u001b[1;33m,\u001b[0m \u001b[0merrors\u001b[0m\u001b[1;33m=\u001b[0m\u001b[0merrors\u001b[0m\u001b[1;33m)\u001b[0m\u001b[1;33m\u001b[0m\u001b[1;33m\u001b[0m\u001b[0m\n\u001b[0;32m   3920\u001b[0m             \u001b[1;32melse\u001b[0m\u001b[1;33m:\u001b[0m\u001b[1;33m\u001b[0m\u001b[1;33m\u001b[0m\u001b[0m\n\u001b[1;32m-> 3921\u001b[1;33m                 \u001b[0mnew_axis\u001b[0m \u001b[1;33m=\u001b[0m \u001b[0maxis\u001b[0m\u001b[1;33m.\u001b[0m\u001b[0mdrop\u001b[0m\u001b[1;33m(\u001b[0m\u001b[0mlabels\u001b[0m\u001b[1;33m,\u001b[0m \u001b[0merrors\u001b[0m\u001b[1;33m=\u001b[0m\u001b[0merrors\u001b[0m\u001b[1;33m)\u001b[0m\u001b[1;33m\u001b[0m\u001b[1;33m\u001b[0m\u001b[0m\n\u001b[0m\u001b[0;32m   3922\u001b[0m             \u001b[0mresult\u001b[0m \u001b[1;33m=\u001b[0m \u001b[0mself\u001b[0m\u001b[1;33m.\u001b[0m\u001b[0mreindex\u001b[0m\u001b[1;33m(\u001b[0m\u001b[1;33m**\u001b[0m\u001b[1;33m{\u001b[0m\u001b[0maxis_name\u001b[0m\u001b[1;33m:\u001b[0m \u001b[0mnew_axis\u001b[0m\u001b[1;33m}\u001b[0m\u001b[1;33m)\u001b[0m\u001b[1;33m\u001b[0m\u001b[1;33m\u001b[0m\u001b[0m\n\u001b[0;32m   3923\u001b[0m \u001b[1;33m\u001b[0m\u001b[0m\n",
      "\u001b[1;32m~\\anaconda3\\lib\\site-packages\\pandas\\core\\indexes\\base.py\u001b[0m in \u001b[0;36mdrop\u001b[1;34m(self, labels, errors)\u001b[0m\n\u001b[0;32m   5280\u001b[0m         \u001b[1;32mif\u001b[0m \u001b[0mmask\u001b[0m\u001b[1;33m.\u001b[0m\u001b[0many\u001b[0m\u001b[1;33m(\u001b[0m\u001b[1;33m)\u001b[0m\u001b[1;33m:\u001b[0m\u001b[1;33m\u001b[0m\u001b[1;33m\u001b[0m\u001b[0m\n\u001b[0;32m   5281\u001b[0m             \u001b[1;32mif\u001b[0m \u001b[0merrors\u001b[0m \u001b[1;33m!=\u001b[0m \u001b[1;34m\"ignore\"\u001b[0m\u001b[1;33m:\u001b[0m\u001b[1;33m\u001b[0m\u001b[1;33m\u001b[0m\u001b[0m\n\u001b[1;32m-> 5282\u001b[1;33m                 \u001b[1;32mraise\u001b[0m \u001b[0mKeyError\u001b[0m\u001b[1;33m(\u001b[0m\u001b[1;34mf\"{labels[mask]} not found in axis\"\u001b[0m\u001b[1;33m)\u001b[0m\u001b[1;33m\u001b[0m\u001b[1;33m\u001b[0m\u001b[0m\n\u001b[0m\u001b[0;32m   5283\u001b[0m             \u001b[0mindexer\u001b[0m \u001b[1;33m=\u001b[0m \u001b[0mindexer\u001b[0m\u001b[1;33m[\u001b[0m\u001b[1;33m~\u001b[0m\u001b[0mmask\u001b[0m\u001b[1;33m]\u001b[0m\u001b[1;33m\u001b[0m\u001b[1;33m\u001b[0m\u001b[0m\n\u001b[0;32m   5284\u001b[0m         \u001b[1;32mreturn\u001b[0m \u001b[0mself\u001b[0m\u001b[1;33m.\u001b[0m\u001b[0mdelete\u001b[0m\u001b[1;33m(\u001b[0m\u001b[0mindexer\u001b[0m\u001b[1;33m)\u001b[0m\u001b[1;33m\u001b[0m\u001b[1;33m\u001b[0m\u001b[0m\n",
      "\u001b[1;31mKeyError\u001b[0m: \"['A' 'B' 'C'] not found in axis\""
     ]
    }
   ],
   "source": [
    "df.drop(df[df.duplicated()], axis=0)"
   ]
  },
  {
   "cell_type": "code",
   "execution_count": 255,
   "metadata": {},
   "outputs": [
    {
     "data": {
      "text/html": [
       "<div>\n",
       "<style scoped>\n",
       "    .dataframe tbody tr th:only-of-type {\n",
       "        vertical-align: middle;\n",
       "    }\n",
       "\n",
       "    .dataframe tbody tr th {\n",
       "        vertical-align: top;\n",
       "    }\n",
       "\n",
       "    .dataframe thead th {\n",
       "        text-align: right;\n",
       "    }\n",
       "</style>\n",
       "<table border=\"1\" class=\"dataframe\">\n",
       "  <thead>\n",
       "    <tr style=\"text-align: right;\">\n",
       "      <th></th>\n",
       "      <th>A</th>\n",
       "      <th>B</th>\n",
       "      <th>C</th>\n",
       "    </tr>\n",
       "  </thead>\n",
       "  <tbody>\n",
       "    <tr>\n",
       "      <th>0</th>\n",
       "      <td>TeamA</td>\n",
       "      <td>50</td>\n",
       "      <td>True</td>\n",
       "    </tr>\n",
       "    <tr>\n",
       "      <th>1</th>\n",
       "      <td>TeamB</td>\n",
       "      <td>40</td>\n",
       "      <td>False</td>\n",
       "    </tr>\n",
       "    <tr>\n",
       "      <th>2</th>\n",
       "      <td>TeamB</td>\n",
       "      <td>40</td>\n",
       "      <td>False</td>\n",
       "    </tr>\n",
       "    <tr>\n",
       "      <th>3</th>\n",
       "      <td>TeamC</td>\n",
       "      <td>30</td>\n",
       "      <td>False</td>\n",
       "    </tr>\n",
       "    <tr>\n",
       "      <th>4</th>\n",
       "      <td>TeamA</td>\n",
       "      <td>50</td>\n",
       "      <td>True</td>\n",
       "    </tr>\n",
       "  </tbody>\n",
       "</table>\n",
       "</div>"
      ],
      "text/plain": [
       "       A   B      C\n",
       "0  TeamA  50   True\n",
       "1  TeamB  40  False\n",
       "2  TeamB  40  False\n",
       "3  TeamC  30  False\n",
       "4  TeamA  50   True"
      ]
     },
     "execution_count": 255,
     "metadata": {},
     "output_type": "execute_result"
    }
   ],
   "source": [
    "df"
   ]
  },
  {
   "cell_type": "code",
   "execution_count": 256,
   "metadata": {},
   "outputs": [
    {
     "ename": "KeyError",
     "evalue": "'[False False True False True] not found in axis'",
     "output_type": "error",
     "traceback": [
      "\u001b[1;31m---------------------------------------------------------------------------\u001b[0m",
      "\u001b[1;31mKeyError\u001b[0m                                  Traceback (most recent call last)",
      "\u001b[1;32m<ipython-input-256-5efbe5fef1f2>\u001b[0m in \u001b[0;36m<module>\u001b[1;34m\u001b[0m\n\u001b[1;32m----> 1\u001b[1;33m \u001b[0mdf\u001b[0m\u001b[1;33m.\u001b[0m\u001b[0mdrop\u001b[0m\u001b[1;33m(\u001b[0m\u001b[0mdf\u001b[0m\u001b[1;33m.\u001b[0m\u001b[0mduplicated\u001b[0m\u001b[1;33m(\u001b[0m\u001b[1;33m)\u001b[0m\u001b[1;33m,\u001b[0m \u001b[0maxis\u001b[0m\u001b[1;33m=\u001b[0m\u001b[1;36m1\u001b[0m\u001b[1;33m)\u001b[0m\u001b[1;33m\u001b[0m\u001b[1;33m\u001b[0m\u001b[0m\n\u001b[0m",
      "\u001b[1;32m~\\anaconda3\\lib\\site-packages\\pandas\\core\\frame.py\u001b[0m in \u001b[0;36mdrop\u001b[1;34m(self, labels, axis, index, columns, level, inplace, errors)\u001b[0m\n\u001b[0;32m   4161\u001b[0m                 \u001b[0mweight\u001b[0m  \u001b[1;36m1.0\u001b[0m     \u001b[1;36m0.8\u001b[0m\u001b[1;33m\u001b[0m\u001b[1;33m\u001b[0m\u001b[0m\n\u001b[0;32m   4162\u001b[0m         \"\"\"\n\u001b[1;32m-> 4163\u001b[1;33m         return super().drop(\n\u001b[0m\u001b[0;32m   4164\u001b[0m             \u001b[0mlabels\u001b[0m\u001b[1;33m=\u001b[0m\u001b[0mlabels\u001b[0m\u001b[1;33m,\u001b[0m\u001b[1;33m\u001b[0m\u001b[1;33m\u001b[0m\u001b[0m\n\u001b[0;32m   4165\u001b[0m             \u001b[0maxis\u001b[0m\u001b[1;33m=\u001b[0m\u001b[0maxis\u001b[0m\u001b[1;33m,\u001b[0m\u001b[1;33m\u001b[0m\u001b[1;33m\u001b[0m\u001b[0m\n",
      "\u001b[1;32m~\\anaconda3\\lib\\site-packages\\pandas\\core\\generic.py\u001b[0m in \u001b[0;36mdrop\u001b[1;34m(self, labels, axis, index, columns, level, inplace, errors)\u001b[0m\n\u001b[0;32m   3885\u001b[0m         \u001b[1;32mfor\u001b[0m \u001b[0maxis\u001b[0m\u001b[1;33m,\u001b[0m \u001b[0mlabels\u001b[0m \u001b[1;32min\u001b[0m \u001b[0maxes\u001b[0m\u001b[1;33m.\u001b[0m\u001b[0mitems\u001b[0m\u001b[1;33m(\u001b[0m\u001b[1;33m)\u001b[0m\u001b[1;33m:\u001b[0m\u001b[1;33m\u001b[0m\u001b[1;33m\u001b[0m\u001b[0m\n\u001b[0;32m   3886\u001b[0m             \u001b[1;32mif\u001b[0m \u001b[0mlabels\u001b[0m \u001b[1;32mis\u001b[0m \u001b[1;32mnot\u001b[0m \u001b[1;32mNone\u001b[0m\u001b[1;33m:\u001b[0m\u001b[1;33m\u001b[0m\u001b[1;33m\u001b[0m\u001b[0m\n\u001b[1;32m-> 3887\u001b[1;33m                 \u001b[0mobj\u001b[0m \u001b[1;33m=\u001b[0m \u001b[0mobj\u001b[0m\u001b[1;33m.\u001b[0m\u001b[0m_drop_axis\u001b[0m\u001b[1;33m(\u001b[0m\u001b[0mlabels\u001b[0m\u001b[1;33m,\u001b[0m \u001b[0maxis\u001b[0m\u001b[1;33m,\u001b[0m \u001b[0mlevel\u001b[0m\u001b[1;33m=\u001b[0m\u001b[0mlevel\u001b[0m\u001b[1;33m,\u001b[0m \u001b[0merrors\u001b[0m\u001b[1;33m=\u001b[0m\u001b[0merrors\u001b[0m\u001b[1;33m)\u001b[0m\u001b[1;33m\u001b[0m\u001b[1;33m\u001b[0m\u001b[0m\n\u001b[0m\u001b[0;32m   3888\u001b[0m \u001b[1;33m\u001b[0m\u001b[0m\n\u001b[0;32m   3889\u001b[0m         \u001b[1;32mif\u001b[0m \u001b[0minplace\u001b[0m\u001b[1;33m:\u001b[0m\u001b[1;33m\u001b[0m\u001b[1;33m\u001b[0m\u001b[0m\n",
      "\u001b[1;32m~\\anaconda3\\lib\\site-packages\\pandas\\core\\generic.py\u001b[0m in \u001b[0;36m_drop_axis\u001b[1;34m(self, labels, axis, level, errors)\u001b[0m\n\u001b[0;32m   3919\u001b[0m                 \u001b[0mnew_axis\u001b[0m \u001b[1;33m=\u001b[0m \u001b[0maxis\u001b[0m\u001b[1;33m.\u001b[0m\u001b[0mdrop\u001b[0m\u001b[1;33m(\u001b[0m\u001b[0mlabels\u001b[0m\u001b[1;33m,\u001b[0m \u001b[0mlevel\u001b[0m\u001b[1;33m=\u001b[0m\u001b[0mlevel\u001b[0m\u001b[1;33m,\u001b[0m \u001b[0merrors\u001b[0m\u001b[1;33m=\u001b[0m\u001b[0merrors\u001b[0m\u001b[1;33m)\u001b[0m\u001b[1;33m\u001b[0m\u001b[1;33m\u001b[0m\u001b[0m\n\u001b[0;32m   3920\u001b[0m             \u001b[1;32melse\u001b[0m\u001b[1;33m:\u001b[0m\u001b[1;33m\u001b[0m\u001b[1;33m\u001b[0m\u001b[0m\n\u001b[1;32m-> 3921\u001b[1;33m                 \u001b[0mnew_axis\u001b[0m \u001b[1;33m=\u001b[0m \u001b[0maxis\u001b[0m\u001b[1;33m.\u001b[0m\u001b[0mdrop\u001b[0m\u001b[1;33m(\u001b[0m\u001b[0mlabels\u001b[0m\u001b[1;33m,\u001b[0m \u001b[0merrors\u001b[0m\u001b[1;33m=\u001b[0m\u001b[0merrors\u001b[0m\u001b[1;33m)\u001b[0m\u001b[1;33m\u001b[0m\u001b[1;33m\u001b[0m\u001b[0m\n\u001b[0m\u001b[0;32m   3922\u001b[0m             \u001b[0mresult\u001b[0m \u001b[1;33m=\u001b[0m \u001b[0mself\u001b[0m\u001b[1;33m.\u001b[0m\u001b[0mreindex\u001b[0m\u001b[1;33m(\u001b[0m\u001b[1;33m**\u001b[0m\u001b[1;33m{\u001b[0m\u001b[0maxis_name\u001b[0m\u001b[1;33m:\u001b[0m \u001b[0mnew_axis\u001b[0m\u001b[1;33m}\u001b[0m\u001b[1;33m)\u001b[0m\u001b[1;33m\u001b[0m\u001b[1;33m\u001b[0m\u001b[0m\n\u001b[0;32m   3923\u001b[0m \u001b[1;33m\u001b[0m\u001b[0m\n",
      "\u001b[1;32m~\\anaconda3\\lib\\site-packages\\pandas\\core\\indexes\\base.py\u001b[0m in \u001b[0;36mdrop\u001b[1;34m(self, labels, errors)\u001b[0m\n\u001b[0;32m   5280\u001b[0m         \u001b[1;32mif\u001b[0m \u001b[0mmask\u001b[0m\u001b[1;33m.\u001b[0m\u001b[0many\u001b[0m\u001b[1;33m(\u001b[0m\u001b[1;33m)\u001b[0m\u001b[1;33m:\u001b[0m\u001b[1;33m\u001b[0m\u001b[1;33m\u001b[0m\u001b[0m\n\u001b[0;32m   5281\u001b[0m             \u001b[1;32mif\u001b[0m \u001b[0merrors\u001b[0m \u001b[1;33m!=\u001b[0m \u001b[1;34m\"ignore\"\u001b[0m\u001b[1;33m:\u001b[0m\u001b[1;33m\u001b[0m\u001b[1;33m\u001b[0m\u001b[0m\n\u001b[1;32m-> 5282\u001b[1;33m                 \u001b[1;32mraise\u001b[0m \u001b[0mKeyError\u001b[0m\u001b[1;33m(\u001b[0m\u001b[1;34mf\"{labels[mask]} not found in axis\"\u001b[0m\u001b[1;33m)\u001b[0m\u001b[1;33m\u001b[0m\u001b[1;33m\u001b[0m\u001b[0m\n\u001b[0m\u001b[0;32m   5283\u001b[0m             \u001b[0mindexer\u001b[0m \u001b[1;33m=\u001b[0m \u001b[0mindexer\u001b[0m\u001b[1;33m[\u001b[0m\u001b[1;33m~\u001b[0m\u001b[0mmask\u001b[0m\u001b[1;33m]\u001b[0m\u001b[1;33m\u001b[0m\u001b[1;33m\u001b[0m\u001b[0m\n\u001b[0;32m   5284\u001b[0m         \u001b[1;32mreturn\u001b[0m \u001b[0mself\u001b[0m\u001b[1;33m.\u001b[0m\u001b[0mdelete\u001b[0m\u001b[1;33m(\u001b[0m\u001b[0mindexer\u001b[0m\u001b[1;33m)\u001b[0m\u001b[1;33m\u001b[0m\u001b[1;33m\u001b[0m\u001b[0m\n",
      "\u001b[1;31mKeyError\u001b[0m: '[False False True False True] not found in axis'"
     ]
    }
   ],
   "source": [
    "df.drop(df.duplicated(), axis=1)"
   ]
  },
  {
   "cell_type": "code",
   "execution_count": 258,
   "metadata": {},
   "outputs": [
    {
     "data": {
      "text/html": [
       "<div>\n",
       "<style scoped>\n",
       "    .dataframe tbody tr th:only-of-type {\n",
       "        vertical-align: middle;\n",
       "    }\n",
       "\n",
       "    .dataframe tbody tr th {\n",
       "        vertical-align: top;\n",
       "    }\n",
       "\n",
       "    .dataframe thead th {\n",
       "        text-align: right;\n",
       "    }\n",
       "</style>\n",
       "<table border=\"1\" class=\"dataframe\">\n",
       "  <thead>\n",
       "    <tr style=\"text-align: right;\">\n",
       "      <th></th>\n",
       "      <th>A</th>\n",
       "      <th>B</th>\n",
       "      <th>C</th>\n",
       "    </tr>\n",
       "  </thead>\n",
       "  <tbody>\n",
       "    <tr>\n",
       "      <th>0</th>\n",
       "      <td>TeamA</td>\n",
       "      <td>50</td>\n",
       "      <td>True</td>\n",
       "    </tr>\n",
       "    <tr>\n",
       "      <th>1</th>\n",
       "      <td>TeamB</td>\n",
       "      <td>40</td>\n",
       "      <td>False</td>\n",
       "    </tr>\n",
       "    <tr>\n",
       "      <th>3</th>\n",
       "      <td>TeamC</td>\n",
       "      <td>30</td>\n",
       "      <td>False</td>\n",
       "    </tr>\n",
       "  </tbody>\n",
       "</table>\n",
       "</div>"
      ],
      "text/plain": [
       "       A   B      C\n",
       "0  TeamA  50   True\n",
       "1  TeamB  40  False\n",
       "3  TeamC  30  False"
      ]
     },
     "execution_count": 258,
     "metadata": {},
     "output_type": "execute_result"
    }
   ],
   "source": [
    "df.drop_duplicates()"
   ]
  },
  {
   "cell_type": "code",
   "execution_count": 259,
   "metadata": {},
   "outputs": [],
   "source": [
    "df.loc[len(df.index)] = {'A':7, 'B':8, 'C':9}"
   ]
  },
  {
   "cell_type": "code",
   "execution_count": 260,
   "metadata": {},
   "outputs": [
    {
     "data": {
      "text/html": [
       "<div>\n",
       "<style scoped>\n",
       "    .dataframe tbody tr th:only-of-type {\n",
       "        vertical-align: middle;\n",
       "    }\n",
       "\n",
       "    .dataframe tbody tr th {\n",
       "        vertical-align: top;\n",
       "    }\n",
       "\n",
       "    .dataframe thead th {\n",
       "        text-align: right;\n",
       "    }\n",
       "</style>\n",
       "<table border=\"1\" class=\"dataframe\">\n",
       "  <thead>\n",
       "    <tr style=\"text-align: right;\">\n",
       "      <th></th>\n",
       "      <th>A</th>\n",
       "      <th>B</th>\n",
       "      <th>C</th>\n",
       "    </tr>\n",
       "  </thead>\n",
       "  <tbody>\n",
       "    <tr>\n",
       "      <th>0</th>\n",
       "      <td>TeamA</td>\n",
       "      <td>50</td>\n",
       "      <td>1</td>\n",
       "    </tr>\n",
       "    <tr>\n",
       "      <th>1</th>\n",
       "      <td>TeamB</td>\n",
       "      <td>40</td>\n",
       "      <td>0</td>\n",
       "    </tr>\n",
       "    <tr>\n",
       "      <th>2</th>\n",
       "      <td>TeamB</td>\n",
       "      <td>40</td>\n",
       "      <td>0</td>\n",
       "    </tr>\n",
       "    <tr>\n",
       "      <th>3</th>\n",
       "      <td>TeamC</td>\n",
       "      <td>30</td>\n",
       "      <td>0</td>\n",
       "    </tr>\n",
       "    <tr>\n",
       "      <th>4</th>\n",
       "      <td>TeamA</td>\n",
       "      <td>50</td>\n",
       "      <td>1</td>\n",
       "    </tr>\n",
       "    <tr>\n",
       "      <th>5</th>\n",
       "      <td>7</td>\n",
       "      <td>8</td>\n",
       "      <td>9</td>\n",
       "    </tr>\n",
       "  </tbody>\n",
       "</table>\n",
       "</div>"
      ],
      "text/plain": [
       "       A   B  C\n",
       "0  TeamA  50  1\n",
       "1  TeamB  40  0\n",
       "2  TeamB  40  0\n",
       "3  TeamC  30  0\n",
       "4  TeamA  50  1\n",
       "5      7   8  9"
      ]
     },
     "execution_count": 260,
     "metadata": {},
     "output_type": "execute_result"
    }
   ],
   "source": [
    "df"
   ]
  },
  {
   "cell_type": "code",
   "execution_count": 261,
   "metadata": {},
   "outputs": [
    {
     "data": {
      "text/html": [
       "<div>\n",
       "<style scoped>\n",
       "    .dataframe tbody tr th:only-of-type {\n",
       "        vertical-align: middle;\n",
       "    }\n",
       "\n",
       "    .dataframe tbody tr th {\n",
       "        vertical-align: top;\n",
       "    }\n",
       "\n",
       "    .dataframe thead th {\n",
       "        text-align: right;\n",
       "    }\n",
       "</style>\n",
       "<table border=\"1\" class=\"dataframe\">\n",
       "  <thead>\n",
       "    <tr style=\"text-align: right;\">\n",
       "      <th></th>\n",
       "      <th>A</th>\n",
       "      <th>B</th>\n",
       "      <th>C</th>\n",
       "      <th>0</th>\n",
       "    </tr>\n",
       "  </thead>\n",
       "  <tbody>\n",
       "    <tr>\n",
       "      <th>0</th>\n",
       "      <td>TeamA</td>\n",
       "      <td>50.0</td>\n",
       "      <td>1.0</td>\n",
       "      <td>NaN</td>\n",
       "    </tr>\n",
       "    <tr>\n",
       "      <th>1</th>\n",
       "      <td>TeamB</td>\n",
       "      <td>40.0</td>\n",
       "      <td>0.0</td>\n",
       "      <td>NaN</td>\n",
       "    </tr>\n",
       "    <tr>\n",
       "      <th>2</th>\n",
       "      <td>TeamB</td>\n",
       "      <td>40.0</td>\n",
       "      <td>0.0</td>\n",
       "      <td>NaN</td>\n",
       "    </tr>\n",
       "    <tr>\n",
       "      <th>3</th>\n",
       "      <td>TeamC</td>\n",
       "      <td>30.0</td>\n",
       "      <td>0.0</td>\n",
       "      <td>NaN</td>\n",
       "    </tr>\n",
       "    <tr>\n",
       "      <th>4</th>\n",
       "      <td>TeamA</td>\n",
       "      <td>50.0</td>\n",
       "      <td>1.0</td>\n",
       "      <td>NaN</td>\n",
       "    </tr>\n",
       "    <tr>\n",
       "      <th>5</th>\n",
       "      <td>7</td>\n",
       "      <td>8.0</td>\n",
       "      <td>9.0</td>\n",
       "      <td>NaN</td>\n",
       "    </tr>\n",
       "    <tr>\n",
       "      <th>6</th>\n",
       "      <td>NaN</td>\n",
       "      <td>NaN</td>\n",
       "      <td>NaN</td>\n",
       "      <td>7.0</td>\n",
       "    </tr>\n",
       "    <tr>\n",
       "      <th>7</th>\n",
       "      <td>NaN</td>\n",
       "      <td>NaN</td>\n",
       "      <td>NaN</td>\n",
       "      <td>8.0</td>\n",
       "    </tr>\n",
       "    <tr>\n",
       "      <th>8</th>\n",
       "      <td>NaN</td>\n",
       "      <td>NaN</td>\n",
       "      <td>NaN</td>\n",
       "      <td>9.0</td>\n",
       "    </tr>\n",
       "  </tbody>\n",
       "</table>\n",
       "</div>"
      ],
      "text/plain": [
       "       A     B    C    0\n",
       "0  TeamA  50.0  1.0  NaN\n",
       "1  TeamB  40.0  0.0  NaN\n",
       "2  TeamB  40.0  0.0  NaN\n",
       "3  TeamC  30.0  0.0  NaN\n",
       "4  TeamA  50.0  1.0  NaN\n",
       "5      7   8.0  9.0  NaN\n",
       "6    NaN   NaN  NaN  7.0\n",
       "7    NaN   NaN  NaN  8.0\n",
       "8    NaN   NaN  NaN  9.0"
      ]
     },
     "execution_count": 261,
     "metadata": {},
     "output_type": "execute_result"
    }
   ],
   "source": [
    "df.append(pd.DataFrame([7,8,9]), ignore_index=True)"
   ]
  },
  {
   "cell_type": "code",
   "execution_count": 262,
   "metadata": {},
   "outputs": [
    {
     "ename": "TypeError",
     "evalue": "'type' object is not subscriptable",
     "output_type": "error",
     "traceback": [
      "\u001b[1;31m---------------------------------------------------------------------------\u001b[0m",
      "\u001b[1;31mTypeError\u001b[0m                                 Traceback (most recent call last)",
      "\u001b[1;32m<ipython-input-262-56477766b637>\u001b[0m in \u001b[0;36m<module>\u001b[1;34m\u001b[0m\n\u001b[1;32m----> 1\u001b[1;33m \u001b[0mpd\u001b[0m\u001b[1;33m.\u001b[0m\u001b[0mconcat\u001b[0m\u001b[1;33m(\u001b[0m\u001b[1;33m[\u001b[0m\u001b[0mdf\u001b[0m\u001b[1;33m,\u001b[0m \u001b[0mpd\u001b[0m\u001b[1;33m.\u001b[0m\u001b[0mDataFrame\u001b[0m\u001b[1;33m[\u001b[0m\u001b[1;36m7\u001b[0m\u001b[1;33m,\u001b[0m\u001b[1;36m8\u001b[0m\u001b[1;33m,\u001b[0m\u001b[1;36m9\u001b[0m\u001b[1;33m]\u001b[0m\u001b[1;33m]\u001b[0m\u001b[1;33m,\u001b[0m \u001b[0mignore_index\u001b[0m\u001b[1;33m=\u001b[0m\u001b[1;32mTrue\u001b[0m\u001b[1;33m)\u001b[0m\u001b[1;33m\u001b[0m\u001b[1;33m\u001b[0m\u001b[0m\n\u001b[0m",
      "\u001b[1;31mTypeError\u001b[0m: 'type' object is not subscriptable"
     ]
    }
   ],
   "source": [
    "pd.concat([df, pd.DataFrame[7,8,9]], ignore_index=True)"
   ]
  },
  {
   "cell_type": "code",
   "execution_count": 263,
   "metadata": {},
   "outputs": [
    {
     "ename": "ValueError",
     "evalue": "Length of values (3) does not match length of index (6)",
     "output_type": "error",
     "traceback": [
      "\u001b[1;31m---------------------------------------------------------------------------\u001b[0m",
      "\u001b[1;31mValueError\u001b[0m                                Traceback (most recent call last)",
      "\u001b[1;32m<ipython-input-263-40edd6c3045c>\u001b[0m in \u001b[0;36m<module>\u001b[1;34m\u001b[0m\n\u001b[1;32m----> 1\u001b[1;33m \u001b[0mdf\u001b[0m\u001b[1;33m[\u001b[0m\u001b[1;36m3\u001b[0m\u001b[1;33m]\u001b[0m \u001b[1;33m=\u001b[0m \u001b[1;33m[\u001b[0m\u001b[1;36m7\u001b[0m\u001b[1;33m,\u001b[0m\u001b[1;36m8\u001b[0m\u001b[1;33m,\u001b[0m\u001b[1;36m9\u001b[0m\u001b[1;33m]\u001b[0m\u001b[1;33m\u001b[0m\u001b[1;33m\u001b[0m\u001b[0m\n\u001b[0m",
      "\u001b[1;32m~\\anaconda3\\lib\\site-packages\\pandas\\core\\frame.py\u001b[0m in \u001b[0;36m__setitem__\u001b[1;34m(self, key, value)\u001b[0m\n\u001b[0;32m   3038\u001b[0m         \u001b[1;32melse\u001b[0m\u001b[1;33m:\u001b[0m\u001b[1;33m\u001b[0m\u001b[1;33m\u001b[0m\u001b[0m\n\u001b[0;32m   3039\u001b[0m             \u001b[1;31m# set column\u001b[0m\u001b[1;33m\u001b[0m\u001b[1;33m\u001b[0m\u001b[1;33m\u001b[0m\u001b[0m\n\u001b[1;32m-> 3040\u001b[1;33m             \u001b[0mself\u001b[0m\u001b[1;33m.\u001b[0m\u001b[0m_set_item\u001b[0m\u001b[1;33m(\u001b[0m\u001b[0mkey\u001b[0m\u001b[1;33m,\u001b[0m \u001b[0mvalue\u001b[0m\u001b[1;33m)\u001b[0m\u001b[1;33m\u001b[0m\u001b[1;33m\u001b[0m\u001b[0m\n\u001b[0m\u001b[0;32m   3041\u001b[0m \u001b[1;33m\u001b[0m\u001b[0m\n\u001b[0;32m   3042\u001b[0m     \u001b[1;32mdef\u001b[0m \u001b[0m_setitem_slice\u001b[0m\u001b[1;33m(\u001b[0m\u001b[0mself\u001b[0m\u001b[1;33m,\u001b[0m \u001b[0mkey\u001b[0m\u001b[1;33m:\u001b[0m \u001b[0mslice\u001b[0m\u001b[1;33m,\u001b[0m \u001b[0mvalue\u001b[0m\u001b[1;33m)\u001b[0m\u001b[1;33m:\u001b[0m\u001b[1;33m\u001b[0m\u001b[1;33m\u001b[0m\u001b[0m\n",
      "\u001b[1;32m~\\anaconda3\\lib\\site-packages\\pandas\\core\\frame.py\u001b[0m in \u001b[0;36m_set_item\u001b[1;34m(self, key, value)\u001b[0m\n\u001b[0;32m   3114\u001b[0m         \"\"\"\n\u001b[0;32m   3115\u001b[0m         \u001b[0mself\u001b[0m\u001b[1;33m.\u001b[0m\u001b[0m_ensure_valid_index\u001b[0m\u001b[1;33m(\u001b[0m\u001b[0mvalue\u001b[0m\u001b[1;33m)\u001b[0m\u001b[1;33m\u001b[0m\u001b[1;33m\u001b[0m\u001b[0m\n\u001b[1;32m-> 3116\u001b[1;33m         \u001b[0mvalue\u001b[0m \u001b[1;33m=\u001b[0m \u001b[0mself\u001b[0m\u001b[1;33m.\u001b[0m\u001b[0m_sanitize_column\u001b[0m\u001b[1;33m(\u001b[0m\u001b[0mkey\u001b[0m\u001b[1;33m,\u001b[0m \u001b[0mvalue\u001b[0m\u001b[1;33m)\u001b[0m\u001b[1;33m\u001b[0m\u001b[1;33m\u001b[0m\u001b[0m\n\u001b[0m\u001b[0;32m   3117\u001b[0m         \u001b[0mNDFrame\u001b[0m\u001b[1;33m.\u001b[0m\u001b[0m_set_item\u001b[0m\u001b[1;33m(\u001b[0m\u001b[0mself\u001b[0m\u001b[1;33m,\u001b[0m \u001b[0mkey\u001b[0m\u001b[1;33m,\u001b[0m \u001b[0mvalue\u001b[0m\u001b[1;33m)\u001b[0m\u001b[1;33m\u001b[0m\u001b[1;33m\u001b[0m\u001b[0m\n\u001b[0;32m   3118\u001b[0m \u001b[1;33m\u001b[0m\u001b[0m\n",
      "\u001b[1;32m~\\anaconda3\\lib\\site-packages\\pandas\\core\\frame.py\u001b[0m in \u001b[0;36m_sanitize_column\u001b[1;34m(self, key, value, broadcast)\u001b[0m\n\u001b[0;32m   3762\u001b[0m \u001b[1;33m\u001b[0m\u001b[0m\n\u001b[0;32m   3763\u001b[0m             \u001b[1;31m# turn me into an ndarray\u001b[0m\u001b[1;33m\u001b[0m\u001b[1;33m\u001b[0m\u001b[1;33m\u001b[0m\u001b[0m\n\u001b[1;32m-> 3764\u001b[1;33m             \u001b[0mvalue\u001b[0m \u001b[1;33m=\u001b[0m \u001b[0msanitize_index\u001b[0m\u001b[1;33m(\u001b[0m\u001b[0mvalue\u001b[0m\u001b[1;33m,\u001b[0m \u001b[0mself\u001b[0m\u001b[1;33m.\u001b[0m\u001b[0mindex\u001b[0m\u001b[1;33m)\u001b[0m\u001b[1;33m\u001b[0m\u001b[1;33m\u001b[0m\u001b[0m\n\u001b[0m\u001b[0;32m   3765\u001b[0m             \u001b[1;32mif\u001b[0m \u001b[1;32mnot\u001b[0m \u001b[0misinstance\u001b[0m\u001b[1;33m(\u001b[0m\u001b[0mvalue\u001b[0m\u001b[1;33m,\u001b[0m \u001b[1;33m(\u001b[0m\u001b[0mnp\u001b[0m\u001b[1;33m.\u001b[0m\u001b[0mndarray\u001b[0m\u001b[1;33m,\u001b[0m \u001b[0mIndex\u001b[0m\u001b[1;33m)\u001b[0m\u001b[1;33m)\u001b[0m\u001b[1;33m:\u001b[0m\u001b[1;33m\u001b[0m\u001b[1;33m\u001b[0m\u001b[0m\n\u001b[0;32m   3766\u001b[0m                 \u001b[1;32mif\u001b[0m \u001b[0misinstance\u001b[0m\u001b[1;33m(\u001b[0m\u001b[0mvalue\u001b[0m\u001b[1;33m,\u001b[0m \u001b[0mlist\u001b[0m\u001b[1;33m)\u001b[0m \u001b[1;32mand\u001b[0m \u001b[0mlen\u001b[0m\u001b[1;33m(\u001b[0m\u001b[0mvalue\u001b[0m\u001b[1;33m)\u001b[0m \u001b[1;33m>\u001b[0m \u001b[1;36m0\u001b[0m\u001b[1;33m:\u001b[0m\u001b[1;33m\u001b[0m\u001b[1;33m\u001b[0m\u001b[0m\n",
      "\u001b[1;32m~\\anaconda3\\lib\\site-packages\\pandas\\core\\internals\\construction.py\u001b[0m in \u001b[0;36msanitize_index\u001b[1;34m(data, index)\u001b[0m\n\u001b[0;32m    745\u001b[0m     \"\"\"\n\u001b[0;32m    746\u001b[0m     \u001b[1;32mif\u001b[0m \u001b[0mlen\u001b[0m\u001b[1;33m(\u001b[0m\u001b[0mdata\u001b[0m\u001b[1;33m)\u001b[0m \u001b[1;33m!=\u001b[0m \u001b[0mlen\u001b[0m\u001b[1;33m(\u001b[0m\u001b[0mindex\u001b[0m\u001b[1;33m)\u001b[0m\u001b[1;33m:\u001b[0m\u001b[1;33m\u001b[0m\u001b[1;33m\u001b[0m\u001b[0m\n\u001b[1;32m--> 747\u001b[1;33m         raise ValueError(\n\u001b[0m\u001b[0;32m    748\u001b[0m             \u001b[1;34m\"Length of values \"\u001b[0m\u001b[1;33m\u001b[0m\u001b[1;33m\u001b[0m\u001b[0m\n\u001b[0;32m    749\u001b[0m             \u001b[1;34mf\"({len(data)}) \"\u001b[0m\u001b[1;33m\u001b[0m\u001b[1;33m\u001b[0m\u001b[0m\n",
      "\u001b[1;31mValueError\u001b[0m: Length of values (3) does not match length of index (6)"
     ]
    }
   ],
   "source": [
    "df[3] = [7,8,9]"
   ]
  },
  {
   "cell_type": "code",
   "execution_count": 264,
   "metadata": {},
   "outputs": [],
   "source": [
    "df = pd.DataFrame({'A':[1,4,9], 'B':[2,5,10], 'C':[3,6,11]})"
   ]
  },
  {
   "cell_type": "code",
   "execution_count": 265,
   "metadata": {},
   "outputs": [
    {
     "data": {
      "text/html": [
       "<div>\n",
       "<style scoped>\n",
       "    .dataframe tbody tr th:only-of-type {\n",
       "        vertical-align: middle;\n",
       "    }\n",
       "\n",
       "    .dataframe tbody tr th {\n",
       "        vertical-align: top;\n",
       "    }\n",
       "\n",
       "    .dataframe thead th {\n",
       "        text-align: right;\n",
       "    }\n",
       "</style>\n",
       "<table border=\"1\" class=\"dataframe\">\n",
       "  <thead>\n",
       "    <tr style=\"text-align: right;\">\n",
       "      <th></th>\n",
       "      <th>A</th>\n",
       "      <th>B</th>\n",
       "      <th>C</th>\n",
       "    </tr>\n",
       "  </thead>\n",
       "  <tbody>\n",
       "    <tr>\n",
       "      <th>0</th>\n",
       "      <td>1</td>\n",
       "      <td>2</td>\n",
       "      <td>3</td>\n",
       "    </tr>\n",
       "    <tr>\n",
       "      <th>1</th>\n",
       "      <td>4</td>\n",
       "      <td>5</td>\n",
       "      <td>6</td>\n",
       "    </tr>\n",
       "    <tr>\n",
       "      <th>2</th>\n",
       "      <td>9</td>\n",
       "      <td>10</td>\n",
       "      <td>11</td>\n",
       "    </tr>\n",
       "  </tbody>\n",
       "</table>\n",
       "</div>"
      ],
      "text/plain": [
       "   A   B   C\n",
       "0  1   2   3\n",
       "1  4   5   6\n",
       "2  9  10  11"
      ]
     },
     "execution_count": 265,
     "metadata": {},
     "output_type": "execute_result"
    }
   ],
   "source": [
    "df"
   ]
  },
  {
   "cell_type": "code",
   "execution_count": 266,
   "metadata": {},
   "outputs": [
    {
     "data": {
      "text/html": [
       "<div>\n",
       "<style scoped>\n",
       "    .dataframe tbody tr th:only-of-type {\n",
       "        vertical-align: middle;\n",
       "    }\n",
       "\n",
       "    .dataframe tbody tr th {\n",
       "        vertical-align: top;\n",
       "    }\n",
       "\n",
       "    .dataframe thead th {\n",
       "        text-align: right;\n",
       "    }\n",
       "</style>\n",
       "<table border=\"1\" class=\"dataframe\">\n",
       "  <thead>\n",
       "    <tr style=\"text-align: right;\">\n",
       "      <th></th>\n",
       "      <th>A</th>\n",
       "      <th>B</th>\n",
       "      <th>C</th>\n",
       "    </tr>\n",
       "  </thead>\n",
       "  <tbody>\n",
       "    <tr>\n",
       "      <th>0</th>\n",
       "      <td>1</td>\n",
       "      <td>3</td>\n",
       "      <td>6</td>\n",
       "    </tr>\n",
       "    <tr>\n",
       "      <th>1</th>\n",
       "      <td>4</td>\n",
       "      <td>9</td>\n",
       "      <td>15</td>\n",
       "    </tr>\n",
       "    <tr>\n",
       "      <th>2</th>\n",
       "      <td>9</td>\n",
       "      <td>19</td>\n",
       "      <td>30</td>\n",
       "    </tr>\n",
       "  </tbody>\n",
       "</table>\n",
       "</div>"
      ],
      "text/plain": [
       "   A   B   C\n",
       "0  1   3   6\n",
       "1  4   9  15\n",
       "2  9  19  30"
      ]
     },
     "execution_count": 266,
     "metadata": {},
     "output_type": "execute_result"
    }
   ],
   "source": [
    "df.cumsum(axis=1)\n",
    "\n",
    "#df.add(axis=1)\n",
    "#df.sum(axis=0)"
   ]
  },
  {
   "cell_type": "code",
   "execution_count": 267,
   "metadata": {},
   "outputs": [
    {
     "data": {
      "text/html": [
       "<div>\n",
       "<style scoped>\n",
       "    .dataframe tbody tr th:only-of-type {\n",
       "        vertical-align: middle;\n",
       "    }\n",
       "\n",
       "    .dataframe tbody tr th {\n",
       "        vertical-align: top;\n",
       "    }\n",
       "\n",
       "    .dataframe thead th {\n",
       "        text-align: right;\n",
       "    }\n",
       "</style>\n",
       "<table border=\"1\" class=\"dataframe\">\n",
       "  <thead>\n",
       "    <tr style=\"text-align: right;\">\n",
       "      <th></th>\n",
       "      <th>A</th>\n",
       "      <th>B</th>\n",
       "      <th>C</th>\n",
       "    </tr>\n",
       "  </thead>\n",
       "  <tbody>\n",
       "    <tr>\n",
       "      <th>0</th>\n",
       "      <td>1</td>\n",
       "      <td>2</td>\n",
       "      <td>3</td>\n",
       "    </tr>\n",
       "    <tr>\n",
       "      <th>1</th>\n",
       "      <td>4</td>\n",
       "      <td>5</td>\n",
       "      <td>6</td>\n",
       "    </tr>\n",
       "    <tr>\n",
       "      <th>2</th>\n",
       "      <td>9</td>\n",
       "      <td>10</td>\n",
       "      <td>11</td>\n",
       "    </tr>\n",
       "  </tbody>\n",
       "</table>\n",
       "</div>"
      ],
      "text/plain": [
       "   A   B   C\n",
       "0  1   2   3\n",
       "1  4   5   6\n",
       "2  9  10  11"
      ]
     },
     "execution_count": 267,
     "metadata": {},
     "output_type": "execute_result"
    }
   ],
   "source": [
    "df"
   ]
  },
  {
   "cell_type": "code",
   "execution_count": 268,
   "metadata": {},
   "outputs": [
    {
     "data": {
      "text/html": [
       "<div>\n",
       "<style scoped>\n",
       "    .dataframe tbody tr th:only-of-type {\n",
       "        vertical-align: middle;\n",
       "    }\n",
       "\n",
       "    .dataframe tbody tr th {\n",
       "        vertical-align: top;\n",
       "    }\n",
       "\n",
       "    .dataframe thead th {\n",
       "        text-align: right;\n",
       "    }\n",
       "</style>\n",
       "<table border=\"1\" class=\"dataframe\">\n",
       "  <thead>\n",
       "    <tr style=\"text-align: right;\">\n",
       "      <th></th>\n",
       "      <th>A</th>\n",
       "      <th>B</th>\n",
       "      <th>C</th>\n",
       "    </tr>\n",
       "  </thead>\n",
       "  <tbody>\n",
       "    <tr>\n",
       "      <th>0</th>\n",
       "      <td>1</td>\n",
       "      <td>2</td>\n",
       "      <td>3</td>\n",
       "    </tr>\n",
       "    <tr>\n",
       "      <th>1</th>\n",
       "      <td>5</td>\n",
       "      <td>7</td>\n",
       "      <td>9</td>\n",
       "    </tr>\n",
       "    <tr>\n",
       "      <th>2</th>\n",
       "      <td>14</td>\n",
       "      <td>17</td>\n",
       "      <td>20</td>\n",
       "    </tr>\n",
       "  </tbody>\n",
       "</table>\n",
       "</div>"
      ],
      "text/plain": [
       "    A   B   C\n",
       "0   1   2   3\n",
       "1   5   7   9\n",
       "2  14  17  20"
      ]
     },
     "execution_count": 268,
     "metadata": {},
     "output_type": "execute_result"
    }
   ],
   "source": [
    "df.cumsum()"
   ]
  },
  {
   "cell_type": "code",
   "execution_count": 269,
   "metadata": {},
   "outputs": [
    {
     "data": {
      "text/html": [
       "<div>\n",
       "<style scoped>\n",
       "    .dataframe tbody tr th:only-of-type {\n",
       "        vertical-align: middle;\n",
       "    }\n",
       "\n",
       "    .dataframe tbody tr th {\n",
       "        vertical-align: top;\n",
       "    }\n",
       "\n",
       "    .dataframe thead th {\n",
       "        text-align: right;\n",
       "    }\n",
       "</style>\n",
       "<table border=\"1\" class=\"dataframe\">\n",
       "  <thead>\n",
       "    <tr style=\"text-align: right;\">\n",
       "      <th></th>\n",
       "      <th>A</th>\n",
       "      <th>B</th>\n",
       "      <th>C</th>\n",
       "    </tr>\n",
       "  </thead>\n",
       "  <tbody>\n",
       "    <tr>\n",
       "      <th>0</th>\n",
       "      <td>1</td>\n",
       "      <td>2</td>\n",
       "      <td>3</td>\n",
       "    </tr>\n",
       "    <tr>\n",
       "      <th>1</th>\n",
       "      <td>4</td>\n",
       "      <td>5</td>\n",
       "      <td>6</td>\n",
       "    </tr>\n",
       "    <tr>\n",
       "      <th>2</th>\n",
       "      <td>9</td>\n",
       "      <td>10</td>\n",
       "      <td>11</td>\n",
       "    </tr>\n",
       "  </tbody>\n",
       "</table>\n",
       "</div>"
      ],
      "text/plain": [
       "   A   B   C\n",
       "0  1   2   3\n",
       "1  4   5   6\n",
       "2  9  10  11"
      ]
     },
     "execution_count": 269,
     "metadata": {},
     "output_type": "execute_result"
    }
   ],
   "source": [
    "df"
   ]
  },
  {
   "cell_type": "code",
   "execution_count": 270,
   "metadata": {},
   "outputs": [
    {
     "ename": "TypeError",
     "evalue": "f() missing 1 required positional argument: 'other'",
     "output_type": "error",
     "traceback": [
      "\u001b[1;31m---------------------------------------------------------------------------\u001b[0m",
      "\u001b[1;31mTypeError\u001b[0m                                 Traceback (most recent call last)",
      "\u001b[1;32m<ipython-input-270-6f677f9c8120>\u001b[0m in \u001b[0;36m<module>\u001b[1;34m\u001b[0m\n\u001b[1;32m----> 1\u001b[1;33m \u001b[0mdf\u001b[0m\u001b[1;33m.\u001b[0m\u001b[0madd\u001b[0m\u001b[1;33m(\u001b[0m\u001b[0maxis\u001b[0m\u001b[1;33m=\u001b[0m\u001b[1;36m1\u001b[0m\u001b[1;33m)\u001b[0m\u001b[1;33m\u001b[0m\u001b[1;33m\u001b[0m\u001b[0m\n\u001b[0m",
      "\u001b[1;31mTypeError\u001b[0m: f() missing 1 required positional argument: 'other'"
     ]
    }
   ],
   "source": [
    "df.add(axis=1)"
   ]
  },
  {
   "cell_type": "code",
   "execution_count": 271,
   "metadata": {},
   "outputs": [
    {
     "data": {
      "text/plain": [
       "A    14\n",
       "B    17\n",
       "C    20\n",
       "dtype: int64"
      ]
     },
     "execution_count": 271,
     "metadata": {},
     "output_type": "execute_result"
    }
   ],
   "source": [
    "df.sum(axis=0)"
   ]
  },
  {
   "cell_type": "code",
   "execution_count": 272,
   "metadata": {},
   "outputs": [
    {
     "data": {
      "text/html": [
       "<div>\n",
       "<style scoped>\n",
       "    .dataframe tbody tr th:only-of-type {\n",
       "        vertical-align: middle;\n",
       "    }\n",
       "\n",
       "    .dataframe tbody tr th {\n",
       "        vertical-align: top;\n",
       "    }\n",
       "\n",
       "    .dataframe thead th {\n",
       "        text-align: right;\n",
       "    }\n",
       "</style>\n",
       "<table border=\"1\" class=\"dataframe\">\n",
       "  <thead>\n",
       "    <tr style=\"text-align: right;\">\n",
       "      <th></th>\n",
       "      <th>A</th>\n",
       "      <th>B</th>\n",
       "      <th>C</th>\n",
       "    </tr>\n",
       "  </thead>\n",
       "  <tbody>\n",
       "    <tr>\n",
       "      <th>0</th>\n",
       "      <td>1</td>\n",
       "      <td>2</td>\n",
       "      <td>3</td>\n",
       "    </tr>\n",
       "    <tr>\n",
       "      <th>1</th>\n",
       "      <td>4</td>\n",
       "      <td>5</td>\n",
       "      <td>6</td>\n",
       "    </tr>\n",
       "    <tr>\n",
       "      <th>2</th>\n",
       "      <td>9</td>\n",
       "      <td>10</td>\n",
       "      <td>11</td>\n",
       "    </tr>\n",
       "  </tbody>\n",
       "</table>\n",
       "</div>"
      ],
      "text/plain": [
       "   A   B   C\n",
       "0  1   2   3\n",
       "1  4   5   6\n",
       "2  9  10  11"
      ]
     },
     "execution_count": 272,
     "metadata": {},
     "output_type": "execute_result"
    }
   ],
   "source": [
    "df"
   ]
  },
  {
   "cell_type": "code",
   "execution_count": 273,
   "metadata": {},
   "outputs": [
    {
     "data": {
      "text/html": [
       "<div>\n",
       "<style scoped>\n",
       "    .dataframe tbody tr th:only-of-type {\n",
       "        vertical-align: middle;\n",
       "    }\n",
       "\n",
       "    .dataframe tbody tr th {\n",
       "        vertical-align: top;\n",
       "    }\n",
       "\n",
       "    .dataframe thead th {\n",
       "        text-align: right;\n",
       "    }\n",
       "</style>\n",
       "<table border=\"1\" class=\"dataframe\">\n",
       "  <thead>\n",
       "    <tr style=\"text-align: right;\">\n",
       "      <th></th>\n",
       "      <th>A</th>\n",
       "      <th>B</th>\n",
       "      <th>C</th>\n",
       "    </tr>\n",
       "  </thead>\n",
       "  <tbody>\n",
       "    <tr>\n",
       "      <th>0</th>\n",
       "      <td>1</td>\n",
       "      <td>4</td>\n",
       "      <td>9</td>\n",
       "    </tr>\n",
       "    <tr>\n",
       "      <th>1</th>\n",
       "      <td>16</td>\n",
       "      <td>25</td>\n",
       "      <td>36</td>\n",
       "    </tr>\n",
       "    <tr>\n",
       "      <th>2</th>\n",
       "      <td>81</td>\n",
       "      <td>100</td>\n",
       "      <td>121</td>\n",
       "    </tr>\n",
       "  </tbody>\n",
       "</table>\n",
       "</div>"
      ],
      "text/plain": [
       "    A    B    C\n",
       "0   1    4    9\n",
       "1  16   25   36\n",
       "2  81  100  121"
      ]
     },
     "execution_count": 273,
     "metadata": {},
     "output_type": "execute_result"
    }
   ],
   "source": [
    "df.apply(np.square)\n"
   ]
  },
  {
   "cell_type": "code",
   "execution_count": 278,
   "metadata": {},
   "outputs": [
    {
     "data": {
      "text/html": [
       "<div>\n",
       "<style scoped>\n",
       "    .dataframe tbody tr th:only-of-type {\n",
       "        vertical-align: middle;\n",
       "    }\n",
       "\n",
       "    .dataframe tbody tr th {\n",
       "        vertical-align: top;\n",
       "    }\n",
       "\n",
       "    .dataframe thead th {\n",
       "        text-align: right;\n",
       "    }\n",
       "</style>\n",
       "<table border=\"1\" class=\"dataframe\">\n",
       "  <thead>\n",
       "    <tr style=\"text-align: right;\">\n",
       "      <th></th>\n",
       "      <th>Exchange</th>\n",
       "      <th>Symbol</th>\n",
       "      <th>Shortname</th>\n",
       "      <th>Longname</th>\n",
       "      <th>Sector</th>\n",
       "      <th>Industry</th>\n",
       "      <th>Currentprice</th>\n",
       "      <th>Marketcap</th>\n",
       "      <th>Ebitda</th>\n",
       "      <th>Revenuegrowth</th>\n",
       "      <th>City</th>\n",
       "      <th>State</th>\n",
       "      <th>Country</th>\n",
       "      <th>Fulltimeemployees</th>\n",
       "      <th>Longbusinesssummary</th>\n",
       "      <th>Weight</th>\n",
       "    </tr>\n",
       "  </thead>\n",
       "  <tbody>\n",
       "    <tr>\n",
       "      <th>0</th>\n",
       "      <td>NMS</td>\n",
       "      <td>AAPL</td>\n",
       "      <td>Apple Inc.</td>\n",
       "      <td>Apple Inc.</td>\n",
       "      <td>Technology</td>\n",
       "      <td>Consumer Electronics</td>\n",
       "      <td>148.03</td>\n",
       "      <td>2354875990016</td>\n",
       "      <td>1.305410e+11</td>\n",
       "      <td>0.081</td>\n",
       "      <td>Cupertino</td>\n",
       "      <td>CA</td>\n",
       "      <td>United States</td>\n",
       "      <td>164000.0</td>\n",
       "      <td>Apple Inc. designs, manufactures, and markets ...</td>\n",
       "      <td>0.064857</td>\n",
       "    </tr>\n",
       "    <tr>\n",
       "      <th>1</th>\n",
       "      <td>NMS</td>\n",
       "      <td>MSFT</td>\n",
       "      <td>Microsoft Corporation</td>\n",
       "      <td>Microsoft Corporation</td>\n",
       "      <td>Technology</td>\n",
       "      <td>Software—Infrastructure</td>\n",
       "      <td>255.14</td>\n",
       "      <td>1915585953792</td>\n",
       "      <td>9.798300e+10</td>\n",
       "      <td>0.124</td>\n",
       "      <td>Redmond</td>\n",
       "      <td>WA</td>\n",
       "      <td>United States</td>\n",
       "      <td>221000.0</td>\n",
       "      <td>Microsoft Corporation develops, licenses, and ...</td>\n",
       "      <td>0.052759</td>\n",
       "    </tr>\n",
       "    <tr>\n",
       "      <th>2</th>\n",
       "      <td>NMS</td>\n",
       "      <td>GOOG</td>\n",
       "      <td>Alphabet Inc.</td>\n",
       "      <td>Alphabet Inc.</td>\n",
       "      <td>Communication Services</td>\n",
       "      <td>Internet Content &amp; Information</td>\n",
       "      <td>101.45</td>\n",
       "      <td>1311241142272</td>\n",
       "      <td>9.373300e+10</td>\n",
       "      <td>0.061</td>\n",
       "      <td>Mountain View</td>\n",
       "      <td>CA</td>\n",
       "      <td>United States</td>\n",
       "      <td>186779.0</td>\n",
       "      <td>Alphabet Inc. provides various products and pl...</td>\n",
       "      <td>0.036114</td>\n",
       "    </tr>\n",
       "    <tr>\n",
       "      <th>3</th>\n",
       "      <td>NMS</td>\n",
       "      <td>GOOGL</td>\n",
       "      <td>Alphabet Inc.</td>\n",
       "      <td>Alphabet Inc.</td>\n",
       "      <td>Communication Services</td>\n",
       "      <td>Internet Content &amp; Information</td>\n",
       "      <td>100.99</td>\n",
       "      <td>1308729278464</td>\n",
       "      <td>9.373300e+10</td>\n",
       "      <td>0.061</td>\n",
       "      <td>Mountain View</td>\n",
       "      <td>CA</td>\n",
       "      <td>United States</td>\n",
       "      <td>186779.0</td>\n",
       "      <td>Alphabet Inc. provides various products and pl...</td>\n",
       "      <td>0.036045</td>\n",
       "    </tr>\n",
       "    <tr>\n",
       "      <th>4</th>\n",
       "      <td>NMS</td>\n",
       "      <td>AMZN</td>\n",
       "      <td>Amazon.com, Inc.</td>\n",
       "      <td>Amazon.com, Inc.</td>\n",
       "      <td>Consumer Cyclical</td>\n",
       "      <td>Internet Retail</td>\n",
       "      <td>96.54</td>\n",
       "      <td>984872189952</td>\n",
       "      <td>5.154900e+10</td>\n",
       "      <td>0.147</td>\n",
       "      <td>Seattle</td>\n",
       "      <td>WA</td>\n",
       "      <td>United States</td>\n",
       "      <td>1544000.0</td>\n",
       "      <td>Amazon.com, Inc. engages in the retail sale of...</td>\n",
       "      <td>0.027125</td>\n",
       "    </tr>\n",
       "  </tbody>\n",
       "</table>\n",
       "</div>"
      ],
      "text/plain": [
       "  Exchange Symbol              Shortname               Longname  \\\n",
       "0      NMS   AAPL             Apple Inc.             Apple Inc.   \n",
       "1      NMS   MSFT  Microsoft Corporation  Microsoft Corporation   \n",
       "2      NMS   GOOG          Alphabet Inc.          Alphabet Inc.   \n",
       "3      NMS  GOOGL          Alphabet Inc.          Alphabet Inc.   \n",
       "4      NMS   AMZN       Amazon.com, Inc.       Amazon.com, Inc.   \n",
       "\n",
       "                   Sector                        Industry  Currentprice  \\\n",
       "0              Technology            Consumer Electronics        148.03   \n",
       "1              Technology         Software—Infrastructure        255.14   \n",
       "2  Communication Services  Internet Content & Information        101.45   \n",
       "3  Communication Services  Internet Content & Information        100.99   \n",
       "4       Consumer Cyclical                 Internet Retail         96.54   \n",
       "\n",
       "       Marketcap        Ebitda  Revenuegrowth           City State  \\\n",
       "0  2354875990016  1.305410e+11          0.081      Cupertino    CA   \n",
       "1  1915585953792  9.798300e+10          0.124        Redmond    WA   \n",
       "2  1311241142272  9.373300e+10          0.061  Mountain View    CA   \n",
       "3  1308729278464  9.373300e+10          0.061  Mountain View    CA   \n",
       "4   984872189952  5.154900e+10          0.147        Seattle    WA   \n",
       "\n",
       "         Country  Fulltimeemployees  \\\n",
       "0  United States           164000.0   \n",
       "1  United States           221000.0   \n",
       "2  United States           186779.0   \n",
       "3  United States           186779.0   \n",
       "4  United States          1544000.0   \n",
       "\n",
       "                                 Longbusinesssummary    Weight  \n",
       "0  Apple Inc. designs, manufactures, and markets ...  0.064857  \n",
       "1  Microsoft Corporation develops, licenses, and ...  0.052759  \n",
       "2  Alphabet Inc. provides various products and pl...  0.036114  \n",
       "3  Alphabet Inc. provides various products and pl...  0.036045  \n",
       "4  Amazon.com, Inc. engages in the retail sale of...  0.027125  "
      ]
     },
     "execution_count": 278,
     "metadata": {},
     "output_type": "execute_result"
    }
   ],
   "source": [
    "x.head()"
   ]
  },
  {
   "cell_type": "code",
   "execution_count": 283,
   "metadata": {},
   "outputs": [
    {
     "data": {
      "text/plain": [
       "Exchange                0\n",
       "Symbol                  0\n",
       "Shortname               0\n",
       "Longname                0\n",
       "Sector                  0\n",
       "Industry                0\n",
       "Currentprice            0\n",
       "Marketcap               0\n",
       "Ebitda                 42\n",
       "Revenuegrowth          12\n",
       "City                    0\n",
       "State                  20\n",
       "Country                 0\n",
       "Fulltimeemployees       5\n",
       "Longbusinesssummary     0\n",
       "Weight                  0\n",
       "dtype: int64"
      ]
     },
     "execution_count": 283,
     "metadata": {},
     "output_type": "execute_result"
    }
   ],
   "source": [
    "x.isna().sum()"
   ]
  },
  {
   "cell_type": "code",
   "execution_count": 284,
   "metadata": {},
   "outputs": [
    {
     "data": {
      "text/plain": [
       "495"
      ]
     },
     "execution_count": 284,
     "metadata": {},
     "output_type": "execute_result"
    }
   ],
   "source": [
    "len(x['Sector'])"
   ]
  },
  {
   "cell_type": "code",
   "execution_count": 285,
   "metadata": {},
   "outputs": [
    {
     "data": {
      "text/html": [
       "<div>\n",
       "<style scoped>\n",
       "    .dataframe tbody tr th:only-of-type {\n",
       "        vertical-align: middle;\n",
       "    }\n",
       "\n",
       "    .dataframe tbody tr th {\n",
       "        vertical-align: top;\n",
       "    }\n",
       "\n",
       "    .dataframe thead th {\n",
       "        text-align: right;\n",
       "    }\n",
       "</style>\n",
       "<table border=\"1\" class=\"dataframe\">\n",
       "  <thead>\n",
       "    <tr style=\"text-align: right;\">\n",
       "      <th></th>\n",
       "      <th>Exchange</th>\n",
       "      <th>Symbol</th>\n",
       "      <th>Shortname</th>\n",
       "      <th>Longname</th>\n",
       "      <th>Sector</th>\n",
       "      <th>Industry</th>\n",
       "      <th>Currentprice</th>\n",
       "      <th>Marketcap</th>\n",
       "      <th>Ebitda</th>\n",
       "      <th>Revenuegrowth</th>\n",
       "      <th>City</th>\n",
       "      <th>State</th>\n",
       "      <th>Country</th>\n",
       "      <th>Fulltimeemployees</th>\n",
       "      <th>Longbusinesssummary</th>\n",
       "      <th>Weight</th>\n",
       "    </tr>\n",
       "  </thead>\n",
       "  <tbody>\n",
       "    <tr>\n",
       "      <th>0</th>\n",
       "      <td>NMS</td>\n",
       "      <td>AAPL</td>\n",
       "      <td>Apple Inc.</td>\n",
       "      <td>Apple Inc.</td>\n",
       "      <td>Technology</td>\n",
       "      <td>Consumer Electronics</td>\n",
       "      <td>148.03</td>\n",
       "      <td>2354875990016</td>\n",
       "      <td>1.305410e+11</td>\n",
       "      <td>0.081</td>\n",
       "      <td>Cupertino</td>\n",
       "      <td>CA</td>\n",
       "      <td>United States</td>\n",
       "      <td>164000.0</td>\n",
       "      <td>Apple Inc. designs, manufactures, and markets ...</td>\n",
       "      <td>0.064857</td>\n",
       "    </tr>\n",
       "  </tbody>\n",
       "</table>\n",
       "</div>"
      ],
      "text/plain": [
       "  Exchange Symbol   Shortname    Longname      Sector              Industry  \\\n",
       "0      NMS   AAPL  Apple Inc.  Apple Inc.  Technology  Consumer Electronics   \n",
       "\n",
       "   Currentprice      Marketcap        Ebitda  Revenuegrowth       City State  \\\n",
       "0        148.03  2354875990016  1.305410e+11          0.081  Cupertino    CA   \n",
       "\n",
       "         Country  Fulltimeemployees  \\\n",
       "0  United States           164000.0   \n",
       "\n",
       "                                 Longbusinesssummary    Weight  \n",
       "0  Apple Inc. designs, manufactures, and markets ...  0.064857  "
      ]
     },
     "execution_count": 285,
     "metadata": {},
     "output_type": "execute_result"
    }
   ],
   "source": [
    "x[x['Marketcap']==x['Marketcap'].max()]"
   ]
  },
  {
   "cell_type": "code",
   "execution_count": 286,
   "metadata": {},
   "outputs": [
    {
     "data": {
      "text/html": [
       "<div>\n",
       "<style scoped>\n",
       "    .dataframe tbody tr th:only-of-type {\n",
       "        vertical-align: middle;\n",
       "    }\n",
       "\n",
       "    .dataframe tbody tr th {\n",
       "        vertical-align: top;\n",
       "    }\n",
       "\n",
       "    .dataframe thead th {\n",
       "        text-align: right;\n",
       "    }\n",
       "</style>\n",
       "<table border=\"1\" class=\"dataframe\">\n",
       "  <thead>\n",
       "    <tr style=\"text-align: right;\">\n",
       "      <th></th>\n",
       "      <th>Exchange</th>\n",
       "      <th>Symbol</th>\n",
       "      <th>Shortname</th>\n",
       "      <th>Longname</th>\n",
       "      <th>Sector</th>\n",
       "      <th>Industry</th>\n",
       "      <th>Currentprice</th>\n",
       "      <th>Marketcap</th>\n",
       "      <th>Ebitda</th>\n",
       "      <th>Revenuegrowth</th>\n",
       "      <th>City</th>\n",
       "      <th>State</th>\n",
       "      <th>Country</th>\n",
       "      <th>Fulltimeemployees</th>\n",
       "      <th>Longbusinesssummary</th>\n",
       "      <th>Weight</th>\n",
       "    </tr>\n",
       "  </thead>\n",
       "  <tbody>\n",
       "    <tr>\n",
       "      <th>375</th>\n",
       "      <td>NYQ</td>\n",
       "      <td>NVR</td>\n",
       "      <td>NVR, Inc.</td>\n",
       "      <td>NVR, Inc.</td>\n",
       "      <td>Consumer Cyclical</td>\n",
       "      <td>Residential Construction</td>\n",
       "      <td>4639.01</td>\n",
       "      <td>16156511232</td>\n",
       "      <td>2.167959e+09</td>\n",
       "      <td>0.163</td>\n",
       "      <td>Reston</td>\n",
       "      <td>VA</td>\n",
       "      <td>United States</td>\n",
       "      <td>6600.0</td>\n",
       "      <td>NVR, Inc. operates as a homebuilder in the Uni...</td>\n",
       "      <td>0.000445</td>\n",
       "    </tr>\n",
       "  </tbody>\n",
       "</table>\n",
       "</div>"
      ],
      "text/plain": [
       "    Exchange Symbol  Shortname   Longname             Sector  \\\n",
       "375      NYQ    NVR  NVR, Inc.  NVR, Inc.  Consumer Cyclical   \n",
       "\n",
       "                     Industry  Currentprice    Marketcap        Ebitda  \\\n",
       "375  Residential Construction       4639.01  16156511232  2.167959e+09   \n",
       "\n",
       "     Revenuegrowth    City State        Country  Fulltimeemployees  \\\n",
       "375          0.163  Reston    VA  United States             6600.0   \n",
       "\n",
       "                                   Longbusinesssummary    Weight  \n",
       "375  NVR, Inc. operates as a homebuilder in the Uni...  0.000445  "
      ]
     },
     "execution_count": 286,
     "metadata": {},
     "output_type": "execute_result"
    }
   ],
   "source": [
    "x[x['Currentprice']==x['Currentprice'].max()]"
   ]
  },
  {
   "cell_type": "code",
   "execution_count": 287,
   "metadata": {},
   "outputs": [
    {
     "data": {
      "text/html": [
       "<div>\n",
       "<style scoped>\n",
       "    .dataframe tbody tr th:only-of-type {\n",
       "        vertical-align: middle;\n",
       "    }\n",
       "\n",
       "    .dataframe tbody tr th {\n",
       "        vertical-align: top;\n",
       "    }\n",
       "\n",
       "    .dataframe thead th {\n",
       "        text-align: right;\n",
       "    }\n",
       "</style>\n",
       "<table border=\"1\" class=\"dataframe\">\n",
       "  <thead>\n",
       "    <tr style=\"text-align: right;\">\n",
       "      <th></th>\n",
       "      <th>Exchange</th>\n",
       "      <th>Symbol</th>\n",
       "      <th>Shortname</th>\n",
       "      <th>Longname</th>\n",
       "      <th>Sector</th>\n",
       "      <th>Industry</th>\n",
       "      <th>Currentprice</th>\n",
       "      <th>Marketcap</th>\n",
       "      <th>Ebitda</th>\n",
       "      <th>Revenuegrowth</th>\n",
       "      <th>City</th>\n",
       "      <th>State</th>\n",
       "      <th>Country</th>\n",
       "      <th>Fulltimeemployees</th>\n",
       "      <th>Longbusinesssummary</th>\n",
       "      <th>Weight</th>\n",
       "    </tr>\n",
       "  </thead>\n",
       "  <tbody>\n",
       "    <tr>\n",
       "      <th>9</th>\n",
       "      <td>NYQ</td>\n",
       "      <td>WMT</td>\n",
       "      <td>Walmart Inc.</td>\n",
       "      <td>Walmart Inc.</td>\n",
       "      <td>Consumer Defensive</td>\n",
       "      <td>Discount Stores</td>\n",
       "      <td>152.42</td>\n",
       "      <td>422794788864</td>\n",
       "      <td>3.458600e+10</td>\n",
       "      <td>0.084</td>\n",
       "      <td>Bentonville</td>\n",
       "      <td>AR</td>\n",
       "      <td>United States</td>\n",
       "      <td>2300000.0</td>\n",
       "      <td>Walmart Inc. engages in the operation of retai...</td>\n",
       "      <td>0.011645</td>\n",
       "    </tr>\n",
       "  </tbody>\n",
       "</table>\n",
       "</div>"
      ],
      "text/plain": [
       "  Exchange Symbol     Shortname      Longname              Sector  \\\n",
       "9      NYQ    WMT  Walmart Inc.  Walmart Inc.  Consumer Defensive   \n",
       "\n",
       "          Industry  Currentprice     Marketcap        Ebitda  Revenuegrowth  \\\n",
       "9  Discount Stores        152.42  422794788864  3.458600e+10          0.084   \n",
       "\n",
       "          City State        Country  Fulltimeemployees  \\\n",
       "9  Bentonville    AR  United States          2300000.0   \n",
       "\n",
       "                                 Longbusinesssummary    Weight  \n",
       "9  Walmart Inc. engages in the operation of retai...  0.011645  "
      ]
     },
     "execution_count": 287,
     "metadata": {},
     "output_type": "execute_result"
    }
   ],
   "source": [
    "x[x['Fulltimeemployees']>2000000]"
   ]
  },
  {
   "cell_type": "code",
   "execution_count": 289,
   "metadata": {},
   "outputs": [
    {
     "data": {
      "text/plain": [
       "270.791"
      ]
     },
     "execution_count": 289,
     "metadata": {},
     "output_type": "execute_result"
    }
   ],
   "source": [
    "x['Revenuegrowth'].max()"
   ]
  },
  {
   "cell_type": "code",
   "execution_count": 290,
   "metadata": {},
   "outputs": [
    {
     "data": {
      "text/html": [
       "<div>\n",
       "<style scoped>\n",
       "    .dataframe tbody tr th:only-of-type {\n",
       "        vertical-align: middle;\n",
       "    }\n",
       "\n",
       "    .dataframe tbody tr th {\n",
       "        vertical-align: top;\n",
       "    }\n",
       "\n",
       "    .dataframe thead th {\n",
       "        text-align: right;\n",
       "    }\n",
       "</style>\n",
       "<table border=\"1\" class=\"dataframe\">\n",
       "  <thead>\n",
       "    <tr style=\"text-align: right;\">\n",
       "      <th></th>\n",
       "      <th>Exchange</th>\n",
       "      <th>Symbol</th>\n",
       "      <th>Shortname</th>\n",
       "      <th>Longname</th>\n",
       "      <th>Sector</th>\n",
       "      <th>Industry</th>\n",
       "      <th>Currentprice</th>\n",
       "      <th>Marketcap</th>\n",
       "      <th>Ebitda</th>\n",
       "      <th>Revenuegrowth</th>\n",
       "      <th>City</th>\n",
       "      <th>State</th>\n",
       "      <th>Country</th>\n",
       "      <th>Fulltimeemployees</th>\n",
       "      <th>Longbusinesssummary</th>\n",
       "      <th>Weight</th>\n",
       "    </tr>\n",
       "  </thead>\n",
       "  <tbody>\n",
       "    <tr>\n",
       "      <th>375</th>\n",
       "      <td>NYQ</td>\n",
       "      <td>NVR</td>\n",
       "      <td>NVR, Inc.</td>\n",
       "      <td>NVR, Inc.</td>\n",
       "      <td>Consumer Cyclical</td>\n",
       "      <td>Residential Construction</td>\n",
       "      <td>4639.01</td>\n",
       "      <td>16156511232</td>\n",
       "      <td>2.167959e+09</td>\n",
       "      <td>0.163</td>\n",
       "      <td>Reston</td>\n",
       "      <td>VA</td>\n",
       "      <td>United States</td>\n",
       "      <td>6600.0</td>\n",
       "      <td>NVR, Inc. operates as a homebuilder in the Uni...</td>\n",
       "      <td>0.000445</td>\n",
       "    </tr>\n",
       "  </tbody>\n",
       "</table>\n",
       "</div>"
      ],
      "text/plain": [
       "    Exchange Symbol  Shortname   Longname             Sector  \\\n",
       "375      NYQ    NVR  NVR, Inc.  NVR, Inc.  Consumer Cyclical   \n",
       "\n",
       "                     Industry  Currentprice    Marketcap        Ebitda  \\\n",
       "375  Residential Construction       4639.01  16156511232  2.167959e+09   \n",
       "\n",
       "     Revenuegrowth    City State        Country  Fulltimeemployees  \\\n",
       "375          0.163  Reston    VA  United States             6600.0   \n",
       "\n",
       "                                   Longbusinesssummary    Weight  \n",
       "375  NVR, Inc. operates as a homebuilder in the Uni...  0.000445  "
      ]
     },
     "execution_count": 290,
     "metadata": {},
     "output_type": "execute_result"
    }
   ],
   "source": [
    "x[x['Currentprice']==x['Currentprice'].max()]"
   ]
  },
  {
   "cell_type": "code",
   "execution_count": 292,
   "metadata": {},
   "outputs": [],
   "source": [
    "i=x[x['Revenuegrowth']>0.1]"
   ]
  },
  {
   "cell_type": "code",
   "execution_count": 293,
   "metadata": {},
   "outputs": [
    {
     "data": {
      "text/html": [
       "<div>\n",
       "<style scoped>\n",
       "    .dataframe tbody tr th:only-of-type {\n",
       "        vertical-align: middle;\n",
       "    }\n",
       "\n",
       "    .dataframe tbody tr th {\n",
       "        vertical-align: top;\n",
       "    }\n",
       "\n",
       "    .dataframe thead th {\n",
       "        text-align: right;\n",
       "    }\n",
       "</style>\n",
       "<table border=\"1\" class=\"dataframe\">\n",
       "  <thead>\n",
       "    <tr style=\"text-align: right;\">\n",
       "      <th></th>\n",
       "      <th>Exchange</th>\n",
       "      <th>Symbol</th>\n",
       "      <th>Shortname</th>\n",
       "      <th>Longname</th>\n",
       "      <th>Sector</th>\n",
       "      <th>Industry</th>\n",
       "      <th>Currentprice</th>\n",
       "      <th>Marketcap</th>\n",
       "      <th>Ebitda</th>\n",
       "      <th>Revenuegrowth</th>\n",
       "      <th>City</th>\n",
       "      <th>State</th>\n",
       "      <th>Country</th>\n",
       "      <th>Fulltimeemployees</th>\n",
       "      <th>Longbusinesssummary</th>\n",
       "      <th>Weight</th>\n",
       "    </tr>\n",
       "  </thead>\n",
       "  <tbody>\n",
       "    <tr>\n",
       "      <th>420</th>\n",
       "      <td>NYQ</td>\n",
       "      <td>CCL</td>\n",
       "      <td>Carnival Corporation</td>\n",
       "      <td>Carnival Corporation &amp; plc</td>\n",
       "      <td>Consumer Cyclical</td>\n",
       "      <td>Travel Services</td>\n",
       "      <td>9.93</td>\n",
       "      <td>12897283072</td>\n",
       "      <td>-2.586000e+09</td>\n",
       "      <td>6.886</td>\n",
       "      <td>Miami</td>\n",
       "      <td>FL</td>\n",
       "      <td>United States</td>\n",
       "      <td>40000.0</td>\n",
       "      <td>Carnival Corporation &amp; plc operates as a leisu...</td>\n",
       "      <td>0.000355</td>\n",
       "    </tr>\n",
       "  </tbody>\n",
       "</table>\n",
       "</div>"
      ],
      "text/plain": [
       "    Exchange Symbol             Shortname                    Longname  \\\n",
       "420      NYQ    CCL  Carnival Corporation  Carnival Corporation & plc   \n",
       "\n",
       "                Sector         Industry  Currentprice    Marketcap  \\\n",
       "420  Consumer Cyclical  Travel Services          9.93  12897283072   \n",
       "\n",
       "           Ebitda  Revenuegrowth   City State        Country  \\\n",
       "420 -2.586000e+09          6.886  Miami    FL  United States   \n",
       "\n",
       "     Fulltimeemployees                                Longbusinesssummary  \\\n",
       "420            40000.0  Carnival Corporation & plc operates as a leisu...   \n",
       "\n",
       "       Weight  \n",
       "420  0.000355  "
      ]
     },
     "execution_count": 293,
     "metadata": {},
     "output_type": "execute_result"
    }
   ],
   "source": [
    "i[i['Currentprice']==i['Currentprice'].min()]"
   ]
  },
  {
   "cell_type": "code",
   "execution_count": 300,
   "metadata": {},
   "outputs": [],
   "source": [
    "k=x[x['State']=='CA']"
   ]
  },
  {
   "cell_type": "code",
   "execution_count": 301,
   "metadata": {},
   "outputs": [
    {
     "data": {
      "text/html": [
       "<div>\n",
       "<style scoped>\n",
       "    .dataframe tbody tr th:only-of-type {\n",
       "        vertical-align: middle;\n",
       "    }\n",
       "\n",
       "    .dataframe tbody tr th {\n",
       "        vertical-align: top;\n",
       "    }\n",
       "\n",
       "    .dataframe thead th {\n",
       "        text-align: right;\n",
       "    }\n",
       "</style>\n",
       "<table border=\"1\" class=\"dataframe\">\n",
       "  <thead>\n",
       "    <tr style=\"text-align: right;\">\n",
       "      <th></th>\n",
       "      <th>Exchange</th>\n",
       "      <th>Symbol</th>\n",
       "      <th>Shortname</th>\n",
       "      <th>Longname</th>\n",
       "      <th>Sector</th>\n",
       "      <th>Industry</th>\n",
       "      <th>Currentprice</th>\n",
       "      <th>Marketcap</th>\n",
       "      <th>Ebitda</th>\n",
       "      <th>Revenuegrowth</th>\n",
       "      <th>City</th>\n",
       "      <th>State</th>\n",
       "      <th>Country</th>\n",
       "      <th>Fulltimeemployees</th>\n",
       "      <th>Longbusinesssummary</th>\n",
       "      <th>Weight</th>\n",
       "    </tr>\n",
       "  </thead>\n",
       "  <tbody>\n",
       "    <tr>\n",
       "      <th>0</th>\n",
       "      <td>NMS</td>\n",
       "      <td>AAPL</td>\n",
       "      <td>Apple Inc.</td>\n",
       "      <td>Apple Inc.</td>\n",
       "      <td>Technology</td>\n",
       "      <td>Consumer Electronics</td>\n",
       "      <td>148.03</td>\n",
       "      <td>2354875990016</td>\n",
       "      <td>1.305410e+11</td>\n",
       "      <td>0.081</td>\n",
       "      <td>Cupertino</td>\n",
       "      <td>CA</td>\n",
       "      <td>United States</td>\n",
       "      <td>164000.0</td>\n",
       "      <td>Apple Inc. designs, manufactures, and markets ...</td>\n",
       "      <td>0.064857</td>\n",
       "    </tr>\n",
       "    <tr>\n",
       "      <th>2</th>\n",
       "      <td>NMS</td>\n",
       "      <td>GOOG</td>\n",
       "      <td>Alphabet Inc.</td>\n",
       "      <td>Alphabet Inc.</td>\n",
       "      <td>Communication Services</td>\n",
       "      <td>Internet Content &amp; Information</td>\n",
       "      <td>101.45</td>\n",
       "      <td>1311241142272</td>\n",
       "      <td>9.373300e+10</td>\n",
       "      <td>0.061</td>\n",
       "      <td>Mountain View</td>\n",
       "      <td>CA</td>\n",
       "      <td>United States</td>\n",
       "      <td>186779.0</td>\n",
       "      <td>Alphabet Inc. provides various products and pl...</td>\n",
       "      <td>0.036114</td>\n",
       "    </tr>\n",
       "    <tr>\n",
       "      <th>3</th>\n",
       "      <td>NMS</td>\n",
       "      <td>GOOGL</td>\n",
       "      <td>Alphabet Inc.</td>\n",
       "      <td>Alphabet Inc.</td>\n",
       "      <td>Communication Services</td>\n",
       "      <td>Internet Content &amp; Information</td>\n",
       "      <td>100.99</td>\n",
       "      <td>1308729278464</td>\n",
       "      <td>9.373300e+10</td>\n",
       "      <td>0.061</td>\n",
       "      <td>Mountain View</td>\n",
       "      <td>CA</td>\n",
       "      <td>United States</td>\n",
       "      <td>186779.0</td>\n",
       "      <td>Alphabet Inc. provides various products and pl...</td>\n",
       "      <td>0.036045</td>\n",
       "    </tr>\n",
       "    <tr>\n",
       "      <th>10</th>\n",
       "      <td>NMS</td>\n",
       "      <td>NVDA</td>\n",
       "      <td>NVIDIA Corporation</td>\n",
       "      <td>NVIDIA Corporation</td>\n",
       "      <td>Technology</td>\n",
       "      <td>Semiconductors</td>\n",
       "      <td>169.23</td>\n",
       "      <td>421721145344</td>\n",
       "      <td>1.068000e+10</td>\n",
       "      <td>0.030</td>\n",
       "      <td>Santa Clara</td>\n",
       "      <td>CA</td>\n",
       "      <td>United States</td>\n",
       "      <td>22473.0</td>\n",
       "      <td>NVIDIA Corporation provides graphics, and comp...</td>\n",
       "      <td>0.011615</td>\n",
       "    </tr>\n",
       "    <tr>\n",
       "      <th>14</th>\n",
       "      <td>NYQ</td>\n",
       "      <td>CVX</td>\n",
       "      <td>Chevron Corporation</td>\n",
       "      <td>Chevron Corporation</td>\n",
       "      <td>Energy</td>\n",
       "      <td>Oil &amp; Gas Integrated</td>\n",
       "      <td>183.31</td>\n",
       "      <td>354455519232</td>\n",
       "      <td>5.292900e+10</td>\n",
       "      <td>0.492</td>\n",
       "      <td>San Ramon</td>\n",
       "      <td>CA</td>\n",
       "      <td>United States</td>\n",
       "      <td>42595.0</td>\n",
       "      <td>Chevron Corporation, through its subsidiaries,...</td>\n",
       "      <td>0.009762</td>\n",
       "    </tr>\n",
       "    <tr>\n",
       "      <th>...</th>\n",
       "      <td>...</td>\n",
       "      <td>...</td>\n",
       "      <td>...</td>\n",
       "      <td>...</td>\n",
       "      <td>...</td>\n",
       "      <td>...</td>\n",
       "      <td>...</td>\n",
       "      <td>...</td>\n",
       "      <td>...</td>\n",
       "      <td>...</td>\n",
       "      <td>...</td>\n",
       "      <td>...</td>\n",
       "      <td>...</td>\n",
       "      <td>...</td>\n",
       "      <td>...</td>\n",
       "      <td>...</td>\n",
       "    </tr>\n",
       "    <tr>\n",
       "      <th>426</th>\n",
       "      <td>NYQ</td>\n",
       "      <td>BIO</td>\n",
       "      <td>Bio-Rad Laboratories, Inc.</td>\n",
       "      <td>Bio-Rad Laboratories, Inc.</td>\n",
       "      <td>Healthcare</td>\n",
       "      <td>Medical Devices</td>\n",
       "      <td>414.71</td>\n",
       "      <td>12395267072</td>\n",
       "      <td>6.661180e+08</td>\n",
       "      <td>-0.089</td>\n",
       "      <td>Hercules</td>\n",
       "      <td>CA</td>\n",
       "      <td>United States</td>\n",
       "      <td>8200.0</td>\n",
       "      <td>Bio-Rad Laboratories, Inc. manufactures, and d...</td>\n",
       "      <td>0.000341</td>\n",
       "    </tr>\n",
       "    <tr>\n",
       "      <th>437</th>\n",
       "      <td>NMS</td>\n",
       "      <td>WDC</td>\n",
       "      <td>Western Digital Corporation</td>\n",
       "      <td>Western Digital Corporation</td>\n",
       "      <td>Technology</td>\n",
       "      <td>Computer Hardware</td>\n",
       "      <td>36.75</td>\n",
       "      <td>11452145664</td>\n",
       "      <td>NaN</td>\n",
       "      <td>NaN</td>\n",
       "      <td>San Jose</td>\n",
       "      <td>CA</td>\n",
       "      <td>United States</td>\n",
       "      <td>65000.0</td>\n",
       "      <td>Western Digital Corporation develops, manufact...</td>\n",
       "      <td>0.000315</td>\n",
       "    </tr>\n",
       "    <tr>\n",
       "      <th>449</th>\n",
       "      <td>NYQ</td>\n",
       "      <td>JNPR</td>\n",
       "      <td>Juniper Networks, Inc.</td>\n",
       "      <td>Juniper Networks, Inc.</td>\n",
       "      <td>Technology</td>\n",
       "      <td>Communication Equipment</td>\n",
       "      <td>33.24</td>\n",
       "      <td>10809016320</td>\n",
       "      <td>7.243000e+08</td>\n",
       "      <td>0.190</td>\n",
       "      <td>Sunnyvale</td>\n",
       "      <td>CA</td>\n",
       "      <td>United States</td>\n",
       "      <td>10705.0</td>\n",
       "      <td>Juniper Networks, Inc. designs, develops, and ...</td>\n",
       "      <td>0.000298</td>\n",
       "    </tr>\n",
       "    <tr>\n",
       "      <th>471</th>\n",
       "      <td>NYQ</td>\n",
       "      <td>RHI</td>\n",
       "      <td>Robert Half International Inc.</td>\n",
       "      <td>Robert Half International Inc.</td>\n",
       "      <td>Industrials</td>\n",
       "      <td>Staffing &amp; Employment Services</td>\n",
       "      <td>78.78</td>\n",
       "      <td>8770577408</td>\n",
       "      <td>1.049556e+09</td>\n",
       "      <td>0.071</td>\n",
       "      <td>Menlo Park</td>\n",
       "      <td>CA</td>\n",
       "      <td>United States</td>\n",
       "      <td>14600.0</td>\n",
       "      <td>Robert Half International Inc. provides staffi...</td>\n",
       "      <td>0.000242</td>\n",
       "    </tr>\n",
       "    <tr>\n",
       "      <th>472</th>\n",
       "      <td>NMS</td>\n",
       "      <td>FTNT</td>\n",
       "      <td>Fortinet, Inc.</td>\n",
       "      <td>Fortinet, Inc.</td>\n",
       "      <td>Technology</td>\n",
       "      <td>Software—Infrastructure</td>\n",
       "      <td>53.16</td>\n",
       "      <td>8691659776</td>\n",
       "      <td>8.218000e+08</td>\n",
       "      <td>0.286</td>\n",
       "      <td>Sunnyvale</td>\n",
       "      <td>CA</td>\n",
       "      <td>United States</td>\n",
       "      <td>11508.0</td>\n",
       "      <td>Fortinet, Inc. provides broad, integrated, and...</td>\n",
       "      <td>0.000239</td>\n",
       "    </tr>\n",
       "  </tbody>\n",
       "</table>\n",
       "<p>66 rows × 16 columns</p>\n",
       "</div>"
      ],
      "text/plain": [
       "    Exchange Symbol                       Shortname  \\\n",
       "0        NMS   AAPL                      Apple Inc.   \n",
       "2        NMS   GOOG                   Alphabet Inc.   \n",
       "3        NMS  GOOGL                   Alphabet Inc.   \n",
       "10       NMS   NVDA              NVIDIA Corporation   \n",
       "14       NYQ    CVX             Chevron Corporation   \n",
       "..       ...    ...                             ...   \n",
       "426      NYQ    BIO      Bio-Rad Laboratories, Inc.   \n",
       "437      NMS    WDC     Western Digital Corporation   \n",
       "449      NYQ   JNPR          Juniper Networks, Inc.   \n",
       "471      NYQ    RHI  Robert Half International Inc.   \n",
       "472      NMS   FTNT                  Fortinet, Inc.   \n",
       "\n",
       "                           Longname                  Sector  \\\n",
       "0                        Apple Inc.              Technology   \n",
       "2                     Alphabet Inc.  Communication Services   \n",
       "3                     Alphabet Inc.  Communication Services   \n",
       "10               NVIDIA Corporation              Technology   \n",
       "14              Chevron Corporation                  Energy   \n",
       "..                              ...                     ...   \n",
       "426      Bio-Rad Laboratories, Inc.              Healthcare   \n",
       "437     Western Digital Corporation              Technology   \n",
       "449          Juniper Networks, Inc.              Technology   \n",
       "471  Robert Half International Inc.             Industrials   \n",
       "472                  Fortinet, Inc.              Technology   \n",
       "\n",
       "                           Industry  Currentprice      Marketcap  \\\n",
       "0              Consumer Electronics        148.03  2354875990016   \n",
       "2    Internet Content & Information        101.45  1311241142272   \n",
       "3    Internet Content & Information        100.99  1308729278464   \n",
       "10                   Semiconductors        169.23   421721145344   \n",
       "14             Oil & Gas Integrated        183.31   354455519232   \n",
       "..                              ...           ...            ...   \n",
       "426                 Medical Devices        414.71    12395267072   \n",
       "437               Computer Hardware         36.75    11452145664   \n",
       "449         Communication Equipment         33.24    10809016320   \n",
       "471  Staffing & Employment Services         78.78     8770577408   \n",
       "472         Software—Infrastructure         53.16     8691659776   \n",
       "\n",
       "           Ebitda  Revenuegrowth           City State        Country  \\\n",
       "0    1.305410e+11          0.081      Cupertino    CA  United States   \n",
       "2    9.373300e+10          0.061  Mountain View    CA  United States   \n",
       "3    9.373300e+10          0.061  Mountain View    CA  United States   \n",
       "10   1.068000e+10          0.030    Santa Clara    CA  United States   \n",
       "14   5.292900e+10          0.492      San Ramon    CA  United States   \n",
       "..            ...            ...            ...   ...            ...   \n",
       "426  6.661180e+08         -0.089       Hercules    CA  United States   \n",
       "437           NaN            NaN       San Jose    CA  United States   \n",
       "449  7.243000e+08          0.190      Sunnyvale    CA  United States   \n",
       "471  1.049556e+09          0.071     Menlo Park    CA  United States   \n",
       "472  8.218000e+08          0.286      Sunnyvale    CA  United States   \n",
       "\n",
       "     Fulltimeemployees                                Longbusinesssummary  \\\n",
       "0             164000.0  Apple Inc. designs, manufactures, and markets ...   \n",
       "2             186779.0  Alphabet Inc. provides various products and pl...   \n",
       "3             186779.0  Alphabet Inc. provides various products and pl...   \n",
       "10             22473.0  NVIDIA Corporation provides graphics, and comp...   \n",
       "14             42595.0  Chevron Corporation, through its subsidiaries,...   \n",
       "..                 ...                                                ...   \n",
       "426             8200.0  Bio-Rad Laboratories, Inc. manufactures, and d...   \n",
       "437            65000.0  Western Digital Corporation develops, manufact...   \n",
       "449            10705.0  Juniper Networks, Inc. designs, develops, and ...   \n",
       "471            14600.0  Robert Half International Inc. provides staffi...   \n",
       "472            11508.0  Fortinet, Inc. provides broad, integrated, and...   \n",
       "\n",
       "       Weight  \n",
       "0    0.064857  \n",
       "2    0.036114  \n",
       "3    0.036045  \n",
       "10   0.011615  \n",
       "14   0.009762  \n",
       "..        ...  \n",
       "426  0.000341  \n",
       "437  0.000315  \n",
       "449  0.000298  \n",
       "471  0.000242  \n",
       "472  0.000239  \n",
       "\n",
       "[66 rows x 16 columns]"
      ]
     },
     "execution_count": 301,
     "metadata": {},
     "output_type": "execute_result"
    }
   ],
   "source": [
    "k"
   ]
  },
  {
   "cell_type": "code",
   "execution_count": 298,
   "metadata": {},
   "outputs": [
    {
     "data": {
      "text/plain": [
       "array(['CA', 'WA', 'NE', 'MN', 'TX', 'NJ', 'AR', 'NY', 'OH', 'IN', 'GA',\n",
       "       'NC', 'IL', 'MA', 'DC', nan, 'OR', 'FL', 'PA', 'RI', 'MD', 'CT',\n",
       "       'MI', 'VA', 'TN', 'KY', 'WI', 'ID', 'AZ', 'MO', 'OK', 'CO', 'DE',\n",
       "       'ME', 'NV', 'AL', 'IA', 'LA', 'UT'], dtype=object)"
      ]
     },
     "execution_count": 298,
     "metadata": {},
     "output_type": "execute_result"
    }
   ],
   "source": [
    "x['State'].unique()"
   ]
  },
  {
   "cell_type": "code",
   "execution_count": 299,
   "metadata": {},
   "outputs": [
    {
     "data": {
      "text/plain": [
       "array(['United States', 'Ireland', 'United Kingdom', 'Switzerland',\n",
       "       'Netherlands', 'Bermuda', 'Israel'], dtype=object)"
      ]
     },
     "execution_count": 299,
     "metadata": {},
     "output_type": "execute_result"
    }
   ],
   "source": [
    "x['Country'].unique()"
   ]
  },
  {
   "cell_type": "code",
   "execution_count": 302,
   "metadata": {},
   "outputs": [
    {
     "data": {
      "text/html": [
       "<div>\n",
       "<style scoped>\n",
       "    .dataframe tbody tr th:only-of-type {\n",
       "        vertical-align: middle;\n",
       "    }\n",
       "\n",
       "    .dataframe tbody tr th {\n",
       "        vertical-align: top;\n",
       "    }\n",
       "\n",
       "    .dataframe thead th {\n",
       "        text-align: right;\n",
       "    }\n",
       "</style>\n",
       "<table border=\"1\" class=\"dataframe\">\n",
       "  <thead>\n",
       "    <tr style=\"text-align: right;\">\n",
       "      <th></th>\n",
       "      <th>Exchange</th>\n",
       "      <th>Symbol</th>\n",
       "      <th>Shortname</th>\n",
       "      <th>Longname</th>\n",
       "      <th>Sector</th>\n",
       "      <th>Industry</th>\n",
       "      <th>Currentprice</th>\n",
       "      <th>Marketcap</th>\n",
       "      <th>Ebitda</th>\n",
       "      <th>Revenuegrowth</th>\n",
       "      <th>City</th>\n",
       "      <th>State</th>\n",
       "      <th>Country</th>\n",
       "      <th>Fulltimeemployees</th>\n",
       "      <th>Longbusinesssummary</th>\n",
       "      <th>Weight</th>\n",
       "    </tr>\n",
       "  </thead>\n",
       "  <tbody>\n",
       "  </tbody>\n",
       "</table>\n",
       "</div>"
      ],
      "text/plain": [
       "Empty DataFrame\n",
       "Columns: [Exchange, Symbol, Shortname, Longname, Sector, Industry, Currentprice, Marketcap, Ebitda, Revenuegrowth, City, State, Country, Fulltimeemployees, Longbusinesssummary, Weight]\n",
       "Index: []"
      ]
     },
     "execution_count": 302,
     "metadata": {},
     "output_type": "execute_result"
    }
   ],
   "source": [
    "k[k['Sector']==len(k['Sector'].max())]"
   ]
  },
  {
   "cell_type": "code",
   "execution_count": 303,
   "metadata": {},
   "outputs": [
    {
     "data": {
      "text/plain": [
       "Technology                27\n",
       "Healthcare                11\n",
       "Communication Services     7\n",
       "Real Estate                6\n",
       "Financial Services         5\n",
       "Utilities                  3\n",
       "Consumer Cyclical          3\n",
       "Consumer Defensive         2\n",
       "Industrials                1\n",
       "Energy                     1\n",
       "Name: Sector, dtype: int64"
      ]
     },
     "execution_count": 303,
     "metadata": {},
     "output_type": "execute_result"
    }
   ],
   "source": [
    "k['Sector'].value_counts()"
   ]
  },
  {
   "cell_type": "code",
   "execution_count": null,
   "metadata": {},
   "outputs": [],
   "source": []
  }
 ],
 "metadata": {
  "kernelspec": {
   "display_name": "Python 3",
   "language": "python",
   "name": "python3"
  },
  "language_info": {
   "codemirror_mode": {
    "name": "ipython",
    "version": 3
   },
   "file_extension": ".py",
   "mimetype": "text/x-python",
   "name": "python",
   "nbconvert_exporter": "python",
   "pygments_lexer": "ipython3",
   "version": "3.8.5"
  }
 },
 "nbformat": 4,
 "nbformat_minor": 4
}
