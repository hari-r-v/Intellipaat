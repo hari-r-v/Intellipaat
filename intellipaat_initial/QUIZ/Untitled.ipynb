{
 "cells": [
  {
   "cell_type": "code",
   "execution_count": 1,
   "metadata": {},
   "outputs": [],
   "source": [
    "import numpy as np\n",
    "import pandas as pd\n",
    "import matplotlib.pyplot as plt\n",
    "import seaborn as sns"
   ]
  },
  {
   "cell_type": "code",
   "execution_count": 2,
   "metadata": {},
   "outputs": [],
   "source": [
    "data = pd.read_csv('Flight_data.csv')"
   ]
  },
  {
   "cell_type": "code",
   "execution_count": 3,
   "metadata": {},
   "outputs": [
    {
     "data": {
      "text/html": [
       "<div>\n",
       "<style scoped>\n",
       "    .dataframe tbody tr th:only-of-type {\n",
       "        vertical-align: middle;\n",
       "    }\n",
       "\n",
       "    .dataframe tbody tr th {\n",
       "        vertical-align: top;\n",
       "    }\n",
       "\n",
       "    .dataframe thead th {\n",
       "        text-align: right;\n",
       "    }\n",
       "</style>\n",
       "<table border=\"1\" class=\"dataframe\">\n",
       "  <thead>\n",
       "    <tr style=\"text-align: right;\">\n",
       "      <th></th>\n",
       "      <th>Departure City</th>\n",
       "      <th>Arrival City</th>\n",
       "      <th>Departure Date</th>\n",
       "      <th>Flight Duration</th>\n",
       "      <th>Delay Minutes</th>\n",
       "      <th>Customer ID</th>\n",
       "      <th>Name</th>\n",
       "      <th>Booking Class</th>\n",
       "      <th>Frequent Flyer Status</th>\n",
       "      <th>Route</th>\n",
       "      <th>Ticket Price</th>\n",
       "      <th>Competitor Price</th>\n",
       "      <th>Demand</th>\n",
       "      <th>Origin</th>\n",
       "      <th>Destination</th>\n",
       "      <th>Profitability</th>\n",
       "      <th>Loyalty Points</th>\n",
       "      <th>Churned</th>\n",
       "    </tr>\n",
       "  </thead>\n",
       "  <tbody>\n",
       "    <tr>\n",
       "      <th>0</th>\n",
       "      <td>Wilsonstad</td>\n",
       "      <td>Lake Johnmouth</td>\n",
       "      <td>2023-05-02 20:11:09</td>\n",
       "      <td>1.27581</td>\n",
       "      <td>120</td>\n",
       "      <td>3769</td>\n",
       "      <td>Daniel Oliver</td>\n",
       "      <td>Business</td>\n",
       "      <td>Gold</td>\n",
       "      <td>MEL-BNE</td>\n",
       "      <td>370.638128</td>\n",
       "      <td>382.947396</td>\n",
       "      <td>-0.932755</td>\n",
       "      <td>MEL</td>\n",
       "      <td>LHR</td>\n",
       "      <td>0.632226</td>\n",
       "      <td>4245</td>\n",
       "      <td>True</td>\n",
       "    </tr>\n",
       "    <tr>\n",
       "      <th>1</th>\n",
       "      <td>New Brent</td>\n",
       "      <td>Port Wanda</td>\n",
       "      <td>2023-04-21 00:10:14</td>\n",
       "      <td>1.27581</td>\n",
       "      <td>35</td>\n",
       "      <td>3529</td>\n",
       "      <td>Deborah Hall</td>\n",
       "      <td>Economy</td>\n",
       "      <td>Platinum</td>\n",
       "      <td>BNE-SYD</td>\n",
       "      <td>114.529016</td>\n",
       "      <td>394.583641</td>\n",
       "      <td>-1.005569</td>\n",
       "      <td>MEL</td>\n",
       "      <td>SIN</td>\n",
       "      <td>1.265026</td>\n",
       "      <td>833</td>\n",
       "      <td>True</td>\n",
       "    </tr>\n",
       "    <tr>\n",
       "      <th>2</th>\n",
       "      <td>South Samanthaberg</td>\n",
       "      <td>Lake Meganside</td>\n",
       "      <td>2023-05-12 15:16:31</td>\n",
       "      <td>0.72111</td>\n",
       "      <td>67</td>\n",
       "      <td>1303</td>\n",
       "      <td>Mary York</td>\n",
       "      <td>Economy</td>\n",
       "      <td>Platinum</td>\n",
       "      <td>MEL-BNE</td>\n",
       "      <td>164.468018</td>\n",
       "      <td>479.832444</td>\n",
       "      <td>1.761384</td>\n",
       "      <td>MEL</td>\n",
       "      <td>LAX</td>\n",
       "      <td>1.141651</td>\n",
       "      <td>2568</td>\n",
       "      <td>True</td>\n",
       "    </tr>\n",
       "    <tr>\n",
       "      <th>3</th>\n",
       "      <td>Lake Gracefurt</td>\n",
       "      <td>Jamesberg</td>\n",
       "      <td>2023-06-13 20:53:09</td>\n",
       "      <td>-0.94299</td>\n",
       "      <td>72</td>\n",
       "      <td>2965</td>\n",
       "      <td>Christina Sanchez</td>\n",
       "      <td>Economy</td>\n",
       "      <td>Gold</td>\n",
       "      <td>BNE-SYD</td>\n",
       "      <td>318.903167</td>\n",
       "      <td>286.301632</td>\n",
       "      <td>-0.520139</td>\n",
       "      <td>MEL</td>\n",
       "      <td>LAX</td>\n",
       "      <td>1.129291</td>\n",
       "      <td>284</td>\n",
       "      <td>True</td>\n",
       "    </tr>\n",
       "    <tr>\n",
       "      <th>4</th>\n",
       "      <td>Owenborough</td>\n",
       "      <td>Kelleymouth</td>\n",
       "      <td>2023-05-15 23:06:14</td>\n",
       "      <td>-0.38829</td>\n",
       "      <td>101</td>\n",
       "      <td>8779</td>\n",
       "      <td>Dustin Owens</td>\n",
       "      <td>Economy</td>\n",
       "      <td>Silver</td>\n",
       "      <td>BNE-SYD</td>\n",
       "      <td>389.971051</td>\n",
       "      <td>407.463316</td>\n",
       "      <td>-0.665768</td>\n",
       "      <td>BNE</td>\n",
       "      <td>SIN</td>\n",
       "      <td>1.218239</td>\n",
       "      <td>2805</td>\n",
       "      <td>True</td>\n",
       "    </tr>\n",
       "  </tbody>\n",
       "</table>\n",
       "</div>"
      ],
      "text/plain": [
       "       Departure City    Arrival City       Departure Date  Flight Duration  \\\n",
       "0          Wilsonstad  Lake Johnmouth  2023-05-02 20:11:09          1.27581   \n",
       "1           New Brent      Port Wanda  2023-04-21 00:10:14          1.27581   \n",
       "2  South Samanthaberg  Lake Meganside  2023-05-12 15:16:31          0.72111   \n",
       "3      Lake Gracefurt       Jamesberg  2023-06-13 20:53:09         -0.94299   \n",
       "4         Owenborough     Kelleymouth  2023-05-15 23:06:14         -0.38829   \n",
       "\n",
       "   Delay Minutes  Customer ID               Name Booking Class  \\\n",
       "0            120         3769      Daniel Oliver      Business   \n",
       "1             35         3529       Deborah Hall       Economy   \n",
       "2             67         1303          Mary York       Economy   \n",
       "3             72         2965  Christina Sanchez       Economy   \n",
       "4            101         8779       Dustin Owens       Economy   \n",
       "\n",
       "  Frequent Flyer Status    Route  Ticket Price  Competitor Price    Demand  \\\n",
       "0                  Gold  MEL-BNE    370.638128        382.947396 -0.932755   \n",
       "1              Platinum  BNE-SYD    114.529016        394.583641 -1.005569   \n",
       "2              Platinum  MEL-BNE    164.468018        479.832444  1.761384   \n",
       "3                  Gold  BNE-SYD    318.903167        286.301632 -0.520139   \n",
       "4                Silver  BNE-SYD    389.971051        407.463316 -0.665768   \n",
       "\n",
       "  Origin Destination  Profitability  Loyalty Points  Churned  \n",
       "0    MEL         LHR       0.632226            4245     True  \n",
       "1    MEL         SIN       1.265026             833     True  \n",
       "2    MEL         LAX       1.141651            2568     True  \n",
       "3    MEL         LAX       1.129291             284     True  \n",
       "4    BNE         SIN       1.218239            2805     True  "
      ]
     },
     "execution_count": 3,
     "metadata": {},
     "output_type": "execute_result"
    }
   ],
   "source": [
    "data.head()"
   ]
  },
  {
   "cell_type": "code",
   "execution_count": 4,
   "metadata": {},
   "outputs": [
    {
     "data": {
      "text/plain": [
       "Index(['Departure City', 'Arrival City', 'Departure Date', 'Flight Duration',\n",
       "       'Delay Minutes', 'Customer ID', 'Name', 'Booking Class',\n",
       "       'Frequent Flyer Status', 'Route', 'Ticket Price', 'Competitor Price',\n",
       "       'Demand', 'Origin', 'Destination', 'Profitability', 'Loyalty Points',\n",
       "       'Churned'],\n",
       "      dtype='object')"
      ]
     },
     "execution_count": 4,
     "metadata": {},
     "output_type": "execute_result"
    }
   ],
   "source": [
    "data.columns"
   ]
  },
  {
   "cell_type": "code",
   "execution_count": 5,
   "metadata": {},
   "outputs": [
    {
     "data": {
      "text/plain": [
       "['Daniel Oliver',\n",
       " 'Deborah Hall',\n",
       " 'Mary York',\n",
       " 'Christina Sanchez',\n",
       " 'Dustin Owens',\n",
       " 'Nicole Morales',\n",
       " 'Monica Montgomery',\n",
       " 'Jason Whitaker',\n",
       " 'Michael Wade',\n",
       " 'David Cline',\n",
       " 'Susan Washington',\n",
       " 'Ann Garcia',\n",
       " 'Kristopher Drake',\n",
       " 'Amy Decker',\n",
       " 'William Chambers',\n",
       " 'Tommy Odonnell',\n",
       " 'Martin Lamb',\n",
       " 'Matthew Thompson',\n",
       " 'Matthew Alexander',\n",
       " 'Jennifer Middleton',\n",
       " 'James Larson',\n",
       " 'Kathryn Tucker',\n",
       " 'Mrs. Lisa Horton DDS',\n",
       " 'Tracey Mayer',\n",
       " 'Patricia Avery',\n",
       " 'Anna Morgan',\n",
       " 'Dr. Earl Phillips',\n",
       " 'Theodore Chang PhD',\n",
       " 'Penny Sanchez',\n",
       " 'Matthew Bird',\n",
       " 'Kimberly Sullivan',\n",
       " 'Roberta Ramirez',\n",
       " 'Paul Hardy',\n",
       " 'Matthew Cannon',\n",
       " 'Kayla Jones',\n",
       " 'Michael Thomas',\n",
       " 'Matthew Rogers',\n",
       " 'Colin Robertson',\n",
       " 'Hayden Wright',\n",
       " 'Diane Osborne',\n",
       " 'Anna Suarez',\n",
       " 'Jessica Wood',\n",
       " 'Thomas Wise',\n",
       " 'Timothy Lloyd',\n",
       " 'Alexis Anderson',\n",
       " 'Scott Gill',\n",
       " 'Christina Perez',\n",
       " 'Robert Cook',\n",
       " 'Sandy York',\n",
       " 'Jordan Howard',\n",
       " 'Kevin Roach',\n",
       " 'Jason Huffman',\n",
       " 'Willie Shaffer',\n",
       " 'Paul Morton',\n",
       " 'Shawn Miller',\n",
       " 'Victor Estrada',\n",
       " 'Carolyn Crosby',\n",
       " 'Melissa Horton',\n",
       " 'Terri Perkins',\n",
       " 'Aaron Williams',\n",
       " 'Patrick Cook',\n",
       " 'Melissa Francis',\n",
       " 'Manuel Long',\n",
       " 'Jennifer Hernandez',\n",
       " 'Andrea Williams',\n",
       " 'James Hughes',\n",
       " 'Kathryn Mckay',\n",
       " 'Derrick Williams',\n",
       " 'Bridget Sanchez',\n",
       " 'Kevin Mejia',\n",
       " 'Erik Robinson',\n",
       " 'Adrian Palmer',\n",
       " 'Peter Simmons',\n",
       " 'Christopher Meyer',\n",
       " 'Barry Jones',\n",
       " 'Matthew Mcbride',\n",
       " 'Eric Lloyd',\n",
       " 'Brandon Schneider',\n",
       " 'Eric Johnston',\n",
       " 'Cheryl Lopez',\n",
       " 'Willie Ferguson',\n",
       " 'Sarah Norton',\n",
       " 'Jorge Mckinney',\n",
       " 'Lauren Hanson',\n",
       " 'Charles Lutz',\n",
       " 'Rhonda Johnson',\n",
       " 'Miss Jessica Sharp',\n",
       " 'Amanda Harris',\n",
       " 'Mary Barber',\n",
       " 'Keith Strickland',\n",
       " 'Timothy Myers',\n",
       " 'Maxwell Cruz',\n",
       " 'Michael Dixon',\n",
       " 'Darren Garcia',\n",
       " 'Teresa Smith',\n",
       " 'Brittney Swanson',\n",
       " 'Jessica Johnson',\n",
       " 'Amber Mcclure',\n",
       " 'Lisa Luna',\n",
       " 'Jeffrey Turner']"
      ]
     },
     "execution_count": 5,
     "metadata": {},
     "output_type": "execute_result"
    }
   ],
   "source": [
    "list(data['Name'])"
   ]
  },
  {
   "cell_type": "code",
   "execution_count": 19,
   "metadata": {},
   "outputs": [
    {
     "name": "stdout",
     "output_type": "stream",
     "text": [
      "Cheryl Lopez,Jason Huffman\n"
     ]
    },
    {
     "ename": "NameError",
     "evalue": "name 'Name' is not defined",
     "output_type": "error",
     "traceback": [
      "\u001b[1;31m---------------------------------------------------------------------------\u001b[0m",
      "\u001b[1;31mNameError\u001b[0m                                 Traceback (most recent call last)",
      "\u001b[1;32m<ipython-input-19-8f292636a1fb>\u001b[0m in \u001b[0;36m<module>\u001b[1;34m\u001b[0m\n\u001b[0;32m      1\u001b[0m \u001b[0mname\u001b[0m\u001b[1;33m=\u001b[0m\u001b[0mlist\u001b[0m\u001b[1;33m(\u001b[0m\u001b[0minput\u001b[0m\u001b[1;33m(\u001b[0m\u001b[1;33m)\u001b[0m\u001b[1;33m.\u001b[0m\u001b[0msplit\u001b[0m\u001b[1;33m(\u001b[0m\u001b[1;34m','\u001b[0m\u001b[1;33m)\u001b[0m\u001b[1;33m)\u001b[0m\u001b[1;33m\u001b[0m\u001b[1;33m\u001b[0m\u001b[0m\n\u001b[0;32m      2\u001b[0m \u001b[1;32mfor\u001b[0m \u001b[0mi\u001b[0m \u001b[1;32min\u001b[0m \u001b[0mrange\u001b[0m\u001b[1;33m(\u001b[0m\u001b[1;36m0\u001b[0m\u001b[1;33m,\u001b[0m\u001b[0mlen\u001b[0m\u001b[1;33m(\u001b[0m\u001b[0mname\u001b[0m\u001b[1;33m)\u001b[0m\u001b[1;33m)\u001b[0m\u001b[1;33m:\u001b[0m\u001b[1;33m\u001b[0m\u001b[1;33m\u001b[0m\u001b[0m\n\u001b[1;32m----> 3\u001b[1;33m     \u001b[0mprint\u001b[0m\u001b[1;33m(\u001b[0m\u001b[0mdata\u001b[0m\u001b[1;33m[\u001b[0m\u001b[0mdata\u001b[0m\u001b[1;33m[\u001b[0m\u001b[0mName\u001b[0m\u001b[1;33m]\u001b[0m\u001b[1;33m==\u001b[0m\u001b[0mname\u001b[0m\u001b[1;33m[\u001b[0m\u001b[0mi\u001b[0m\u001b[1;33m]\u001b[0m\u001b[1;33m]\u001b[0m\u001b[1;33m)\u001b[0m\u001b[1;33m\u001b[0m\u001b[1;33m\u001b[0m\u001b[0m\n\u001b[0m\u001b[0;32m      4\u001b[0m \u001b[1;31m#df=data[data['Name']==name]\u001b[0m\u001b[1;33m\u001b[0m\u001b[1;33m\u001b[0m\u001b[1;33m\u001b[0m\u001b[0m\n\u001b[0;32m      5\u001b[0m \u001b[1;31m#df\u001b[0m\u001b[1;33m\u001b[0m\u001b[1;33m\u001b[0m\u001b[1;33m\u001b[0m\u001b[0m\n",
      "\u001b[1;31mNameError\u001b[0m: name 'Name' is not defined"
     ]
    }
   ],
   "source": [
    "name=list(input().split(','))\n",
    "for i in range(0,len(name)):\n",
    "    print(data[data[Name]==name[i]])\n",
    "#df=data[data['Name']==name]\n",
    "#df"
   ]
  },
  {
   "cell_type": "code",
   "execution_count": null,
   "metadata": {},
   "outputs": [],
   "source": [
    "class average_delay:\n",
    "    def detail(self, name,):\n",
    "        self.df[Name] = name\n",
    "        if name in list(data['Name']):\n",
    "            df=data[data['Name']==name]"
   ]
  },
  {
   "cell_type": "code",
   "execution_count": null,
   "metadata": {},
   "outputs": [],
   "source": []
  },
  {
   "cell_type": "code",
   "execution_count": null,
   "metadata": {},
   "outputs": [],
   "source": []
  },
  {
   "cell_type": "code",
   "execution_count": null,
   "metadata": {},
   "outputs": [],
   "source": [
    "class average_delay:\n",
    "    name = input()\n",
    "    def detail(self):\n",
    "        self.name = name\n",
    "        if name in list(data['Name']):\n",
    "            df=data[data['Name']==name]\n",
    "    "
   ]
  },
  {
   "cell_type": "code",
   "execution_count": 6,
   "metadata": {},
   "outputs": [],
   "source": [
    "name =['Cheryl Lopez']"
   ]
  },
  {
   "cell_type": "code",
   "execution_count": 9,
   "metadata": {},
   "outputs": [],
   "source": [
    "for i in name:\n",
    "    if name in data['Name']:\n",
    "        df=data[data['Name']==name]\n",
    "        print(df)"
   ]
  },
  {
   "cell_type": "code",
   "execution_count": 10,
   "metadata": {},
   "outputs": [
    {
     "ename": "NameError",
     "evalue": "name 'df' is not defined",
     "output_type": "error",
     "traceback": [
      "\u001b[1;31m---------------------------------------------------------------------------\u001b[0m",
      "\u001b[1;31mNameError\u001b[0m                                 Traceback (most recent call last)",
      "\u001b[1;32m<ipython-input-10-00cf07b74dcd>\u001b[0m in \u001b[0;36m<module>\u001b[1;34m\u001b[0m\n\u001b[1;32m----> 1\u001b[1;33m \u001b[0mdf\u001b[0m\u001b[1;33m\u001b[0m\u001b[1;33m\u001b[0m\u001b[0m\n\u001b[0m",
      "\u001b[1;31mNameError\u001b[0m: name 'df' is not defined"
     ]
    }
   ],
   "source": [
    "df"
   ]
  },
  {
   "cell_type": "code",
   "execution_count": 13,
   "metadata": {},
   "outputs": [],
   "source": [
    "df=data[data['Name']=='Cheryl Lopez']"
   ]
  },
  {
   "cell_type": "code",
   "execution_count": 14,
   "metadata": {},
   "outputs": [
    {
     "data": {
      "text/html": [
       "<div>\n",
       "<style scoped>\n",
       "    .dataframe tbody tr th:only-of-type {\n",
       "        vertical-align: middle;\n",
       "    }\n",
       "\n",
       "    .dataframe tbody tr th {\n",
       "        vertical-align: top;\n",
       "    }\n",
       "\n",
       "    .dataframe thead th {\n",
       "        text-align: right;\n",
       "    }\n",
       "</style>\n",
       "<table border=\"1\" class=\"dataframe\">\n",
       "  <thead>\n",
       "    <tr style=\"text-align: right;\">\n",
       "      <th></th>\n",
       "      <th>Departure City</th>\n",
       "      <th>Arrival City</th>\n",
       "      <th>Departure Date</th>\n",
       "      <th>Flight Duration</th>\n",
       "      <th>Delay Minutes</th>\n",
       "      <th>Customer ID</th>\n",
       "      <th>Name</th>\n",
       "      <th>Booking Class</th>\n",
       "      <th>Frequent Flyer Status</th>\n",
       "      <th>Route</th>\n",
       "      <th>Ticket Price</th>\n",
       "      <th>Competitor Price</th>\n",
       "      <th>Demand</th>\n",
       "      <th>Origin</th>\n",
       "      <th>Destination</th>\n",
       "      <th>Profitability</th>\n",
       "      <th>Loyalty Points</th>\n",
       "      <th>Churned</th>\n",
       "    </tr>\n",
       "  </thead>\n",
       "  <tbody>\n",
       "    <tr>\n",
       "      <th>79</th>\n",
       "      <td>Brianshire</td>\n",
       "      <td>West Alexis</td>\n",
       "      <td>2023-04-26 09:52:36</td>\n",
       "      <td>1.27581</td>\n",
       "      <td>34</td>\n",
       "      <td>7057</td>\n",
       "      <td>Cheryl Lopez</td>\n",
       "      <td>First</td>\n",
       "      <td>Platinum</td>\n",
       "      <td>SYD-MEL</td>\n",
       "      <td>498.549369</td>\n",
       "      <td>245.276277</td>\n",
       "      <td>1.615755</td>\n",
       "      <td>SYD</td>\n",
       "      <td>LHR</td>\n",
       "      <td>0.53278</td>\n",
       "      <td>4654</td>\n",
       "      <td>True</td>\n",
       "    </tr>\n",
       "  </tbody>\n",
       "</table>\n",
       "</div>"
      ],
      "text/plain": [
       "   Departure City Arrival City       Departure Date  Flight Duration  \\\n",
       "79     Brianshire  West Alexis  2023-04-26 09:52:36          1.27581   \n",
       "\n",
       "    Delay Minutes  Customer ID          Name Booking Class  \\\n",
       "79             34         7057  Cheryl Lopez         First   \n",
       "\n",
       "   Frequent Flyer Status    Route  Ticket Price  Competitor Price    Demand  \\\n",
       "79              Platinum  SYD-MEL    498.549369        245.276277  1.615755   \n",
       "\n",
       "   Origin Destination  Profitability  Loyalty Points  Churned  \n",
       "79    SYD         LHR        0.53278            4654     True  "
      ]
     },
     "execution_count": 14,
     "metadata": {},
     "output_type": "execute_result"
    }
   ],
   "source": [
    "df"
   ]
  },
  {
   "cell_type": "code",
   "execution_count": 15,
   "metadata": {},
   "outputs": [
    {
     "data": {
      "text/plain": [
       "'C'"
      ]
     },
     "execution_count": 15,
     "metadata": {},
     "output_type": "execute_result"
    }
   ],
   "source": [
    "name[0]"
   ]
  },
  {
   "cell_type": "code",
   "execution_count": null,
   "metadata": {},
   "outputs": [],
   "source": []
  }
 ],
 "metadata": {
  "kernelspec": {
   "display_name": "Python 3",
   "language": "python",
   "name": "python3"
  },
  "language_info": {
   "codemirror_mode": {
    "name": "ipython",
    "version": 3
   },
   "file_extension": ".py",
   "mimetype": "text/x-python",
   "name": "python",
   "nbconvert_exporter": "python",
   "pygments_lexer": "ipython3",
   "version": "3.8.5"
  }
 },
 "nbformat": 4,
 "nbformat_minor": 4
}
